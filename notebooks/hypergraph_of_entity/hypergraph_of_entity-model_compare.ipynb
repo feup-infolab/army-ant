{
 "cells": [
  {
   "cell_type": "markdown",
   "metadata": {},
   "source": [
    "# Characterizing the Hypergraph-of-Entity - Comparing All Models"
   ]
  },
  {
   "cell_type": "markdown",
   "metadata": {},
   "source": [
    "This representation model uses a weighted mixed hypergraph. Dependending on the version, the weights can be unitary constants. All versions combine directed and undirected hyperedges.\n",
    "\n",
    "Possible node classes include:\n",
    "\n",
    "- TermNode\n",
    "- EntityNode\n",
    "\n",
    "Possible hyperedge classes include:\n",
    "\n",
    "- DocumentEdge\n",
    "- ContainedInEdge\n",
    "- RelatedToEdge\n",
    "- SynonymEdge\n",
    "- ContextEdge\n",
    "\n",
    "In order to run the notebook, you must first obtain the corresponding CSV files through the `inspect` command in Army ANT. For example:\n",
    "\n",
    "```bash\n",
    "./army-ant.py inspect \\\n",
    "    --index-location=/opt/army-ant/indexes/inex-2009-10t-nl/hgoe \\\n",
    "    --index-type=hgoe \\\n",
    "    --workdir=/opt/army-ant/analysis/inex_2009_10t_nl-stats \\\n",
    "    --feature=export-node-degrees\n",
    "```\n",
    "\n",
    "You must then put the resulting files into the `data` directory for the collection and index version. For example `data/inex_2009_10t_nl/base_model` for the Hypergraph-of-Entity Base Model over the INEX 2009 3T-NL subset test collection. You should then configure the `base_dir` below accordingly. Bash scripts are provided in directory `runs/inex-2009-10t-nl/hgoe/nb-characterization`, in order to generate the required files."
   ]
  },
  {
   "cell_type": "code",
   "execution_count": 4,
   "metadata": {},
   "outputs": [],
   "source": [
    "if (!require(\"pacman\")) install.packages(\"pacman\")\n",
    "\n",
    "pacman::p_load(\n",
    "    tidyverse,\n",
    "    logging,\n",
    "    scales,\n",
    "    repr,\n",
    "    stringr,\n",
    "    xtable\n",
    ")\n",
    "\n",
    "basicConfig()\n",
    "options(warn=-1)\n",
    "options(scipen=0)\n",
    "options(xtable.include.rownames=FALSE)\n",
    "\n",
    "base_dir <- \"data/inex_2009_10t_nl\""
   ]
  },
  {
   "cell_type": "code",
   "execution_count": 11,
   "metadata": {},
   "outputs": [
    {
     "data": {
      "text/html": [
       "<table>\n",
       "<caption>A spec_tbl_df: 12 × 10</caption>\n",
       "<thead>\n",
       "\t<tr><th scope=col>model</th><th scope=col>map_l1</th><th scope=col>ndcg10_l1</th><th scope=col>p10_l1</th><th scope=col>map_l2</th><th scope=col>ndcg10_l2</th><th scope=col>p10_l2</th><th scope=col>map_l3</th><th scope=col>ndcg10_l3</th><th scope=col>p10_l3</th></tr>\n",
       "\t<tr><th scope=col>&lt;chr&gt;</th><th scope=col>&lt;dbl&gt;</th><th scope=col>&lt;dbl&gt;</th><th scope=col>&lt;dbl&gt;</th><th scope=col>&lt;dbl&gt;</th><th scope=col>&lt;dbl&gt;</th><th scope=col>&lt;dbl&gt;</th><th scope=col>&lt;dbl&gt;</th><th scope=col>&lt;dbl&gt;</th><th scope=col>&lt;dbl&gt;</th></tr>\n",
       "</thead>\n",
       "<tbody>\n",
       "\t<tr><td>Base model</td><td>0.0046</td><td>0.0799</td><td>0.04</td><td>0.0039</td><td>0.0718</td><td>0.04</td><td>0.0028</td><td>0.0576</td><td>0.04</td></tr>\n",
       "\t<tr><td>Synonyms  </td><td>0.0013</td><td>0.0440</td><td>0.02</td><td>0.0024</td><td>0.0799</td><td>0.04</td><td>0.0023</td><td>0.0718</td><td>0.04</td></tr>\n",
       "\t<tr><td>Context   </td><td>0.0000</td><td>0.0000</td><td>0.00</td><td>0.0010</td><td>0.0220</td><td>0.01</td><td>0.0010</td><td>0.0220</td><td>0.01</td></tr>\n",
       "\t<tr><td>TF-bins_2 </td><td>0.1082</td><td>0.2443</td><td>0.21</td><td>0.1025</td><td>0.1730</td><td>0.20</td><td>0.0918</td><td>0.1302</td><td>0.14</td></tr>\n",
       "\t<tr><td>TF-bins_3 </td><td>0.0911</td><td>0.2004</td><td>0.22</td><td>0.0989</td><td>0.0954</td><td>0.12</td><td>0.0868</td><td>0.0751</td><td>0.10</td></tr>\n",
       "\t<tr><td>TF-bins_4 </td><td>0.0957</td><td>0.1969</td><td>0.20</td><td>0.1107</td><td>0.2007</td><td>0.19</td><td>0.0928</td><td>0.1669</td><td>0.17</td></tr>\n",
       "\t<tr><td>TF-bins_5 </td><td>0.1049</td><td>0.2355</td><td>0.24</td><td>0.1050</td><td>0.1364</td><td>0.14</td><td>0.0954</td><td>0.1121</td><td>0.14</td></tr>\n",
       "\t<tr><td>TF-bins_6 </td><td>0.1057</td><td>0.2405</td><td>0.26</td><td>0.1108</td><td>0.1906</td><td>0.20</td><td>0.1022</td><td>0.1792</td><td>0.19</td></tr>\n",
       "\t<tr><td>TF-bins_7 </td><td>0.1000</td><td>0.2212</td><td>0.25</td><td>0.1072</td><td>0.1255</td><td>0.12</td><td>0.0939</td><td>0.0934</td><td>0.10</td></tr>\n",
       "\t<tr><td>TF-bins_8 </td><td>0.0894</td><td>0.2131</td><td>0.21</td><td>0.1078</td><td>0.0988</td><td>0.11</td><td>0.0966</td><td>0.0641</td><td>0.08</td></tr>\n",
       "\t<tr><td>TF-bins_9 </td><td>0.0954</td><td>0.1494</td><td>0.15</td><td>0.1107</td><td>0.1402</td><td>0.15</td><td>0.0958</td><td>0.1069</td><td>0.12</td></tr>\n",
       "\t<tr><td>TF-bins_10</td><td>0.1062</td><td>0.2127</td><td>0.22</td><td>0.1133</td><td>0.1436</td><td>0.16</td><td>0.1079</td><td>0.1143</td><td>0.13</td></tr>\n",
       "</tbody>\n",
       "</table>\n"
      ],
      "text/latex": [
       "A spec_tbl_df: 12 × 10\n",
       "\\begin{tabular}{r|llllllllll}\n",
       " model & map\\_l1 & ndcg10\\_l1 & p10\\_l1 & map\\_l2 & ndcg10\\_l2 & p10\\_l2 & map\\_l3 & ndcg10\\_l3 & p10\\_l3\\\\\n",
       " <chr> & <dbl> & <dbl> & <dbl> & <dbl> & <dbl> & <dbl> & <dbl> & <dbl> & <dbl>\\\\\n",
       "\\hline\n",
       "\t Base model & 0.0046 & 0.0799 & 0.04 & 0.0039 & 0.0718 & 0.04 & 0.0028 & 0.0576 & 0.04\\\\\n",
       "\t Synonyms   & 0.0013 & 0.0440 & 0.02 & 0.0024 & 0.0799 & 0.04 & 0.0023 & 0.0718 & 0.04\\\\\n",
       "\t Context    & 0.0000 & 0.0000 & 0.00 & 0.0010 & 0.0220 & 0.01 & 0.0010 & 0.0220 & 0.01\\\\\n",
       "\t TF-bins\\_2  & 0.1082 & 0.2443 & 0.21 & 0.1025 & 0.1730 & 0.20 & 0.0918 & 0.1302 & 0.14\\\\\n",
       "\t TF-bins\\_3  & 0.0911 & 0.2004 & 0.22 & 0.0989 & 0.0954 & 0.12 & 0.0868 & 0.0751 & 0.10\\\\\n",
       "\t TF-bins\\_4  & 0.0957 & 0.1969 & 0.20 & 0.1107 & 0.2007 & 0.19 & 0.0928 & 0.1669 & 0.17\\\\\n",
       "\t TF-bins\\_5  & 0.1049 & 0.2355 & 0.24 & 0.1050 & 0.1364 & 0.14 & 0.0954 & 0.1121 & 0.14\\\\\n",
       "\t TF-bins\\_6  & 0.1057 & 0.2405 & 0.26 & 0.1108 & 0.1906 & 0.20 & 0.1022 & 0.1792 & 0.19\\\\\n",
       "\t TF-bins\\_7  & 0.1000 & 0.2212 & 0.25 & 0.1072 & 0.1255 & 0.12 & 0.0939 & 0.0934 & 0.10\\\\\n",
       "\t TF-bins\\_8  & 0.0894 & 0.2131 & 0.21 & 0.1078 & 0.0988 & 0.11 & 0.0966 & 0.0641 & 0.08\\\\\n",
       "\t TF-bins\\_9  & 0.0954 & 0.1494 & 0.15 & 0.1107 & 0.1402 & 0.15 & 0.0958 & 0.1069 & 0.12\\\\\n",
       "\t TF-bins\\_10 & 0.1062 & 0.2127 & 0.22 & 0.1133 & 0.1436 & 0.16 & 0.1079 & 0.1143 & 0.13\\\\\n",
       "\\end{tabular}\n"
      ],
      "text/markdown": [
       "\n",
       "A spec_tbl_df: 12 × 10\n",
       "\n",
       "| model &lt;chr&gt; | map_l1 &lt;dbl&gt; | ndcg10_l1 &lt;dbl&gt; | p10_l1 &lt;dbl&gt; | map_l2 &lt;dbl&gt; | ndcg10_l2 &lt;dbl&gt; | p10_l2 &lt;dbl&gt; | map_l3 &lt;dbl&gt; | ndcg10_l3 &lt;dbl&gt; | p10_l3 &lt;dbl&gt; |\n",
       "|---|---|---|---|---|---|---|---|---|---|\n",
       "| Base model | 0.0046 | 0.0799 | 0.04 | 0.0039 | 0.0718 | 0.04 | 0.0028 | 0.0576 | 0.04 |\n",
       "| Synonyms   | 0.0013 | 0.0440 | 0.02 | 0.0024 | 0.0799 | 0.04 | 0.0023 | 0.0718 | 0.04 |\n",
       "| Context    | 0.0000 | 0.0000 | 0.00 | 0.0010 | 0.0220 | 0.01 | 0.0010 | 0.0220 | 0.01 |\n",
       "| TF-bins_2  | 0.1082 | 0.2443 | 0.21 | 0.1025 | 0.1730 | 0.20 | 0.0918 | 0.1302 | 0.14 |\n",
       "| TF-bins_3  | 0.0911 | 0.2004 | 0.22 | 0.0989 | 0.0954 | 0.12 | 0.0868 | 0.0751 | 0.10 |\n",
       "| TF-bins_4  | 0.0957 | 0.1969 | 0.20 | 0.1107 | 0.2007 | 0.19 | 0.0928 | 0.1669 | 0.17 |\n",
       "| TF-bins_5  | 0.1049 | 0.2355 | 0.24 | 0.1050 | 0.1364 | 0.14 | 0.0954 | 0.1121 | 0.14 |\n",
       "| TF-bins_6  | 0.1057 | 0.2405 | 0.26 | 0.1108 | 0.1906 | 0.20 | 0.1022 | 0.1792 | 0.19 |\n",
       "| TF-bins_7  | 0.1000 | 0.2212 | 0.25 | 0.1072 | 0.1255 | 0.12 | 0.0939 | 0.0934 | 0.10 |\n",
       "| TF-bins_8  | 0.0894 | 0.2131 | 0.21 | 0.1078 | 0.0988 | 0.11 | 0.0966 | 0.0641 | 0.08 |\n",
       "| TF-bins_9  | 0.0954 | 0.1494 | 0.15 | 0.1107 | 0.1402 | 0.15 | 0.0958 | 0.1069 | 0.12 |\n",
       "| TF-bins_10 | 0.1062 | 0.2127 | 0.22 | 0.1133 | 0.1436 | 0.16 | 0.1079 | 0.1143 | 0.13 |\n",
       "\n"
      ],
      "text/plain": [
       "   model      map_l1 ndcg10_l1 p10_l1 map_l2 ndcg10_l2 p10_l2 map_l3 ndcg10_l3\n",
       "1  Base model 0.0046 0.0799    0.04   0.0039 0.0718    0.04   0.0028 0.0576   \n",
       "2  Synonyms   0.0013 0.0440    0.02   0.0024 0.0799    0.04   0.0023 0.0718   \n",
       "3  Context    0.0000 0.0000    0.00   0.0010 0.0220    0.01   0.0010 0.0220   \n",
       "4  TF-bins_2  0.1082 0.2443    0.21   0.1025 0.1730    0.20   0.0918 0.1302   \n",
       "5  TF-bins_3  0.0911 0.2004    0.22   0.0989 0.0954    0.12   0.0868 0.0751   \n",
       "6  TF-bins_4  0.0957 0.1969    0.20   0.1107 0.2007    0.19   0.0928 0.1669   \n",
       "7  TF-bins_5  0.1049 0.2355    0.24   0.1050 0.1364    0.14   0.0954 0.1121   \n",
       "8  TF-bins_6  0.1057 0.2405    0.26   0.1108 0.1906    0.20   0.1022 0.1792   \n",
       "9  TF-bins_7  0.1000 0.2212    0.25   0.1072 0.1255    0.12   0.0939 0.0934   \n",
       "10 TF-bins_8  0.0894 0.2131    0.21   0.1078 0.0988    0.11   0.0966 0.0641   \n",
       "11 TF-bins_9  0.0954 0.1494    0.15   0.1107 0.1402    0.15   0.0958 0.1069   \n",
       "12 TF-bins_10 0.1062 0.2127    0.22   0.1133 0.1436    0.16   0.1079 0.1143   \n",
       "   p10_l3\n",
       "1  0.04  \n",
       "2  0.04  \n",
       "3  0.01  \n",
       "4  0.14  \n",
       "5  0.10  \n",
       "6  0.17  \n",
       "7  0.14  \n",
       "8  0.19  \n",
       "9  0.10  \n",
       "10 0.08  \n",
       "11 0.12  \n",
       "12 0.13  "
      ]
     },
     "metadata": {},
     "output_type": "display_data"
    }
   ],
   "source": [
    "ir_eval <- read_csv(file.path(base_dir, \"ir_eval.csv\"), col_types = cols())\n",
    "ir_eval"
   ]
  },
  {
   "cell_type": "code",
   "execution_count": 12,
   "metadata": {},
   "outputs": [
    {
     "data": {
      "text/html": [
       "<table>\n",
       "<caption>A spec_tbl_df: 12 × 8</caption>\n",
       "<thead>\n",
       "\t<tr><th scope=col>model</th><th scope=col>nodes</th><th scope=col>edges</th><th scope=col>degree</th><th scope=col>cl_coef</th><th scope=col>avg_path_len</th><th scope=col>diameter</th><th scope=col>density</th></tr>\n",
       "\t<tr><th scope=col>&lt;chr&gt;</th><th scope=col>&lt;dbl&gt;</th><th scope=col>&lt;dbl&gt;</th><th scope=col>&lt;dbl&gt;</th><th scope=col>&lt;dbl&gt;</th><th scope=col>&lt;dbl&gt;</th><th scope=col>&lt;dbl&gt;</th><th scope=col>&lt;dbl&gt;</th></tr>\n",
       "</thead>\n",
       "<tbody>\n",
       "\t<tr><td>Base model</td><td>607213</td><td>253154</td><td>0.8338</td><td>0.1148</td><td>8.3667</td><td>17</td><td>3.88e-06</td></tr>\n",
       "\t<tr><td>Synonyms  </td><td>610212</td><td>263804</td><td>0.8646</td><td>0.1168</td><td>7.5333</td><td>17</td><td>3.88e-06</td></tr>\n",
       "\t<tr><td>Context   </td><td>697068</td><td>410371</td><td>1.1774</td><td>0.1423</td><td>1.9333</td><td> 3</td><td>2.75e-06</td></tr>\n",
       "\t<tr><td>TF-bins_2 </td><td>607213</td><td>268100</td><td>0.8831</td><td>0.1021</td><td>6.8333</td><td>13</td><td>7.58e-06</td></tr>\n",
       "\t<tr><td>TF-bins_3 </td><td>607213</td><td>270359</td><td>0.8905</td><td>0.1011</td><td>6.7667</td><td>13</td><td>7.65e-06</td></tr>\n",
       "\t<tr><td>TF-bins_4 </td><td>607213</td><td>272649</td><td>0.8980</td><td>0.0999</td><td>7.0333</td><td>14</td><td>7.60e-06</td></tr>\n",
       "\t<tr><td>TF-bins_5 </td><td>607213</td><td>274698</td><td>0.9048</td><td>0.0996</td><td>6.7000</td><td>16</td><td>7.73e-06</td></tr>\n",
       "\t<tr><td>TF-bins_6 </td><td>607213</td><td>276615</td><td>0.9111</td><td>0.1029</td><td>8.3000</td><td>18</td><td>7.69e-06</td></tr>\n",
       "\t<tr><td>TF-bins_7 </td><td>607213</td><td>278087</td><td>0.9159</td><td>0.1010</td><td>5.9333</td><td>14</td><td>7.82e-06</td></tr>\n",
       "\t<tr><td>TF-bins_8 </td><td>607213</td><td>279356</td><td>0.9201</td><td>0.1034</td><td>6.6000</td><td>14</td><td>7.83e-06</td></tr>\n",
       "\t<tr><td>TF-bins_9 </td><td>607213</td><td>280524</td><td>0.9240</td><td>0.0994</td><td>6.8667</td><td>11</td><td>7.84e-06</td></tr>\n",
       "\t<tr><td>TF-bins_10</td><td>607213</td><td>281642</td><td>0.9277</td><td>0.1014</td><td>6.9000</td><td>14</td><td>7.86e-06</td></tr>\n",
       "</tbody>\n",
       "</table>\n"
      ],
      "text/latex": [
       "A spec_tbl_df: 12 × 8\n",
       "\\begin{tabular}{r|llllllll}\n",
       " model & nodes & edges & degree & cl\\_coef & avg\\_path\\_len & diameter & density\\\\\n",
       " <chr> & <dbl> & <dbl> & <dbl> & <dbl> & <dbl> & <dbl> & <dbl>\\\\\n",
       "\\hline\n",
       "\t Base model & 607213 & 253154 & 0.8338 & 0.1148 & 8.3667 & 17 & 3.88e-06\\\\\n",
       "\t Synonyms   & 610212 & 263804 & 0.8646 & 0.1168 & 7.5333 & 17 & 3.88e-06\\\\\n",
       "\t Context    & 697068 & 410371 & 1.1774 & 0.1423 & 1.9333 &  3 & 2.75e-06\\\\\n",
       "\t TF-bins\\_2  & 607213 & 268100 & 0.8831 & 0.1021 & 6.8333 & 13 & 7.58e-06\\\\\n",
       "\t TF-bins\\_3  & 607213 & 270359 & 0.8905 & 0.1011 & 6.7667 & 13 & 7.65e-06\\\\\n",
       "\t TF-bins\\_4  & 607213 & 272649 & 0.8980 & 0.0999 & 7.0333 & 14 & 7.60e-06\\\\\n",
       "\t TF-bins\\_5  & 607213 & 274698 & 0.9048 & 0.0996 & 6.7000 & 16 & 7.73e-06\\\\\n",
       "\t TF-bins\\_6  & 607213 & 276615 & 0.9111 & 0.1029 & 8.3000 & 18 & 7.69e-06\\\\\n",
       "\t TF-bins\\_7  & 607213 & 278087 & 0.9159 & 0.1010 & 5.9333 & 14 & 7.82e-06\\\\\n",
       "\t TF-bins\\_8  & 607213 & 279356 & 0.9201 & 0.1034 & 6.6000 & 14 & 7.83e-06\\\\\n",
       "\t TF-bins\\_9  & 607213 & 280524 & 0.9240 & 0.0994 & 6.8667 & 11 & 7.84e-06\\\\\n",
       "\t TF-bins\\_10 & 607213 & 281642 & 0.9277 & 0.1014 & 6.9000 & 14 & 7.86e-06\\\\\n",
       "\\end{tabular}\n"
      ],
      "text/markdown": [
       "\n",
       "A spec_tbl_df: 12 × 8\n",
       "\n",
       "| model &lt;chr&gt; | nodes &lt;dbl&gt; | edges &lt;dbl&gt; | degree &lt;dbl&gt; | cl_coef &lt;dbl&gt; | avg_path_len &lt;dbl&gt; | diameter &lt;dbl&gt; | density &lt;dbl&gt; |\n",
       "|---|---|---|---|---|---|---|---|\n",
       "| Base model | 607213 | 253154 | 0.8338 | 0.1148 | 8.3667 | 17 | 3.88e-06 |\n",
       "| Synonyms   | 610212 | 263804 | 0.8646 | 0.1168 | 7.5333 | 17 | 3.88e-06 |\n",
       "| Context    | 697068 | 410371 | 1.1774 | 0.1423 | 1.9333 |  3 | 2.75e-06 |\n",
       "| TF-bins_2  | 607213 | 268100 | 0.8831 | 0.1021 | 6.8333 | 13 | 7.58e-06 |\n",
       "| TF-bins_3  | 607213 | 270359 | 0.8905 | 0.1011 | 6.7667 | 13 | 7.65e-06 |\n",
       "| TF-bins_4  | 607213 | 272649 | 0.8980 | 0.0999 | 7.0333 | 14 | 7.60e-06 |\n",
       "| TF-bins_5  | 607213 | 274698 | 0.9048 | 0.0996 | 6.7000 | 16 | 7.73e-06 |\n",
       "| TF-bins_6  | 607213 | 276615 | 0.9111 | 0.1029 | 8.3000 | 18 | 7.69e-06 |\n",
       "| TF-bins_7  | 607213 | 278087 | 0.9159 | 0.1010 | 5.9333 | 14 | 7.82e-06 |\n",
       "| TF-bins_8  | 607213 | 279356 | 0.9201 | 0.1034 | 6.6000 | 14 | 7.83e-06 |\n",
       "| TF-bins_9  | 607213 | 280524 | 0.9240 | 0.0994 | 6.8667 | 11 | 7.84e-06 |\n",
       "| TF-bins_10 | 607213 | 281642 | 0.9277 | 0.1014 | 6.9000 | 14 | 7.86e-06 |\n",
       "\n"
      ],
      "text/plain": [
       "   model      nodes  edges  degree cl_coef avg_path_len diameter density \n",
       "1  Base model 607213 253154 0.8338 0.1148  8.3667       17       3.88e-06\n",
       "2  Synonyms   610212 263804 0.8646 0.1168  7.5333       17       3.88e-06\n",
       "3  Context    697068 410371 1.1774 0.1423  1.9333        3       2.75e-06\n",
       "4  TF-bins_2  607213 268100 0.8831 0.1021  6.8333       13       7.58e-06\n",
       "5  TF-bins_3  607213 270359 0.8905 0.1011  6.7667       13       7.65e-06\n",
       "6  TF-bins_4  607213 272649 0.8980 0.0999  7.0333       14       7.60e-06\n",
       "7  TF-bins_5  607213 274698 0.9048 0.0996  6.7000       16       7.73e-06\n",
       "8  TF-bins_6  607213 276615 0.9111 0.1029  8.3000       18       7.69e-06\n",
       "9  TF-bins_7  607213 278087 0.9159 0.1010  5.9333       14       7.82e-06\n",
       "10 TF-bins_8  607213 279356 0.9201 0.1034  6.6000       14       7.83e-06\n",
       "11 TF-bins_9  607213 280524 0.9240 0.0994  6.8667       11       7.84e-06\n",
       "12 TF-bins_10 607213 281642 0.9277 0.1014  6.9000       14       7.86e-06"
      ]
     },
     "metadata": {},
     "output_type": "display_data"
    }
   ],
   "source": [
    "struct_feat <- read_csv(file.path(base_dir, \"structural_features.csv\"), col_types = cols())\n",
    "struct_feat"
   ]
  },
  {
   "cell_type": "markdown",
   "metadata": {},
   "source": [
    "## Correlation between IR evaluation metrics and structural features"
   ]
  },
  {
   "cell_type": "markdown",
   "metadata": {},
   "source": [
    "### Pearson"
   ]
  },
  {
   "cell_type": "code",
   "execution_count": 29,
   "metadata": {},
   "outputs": [
    {
     "data": {
      "text/html": [
       "<table>\n",
       "<caption>A matrix: 9 × 7 of type dbl</caption>\n",
       "<thead>\n",
       "\t<tr><th></th><th scope=col>nodes</th><th scope=col>edges</th><th scope=col>degree</th><th scope=col>cl_coef</th><th scope=col>avg_path_len</th><th scope=col>diameter</th><th scope=col>density</th></tr>\n",
       "</thead>\n",
       "<tbody>\n",
       "\t<tr><th scope=row>map_l1</th><td>-0.5501</td><td>-0.3852</td><td>-0.2828</td><td>-0.8480</td><td>0.2856</td><td>0.2425</td><td>0.9807</td></tr>\n",
       "\t<tr><th scope=row>ndcg10_l1</th><td>-0.6607</td><td>-0.5314</td><td>-0.4468</td><td>-0.8732</td><td>0.4340</td><td>0.4443</td><td>0.9427</td></tr>\n",
       "\t<tr><th scope=row>p10_l1</th><td>-0.5821</td><td>-0.4320</td><td>-0.3374</td><td>-0.8370</td><td>0.3375</td><td>0.3689</td><td>0.9503</td></tr>\n",
       "\t<tr><th scope=row>map_l2</th><td>-0.5486</td><td>-0.3747</td><td>-0.2672</td><td>-0.8505</td><td>0.2768</td><td>0.2204</td><td>0.9886</td></tr>\n",
       "\t<tr><th scope=row>ndcg10_l2</th><td>-0.6198</td><td>-0.5251</td><td>-0.4600</td><td>-0.7747</td><td>0.5380</td><td>0.4673</td><td>0.7661</td></tr>\n",
       "\t<tr><th scope=row>p10_l2</th><td>-0.5702</td><td>-0.4467</td><td>-0.3668</td><td>-0.7996</td><td>0.4337</td><td>0.3370</td><td>0.8688</td></tr>\n",
       "\t<tr><th scope=row>map_l3</th><td>-0.5445</td><td>-0.3685</td><td>-0.2599</td><td>-0.8426</td><td>0.2803</td><td>0.2321</td><td>0.9856</td></tr>\n",
       "\t<tr><th scope=row>ndcg10_l3</th><td>-0.5450</td><td>-0.4651</td><td>-0.4096</td><td>-0.6743</td><td>0.5393</td><td>0.4903</td><td>0.6594</td></tr>\n",
       "\t<tr><th scope=row>p10_l3</th><td>-0.5609</td><td>-0.4438</td><td>-0.3676</td><td>-0.7763</td><td>0.4730</td><td>0.4203</td><td>0.8235</td></tr>\n",
       "</tbody>\n",
       "</table>\n"
      ],
      "text/latex": [
       "A matrix: 9 × 7 of type dbl\n",
       "\\begin{tabular}{r|lllllll}\n",
       "  & nodes & edges & degree & cl\\_coef & avg\\_path\\_len & diameter & density\\\\\n",
       "\\hline\n",
       "\tmap\\_l1 & -0.5501 & -0.3852 & -0.2828 & -0.8480 & 0.2856 & 0.2425 & 0.9807\\\\\n",
       "\tndcg10\\_l1 & -0.6607 & -0.5314 & -0.4468 & -0.8732 & 0.4340 & 0.4443 & 0.9427\\\\\n",
       "\tp10\\_l1 & -0.5821 & -0.4320 & -0.3374 & -0.8370 & 0.3375 & 0.3689 & 0.9503\\\\\n",
       "\tmap\\_l2 & -0.5486 & -0.3747 & -0.2672 & -0.8505 & 0.2768 & 0.2204 & 0.9886\\\\\n",
       "\tndcg10\\_l2 & -0.6198 & -0.5251 & -0.4600 & -0.7747 & 0.5380 & 0.4673 & 0.7661\\\\\n",
       "\tp10\\_l2 & -0.5702 & -0.4467 & -0.3668 & -0.7996 & 0.4337 & 0.3370 & 0.8688\\\\\n",
       "\tmap\\_l3 & -0.5445 & -0.3685 & -0.2599 & -0.8426 & 0.2803 & 0.2321 & 0.9856\\\\\n",
       "\tndcg10\\_l3 & -0.5450 & -0.4651 & -0.4096 & -0.6743 & 0.5393 & 0.4903 & 0.6594\\\\\n",
       "\tp10\\_l3 & -0.5609 & -0.4438 & -0.3676 & -0.7763 & 0.4730 & 0.4203 & 0.8235\\\\\n",
       "\\end{tabular}\n"
      ],
      "text/markdown": [
       "\n",
       "A matrix: 9 × 7 of type dbl\n",
       "\n",
       "| <!--/--> | nodes | edges | degree | cl_coef | avg_path_len | diameter | density |\n",
       "|---|---|---|---|---|---|---|---|\n",
       "| map_l1 | -0.5501 | -0.3852 | -0.2828 | -0.8480 | 0.2856 | 0.2425 | 0.9807 |\n",
       "| ndcg10_l1 | -0.6607 | -0.5314 | -0.4468 | -0.8732 | 0.4340 | 0.4443 | 0.9427 |\n",
       "| p10_l1 | -0.5821 | -0.4320 | -0.3374 | -0.8370 | 0.3375 | 0.3689 | 0.9503 |\n",
       "| map_l2 | -0.5486 | -0.3747 | -0.2672 | -0.8505 | 0.2768 | 0.2204 | 0.9886 |\n",
       "| ndcg10_l2 | -0.6198 | -0.5251 | -0.4600 | -0.7747 | 0.5380 | 0.4673 | 0.7661 |\n",
       "| p10_l2 | -0.5702 | -0.4467 | -0.3668 | -0.7996 | 0.4337 | 0.3370 | 0.8688 |\n",
       "| map_l3 | -0.5445 | -0.3685 | -0.2599 | -0.8426 | 0.2803 | 0.2321 | 0.9856 |\n",
       "| ndcg10_l3 | -0.5450 | -0.4651 | -0.4096 | -0.6743 | 0.5393 | 0.4903 | 0.6594 |\n",
       "| p10_l3 | -0.5609 | -0.4438 | -0.3676 | -0.7763 | 0.4730 | 0.4203 | 0.8235 |\n",
       "\n"
      ],
      "text/plain": [
       "          nodes   edges   degree  cl_coef avg_path_len diameter density\n",
       "map_l1    -0.5501 -0.3852 -0.2828 -0.8480 0.2856       0.2425   0.9807 \n",
       "ndcg10_l1 -0.6607 -0.5314 -0.4468 -0.8732 0.4340       0.4443   0.9427 \n",
       "p10_l1    -0.5821 -0.4320 -0.3374 -0.8370 0.3375       0.3689   0.9503 \n",
       "map_l2    -0.5486 -0.3747 -0.2672 -0.8505 0.2768       0.2204   0.9886 \n",
       "ndcg10_l2 -0.6198 -0.5251 -0.4600 -0.7747 0.5380       0.4673   0.7661 \n",
       "p10_l2    -0.5702 -0.4467 -0.3668 -0.7996 0.4337       0.3370   0.8688 \n",
       "map_l3    -0.5445 -0.3685 -0.2599 -0.8426 0.2803       0.2321   0.9856 \n",
       "ndcg10_l3 -0.5450 -0.4651 -0.4096 -0.6743 0.5393       0.4903   0.6594 \n",
       "p10_l3    -0.5609 -0.4438 -0.3676 -0.7763 0.4730       0.4203   0.8235 "
      ]
     },
     "metadata": {},
     "output_type": "display_data"
    }
   ],
   "source": [
    "pc <- cor(ir_eval[2:ncol(ir_eval)], struct_feat[2: ncol(struct_feat)], method = \"pearson\"); round(pc, 4)"
   ]
  },
  {
   "cell_type": "code",
   "execution_count": 39,
   "metadata": {
    "scrolled": true
   },
   "outputs": [
    {
     "data": {
      "text/html": [
       "<table>\n",
       "<caption>A matrix: 9 × 7 of type lgl</caption>\n",
       "<thead>\n",
       "\t<tr><th></th><th scope=col>nodes</th><th scope=col>edges</th><th scope=col>degree</th><th scope=col>cl_coef</th><th scope=col>avg_path_len</th><th scope=col>diameter</th><th scope=col>density</th></tr>\n",
       "</thead>\n",
       "<tbody>\n",
       "\t<tr><th scope=row>map_l1</th><td>FALSE</td><td>FALSE</td><td>FALSE</td><td>FALSE</td><td>FALSE</td><td>FALSE</td><td>TRUE</td></tr>\n",
       "\t<tr><th scope=row>ndcg10_l1</th><td>FALSE</td><td>FALSE</td><td>FALSE</td><td>FALSE</td><td>FALSE</td><td>FALSE</td><td>TRUE</td></tr>\n",
       "\t<tr><th scope=row>p10_l1</th><td>FALSE</td><td>FALSE</td><td>FALSE</td><td>FALSE</td><td>FALSE</td><td>FALSE</td><td>TRUE</td></tr>\n",
       "\t<tr><th scope=row>map_l2</th><td>FALSE</td><td>FALSE</td><td>FALSE</td><td>FALSE</td><td>FALSE</td><td>FALSE</td><td>TRUE</td></tr>\n",
       "\t<tr><th scope=row>ndcg10_l2</th><td>FALSE</td><td>FALSE</td><td>FALSE</td><td>FALSE</td><td> TRUE</td><td>FALSE</td><td>TRUE</td></tr>\n",
       "\t<tr><th scope=row>p10_l2</th><td>FALSE</td><td>FALSE</td><td>FALSE</td><td>FALSE</td><td>FALSE</td><td>FALSE</td><td>TRUE</td></tr>\n",
       "\t<tr><th scope=row>map_l3</th><td>FALSE</td><td>FALSE</td><td>FALSE</td><td>FALSE</td><td>FALSE</td><td>FALSE</td><td>TRUE</td></tr>\n",
       "\t<tr><th scope=row>ndcg10_l3</th><td>FALSE</td><td>FALSE</td><td>FALSE</td><td>FALSE</td><td> TRUE</td><td>FALSE</td><td>TRUE</td></tr>\n",
       "\t<tr><th scope=row>p10_l3</th><td>FALSE</td><td>FALSE</td><td>FALSE</td><td>FALSE</td><td>FALSE</td><td>FALSE</td><td>TRUE</td></tr>\n",
       "</tbody>\n",
       "</table>\n"
      ],
      "text/latex": [
       "A matrix: 9 × 7 of type lgl\n",
       "\\begin{tabular}{r|lllllll}\n",
       "  & nodes & edges & degree & cl\\_coef & avg\\_path\\_len & diameter & density\\\\\n",
       "\\hline\n",
       "\tmap\\_l1 & FALSE & FALSE & FALSE & FALSE & FALSE & FALSE & TRUE\\\\\n",
       "\tndcg10\\_l1 & FALSE & FALSE & FALSE & FALSE & FALSE & FALSE & TRUE\\\\\n",
       "\tp10\\_l1 & FALSE & FALSE & FALSE & FALSE & FALSE & FALSE & TRUE\\\\\n",
       "\tmap\\_l2 & FALSE & FALSE & FALSE & FALSE & FALSE & FALSE & TRUE\\\\\n",
       "\tndcg10\\_l2 & FALSE & FALSE & FALSE & FALSE &  TRUE & FALSE & TRUE\\\\\n",
       "\tp10\\_l2 & FALSE & FALSE & FALSE & FALSE & FALSE & FALSE & TRUE\\\\\n",
       "\tmap\\_l3 & FALSE & FALSE & FALSE & FALSE & FALSE & FALSE & TRUE\\\\\n",
       "\tndcg10\\_l3 & FALSE & FALSE & FALSE & FALSE &  TRUE & FALSE & TRUE\\\\\n",
       "\tp10\\_l3 & FALSE & FALSE & FALSE & FALSE & FALSE & FALSE & TRUE\\\\\n",
       "\\end{tabular}\n"
      ],
      "text/markdown": [
       "\n",
       "A matrix: 9 × 7 of type lgl\n",
       "\n",
       "| <!--/--> | nodes | edges | degree | cl_coef | avg_path_len | diameter | density |\n",
       "|---|---|---|---|---|---|---|---|\n",
       "| map_l1 | FALSE | FALSE | FALSE | FALSE | FALSE | FALSE | TRUE |\n",
       "| ndcg10_l1 | FALSE | FALSE | FALSE | FALSE | FALSE | FALSE | TRUE |\n",
       "| p10_l1 | FALSE | FALSE | FALSE | FALSE | FALSE | FALSE | TRUE |\n",
       "| map_l2 | FALSE | FALSE | FALSE | FALSE | FALSE | FALSE | TRUE |\n",
       "| ndcg10_l2 | FALSE | FALSE | FALSE | FALSE |  TRUE | FALSE | TRUE |\n",
       "| p10_l2 | FALSE | FALSE | FALSE | FALSE | FALSE | FALSE | TRUE |\n",
       "| map_l3 | FALSE | FALSE | FALSE | FALSE | FALSE | FALSE | TRUE |\n",
       "| ndcg10_l3 | FALSE | FALSE | FALSE | FALSE |  TRUE | FALSE | TRUE |\n",
       "| p10_l3 | FALSE | FALSE | FALSE | FALSE | FALSE | FALSE | TRUE |\n",
       "\n"
      ],
      "text/plain": [
       "          nodes edges degree cl_coef avg_path_len diameter density\n",
       "map_l1    FALSE FALSE FALSE  FALSE   FALSE        FALSE    TRUE   \n",
       "ndcg10_l1 FALSE FALSE FALSE  FALSE   FALSE        FALSE    TRUE   \n",
       "p10_l1    FALSE FALSE FALSE  FALSE   FALSE        FALSE    TRUE   \n",
       "map_l2    FALSE FALSE FALSE  FALSE   FALSE        FALSE    TRUE   \n",
       "ndcg10_l2 FALSE FALSE FALSE  FALSE    TRUE        FALSE    TRUE   \n",
       "p10_l2    FALSE FALSE FALSE  FALSE   FALSE        FALSE    TRUE   \n",
       "map_l3    FALSE FALSE FALSE  FALSE   FALSE        FALSE    TRUE   \n",
       "ndcg10_l3 FALSE FALSE FALSE  FALSE    TRUE        FALSE    TRUE   \n",
       "p10_l3    FALSE FALSE FALSE  FALSE   FALSE        FALSE    TRUE   "
      ]
     },
     "metadata": {},
     "output_type": "display_data"
    }
   ],
   "source": [
    "pc > 0.5"
   ]
  },
  {
   "cell_type": "markdown",
   "metadata": {},
   "source": [
    "### Spearman"
   ]
  },
  {
   "cell_type": "code",
   "execution_count": 30,
   "metadata": {},
   "outputs": [
    {
     "data": {
      "text/html": [
       "<table>\n",
       "<caption>A matrix: 9 × 7 of type dbl</caption>\n",
       "<thead>\n",
       "\t<tr><th></th><th scope=col>nodes</th><th scope=col>edges</th><th scope=col>degree</th><th scope=col>cl_coef</th><th scope=col>avg_path_len</th><th scope=col>diameter</th><th scope=col>density</th></tr>\n",
       "</thead>\n",
       "<tbody>\n",
       "\t<tr><th scope=row>map_l1</th><td>-0.6504</td><td> 0.0559</td><td> 0.0559</td><td>-0.5245</td><td> 0.0979</td><td>0.1000</td><td>0.5009</td></tr>\n",
       "\t<tr><th scope=row>ndcg10_l1</th><td>-0.6504</td><td>-0.0350</td><td>-0.0350</td><td>-0.3636</td><td>-0.1119</td><td>0.2000</td><td>0.4308</td></tr>\n",
       "\t<tr><th scope=row>p10_l1</th><td>-0.6527</td><td> 0.1018</td><td> 0.1018</td><td>-0.4667</td><td>-0.0982</td><td>0.3047</td><td>0.5800</td></tr>\n",
       "\t<tr><th scope=row>map_l2</th><td>-0.6516</td><td> 0.4098</td><td> 0.4098</td><td>-0.5464</td><td> 0.2172</td><td>0.1449</td><td>0.8035</td></tr>\n",
       "\t<tr><th scope=row>ndcg10_l2</th><td>-0.5913</td><td> 0.0699</td><td> 0.0699</td><td>-0.5804</td><td> 0.2797</td><td>0.1036</td><td>0.4448</td></tr>\n",
       "\t<tr><th scope=row>p10_l2</th><td>-0.6242</td><td> 0.0035</td><td> 0.0035</td><td>-0.5519</td><td> 0.2882</td><td>0.0593</td><td>0.4049</td></tr>\n",
       "\t<tr><th scope=row>map_l3</th><td>-0.6504</td><td> 0.4615</td><td> 0.4615</td><td>-0.4685</td><td> 0.0699</td><td>0.1965</td><td>0.8932</td></tr>\n",
       "\t<tr><th scope=row>ndcg10_l3</th><td>-0.5322</td><td>-0.0280</td><td>-0.0280</td><td>-0.5524</td><td> 0.3357</td><td>0.2000</td><td>0.3573</td></tr>\n",
       "\t<tr><th scope=row>p10_l3</th><td>-0.6242</td><td>-0.0211</td><td>-0.0211</td><td>-0.6151</td><td> 0.2707</td><td>0.1993</td><td>0.3873</td></tr>\n",
       "</tbody>\n",
       "</table>\n"
      ],
      "text/latex": [
       "A matrix: 9 × 7 of type dbl\n",
       "\\begin{tabular}{r|lllllll}\n",
       "  & nodes & edges & degree & cl\\_coef & avg\\_path\\_len & diameter & density\\\\\n",
       "\\hline\n",
       "\tmap\\_l1 & -0.6504 &  0.0559 &  0.0559 & -0.5245 &  0.0979 & 0.1000 & 0.5009\\\\\n",
       "\tndcg10\\_l1 & -0.6504 & -0.0350 & -0.0350 & -0.3636 & -0.1119 & 0.2000 & 0.4308\\\\\n",
       "\tp10\\_l1 & -0.6527 &  0.1018 &  0.1018 & -0.4667 & -0.0982 & 0.3047 & 0.5800\\\\\n",
       "\tmap\\_l2 & -0.6516 &  0.4098 &  0.4098 & -0.5464 &  0.2172 & 0.1449 & 0.8035\\\\\n",
       "\tndcg10\\_l2 & -0.5913 &  0.0699 &  0.0699 & -0.5804 &  0.2797 & 0.1036 & 0.4448\\\\\n",
       "\tp10\\_l2 & -0.6242 &  0.0035 &  0.0035 & -0.5519 &  0.2882 & 0.0593 & 0.4049\\\\\n",
       "\tmap\\_l3 & -0.6504 &  0.4615 &  0.4615 & -0.4685 &  0.0699 & 0.1965 & 0.8932\\\\\n",
       "\tndcg10\\_l3 & -0.5322 & -0.0280 & -0.0280 & -0.5524 &  0.3357 & 0.2000 & 0.3573\\\\\n",
       "\tp10\\_l3 & -0.6242 & -0.0211 & -0.0211 & -0.6151 &  0.2707 & 0.1993 & 0.3873\\\\\n",
       "\\end{tabular}\n"
      ],
      "text/markdown": [
       "\n",
       "A matrix: 9 × 7 of type dbl\n",
       "\n",
       "| <!--/--> | nodes | edges | degree | cl_coef | avg_path_len | diameter | density |\n",
       "|---|---|---|---|---|---|---|---|\n",
       "| map_l1 | -0.6504 |  0.0559 |  0.0559 | -0.5245 |  0.0979 | 0.1000 | 0.5009 |\n",
       "| ndcg10_l1 | -0.6504 | -0.0350 | -0.0350 | -0.3636 | -0.1119 | 0.2000 | 0.4308 |\n",
       "| p10_l1 | -0.6527 |  0.1018 |  0.1018 | -0.4667 | -0.0982 | 0.3047 | 0.5800 |\n",
       "| map_l2 | -0.6516 |  0.4098 |  0.4098 | -0.5464 |  0.2172 | 0.1449 | 0.8035 |\n",
       "| ndcg10_l2 | -0.5913 |  0.0699 |  0.0699 | -0.5804 |  0.2797 | 0.1036 | 0.4448 |\n",
       "| p10_l2 | -0.6242 |  0.0035 |  0.0035 | -0.5519 |  0.2882 | 0.0593 | 0.4049 |\n",
       "| map_l3 | -0.6504 |  0.4615 |  0.4615 | -0.4685 |  0.0699 | 0.1965 | 0.8932 |\n",
       "| ndcg10_l3 | -0.5322 | -0.0280 | -0.0280 | -0.5524 |  0.3357 | 0.2000 | 0.3573 |\n",
       "| p10_l3 | -0.6242 | -0.0211 | -0.0211 | -0.6151 |  0.2707 | 0.1993 | 0.3873 |\n",
       "\n"
      ],
      "text/plain": [
       "          nodes   edges   degree  cl_coef avg_path_len diameter density\n",
       "map_l1    -0.6504  0.0559  0.0559 -0.5245  0.0979      0.1000   0.5009 \n",
       "ndcg10_l1 -0.6504 -0.0350 -0.0350 -0.3636 -0.1119      0.2000   0.4308 \n",
       "p10_l1    -0.6527  0.1018  0.1018 -0.4667 -0.0982      0.3047   0.5800 \n",
       "map_l2    -0.6516  0.4098  0.4098 -0.5464  0.2172      0.1449   0.8035 \n",
       "ndcg10_l2 -0.5913  0.0699  0.0699 -0.5804  0.2797      0.1036   0.4448 \n",
       "p10_l2    -0.6242  0.0035  0.0035 -0.5519  0.2882      0.0593   0.4049 \n",
       "map_l3    -0.6504  0.4615  0.4615 -0.4685  0.0699      0.1965   0.8932 \n",
       "ndcg10_l3 -0.5322 -0.0280 -0.0280 -0.5524  0.3357      0.2000   0.3573 \n",
       "p10_l3    -0.6242 -0.0211 -0.0211 -0.6151  0.2707      0.1993   0.3873 "
      ]
     },
     "metadata": {},
     "output_type": "display_data"
    }
   ],
   "source": [
    "sc <- cor(ir_eval[2:ncol(ir_eval)], struct_feat[2: ncol(struct_feat)], method = \"spearman\"); round(sc, 4)"
   ]
  },
  {
   "cell_type": "code",
   "execution_count": 47,
   "metadata": {
    "scrolled": true
   },
   "outputs": [
    {
     "data": {
      "text/html": [
       "<table>\n",
       "<caption>A matrix: 9 × 7 of type lgl</caption>\n",
       "<thead>\n",
       "\t<tr><th></th><th scope=col>nodes</th><th scope=col>edges</th><th scope=col>degree</th><th scope=col>cl_coef</th><th scope=col>avg_path_len</th><th scope=col>diameter</th><th scope=col>density</th></tr>\n",
       "</thead>\n",
       "<tbody>\n",
       "\t<tr><th scope=row>map_l1</th><td>FALSE</td><td>FALSE</td><td>FALSE</td><td>FALSE</td><td>FALSE</td><td>FALSE</td><td> TRUE</td></tr>\n",
       "\t<tr><th scope=row>ndcg10_l1</th><td>FALSE</td><td>FALSE</td><td>FALSE</td><td>FALSE</td><td>FALSE</td><td>FALSE</td><td>FALSE</td></tr>\n",
       "\t<tr><th scope=row>p10_l1</th><td>FALSE</td><td>FALSE</td><td>FALSE</td><td>FALSE</td><td>FALSE</td><td>FALSE</td><td> TRUE</td></tr>\n",
       "\t<tr><th scope=row>map_l2</th><td>FALSE</td><td>FALSE</td><td>FALSE</td><td>FALSE</td><td>FALSE</td><td>FALSE</td><td> TRUE</td></tr>\n",
       "\t<tr><th scope=row>ndcg10_l2</th><td>FALSE</td><td>FALSE</td><td>FALSE</td><td>FALSE</td><td>FALSE</td><td>FALSE</td><td>FALSE</td></tr>\n",
       "\t<tr><th scope=row>p10_l2</th><td>FALSE</td><td>FALSE</td><td>FALSE</td><td>FALSE</td><td>FALSE</td><td>FALSE</td><td>FALSE</td></tr>\n",
       "\t<tr><th scope=row>map_l3</th><td>FALSE</td><td>FALSE</td><td>FALSE</td><td>FALSE</td><td>FALSE</td><td>FALSE</td><td> TRUE</td></tr>\n",
       "\t<tr><th scope=row>ndcg10_l3</th><td>FALSE</td><td>FALSE</td><td>FALSE</td><td>FALSE</td><td>FALSE</td><td>FALSE</td><td>FALSE</td></tr>\n",
       "\t<tr><th scope=row>p10_l3</th><td>FALSE</td><td>FALSE</td><td>FALSE</td><td>FALSE</td><td>FALSE</td><td>FALSE</td><td>FALSE</td></tr>\n",
       "</tbody>\n",
       "</table>\n"
      ],
      "text/latex": [
       "A matrix: 9 × 7 of type lgl\n",
       "\\begin{tabular}{r|lllllll}\n",
       "  & nodes & edges & degree & cl\\_coef & avg\\_path\\_len & diameter & density\\\\\n",
       "\\hline\n",
       "\tmap\\_l1 & FALSE & FALSE & FALSE & FALSE & FALSE & FALSE &  TRUE\\\\\n",
       "\tndcg10\\_l1 & FALSE & FALSE & FALSE & FALSE & FALSE & FALSE & FALSE\\\\\n",
       "\tp10\\_l1 & FALSE & FALSE & FALSE & FALSE & FALSE & FALSE &  TRUE\\\\\n",
       "\tmap\\_l2 & FALSE & FALSE & FALSE & FALSE & FALSE & FALSE &  TRUE\\\\\n",
       "\tndcg10\\_l2 & FALSE & FALSE & FALSE & FALSE & FALSE & FALSE & FALSE\\\\\n",
       "\tp10\\_l2 & FALSE & FALSE & FALSE & FALSE & FALSE & FALSE & FALSE\\\\\n",
       "\tmap\\_l3 & FALSE & FALSE & FALSE & FALSE & FALSE & FALSE &  TRUE\\\\\n",
       "\tndcg10\\_l3 & FALSE & FALSE & FALSE & FALSE & FALSE & FALSE & FALSE\\\\\n",
       "\tp10\\_l3 & FALSE & FALSE & FALSE & FALSE & FALSE & FALSE & FALSE\\\\\n",
       "\\end{tabular}\n"
      ],
      "text/markdown": [
       "\n",
       "A matrix: 9 × 7 of type lgl\n",
       "\n",
       "| <!--/--> | nodes | edges | degree | cl_coef | avg_path_len | diameter | density |\n",
       "|---|---|---|---|---|---|---|---|\n",
       "| map_l1 | FALSE | FALSE | FALSE | FALSE | FALSE | FALSE |  TRUE |\n",
       "| ndcg10_l1 | FALSE | FALSE | FALSE | FALSE | FALSE | FALSE | FALSE |\n",
       "| p10_l1 | FALSE | FALSE | FALSE | FALSE | FALSE | FALSE |  TRUE |\n",
       "| map_l2 | FALSE | FALSE | FALSE | FALSE | FALSE | FALSE |  TRUE |\n",
       "| ndcg10_l2 | FALSE | FALSE | FALSE | FALSE | FALSE | FALSE | FALSE |\n",
       "| p10_l2 | FALSE | FALSE | FALSE | FALSE | FALSE | FALSE | FALSE |\n",
       "| map_l3 | FALSE | FALSE | FALSE | FALSE | FALSE | FALSE |  TRUE |\n",
       "| ndcg10_l3 | FALSE | FALSE | FALSE | FALSE | FALSE | FALSE | FALSE |\n",
       "| p10_l3 | FALSE | FALSE | FALSE | FALSE | FALSE | FALSE | FALSE |\n",
       "\n"
      ],
      "text/plain": [
       "          nodes edges degree cl_coef avg_path_len diameter density\n",
       "map_l1    FALSE FALSE FALSE  FALSE   FALSE        FALSE     TRUE  \n",
       "ndcg10_l1 FALSE FALSE FALSE  FALSE   FALSE        FALSE    FALSE  \n",
       "p10_l1    FALSE FALSE FALSE  FALSE   FALSE        FALSE     TRUE  \n",
       "map_l2    FALSE FALSE FALSE  FALSE   FALSE        FALSE     TRUE  \n",
       "ndcg10_l2 FALSE FALSE FALSE  FALSE   FALSE        FALSE    FALSE  \n",
       "p10_l2    FALSE FALSE FALSE  FALSE   FALSE        FALSE    FALSE  \n",
       "map_l3    FALSE FALSE FALSE  FALSE   FALSE        FALSE     TRUE  \n",
       "ndcg10_l3 FALSE FALSE FALSE  FALSE   FALSE        FALSE    FALSE  \n",
       "p10_l3    FALSE FALSE FALSE  FALSE   FALSE        FALSE    FALSE  "
      ]
     },
     "metadata": {},
     "output_type": "display_data"
    }
   ],
   "source": [
    "sc > 0.5"
   ]
  },
  {
   "cell_type": "code",
   "execution_count": 67,
   "metadata": {},
   "outputs": [
    {
     "data": {
      "text/html": [
       "0.409807983977933"
      ],
      "text/latex": [
       "0.409807983977933"
      ],
      "text/markdown": [
       "0.409807983977933"
      ],
      "text/plain": [
       "[1] 0.409808"
      ]
     },
     "metadata": {},
     "output_type": "display_data"
    }
   ],
   "source": [
    "cor(ir_eval$map_l2, struct_feat$degree, method = \"spearman\")"
   ]
  },
  {
   "cell_type": "markdown",
   "metadata": {},
   "source": [
    "## General statistics"
   ]
  },
  {
   "cell_type": "code",
   "execution_count": 38,
   "metadata": {},
   "outputs": [
    {
     "data": {
      "text/html": [
       "<ol class=list-inline>\n",
       "\t<li>0.0994</li>\n",
       "\t<li>0.1034</li>\n",
       "</ol>\n"
      ],
      "text/latex": [
       "\\begin{enumerate*}\n",
       "\\item 0.0994\n",
       "\\item 0.1034\n",
       "\\end{enumerate*}\n"
      ],
      "text/markdown": [
       "1. 0.0994\n",
       "2. 0.1034\n",
       "\n",
       "\n"
      ],
      "text/plain": [
       "[1] 0.0994 0.1034"
      ]
     },
     "metadata": {},
     "output_type": "display_data"
    }
   ],
   "source": [
    "struct_feat %>%\n",
    "    filter(str_starts(model, \"TF-bins\")) %>%\n",
    "    select(cl_coef) %>%\n",
    "    range()"
   ]
  },
  {
   "cell_type": "code",
   "execution_count": 77,
   "metadata": {
    "scrolled": false
   },
   "outputs": [
    {
     "data": {
      "text/html": [
       "-0.518840719163155"
      ],
      "text/latex": [
       "-0.518840719163155"
      ],
      "text/markdown": [
       "-0.518840719163155"
      ],
      "text/plain": [
       "[1] -0.5188407"
      ]
     },
     "metadata": {},
     "output_type": "display_data"
    },
    {
     "data": {
      "text/html": [
       "0.0753446412533919"
      ],
      "text/latex": [
       "0.0753446412533919"
      ],
      "text/markdown": [
       "0.0753446412533919"
      ],
      "text/plain": [
       "[1] 0.07534464"
      ]
     },
     "metadata": {},
     "output_type": "display_data"
    }
   ],
   "source": [
    "mean(sc[, \"cl_coef\"])\n",
    "sd(sc[, \"cl_coef\"])"
   ]
  },
  {
   "cell_type": "code",
   "execution_count": 78,
   "metadata": {},
   "outputs": [
    {
     "data": {
      "text/html": [
       "0.533634134107575"
      ],
      "text/latex": [
       "0.533634134107575"
      ],
      "text/markdown": [
       "0.533634134107575"
      ],
      "text/plain": [
       "[1] 0.5336341"
      ]
     },
     "metadata": {},
     "output_type": "display_data"
    },
    {
     "data": {
      "text/html": [
       "0.19132738414502"
      ],
      "text/latex": [
       "0.19132738414502"
      ],
      "text/markdown": [
       "0.19132738414502"
      ],
      "text/plain": [
       "[1] 0.1913274"
      ]
     },
     "metadata": {},
     "output_type": "display_data"
    }
   ],
   "source": [
    "mean(sc[, \"density\"])\n",
    "sd(sc[, \"density\"])"
   ]
  },
  {
   "cell_type": "code",
   "execution_count": 129,
   "metadata": {},
   "outputs": [
    {
     "name": "stdout",
     "output_type": "stream",
     "text": [
      "Avg: 0.9209167 \tStd Dev: 0.1704139"
     ]
    },
    {
     "data": {
      "text/html": [
       "<table>\n",
       "<caption>A spec_tbl_df: 12 × 9</caption>\n",
       "<thead>\n",
       "\t<tr><th scope=col>model</th><th scope=col>nodes</th><th scope=col>edges</th><th scope=col>degree</th><th scope=col>cl_coef</th><th scope=col>avg_path_len</th><th scope=col>diameter</th><th scope=col>density</th><th scope=col>degree_anomaly</th></tr>\n",
       "\t<tr><th scope=col>&lt;chr&gt;</th><th scope=col>&lt;dbl&gt;</th><th scope=col>&lt;dbl&gt;</th><th scope=col>&lt;dbl&gt;</th><th scope=col>&lt;dbl&gt;</th><th scope=col>&lt;dbl&gt;</th><th scope=col>&lt;dbl&gt;</th><th scope=col>&lt;dbl&gt;</th><th scope=col>&lt;lgl&gt;</th></tr>\n",
       "</thead>\n",
       "<tbody>\n",
       "\t<tr><td>Base model</td><td>607213</td><td>253154</td><td>0.8338</td><td>0.1148</td><td>8.3667</td><td>17</td><td>3.88e-06</td><td>FALSE</td></tr>\n",
       "\t<tr><td>Synonyms  </td><td>610212</td><td>263804</td><td>0.8646</td><td>0.1168</td><td>7.5333</td><td>17</td><td>3.88e-06</td><td>FALSE</td></tr>\n",
       "\t<tr><td>Context   </td><td>697068</td><td>410371</td><td>1.1774</td><td>0.1423</td><td>1.9333</td><td> 3</td><td>2.75e-06</td><td> TRUE</td></tr>\n",
       "\t<tr><td>TF-bins_2 </td><td>607213</td><td>268100</td><td>0.8831</td><td>0.1021</td><td>6.8333</td><td>13</td><td>7.58e-06</td><td>FALSE</td></tr>\n",
       "\t<tr><td>TF-bins_3 </td><td>607213</td><td>270359</td><td>0.8905</td><td>0.1011</td><td>6.7667</td><td>13</td><td>7.65e-06</td><td>FALSE</td></tr>\n",
       "\t<tr><td>TF-bins_4 </td><td>607213</td><td>272649</td><td>0.8980</td><td>0.0999</td><td>7.0333</td><td>14</td><td>7.60e-06</td><td>FALSE</td></tr>\n",
       "\t<tr><td>TF-bins_5 </td><td>607213</td><td>274698</td><td>0.9048</td><td>0.0996</td><td>6.7000</td><td>16</td><td>7.73e-06</td><td>FALSE</td></tr>\n",
       "\t<tr><td>TF-bins_6 </td><td>607213</td><td>276615</td><td>0.9111</td><td>0.1029</td><td>8.3000</td><td>18</td><td>7.69e-06</td><td>FALSE</td></tr>\n",
       "\t<tr><td>TF-bins_7 </td><td>607213</td><td>278087</td><td>0.9159</td><td>0.1010</td><td>5.9333</td><td>14</td><td>7.82e-06</td><td>FALSE</td></tr>\n",
       "\t<tr><td>TF-bins_8 </td><td>607213</td><td>279356</td><td>0.9201</td><td>0.1034</td><td>6.6000</td><td>14</td><td>7.83e-06</td><td>FALSE</td></tr>\n",
       "\t<tr><td>TF-bins_9 </td><td>607213</td><td>280524</td><td>0.9240</td><td>0.0994</td><td>6.8667</td><td>11</td><td>7.84e-06</td><td>FALSE</td></tr>\n",
       "\t<tr><td>TF-bins_10</td><td>607213</td><td>281642</td><td>0.9277</td><td>0.1014</td><td>6.9000</td><td>14</td><td>7.86e-06</td><td>FALSE</td></tr>\n",
       "</tbody>\n",
       "</table>\n"
      ],
      "text/latex": [
       "A spec_tbl_df: 12 × 9\n",
       "\\begin{tabular}{r|lllllllll}\n",
       " model & nodes & edges & degree & cl\\_coef & avg\\_path\\_len & diameter & density & degree\\_anomaly\\\\\n",
       " <chr> & <dbl> & <dbl> & <dbl> & <dbl> & <dbl> & <dbl> & <dbl> & <lgl>\\\\\n",
       "\\hline\n",
       "\t Base model & 607213 & 253154 & 0.8338 & 0.1148 & 8.3667 & 17 & 3.88e-06 & FALSE\\\\\n",
       "\t Synonyms   & 610212 & 263804 & 0.8646 & 0.1168 & 7.5333 & 17 & 3.88e-06 & FALSE\\\\\n",
       "\t Context    & 697068 & 410371 & 1.1774 & 0.1423 & 1.9333 &  3 & 2.75e-06 &  TRUE\\\\\n",
       "\t TF-bins\\_2  & 607213 & 268100 & 0.8831 & 0.1021 & 6.8333 & 13 & 7.58e-06 & FALSE\\\\\n",
       "\t TF-bins\\_3  & 607213 & 270359 & 0.8905 & 0.1011 & 6.7667 & 13 & 7.65e-06 & FALSE\\\\\n",
       "\t TF-bins\\_4  & 607213 & 272649 & 0.8980 & 0.0999 & 7.0333 & 14 & 7.60e-06 & FALSE\\\\\n",
       "\t TF-bins\\_5  & 607213 & 274698 & 0.9048 & 0.0996 & 6.7000 & 16 & 7.73e-06 & FALSE\\\\\n",
       "\t TF-bins\\_6  & 607213 & 276615 & 0.9111 & 0.1029 & 8.3000 & 18 & 7.69e-06 & FALSE\\\\\n",
       "\t TF-bins\\_7  & 607213 & 278087 & 0.9159 & 0.1010 & 5.9333 & 14 & 7.82e-06 & FALSE\\\\\n",
       "\t TF-bins\\_8  & 607213 & 279356 & 0.9201 & 0.1034 & 6.6000 & 14 & 7.83e-06 & FALSE\\\\\n",
       "\t TF-bins\\_9  & 607213 & 280524 & 0.9240 & 0.0994 & 6.8667 & 11 & 7.84e-06 & FALSE\\\\\n",
       "\t TF-bins\\_10 & 607213 & 281642 & 0.9277 & 0.1014 & 6.9000 & 14 & 7.86e-06 & FALSE\\\\\n",
       "\\end{tabular}\n"
      ],
      "text/markdown": [
       "\n",
       "A spec_tbl_df: 12 × 9\n",
       "\n",
       "| model &lt;chr&gt; | nodes &lt;dbl&gt; | edges &lt;dbl&gt; | degree &lt;dbl&gt; | cl_coef &lt;dbl&gt; | avg_path_len &lt;dbl&gt; | diameter &lt;dbl&gt; | density &lt;dbl&gt; | degree_anomaly &lt;lgl&gt; |\n",
       "|---|---|---|---|---|---|---|---|---|\n",
       "| Base model | 607213 | 253154 | 0.8338 | 0.1148 | 8.3667 | 17 | 3.88e-06 | FALSE |\n",
       "| Synonyms   | 610212 | 263804 | 0.8646 | 0.1168 | 7.5333 | 17 | 3.88e-06 | FALSE |\n",
       "| Context    | 697068 | 410371 | 1.1774 | 0.1423 | 1.9333 |  3 | 2.75e-06 |  TRUE |\n",
       "| TF-bins_2  | 607213 | 268100 | 0.8831 | 0.1021 | 6.8333 | 13 | 7.58e-06 | FALSE |\n",
       "| TF-bins_3  | 607213 | 270359 | 0.8905 | 0.1011 | 6.7667 | 13 | 7.65e-06 | FALSE |\n",
       "| TF-bins_4  | 607213 | 272649 | 0.8980 | 0.0999 | 7.0333 | 14 | 7.60e-06 | FALSE |\n",
       "| TF-bins_5  | 607213 | 274698 | 0.9048 | 0.0996 | 6.7000 | 16 | 7.73e-06 | FALSE |\n",
       "| TF-bins_6  | 607213 | 276615 | 0.9111 | 0.1029 | 8.3000 | 18 | 7.69e-06 | FALSE |\n",
       "| TF-bins_7  | 607213 | 278087 | 0.9159 | 0.1010 | 5.9333 | 14 | 7.82e-06 | FALSE |\n",
       "| TF-bins_8  | 607213 | 279356 | 0.9201 | 0.1034 | 6.6000 | 14 | 7.83e-06 | FALSE |\n",
       "| TF-bins_9  | 607213 | 280524 | 0.9240 | 0.0994 | 6.8667 | 11 | 7.84e-06 | FALSE |\n",
       "| TF-bins_10 | 607213 | 281642 | 0.9277 | 0.1014 | 6.9000 | 14 | 7.86e-06 | FALSE |\n",
       "\n"
      ],
      "text/plain": [
       "   model      nodes  edges  degree cl_coef avg_path_len diameter density \n",
       "1  Base model 607213 253154 0.8338 0.1148  8.3667       17       3.88e-06\n",
       "2  Synonyms   610212 263804 0.8646 0.1168  7.5333       17       3.88e-06\n",
       "3  Context    697068 410371 1.1774 0.1423  1.9333        3       2.75e-06\n",
       "4  TF-bins_2  607213 268100 0.8831 0.1021  6.8333       13       7.58e-06\n",
       "5  TF-bins_3  607213 270359 0.8905 0.1011  6.7667       13       7.65e-06\n",
       "6  TF-bins_4  607213 272649 0.8980 0.0999  7.0333       14       7.60e-06\n",
       "7  TF-bins_5  607213 274698 0.9048 0.0996  6.7000       16       7.73e-06\n",
       "8  TF-bins_6  607213 276615 0.9111 0.1029  8.3000       18       7.69e-06\n",
       "9  TF-bins_7  607213 278087 0.9159 0.1010  5.9333       14       7.82e-06\n",
       "10 TF-bins_8  607213 279356 0.9201 0.1034  6.6000       14       7.83e-06\n",
       "11 TF-bins_9  607213 280524 0.9240 0.0994  6.8667       11       7.84e-06\n",
       "12 TF-bins_10 607213 281642 0.9277 0.1014  6.9000       14       7.86e-06\n",
       "   degree_anomaly\n",
       "1  FALSE         \n",
       "2  FALSE         \n",
       "3   TRUE         \n",
       "4  FALSE         \n",
       "5  FALSE         \n",
       "6  FALSE         \n",
       "7  FALSE         \n",
       "8  FALSE         \n",
       "9  FALSE         \n",
       "10 FALSE         \n",
       "11 FALSE         \n",
       "12 FALSE         "
      ]
     },
     "metadata": {},
     "output_type": "display_data"
    }
   ],
   "source": [
    "degree_avg <- mean(struct_feat$degree)\n",
    "degree_anom_diff <- 2*sd(struct_feat$degree)\n",
    "cat(\"Avg:\", degree_avg, \"\\tStd Dev:\", degree_anom_diff)\n",
    "struct_feat %>%\n",
    "    mutate(degree_anomaly=degree > abs(degree_avg + degree_anom_diff))"
   ]
  },
  {
   "cell_type": "code",
   "execution_count": 126,
   "metadata": {},
   "outputs": [
    {
     "name": "stdout",
     "output_type": "stream",
     "text": [
      "Avg: 14.63636 \tStd Dev: 4.221159"
     ]
    },
    {
     "data": {
      "text/html": [
       "<table>\n",
       "<caption>A spec_tbl_df: 12 × 9</caption>\n",
       "<thead>\n",
       "\t<tr><th scope=col>model</th><th scope=col>nodes</th><th scope=col>edges</th><th scope=col>degree</th><th scope=col>cl_coef</th><th scope=col>avg_path_len</th><th scope=col>diameter</th><th scope=col>density</th><th scope=col>diameter_anomaly</th></tr>\n",
       "\t<tr><th scope=col>&lt;chr&gt;</th><th scope=col>&lt;dbl&gt;</th><th scope=col>&lt;dbl&gt;</th><th scope=col>&lt;dbl&gt;</th><th scope=col>&lt;dbl&gt;</th><th scope=col>&lt;dbl&gt;</th><th scope=col>&lt;dbl&gt;</th><th scope=col>&lt;dbl&gt;</th><th scope=col>&lt;lgl&gt;</th></tr>\n",
       "</thead>\n",
       "<tbody>\n",
       "\t<tr><td>Base model</td><td>607213</td><td>253154</td><td>0.8338</td><td>0.1148</td><td>8.3667</td><td>17</td><td>3.88e-06</td><td>FALSE</td></tr>\n",
       "\t<tr><td>Synonyms  </td><td>610212</td><td>263804</td><td>0.8646</td><td>0.1168</td><td>7.5333</td><td>17</td><td>3.88e-06</td><td>FALSE</td></tr>\n",
       "\t<tr><td>Context   </td><td>697068</td><td>410371</td><td>1.1774</td><td>0.1423</td><td>1.9333</td><td> 3</td><td>2.75e-06</td><td> TRUE</td></tr>\n",
       "\t<tr><td>TF-bins_2 </td><td>607213</td><td>268100</td><td>0.8831</td><td>0.1021</td><td>6.8333</td><td>13</td><td>7.58e-06</td><td>FALSE</td></tr>\n",
       "\t<tr><td>TF-bins_3 </td><td>607213</td><td>270359</td><td>0.8905</td><td>0.1011</td><td>6.7667</td><td>13</td><td>7.65e-06</td><td>FALSE</td></tr>\n",
       "\t<tr><td>TF-bins_4 </td><td>607213</td><td>272649</td><td>0.8980</td><td>0.0999</td><td>7.0333</td><td>14</td><td>7.60e-06</td><td>FALSE</td></tr>\n",
       "\t<tr><td>TF-bins_5 </td><td>607213</td><td>274698</td><td>0.9048</td><td>0.0996</td><td>6.7000</td><td>16</td><td>7.73e-06</td><td>FALSE</td></tr>\n",
       "\t<tr><td>TF-bins_6 </td><td>607213</td><td>276615</td><td>0.9111</td><td>0.1029</td><td>8.3000</td><td>18</td><td>7.69e-06</td><td>FALSE</td></tr>\n",
       "\t<tr><td>TF-bins_7 </td><td>607213</td><td>278087</td><td>0.9159</td><td>0.1010</td><td>5.9333</td><td>14</td><td>7.82e-06</td><td>FALSE</td></tr>\n",
       "\t<tr><td>TF-bins_8 </td><td>607213</td><td>279356</td><td>0.9201</td><td>0.1034</td><td>6.6000</td><td>14</td><td>7.83e-06</td><td>FALSE</td></tr>\n",
       "\t<tr><td>TF-bins_9 </td><td>607213</td><td>280524</td><td>0.9240</td><td>0.0994</td><td>6.8667</td><td>11</td><td>7.84e-06</td><td>FALSE</td></tr>\n",
       "\t<tr><td>TF-bins_10</td><td>607213</td><td>281642</td><td>0.9277</td><td>0.1014</td><td>6.9000</td><td>14</td><td>7.86e-06</td><td>FALSE</td></tr>\n",
       "</tbody>\n",
       "</table>\n"
      ],
      "text/latex": [
       "A spec_tbl_df: 12 × 9\n",
       "\\begin{tabular}{r|lllllllll}\n",
       " model & nodes & edges & degree & cl\\_coef & avg\\_path\\_len & diameter & density & diameter\\_anomaly\\\\\n",
       " <chr> & <dbl> & <dbl> & <dbl> & <dbl> & <dbl> & <dbl> & <dbl> & <lgl>\\\\\n",
       "\\hline\n",
       "\t Base model & 607213 & 253154 & 0.8338 & 0.1148 & 8.3667 & 17 & 3.88e-06 & FALSE\\\\\n",
       "\t Synonyms   & 610212 & 263804 & 0.8646 & 0.1168 & 7.5333 & 17 & 3.88e-06 & FALSE\\\\\n",
       "\t Context    & 697068 & 410371 & 1.1774 & 0.1423 & 1.9333 &  3 & 2.75e-06 &  TRUE\\\\\n",
       "\t TF-bins\\_2  & 607213 & 268100 & 0.8831 & 0.1021 & 6.8333 & 13 & 7.58e-06 & FALSE\\\\\n",
       "\t TF-bins\\_3  & 607213 & 270359 & 0.8905 & 0.1011 & 6.7667 & 13 & 7.65e-06 & FALSE\\\\\n",
       "\t TF-bins\\_4  & 607213 & 272649 & 0.8980 & 0.0999 & 7.0333 & 14 & 7.60e-06 & FALSE\\\\\n",
       "\t TF-bins\\_5  & 607213 & 274698 & 0.9048 & 0.0996 & 6.7000 & 16 & 7.73e-06 & FALSE\\\\\n",
       "\t TF-bins\\_6  & 607213 & 276615 & 0.9111 & 0.1029 & 8.3000 & 18 & 7.69e-06 & FALSE\\\\\n",
       "\t TF-bins\\_7  & 607213 & 278087 & 0.9159 & 0.1010 & 5.9333 & 14 & 7.82e-06 & FALSE\\\\\n",
       "\t TF-bins\\_8  & 607213 & 279356 & 0.9201 & 0.1034 & 6.6000 & 14 & 7.83e-06 & FALSE\\\\\n",
       "\t TF-bins\\_9  & 607213 & 280524 & 0.9240 & 0.0994 & 6.8667 & 11 & 7.84e-06 & FALSE\\\\\n",
       "\t TF-bins\\_10 & 607213 & 281642 & 0.9277 & 0.1014 & 6.9000 & 14 & 7.86e-06 & FALSE\\\\\n",
       "\\end{tabular}\n"
      ],
      "text/markdown": [
       "\n",
       "A spec_tbl_df: 12 × 9\n",
       "\n",
       "| model &lt;chr&gt; | nodes &lt;dbl&gt; | edges &lt;dbl&gt; | degree &lt;dbl&gt; | cl_coef &lt;dbl&gt; | avg_path_len &lt;dbl&gt; | diameter &lt;dbl&gt; | density &lt;dbl&gt; | diameter_anomaly &lt;lgl&gt; |\n",
       "|---|---|---|---|---|---|---|---|---|\n",
       "| Base model | 607213 | 253154 | 0.8338 | 0.1148 | 8.3667 | 17 | 3.88e-06 | FALSE |\n",
       "| Synonyms   | 610212 | 263804 | 0.8646 | 0.1168 | 7.5333 | 17 | 3.88e-06 | FALSE |\n",
       "| Context    | 697068 | 410371 | 1.1774 | 0.1423 | 1.9333 |  3 | 2.75e-06 |  TRUE |\n",
       "| TF-bins_2  | 607213 | 268100 | 0.8831 | 0.1021 | 6.8333 | 13 | 7.58e-06 | FALSE |\n",
       "| TF-bins_3  | 607213 | 270359 | 0.8905 | 0.1011 | 6.7667 | 13 | 7.65e-06 | FALSE |\n",
       "| TF-bins_4  | 607213 | 272649 | 0.8980 | 0.0999 | 7.0333 | 14 | 7.60e-06 | FALSE |\n",
       "| TF-bins_5  | 607213 | 274698 | 0.9048 | 0.0996 | 6.7000 | 16 | 7.73e-06 | FALSE |\n",
       "| TF-bins_6  | 607213 | 276615 | 0.9111 | 0.1029 | 8.3000 | 18 | 7.69e-06 | FALSE |\n",
       "| TF-bins_7  | 607213 | 278087 | 0.9159 | 0.1010 | 5.9333 | 14 | 7.82e-06 | FALSE |\n",
       "| TF-bins_8  | 607213 | 279356 | 0.9201 | 0.1034 | 6.6000 | 14 | 7.83e-06 | FALSE |\n",
       "| TF-bins_9  | 607213 | 280524 | 0.9240 | 0.0994 | 6.8667 | 11 | 7.84e-06 | FALSE |\n",
       "| TF-bins_10 | 607213 | 281642 | 0.9277 | 0.1014 | 6.9000 | 14 | 7.86e-06 | FALSE |\n",
       "\n"
      ],
      "text/plain": [
       "   model      nodes  edges  degree cl_coef avg_path_len diameter density \n",
       "1  Base model 607213 253154 0.8338 0.1148  8.3667       17       3.88e-06\n",
       "2  Synonyms   610212 263804 0.8646 0.1168  7.5333       17       3.88e-06\n",
       "3  Context    697068 410371 1.1774 0.1423  1.9333        3       2.75e-06\n",
       "4  TF-bins_2  607213 268100 0.8831 0.1021  6.8333       13       7.58e-06\n",
       "5  TF-bins_3  607213 270359 0.8905 0.1011  6.7667       13       7.65e-06\n",
       "6  TF-bins_4  607213 272649 0.8980 0.0999  7.0333       14       7.60e-06\n",
       "7  TF-bins_5  607213 274698 0.9048 0.0996  6.7000       16       7.73e-06\n",
       "8  TF-bins_6  607213 276615 0.9111 0.1029  8.3000       18       7.69e-06\n",
       "9  TF-bins_7  607213 278087 0.9159 0.1010  5.9333       14       7.82e-06\n",
       "10 TF-bins_8  607213 279356 0.9201 0.1034  6.6000       14       7.83e-06\n",
       "11 TF-bins_9  607213 280524 0.9240 0.0994  6.8667       11       7.84e-06\n",
       "12 TF-bins_10 607213 281642 0.9277 0.1014  6.9000       14       7.86e-06\n",
       "   diameter_anomaly\n",
       "1  FALSE           \n",
       "2  FALSE           \n",
       "3   TRUE           \n",
       "4  FALSE           \n",
       "5  FALSE           \n",
       "6  FALSE           \n",
       "7  FALSE           \n",
       "8  FALSE           \n",
       "9  FALSE           \n",
       "10 FALSE           \n",
       "11 FALSE           \n",
       "12 FALSE           "
      ]
     },
     "metadata": {},
     "output_type": "display_data"
    }
   ],
   "source": [
    "diam_avg <- mean(struct_feat$diameter[-3])\n",
    "diam_anom_diff <- 2*sd(struct_feat$diameter[-3])\n",
    "cat(\"Avg:\", diam_avg, \"\\tStd Dev:\", diam_anom_diff)\n",
    "struct_feat %>%\n",
    "    mutate(diameter_anomaly=diameter < diam_avg - diam_anom_diff)"
   ]
  }
 ],
 "metadata": {
  "kernelspec": {
   "display_name": "R",
   "language": "R",
   "name": "ir"
  },
  "language_info": {
   "codemirror_mode": "r",
   "file_extension": ".r",
   "mimetype": "text/x-r-source",
   "name": "R",
   "pygments_lexer": "r",
   "version": "3.5.2"
  }
 },
 "nbformat": 4,
 "nbformat_minor": 2
}
