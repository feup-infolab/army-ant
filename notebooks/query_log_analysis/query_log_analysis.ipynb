{
 "cells": [
  {
   "cell_type": "markdown",
   "metadata": {
    "slideshow": {
     "slide_type": "slide"
    }
   },
   "source": [
    "# Query Log Analysis\n",
    "\n",
    "The goal of this notebook is to serve as a way to quickly analyze a query log, based on the following aspects:\n",
    "\n",
    "- Query-level\n",
    "- Topic-level\n",
    "- Session-level\n",
    "- Term-level\n",
    "- Entity-level\n",
    "\n",
    "Our main focus is on understanding how people search, in order to improve entity-oriented search, thus we will tackle these aspects always around the entities."
   ]
  },
  {
   "cell_type": "markdown",
   "metadata": {
    "slideshow": {
     "slide_type": "slide"
    }
   },
   "source": [
    "# Datasets\n",
    "\n",
    "While we take advantage of the Wikipedia query log for this analysis, we use an intermediate structure, so that you can convert your own query log into our format and analyze it. We begin by applying the analysis to the webis-smc-12 dataset, only then adapting the notebook for the Wikipedia query log."
   ]
  },
  {
   "cell_type": "code",
   "execution_count": 1,
   "metadata": {
    "slideshow": {
     "slide_type": "subslide"
    }
   },
   "outputs": [],
   "source": [
    "import math\n",
    "import numpy as np\n",
    "\n",
    "import matplotlib\n",
    "import matplotlib.pyplot as plt\n",
    "\n",
    "import pandas as pd"
   ]
  },
  {
   "cell_type": "code",
   "execution_count": 2,
   "metadata": {},
   "outputs": [],
   "source": [
    "plt.rc(\"figure\", figsize=[15, 3])\n",
    "matplotlib.style.use('ggplot')\n",
    "pd.set_option(\"display.max_rows\", 12)"
   ]
  },
  {
   "cell_type": "markdown",
   "metadata": {},
   "source": [
    "The loader functions will be responsible for loading query log datasets and converting them into a Pandas DataFrame with the following valid columns (only columns with data are required):\n",
    "\n",
    "- user_id\n",
    "- query\n",
    "- timestamp\n",
    "- click_rank\n",
    "- click_title\n",
    "- click_url\n",
    "- click_timestamp"
   ]
  },
  {
   "cell_type": "markdown",
   "metadata": {
    "slideshow": {
     "slide_type": "slide"
    }
   },
   "source": [
    "## webis-smc-12\n",
    "The Webis Search Mission Corpus 2012 (Webis-SMC-12) contains 8840 entries for 127 users. Each entry includes user ID, query, timestamp, rank and domain URL for clicked results, a mission ID and a comment. Each user is preceded by a line of dashes in the text file."
   ]
  },
  {
   "cell_type": "code",
   "execution_count": 3,
   "metadata": {
    "slideshow": {
     "slide_type": "subslide"
    }
   },
   "outputs": [],
   "source": [
    "def load_webis_smc_12(path):\n",
    "    \"\"\"Load webis-smc-12.txt file into the notebook query log analysis format.\"\"\"\n",
    "   \n",
    "    def date_parser(date_str):\n",
    "        if type(date_str) is float and math.isnan(date_str):\n",
    "            return float(\"nan\")\n",
    "        else:\n",
    "            return pd.datetime.strptime(date_str, '%Y-%m-%d %H:%M:%S')\n",
    "            \n",
    "    def get_sep_row_idx():\n",
    "        sep_row_idx = []\n",
    "        \n",
    "        with open(path, \"r\") as fp:\n",
    "            line_number = 0\n",
    "            for line in fp:\n",
    "                if line.startswith(\"---\"):\n",
    "                    sep_row_idx.append(line_number)\n",
    "                line_number += 1\n",
    "        \n",
    "        return sep_row_idx\n",
    "    \n",
    "    df = pd.read_csv(\n",
    "        \"data/webis-smc-12.txt\",\n",
    "        sep=\"\\t\",\n",
    "        lineterminator=\"\\n\",\n",
    "        skiprows=get_sep_row_idx(),\n",
    "        error_bad_lines=False,\n",
    "        warn_bad_lines=False,\n",
    "        parse_dates=[\"TimeStamp\"],\n",
    "        date_parser=date_parser)\n",
    "\n",
    "    df.drop(columns=[\"MissionID\", \"Comment\"], inplace=True)\n",
    "    \n",
    "    df.rename(\n",
    "        columns={\n",
    "            \"UserID\": \"user_id\",\n",
    "            \"Query\": \"query\",\n",
    "            \"TimeStamp\": \"timestamp\",\n",
    "            \"ClickRank\": \"click_rank\",\n",
    "            \"ClickDomain\": \"click_url\"\n",
    "        },\n",
    "        inplace=True)\n",
    "\n",
    "    return df"
   ]
  },
  {
   "cell_type": "markdown",
   "metadata": {},
   "source": [
    "# Dataset loading\n",
    "\n",
    "Select one of the available dataset loading functions to begin the analysis:\n",
    "\n",
    "- load_webis_smc_12"
   ]
  },
  {
   "cell_type": "code",
   "execution_count": 4,
   "metadata": {},
   "outputs": [
    {
     "data": {
      "text/html": [
       "<div>\n",
       "<style scoped>\n",
       "    .dataframe tbody tr th:only-of-type {\n",
       "        vertical-align: middle;\n",
       "    }\n",
       "\n",
       "    .dataframe tbody tr th {\n",
       "        vertical-align: top;\n",
       "    }\n",
       "\n",
       "    .dataframe thead th {\n",
       "        text-align: right;\n",
       "    }\n",
       "</style>\n",
       "<table border=\"1\" class=\"dataframe\">\n",
       "  <thead>\n",
       "    <tr style=\"text-align: right;\">\n",
       "      <th></th>\n",
       "      <th>user_id</th>\n",
       "      <th>query</th>\n",
       "      <th>timestamp</th>\n",
       "      <th>click_rank</th>\n",
       "      <th>click_url</th>\n",
       "    </tr>\n",
       "  </thead>\n",
       "  <tbody>\n",
       "    <tr>\n",
       "      <th>0</th>\n",
       "      <td>38534</td>\n",
       "      <td>maryland state police</td>\n",
       "      <td>2006-03-01 23:48:15</td>\n",
       "      <td>1.0</td>\n",
       "      <td>http://www.mdsp.org</td>\n",
       "    </tr>\n",
       "    <tr>\n",
       "      <th>1</th>\n",
       "      <td>38534</td>\n",
       "      <td>harford county sheriff</td>\n",
       "      <td>2006-03-01 23:55:13</td>\n",
       "      <td>1.0</td>\n",
       "      <td>http://www.harfordsheriff.org</td>\n",
       "    </tr>\n",
       "    <tr>\n",
       "      <th>2</th>\n",
       "      <td>38534</td>\n",
       "      <td>aberdeen police department in maryland</td>\n",
       "      <td>2006-03-01 23:59:35</td>\n",
       "      <td>2.0</td>\n",
       "      <td>http://www.aberdeen-md.org</td>\n",
       "    </tr>\n",
       "    <tr>\n",
       "      <th>3</th>\n",
       "      <td>38534</td>\n",
       "      <td>aberdeen police department in maryland</td>\n",
       "      <td>2006-03-01 23:59:35</td>\n",
       "      <td>1.0</td>\n",
       "      <td>http://www.aberdeen-md.org</td>\n",
       "    </tr>\n",
       "    <tr>\n",
       "      <th>4</th>\n",
       "      <td>38534</td>\n",
       "      <td>goody</td>\n",
       "      <td>2006-03-20 16:19:46</td>\n",
       "      <td>NaN</td>\n",
       "      <td>NaN</td>\n",
       "    </tr>\n",
       "    <tr>\n",
       "      <th>5</th>\n",
       "      <td>38534</td>\n",
       "      <td>goody</td>\n",
       "      <td>2006-03-20 16:19:47</td>\n",
       "      <td>NaN</td>\n",
       "      <td>NaN</td>\n",
       "    </tr>\n",
       "    <tr>\n",
       "      <th>...</th>\n",
       "      <td>...</td>\n",
       "      <td>...</td>\n",
       "      <td>...</td>\n",
       "      <td>...</td>\n",
       "      <td>...</td>\n",
       "    </tr>\n",
       "    <tr>\n",
       "      <th>8832</th>\n",
       "      <td>24797984</td>\n",
       "      <td>fw signs from god</td>\n",
       "      <td>2006-05-29 15:42:52</td>\n",
       "      <td>NaN</td>\n",
       "      <td>NaN</td>\n",
       "    </tr>\n",
       "    <tr>\n",
       "      <th>8833</th>\n",
       "      <td>24797984</td>\n",
       "      <td>fw signs from god</td>\n",
       "      <td>2006-05-29 15:43:41</td>\n",
       "      <td>NaN</td>\n",
       "      <td>NaN</td>\n",
       "    </tr>\n",
       "    <tr>\n",
       "      <th>8834</th>\n",
       "      <td>24797984</td>\n",
       "      <td>fw signs from god</td>\n",
       "      <td>2006-05-29 15:43:49</td>\n",
       "      <td>NaN</td>\n",
       "      <td>NaN</td>\n",
       "    </tr>\n",
       "    <tr>\n",
       "      <th>8835</th>\n",
       "      <td>24797984</td>\n",
       "      <td>fw signs from god</td>\n",
       "      <td>2006-05-29 15:44:27</td>\n",
       "      <td>NaN</td>\n",
       "      <td>NaN</td>\n",
       "    </tr>\n",
       "    <tr>\n",
       "      <th>8836</th>\n",
       "      <td>24797984</td>\n",
       "      <td>fw signs from god</td>\n",
       "      <td>2006-05-29 15:44:31</td>\n",
       "      <td>NaN</td>\n",
       "      <td>NaN</td>\n",
       "    </tr>\n",
       "    <tr>\n",
       "      <th>8837</th>\n",
       "      <td>24797984</td>\n",
       "      <td>fw signs from god</td>\n",
       "      <td>2006-05-29 15:44:38</td>\n",
       "      <td>NaN</td>\n",
       "      <td>NaN</td>\n",
       "    </tr>\n",
       "  </tbody>\n",
       "</table>\n",
       "<p>8838 rows × 5 columns</p>\n",
       "</div>"
      ],
      "text/plain": [
       "       user_id                                   query           timestamp  \\\n",
       "0        38534                   maryland state police 2006-03-01 23:48:15   \n",
       "1        38534                  harford county sheriff 2006-03-01 23:55:13   \n",
       "2        38534  aberdeen police department in maryland 2006-03-01 23:59:35   \n",
       "3        38534  aberdeen police department in maryland 2006-03-01 23:59:35   \n",
       "4        38534                                   goody 2006-03-20 16:19:46   \n",
       "5        38534                                   goody 2006-03-20 16:19:47   \n",
       "...        ...                                     ...                 ...   \n",
       "8832  24797984                       fw signs from god 2006-05-29 15:42:52   \n",
       "8833  24797984                       fw signs from god 2006-05-29 15:43:41   \n",
       "8834  24797984                       fw signs from god 2006-05-29 15:43:49   \n",
       "8835  24797984                       fw signs from god 2006-05-29 15:44:27   \n",
       "8836  24797984                       fw signs from god 2006-05-29 15:44:31   \n",
       "8837  24797984                       fw signs from god 2006-05-29 15:44:38   \n",
       "\n",
       "      click_rank                      click_url  \n",
       "0            1.0            http://www.mdsp.org  \n",
       "1            1.0  http://www.harfordsheriff.org  \n",
       "2            2.0     http://www.aberdeen-md.org  \n",
       "3            1.0     http://www.aberdeen-md.org  \n",
       "4            NaN                            NaN  \n",
       "5            NaN                            NaN  \n",
       "...          ...                            ...  \n",
       "8832         NaN                            NaN  \n",
       "8833         NaN                            NaN  \n",
       "8834         NaN                            NaN  \n",
       "8835         NaN                            NaN  \n",
       "8836         NaN                            NaN  \n",
       "8837         NaN                            NaN  \n",
       "\n",
       "[8838 rows x 5 columns]"
      ]
     },
     "execution_count": 4,
     "metadata": {},
     "output_type": "execute_result"
    }
   ],
   "source": [
    "qlog = load_webis_smc_12(\"data/webis-smc-12.txt\"); qlog"
   ]
  },
  {
   "cell_type": "markdown",
   "metadata": {},
   "source": [
    "# Query-level analysis\n",
    "\n",
    "- Number of queries\n",
    "- Number of distinct queries\n",
    "- Distribution of number of queries per user\n",
    "- Distribution of queries over time\n",
    " - Per day\n",
    " - For 24h-cycles\n",
    " - For weekday-cycles\n",
    " - For monthly-cycles"
   ]
  },
  {
   "cell_type": "markdown",
   "metadata": {},
   "source": [
    "### Total number of queries and distinct queries"
   ]
  },
  {
   "cell_type": "code",
   "execution_count": 5,
   "metadata": {},
   "outputs": [
    {
     "data": {
      "text/html": [
       "<div>\n",
       "<style scoped>\n",
       "    .dataframe tbody tr th:only-of-type {\n",
       "        vertical-align: middle;\n",
       "    }\n",
       "\n",
       "    .dataframe tbody tr th {\n",
       "        vertical-align: top;\n",
       "    }\n",
       "\n",
       "    .dataframe thead th {\n",
       "        text-align: right;\n",
       "    }\n",
       "</style>\n",
       "<table border=\"1\" class=\"dataframe\">\n",
       "  <thead>\n",
       "    <tr style=\"text-align: right;\">\n",
       "      <th></th>\n",
       "      <th>value</th>\n",
       "    </tr>\n",
       "  </thead>\n",
       "  <tbody>\n",
       "    <tr>\n",
       "      <th>num_queries</th>\n",
       "      <td>8838</td>\n",
       "    </tr>\n",
       "    <tr>\n",
       "      <th>num_distinct_queries</th>\n",
       "      <td>3736</td>\n",
       "    </tr>\n",
       "  </tbody>\n",
       "</table>\n",
       "</div>"
      ],
      "text/plain": [
       "                      value\n",
       "num_queries            8838\n",
       "num_distinct_queries   3736"
      ]
     },
     "execution_count": 5,
     "metadata": {},
     "output_type": "execute_result"
    }
   ],
   "source": [
    "qlevel_stats = pd.DataFrame(\n",
    "    [qlog.shape[0], len(qlog[\"query\"].unique())],\n",
    "    columns=[\"value\"],\n",
    "    index=[\"num_queries\", \"num_distinct_queries\"])\n",
    "qlevel_stats"
   ]
  },
  {
   "cell_type": "markdown",
   "metadata": {},
   "source": [
    "### Distribution of number of queries per user"
   ]
  },
  {
   "cell_type": "code",
   "execution_count": 6,
   "metadata": {},
   "outputs": [
    {
     "data": {
      "image/png": "[encoded data removed]",
      "text/plain": [
       "<Figure size 1080x216 with 1 Axes>"
      ]
     },
     "metadata": {},
     "output_type": "display_data"
    }
   ],
   "source": [
    "queries_per_user = qlog[[\"user_id\", \"query\"]] \\\n",
    "    .groupby([\"user_id\"]) \\\n",
    "    .count()\n",
    "\n",
    "d_min = queries_per_user[\"query\"].min()\n",
    "d_max = queries_per_user[\"query\"].max()\n",
    "bin_width = 25\n",
    "\n",
    "queries_per_user.plot(kind=\"hist\", bins=range(d_min, d_max+bin_width, bin_width), rwidth=.95, legend=False)\n",
    "plt.xlabel(\"Number of Queries\")\n",
    "plt.ylabel(\"Number of Users\")\n",
    "plt.show()"
   ]
  },
  {
   "cell_type": "markdown",
   "metadata": {},
   "source": [
    "### Distribution of queries over time"
   ]
  },
  {
   "cell_type": "code",
   "execution_count": 7,
   "metadata": {},
   "outputs": [
    {
     "data": {
      "image/png": "[encoded data removed]",
      "text/plain": [
       "<Figure size 1080x216 with 1 Axes>"
      ]
     },
     "metadata": {},
     "output_type": "display_data"
    }
   ],
   "source": [
    "qlog[\"date\"] = qlog[\"timestamp\"].map(lambda t: t.date())\n",
    "\n",
    "qlog \\\n",
    "    .groupby([\"date\"]) \\\n",
    "    .size() \\\n",
    "    .plot()\n",
    "plt.xlabel(\"Date\")\n",
    "plt.ylabel(\"Number of Queries\")\n",
    "plt.show()"
   ]
  },
  {
   "cell_type": "code",
   "execution_count": 8,
   "metadata": {},
   "outputs": [
    {
     "data": {
      "image/png": "[encoded data removed]",
      "text/plain": [
       "<Figure size 1080x216 with 1 Axes>"
      ]
     },
     "metadata": {},
     "output_type": "display_data"
    }
   ],
   "source": [
    "qlog[\"timestamp\"].map(lambda t: t.hour) \\\n",
    "    .plot(kind=\"hist\", bins=23, rwidth=.95)\n",
    "plt.xticks(range(0, 24, 2), labels=[\"{0}h\".format(h) for h in range(0, 24, 2)])\n",
    "plt.xlabel(\"Hours of Day\")\n",
    "plt.ylabel(\"Number of Queries\")\n",
    "plt.show()"
   ]
  },
  {
   "cell_type": "code",
   "execution_count": 9,
   "metadata": {},
   "outputs": [
    {
     "data": {
      "image/png": "[encoded data removed]",
      "text/plain": [
       "<Figure size 1080x216 with 1 Axes>"
      ]
     },
     "metadata": {},
     "output_type": "display_data"
    }
   ],
   "source": [
    "weekdays=[\"Mon\", \"Tue\", \"Wed\", \"Thu\", \"Fri\", \"Sat\", \"Sun\"]\n",
    "\n",
    "qlog[\"weekday\"] = qlog[\"timestamp\"].map(lambda t: t.weekday())\n",
    "\n",
    "qlog \\\n",
    "    .groupby([\"weekday\"]) \\\n",
    "    .size() \\\n",
    "    .plot(kind=\"bar\")\n",
    "\n",
    "plt.xticks(range(len(weekdays)), labels=weekdays, rotation=0)\n",
    "plt.xlabel(\"Weekdays\")\n",
    "plt.ylabel(\"Number of Queries\")\n",
    "plt.show()"
   ]
  },
  {
   "cell_type": "code",
   "execution_count": 10,
   "metadata": {},
   "outputs": [
    {
     "data": {
      "image/png": "[encoded data removed]",
      "text/plain": [
       "<Figure size 1080x216 with 1 Axes>"
      ]
     },
     "metadata": {},
     "output_type": "display_data"
    }
   ],
   "source": [
    "months = [\"Jan\", \"Feb\", \"Mar\", \"Apr\", \"May\", \"Jun\", \"Jul\", \"Aug\", \"Sep\", \"Oct\", \"Nov\", \"Dec\"]\n",
    "qlog[\"month\"] = qlog[\"timestamp\"].map(lambda t: t.month)\n",
    "\n",
    "queries_per_month = qlog \\\n",
    "    .groupby([\"month\"]) \\\n",
    "    .size() \\\n",
    "\n",
    "queries_per_month \\\n",
    "    .plot(kind=\"bar\")\n",
    "\n",
    "plt.xticks(\n",
    "    range(queries_per_month.shape[0]),\n",
    "    labels=months[(min(queries_per_month.index)-1):max(queries_per_month.index)],\n",
    "    rotation=0)\n",
    "plt.xlabel(\"Month\")\n",
    "plt.ylabel(\"Number of Queries\")\n",
    "plt.show()"
   ]
  },
  {
   "cell_type": "markdown",
   "metadata": {},
   "source": [
    "# Topic-level analysis"
   ]
  },
  {
   "cell_type": "code",
   "execution_count": 11,
   "metadata": {},
   "outputs": [],
   "source": [
    "#qlog[\"topic\"] = \"topics\""
   ]
  },
  {
   "cell_type": "markdown",
   "metadata": {},
   "source": [
    "# Session-level analysis"
   ]
  },
  {
   "cell_type": "code",
   "execution_count": 12,
   "metadata": {},
   "outputs": [],
   "source": [
    "#qlog[\"session_id\"] = \"sessions\" # use, if exists, or compute based on 30 min dead intervals for a user"
   ]
  },
  {
   "cell_type": "markdown",
   "metadata": {},
   "source": [
    "# Term-level analysis"
   ]
  },
  {
   "cell_type": "code",
   "execution_count": null,
   "metadata": {},
   "outputs": [],
   "source": [
    "#qlog[\"length\"] = \"query_chars\"\n",
    "#qlog[\"num_words\"] = \"query_words\""
   ]
  },
  {
   "cell_type": "markdown",
   "metadata": {},
   "source": [
    "# Entity-level analysis"
   ]
  },
  {
   "cell_type": "markdown",
   "metadata": {},
   "source": [
    "We identified entities taking advantage of the `AhoCorasickEntityExtractor` class available in [Army ANT](https://github.com/feup-infolab/army-ant). We copied [aho_corasick_entity_extractor.py](../../edit/query_log_analysis/aho_corasick_entity_extractor.py) to the notebook workspace and edited it to be usable as a standalone dependency. We then used the English DBpedia names for entities with the class `dbo:Person`, `dbo:Organisation` and `dbp:Place` as the dictionary."
   ]
  },
  {
   "cell_type": "code",
   "execution_count": 66,
   "metadata": {},
   "outputs": [],
   "source": [
    "from aho_corasick_entity_extractor import AhoCorasickEntityExtractor\n",
    "ac = {\n",
    "    \"person\": AhoCorasickEntityExtractor(list_path=\"data/en_dbpedia_person.txt\"),\n",
    "    \"organization\": AhoCorasickEntityExtractor(list_path=\"data/en_dbpedia_organization.txt\"),\n",
    "    \"place\": AhoCorasickEntityExtractor(list_path=\"data/en_dbpedia_place.txt\")\n",
    "}"
   ]
  },
  {
   "cell_type": "code",
   "execution_count": 77,
   "metadata": {},
   "outputs": [
    {
     "ename": "ValueError",
     "evalue": "Cannot merge a Series without a name",
     "output_type": "error",
     "traceback": [
      "\u001b[0;31m---------------------------------------------------------------------------\u001b[0m",
      "\u001b[0;31mValueError\u001b[0m                                Traceback (most recent call last)",
      "\u001b[0;32m<ipython-input-77-e590e9955e16>\u001b[0m in \u001b[0;36m<module>\u001b[0;34m()\u001b[0m\n\u001b[1;32m     18\u001b[0m }\n\u001b[1;32m     19\u001b[0m \u001b[0;34m\u001b[0m\u001b[0m\n\u001b[0;32m---> 20\u001b[0;31m \u001b[0mqlog_entities\u001b[0m \u001b[0;34m=\u001b[0m \u001b[0mreduce\u001b[0m\u001b[0;34m(\u001b[0m\u001b[0;32mlambda\u001b[0m \u001b[0mleft\u001b[0m\u001b[0;34m,\u001b[0m \u001b[0mright\u001b[0m\u001b[0;34m:\u001b[0m \u001b[0mpd\u001b[0m\u001b[0;34m.\u001b[0m\u001b[0mmerge\u001b[0m\u001b[0;34m(\u001b[0m\u001b[0mleft\u001b[0m\u001b[0;34m,\u001b[0m \u001b[0mright\u001b[0m\u001b[0;34m,\u001b[0m \u001b[0mon\u001b[0m\u001b[0;34m=\u001b[0m\u001b[0;34m[\u001b[0m\u001b[0;34m\"query\"\u001b[0m\u001b[0;34m,\u001b[0m \u001b[0;34m\"count\"\u001b[0m\u001b[0;34m]\u001b[0m\u001b[0;34m)\u001b[0m\u001b[0;34m.\u001b[0m\u001b[0mset_index\u001b[0m\u001b[0;34m(\u001b[0m\u001b[0;34m[\u001b[0m\u001b[0;34m\"query\"\u001b[0m\u001b[0;34m,\u001b[0m \u001b[0;34m\"count\"\u001b[0m\u001b[0;34m]\u001b[0m\u001b[0;34m)\u001b[0m\u001b[0;34m.\u001b[0m\u001b[0msum\u001b[0m\u001b[0;34m(\u001b[0m\u001b[0maxis\u001b[0m\u001b[0;34m=\u001b[0m\u001b[0;36m1\u001b[0m\u001b[0;34m)\u001b[0m\u001b[0;34m,\u001b[0m \u001b[0mqlog_entities_per_class\u001b[0m\u001b[0;34m.\u001b[0m\u001b[0mvalues\u001b[0m\u001b[0;34m(\u001b[0m\u001b[0;34m)\u001b[0m\u001b[0;34m)\u001b[0m\u001b[0;34m\u001b[0m\u001b[0m\n\u001b[0m\u001b[1;32m     21\u001b[0m \u001b[0mqlog_entities\u001b[0m\u001b[0;34m\u001b[0m\u001b[0m\n",
      "\u001b[0;32m<ipython-input-77-e590e9955e16>\u001b[0m in \u001b[0;36m<lambda>\u001b[0;34m(left, right)\u001b[0m\n\u001b[1;32m     18\u001b[0m }\n\u001b[1;32m     19\u001b[0m \u001b[0;34m\u001b[0m\u001b[0m\n\u001b[0;32m---> 20\u001b[0;31m \u001b[0mqlog_entities\u001b[0m \u001b[0;34m=\u001b[0m \u001b[0mreduce\u001b[0m\u001b[0;34m(\u001b[0m\u001b[0;32mlambda\u001b[0m \u001b[0mleft\u001b[0m\u001b[0;34m,\u001b[0m \u001b[0mright\u001b[0m\u001b[0;34m:\u001b[0m \u001b[0mpd\u001b[0m\u001b[0;34m.\u001b[0m\u001b[0mmerge\u001b[0m\u001b[0;34m(\u001b[0m\u001b[0mleft\u001b[0m\u001b[0;34m,\u001b[0m \u001b[0mright\u001b[0m\u001b[0;34m,\u001b[0m \u001b[0mon\u001b[0m\u001b[0;34m=\u001b[0m\u001b[0;34m[\u001b[0m\u001b[0;34m\"query\"\u001b[0m\u001b[0;34m,\u001b[0m \u001b[0;34m\"count\"\u001b[0m\u001b[0;34m]\u001b[0m\u001b[0;34m)\u001b[0m\u001b[0;34m.\u001b[0m\u001b[0mset_index\u001b[0m\u001b[0;34m(\u001b[0m\u001b[0;34m[\u001b[0m\u001b[0;34m\"query\"\u001b[0m\u001b[0;34m,\u001b[0m \u001b[0;34m\"count\"\u001b[0m\u001b[0;34m]\u001b[0m\u001b[0;34m)\u001b[0m\u001b[0;34m.\u001b[0m\u001b[0msum\u001b[0m\u001b[0;34m(\u001b[0m\u001b[0maxis\u001b[0m\u001b[0;34m=\u001b[0m\u001b[0;36m1\u001b[0m\u001b[0;34m)\u001b[0m\u001b[0;34m,\u001b[0m \u001b[0mqlog_entities_per_class\u001b[0m\u001b[0;34m.\u001b[0m\u001b[0mvalues\u001b[0m\u001b[0;34m(\u001b[0m\u001b[0;34m)\u001b[0m\u001b[0;34m)\u001b[0m\u001b[0;34m\u001b[0m\u001b[0m\n\u001b[0m\u001b[1;32m     21\u001b[0m \u001b[0mqlog_entities\u001b[0m\u001b[0;34m\u001b[0m\u001b[0m\n",
      "\u001b[0;32m~/.pyenv/versions/3.6.3/lib/python3.6/site-packages/pandas/core/reshape/merge.py\u001b[0m in \u001b[0;36mmerge\u001b[0;34m(left, right, how, on, left_on, right_on, left_index, right_index, sort, suffixes, copy, indicator, validate)\u001b[0m\n\u001b[1;32m     45\u001b[0m                          \u001b[0mright_index\u001b[0m\u001b[0;34m=\u001b[0m\u001b[0mright_index\u001b[0m\u001b[0;34m,\u001b[0m \u001b[0msort\u001b[0m\u001b[0;34m=\u001b[0m\u001b[0msort\u001b[0m\u001b[0;34m,\u001b[0m \u001b[0msuffixes\u001b[0m\u001b[0;34m=\u001b[0m\u001b[0msuffixes\u001b[0m\u001b[0;34m,\u001b[0m\u001b[0;34m\u001b[0m\u001b[0m\n\u001b[1;32m     46\u001b[0m                          \u001b[0mcopy\u001b[0m\u001b[0;34m=\u001b[0m\u001b[0mcopy\u001b[0m\u001b[0;34m,\u001b[0m \u001b[0mindicator\u001b[0m\u001b[0;34m=\u001b[0m\u001b[0mindicator\u001b[0m\u001b[0;34m,\u001b[0m\u001b[0;34m\u001b[0m\u001b[0m\n\u001b[0;32m---> 47\u001b[0;31m                          validate=validate)\n\u001b[0m\u001b[1;32m     48\u001b[0m     \u001b[0;32mreturn\u001b[0m \u001b[0mop\u001b[0m\u001b[0;34m.\u001b[0m\u001b[0mget_result\u001b[0m\u001b[0;34m(\u001b[0m\u001b[0;34m)\u001b[0m\u001b[0;34m\u001b[0m\u001b[0m\n\u001b[1;32m     49\u001b[0m \u001b[0;34m\u001b[0m\u001b[0m\n",
      "\u001b[0;32m~/.pyenv/versions/3.6.3/lib/python3.6/site-packages/pandas/core/reshape/merge.py\u001b[0m in \u001b[0;36m__init__\u001b[0;34m(self, left, right, how, on, left_on, right_on, axis, left_index, right_index, sort, suffixes, copy, indicator, validate)\u001b[0m\n\u001b[1;32m    477\u001b[0m                  \u001b[0msuffixes\u001b[0m\u001b[0;34m=\u001b[0m\u001b[0;34m(\u001b[0m\u001b[0;34m'_x'\u001b[0m\u001b[0;34m,\u001b[0m \u001b[0;34m'_y'\u001b[0m\u001b[0;34m)\u001b[0m\u001b[0;34m,\u001b[0m \u001b[0mcopy\u001b[0m\u001b[0;34m=\u001b[0m\u001b[0;32mTrue\u001b[0m\u001b[0;34m,\u001b[0m \u001b[0mindicator\u001b[0m\u001b[0;34m=\u001b[0m\u001b[0;32mFalse\u001b[0m\u001b[0;34m,\u001b[0m\u001b[0;34m\u001b[0m\u001b[0m\n\u001b[1;32m    478\u001b[0m                  validate=None):\n\u001b[0;32m--> 479\u001b[0;31m         \u001b[0mleft\u001b[0m \u001b[0;34m=\u001b[0m \u001b[0mvalidate_operand\u001b[0m\u001b[0;34m(\u001b[0m\u001b[0mleft\u001b[0m\u001b[0;34m)\u001b[0m\u001b[0;34m\u001b[0m\u001b[0m\n\u001b[0m\u001b[1;32m    480\u001b[0m         \u001b[0mright\u001b[0m \u001b[0;34m=\u001b[0m \u001b[0mvalidate_operand\u001b[0m\u001b[0;34m(\u001b[0m\u001b[0mright\u001b[0m\u001b[0;34m)\u001b[0m\u001b[0;34m\u001b[0m\u001b[0m\n\u001b[1;32m    481\u001b[0m         \u001b[0mself\u001b[0m\u001b[0;34m.\u001b[0m\u001b[0mleft\u001b[0m \u001b[0;34m=\u001b[0m \u001b[0mself\u001b[0m\u001b[0;34m.\u001b[0m\u001b[0morig_left\u001b[0m \u001b[0;34m=\u001b[0m \u001b[0mleft\u001b[0m\u001b[0;34m\u001b[0m\u001b[0m\n",
      "\u001b[0;32m~/.pyenv/versions/3.6.3/lib/python3.6/site-packages/pandas/core/reshape/merge.py\u001b[0m in \u001b[0;36mvalidate_operand\u001b[0;34m(obj)\u001b[0m\n\u001b[1;32m   1745\u001b[0m     \u001b[0;32melif\u001b[0m \u001b[0misinstance\u001b[0m\u001b[0;34m(\u001b[0m\u001b[0mobj\u001b[0m\u001b[0;34m,\u001b[0m \u001b[0mSeries\u001b[0m\u001b[0;34m)\u001b[0m\u001b[0;34m:\u001b[0m\u001b[0;34m\u001b[0m\u001b[0m\n\u001b[1;32m   1746\u001b[0m         \u001b[0;32mif\u001b[0m \u001b[0mobj\u001b[0m\u001b[0;34m.\u001b[0m\u001b[0mname\u001b[0m \u001b[0;32mis\u001b[0m \u001b[0;32mNone\u001b[0m\u001b[0;34m:\u001b[0m\u001b[0;34m\u001b[0m\u001b[0m\n\u001b[0;32m-> 1747\u001b[0;31m             \u001b[0;32mraise\u001b[0m \u001b[0mValueError\u001b[0m\u001b[0;34m(\u001b[0m\u001b[0;34m'Cannot merge a Series without a name'\u001b[0m\u001b[0;34m)\u001b[0m\u001b[0;34m\u001b[0m\u001b[0m\n\u001b[0m\u001b[1;32m   1748\u001b[0m         \u001b[0;32melse\u001b[0m\u001b[0;34m:\u001b[0m\u001b[0;34m\u001b[0m\u001b[0m\n\u001b[1;32m   1749\u001b[0m             \u001b[0;32mreturn\u001b[0m \u001b[0mobj\u001b[0m\u001b[0;34m.\u001b[0m\u001b[0mto_frame\u001b[0m\u001b[0;34m(\u001b[0m\u001b[0;34m)\u001b[0m\u001b[0;34m\u001b[0m\u001b[0m\n",
      "\u001b[0;31mValueError\u001b[0m: Cannot merge a Series without a name"
     ]
    }
   ],
   "source": [
    "from collections import OrderedDict\n",
    "from functools import reduce\n",
    "\n",
    "qentities = {k: OrderedDict({}) for k in ac.keys()}\n",
    "\n",
    "for query in qlog[\"query\"]:\n",
    "    for d_class in ac.keys():        \n",
    "        for entity in ac[d_class].extract(query):\n",
    "            if not entity in qentities[d_class]:\n",
    "                qentities[d_class][entity] = 1\n",
    "            else:\n",
    "                qentities[d_class][entity] += 1\n",
    "\n",
    "qlog_entities_per_class = {\n",
    "    k: pd.DataFrame({ \"query\": list(qentities[k].keys()), \"count\": list(qentities[k].values()) }) \\\n",
    "        .sort_values(by=[\"count\"], ascending=False)\n",
    "    for k in ac.keys()\n",
    "}\n",
    "\n",
    "#qlog_entities = reduce(lambda left, right: pd.merge(left, right, on=[\"query\", \"count\"]).set_index([\"query\", \"count\"]).sum(axis=1), qlog_entities_per_class.values())\n",
    "#qlog_entities"
   ]
  },
  {
   "cell_type": "code",
   "execution_count": 62,
   "metadata": {},
   "outputs": [
    {
     "data": {
      "image/png": "[encoded data removed]",
      "text/plain": [
       "<Figure size 360x504 with 1 Axes>"
      ]
     },
     "metadata": {},
     "output_type": "display_data"
    }
   ],
   "source": [
    "plt.rc(\"figure\", figsize=[5, 7])\n",
    "\n",
    "ax = qentities.head(30).plot(kind=\"barh\", x=\"query\", y=\"count\", legend=False)\n",
    "plt.xlabel(\"Frequency\")\n",
    "plt.ylabel(\"Query\")\n",
    "plt.gca().invert_yaxis()\n",
    "plt.show()\n",
    "\n",
    "plt.rc(\"figure\", figsize=[15, 3])"
   ]
  },
  {
   "cell_type": "markdown",
   "metadata": {},
   "source": [
    "## Entity-query-level analysis"
   ]
  },
  {
   "cell_type": "code",
   "execution_count": null,
   "metadata": {},
   "outputs": [],
   "source": []
  },
  {
   "cell_type": "markdown",
   "metadata": {},
   "source": [
    "## Entity-topic-level analysis"
   ]
  },
  {
   "cell_type": "code",
   "execution_count": null,
   "metadata": {},
   "outputs": [],
   "source": []
  },
  {
   "cell_type": "markdown",
   "metadata": {},
   "source": [
    "## Entity-session-level analysis"
   ]
  },
  {
   "cell_type": "code",
   "execution_count": null,
   "metadata": {},
   "outputs": [],
   "source": []
  },
  {
   "cell_type": "markdown",
   "metadata": {},
   "source": [
    "## Entity-term-level analysis"
   ]
  },
  {
   "cell_type": "code",
   "execution_count": null,
   "metadata": {},
   "outputs": [],
   "source": []
  },
  {
   "cell_type": "markdown",
   "metadata": {},
   "source": [
    "## Entity-entity-level analysis"
   ]
  },
  {
   "cell_type": "code",
   "execution_count": null,
   "metadata": {},
   "outputs": [],
   "source": []
  }
 ],
 "metadata": {
  "kernelspec": {
   "display_name": "Python 3",
   "language": "python",
   "name": "python3"
  },
  "language_info": {
   "codemirror_mode": {
    "name": "ipython",
    "version": 3
   },
   "file_extension": ".py",
   "mimetype": "text/x-python",
   "name": "python",
   "nbconvert_exporter": "python",
   "pygments_lexer": "ipython3",
   "version": "3.6.3"
  }
 },
 "nbformat": 4,
 "nbformat_minor": 2
}
