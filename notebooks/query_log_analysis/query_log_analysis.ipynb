{
 "cells": [
  {
   "cell_type": "markdown",
   "metadata": {
    "slideshow": {
     "slide_type": "slide"
    }
   },
   "source": [
    "# Query Log Analysis\n",
    "\n",
    "The goal of this notebook is to serve as a way to quickly analyze a query log, based on the following aspects:\n",
    "\n",
    "- Query-level\n",
    "- Topic-level\n",
    "- Session-level\n",
    "- Term-level\n",
    "- Entity-level\n",
    "\n",
    "Our main focus is on understanding how people search, in order to improve entity-oriented search, thus we will tackle these aspects always around the entities."
   ]
  },
  {
   "cell_type": "markdown",
   "metadata": {
    "slideshow": {
     "slide_type": "slide"
    }
   },
   "source": [
    "# Datasets\n",
    "\n",
    "While we take advantage of the Wikipedia query log for this analysis, we use an intermediate structure, so that you can convert your own query log into our format and analyze it. We begin by applying the analysis to the webis-smc-12 dataset, only then adapting the notebook for the Wikipedia query log."
   ]
  },
  {
   "cell_type": "code",
   "execution_count": 1,
   "metadata": {
    "slideshow": {
     "slide_type": "subslide"
    }
   },
   "outputs": [],
   "source": [
    "import math\n",
    "import numpy as np\n",
    "\n",
    "import matplotlib\n",
    "import matplotlib.pyplot as plt\n",
    "\n",
    "import pandas as pd"
   ]
  },
  {
   "cell_type": "code",
   "execution_count": 2,
   "metadata": {},
   "outputs": [],
   "source": [
    "DEFAULT_FIGSIZE = [15, 3]\n",
    "\n",
    "plt.rc('figure', figsize=DEFAULT_FIGSIZE)\n",
    "matplotlib.style.use('ggplot')\n",
    "pd.set_option('display.max_rows', 12)"
   ]
  },
  {
   "cell_type": "markdown",
   "metadata": {},
   "source": [
    "The loader functions will be responsible for loading query log datasets and converting them into a Pandas DataFrame with the following valid columns (only columns with data are required):\n",
    "\n",
    "- user_id\n",
    "- query\n",
    "- timestamp\n",
    "- click_rank\n",
    "- click_title\n",
    "- click_url\n",
    "- click_timestamp"
   ]
  },
  {
   "cell_type": "markdown",
   "metadata": {
    "slideshow": {
     "slide_type": "slide"
    }
   },
   "source": [
    "## webis-smc-12\n",
    "The Webis Search Mission Corpus 2012 (Webis-SMC-12) contains 8840 entries for 127 users. Each entry includes user ID, query, timestamp, rank and domain URL for clicked results, a mission ID and a comment. Each user is preceded by a line of dashes in the text file."
   ]
  },
  {
   "cell_type": "code",
   "execution_count": 3,
   "metadata": {
    "slideshow": {
     "slide_type": "subslide"
    }
   },
   "outputs": [],
   "source": [
    "def load_webis_smc_12(path):\n",
    "    \"\"\"Load webis-smc-12.txt file into the notebook query log analysis format.\"\"\"\n",
    "   \n",
    "    def date_parser(date_str):\n",
    "        if type(date_str) is float and math.isnan(date_str):\n",
    "            return np.nan\n",
    "        else:\n",
    "            return pd.datetime.strptime(date_str, '%Y-%m-%d %H:%M:%S')\n",
    "            \n",
    "    def get_sep_row_idx():\n",
    "        sep_row_idx = []\n",
    "        \n",
    "        with open(path, \"r\") as fp:\n",
    "            line_number = 0\n",
    "            for line in fp:\n",
    "                if line.startswith(\"---\"):\n",
    "                    sep_row_idx.append(line_number)\n",
    "                line_number += 1\n",
    "        \n",
    "        return sep_row_idx\n",
    "    \n",
    "    df = pd.read_csv(\n",
    "        'data/webis-smc-12.txt',\n",
    "        sep='\\t',\n",
    "        lineterminator='\\n',\n",
    "        skiprows=get_sep_row_idx(),\n",
    "        error_bad_lines=False,\n",
    "        warn_bad_lines=False,\n",
    "        parse_dates=['TimeStamp'],\n",
    "        date_parser=date_parser)\n",
    "\n",
    "    df.drop(columns=['MissionID', 'Comment'], inplace=True)\n",
    "    \n",
    "    df.rename(\n",
    "        columns={\n",
    "            'UserID': 'user_id',\n",
    "            'Query': 'query',\n",
    "            'TimeStamp': 'timestamp',\n",
    "            'ClickRank': 'click_rank',\n",
    "            'ClickDomain': 'click_url'\n",
    "        },\n",
    "        inplace=True)\n",
    "    \n",
    "    df.click_rank = df.click_rank.astype(pd.Int64Dtype())\n",
    "\n",
    "    return df"
   ]
  },
  {
   "cell_type": "markdown",
   "metadata": {},
   "source": [
    "# Dataset loading\n",
    "\n",
    "Select one of the available dataset loading functions to begin the analysis:\n",
    "\n",
    "- load_webis_smc_12"
   ]
  },
  {
   "cell_type": "code",
   "execution_count": 4,
   "metadata": {},
   "outputs": [
    {
     "data": {
      "text/html": [
       "<div>\n",
       "<style scoped>\n",
       "    .dataframe tbody tr th:only-of-type {\n",
       "        vertical-align: middle;\n",
       "    }\n",
       "\n",
       "    .dataframe tbody tr th {\n",
       "        vertical-align: top;\n",
       "    }\n",
       "\n",
       "    .dataframe thead th {\n",
       "        text-align: right;\n",
       "    }\n",
       "</style>\n",
       "<table border=\"1\" class=\"dataframe\">\n",
       "  <thead>\n",
       "    <tr style=\"text-align: right;\">\n",
       "      <th></th>\n",
       "      <th>user_id</th>\n",
       "      <th>query</th>\n",
       "      <th>timestamp</th>\n",
       "      <th>click_rank</th>\n",
       "      <th>click_url</th>\n",
       "    </tr>\n",
       "  </thead>\n",
       "  <tbody>\n",
       "    <tr>\n",
       "      <th>0</th>\n",
       "      <td>38534</td>\n",
       "      <td>maryland state police</td>\n",
       "      <td>2006-03-01 23:48:15</td>\n",
       "      <td>1</td>\n",
       "      <td>http://www.mdsp.org</td>\n",
       "    </tr>\n",
       "    <tr>\n",
       "      <th>1</th>\n",
       "      <td>38534</td>\n",
       "      <td>harford county sheriff</td>\n",
       "      <td>2006-03-01 23:55:13</td>\n",
       "      <td>1</td>\n",
       "      <td>http://www.harfordsheriff.org</td>\n",
       "    </tr>\n",
       "    <tr>\n",
       "      <th>2</th>\n",
       "      <td>38534</td>\n",
       "      <td>aberdeen police department in maryland</td>\n",
       "      <td>2006-03-01 23:59:35</td>\n",
       "      <td>2</td>\n",
       "      <td>http://www.aberdeen-md.org</td>\n",
       "    </tr>\n",
       "    <tr>\n",
       "      <th>3</th>\n",
       "      <td>38534</td>\n",
       "      <td>aberdeen police department in maryland</td>\n",
       "      <td>2006-03-01 23:59:35</td>\n",
       "      <td>1</td>\n",
       "      <td>http://www.aberdeen-md.org</td>\n",
       "    </tr>\n",
       "    <tr>\n",
       "      <th>4</th>\n",
       "      <td>38534</td>\n",
       "      <td>goody</td>\n",
       "      <td>2006-03-20 16:19:46</td>\n",
       "      <td>NaN</td>\n",
       "      <td>NaN</td>\n",
       "    </tr>\n",
       "    <tr>\n",
       "      <th>5</th>\n",
       "      <td>38534</td>\n",
       "      <td>goody</td>\n",
       "      <td>2006-03-20 16:19:47</td>\n",
       "      <td>NaN</td>\n",
       "      <td>NaN</td>\n",
       "    </tr>\n",
       "    <tr>\n",
       "      <th>...</th>\n",
       "      <td>...</td>\n",
       "      <td>...</td>\n",
       "      <td>...</td>\n",
       "      <td>...</td>\n",
       "      <td>...</td>\n",
       "    </tr>\n",
       "    <tr>\n",
       "      <th>8832</th>\n",
       "      <td>24797984</td>\n",
       "      <td>fw signs from god</td>\n",
       "      <td>2006-05-29 15:42:52</td>\n",
       "      <td>NaN</td>\n",
       "      <td>NaN</td>\n",
       "    </tr>\n",
       "    <tr>\n",
       "      <th>8833</th>\n",
       "      <td>24797984</td>\n",
       "      <td>fw signs from god</td>\n",
       "      <td>2006-05-29 15:43:41</td>\n",
       "      <td>NaN</td>\n",
       "      <td>NaN</td>\n",
       "    </tr>\n",
       "    <tr>\n",
       "      <th>8834</th>\n",
       "      <td>24797984</td>\n",
       "      <td>fw signs from god</td>\n",
       "      <td>2006-05-29 15:43:49</td>\n",
       "      <td>NaN</td>\n",
       "      <td>NaN</td>\n",
       "    </tr>\n",
       "    <tr>\n",
       "      <th>8835</th>\n",
       "      <td>24797984</td>\n",
       "      <td>fw signs from god</td>\n",
       "      <td>2006-05-29 15:44:27</td>\n",
       "      <td>NaN</td>\n",
       "      <td>NaN</td>\n",
       "    </tr>\n",
       "    <tr>\n",
       "      <th>8836</th>\n",
       "      <td>24797984</td>\n",
       "      <td>fw signs from god</td>\n",
       "      <td>2006-05-29 15:44:31</td>\n",
       "      <td>NaN</td>\n",
       "      <td>NaN</td>\n",
       "    </tr>\n",
       "    <tr>\n",
       "      <th>8837</th>\n",
       "      <td>24797984</td>\n",
       "      <td>fw signs from god</td>\n",
       "      <td>2006-05-29 15:44:38</td>\n",
       "      <td>NaN</td>\n",
       "      <td>NaN</td>\n",
       "    </tr>\n",
       "  </tbody>\n",
       "</table>\n",
       "<p>8838 rows × 5 columns</p>\n",
       "</div>"
      ],
      "text/plain": [
       "       user_id                                   query           timestamp  \\\n",
       "0        38534                   maryland state police 2006-03-01 23:48:15   \n",
       "1        38534                  harford county sheriff 2006-03-01 23:55:13   \n",
       "2        38534  aberdeen police department in maryland 2006-03-01 23:59:35   \n",
       "3        38534  aberdeen police department in maryland 2006-03-01 23:59:35   \n",
       "4        38534                                   goody 2006-03-20 16:19:46   \n",
       "5        38534                                   goody 2006-03-20 16:19:47   \n",
       "...        ...                                     ...                 ...   \n",
       "8832  24797984                       fw signs from god 2006-05-29 15:42:52   \n",
       "8833  24797984                       fw signs from god 2006-05-29 15:43:41   \n",
       "8834  24797984                       fw signs from god 2006-05-29 15:43:49   \n",
       "8835  24797984                       fw signs from god 2006-05-29 15:44:27   \n",
       "8836  24797984                       fw signs from god 2006-05-29 15:44:31   \n",
       "8837  24797984                       fw signs from god 2006-05-29 15:44:38   \n",
       "\n",
       "      click_rank                      click_url  \n",
       "0              1            http://www.mdsp.org  \n",
       "1              1  http://www.harfordsheriff.org  \n",
       "2              2     http://www.aberdeen-md.org  \n",
       "3              1     http://www.aberdeen-md.org  \n",
       "4            NaN                            NaN  \n",
       "5            NaN                            NaN  \n",
       "...          ...                            ...  \n",
       "8832         NaN                            NaN  \n",
       "8833         NaN                            NaN  \n",
       "8834         NaN                            NaN  \n",
       "8835         NaN                            NaN  \n",
       "8836         NaN                            NaN  \n",
       "8837         NaN                            NaN  \n",
       "\n",
       "[8838 rows x 5 columns]"
      ]
     },
     "execution_count": 4,
     "metadata": {},
     "output_type": "execute_result"
    }
   ],
   "source": [
    "qlog = load_webis_smc_12('data/webis-smc-12.txt'); qlog"
   ]
  },
  {
   "cell_type": "markdown",
   "metadata": {},
   "source": [
    "# Query-level analysis\n",
    "\n",
    "- Number of queries / interactions\n",
    "- Number of distinct queries\n",
    "- Distribution of number of queries / interactions per user\n",
    "- Distribution of queries / interactions over time\n",
    "  - Per day\n",
    "  - For 24h cycles\n",
    "  - For weekday cycles\n",
    "  - For monthly cycles"
   ]
  },
  {
   "cell_type": "markdown",
   "metadata": {},
   "source": [
    "## Total number of queries and distinct queries"
   ]
  },
  {
   "cell_type": "code",
   "execution_count": 5,
   "metadata": {},
   "outputs": [
    {
     "data": {
      "text/html": [
       "<div>\n",
       "<style scoped>\n",
       "    .dataframe tbody tr th:only-of-type {\n",
       "        vertical-align: middle;\n",
       "    }\n",
       "\n",
       "    .dataframe tbody tr th {\n",
       "        vertical-align: top;\n",
       "    }\n",
       "\n",
       "    .dataframe thead th {\n",
       "        text-align: right;\n",
       "    }\n",
       "</style>\n",
       "<table border=\"1\" class=\"dataframe\">\n",
       "  <thead>\n",
       "    <tr style=\"text-align: right;\">\n",
       "      <th></th>\n",
       "      <th>value</th>\n",
       "    </tr>\n",
       "  </thead>\n",
       "  <tbody>\n",
       "    <tr>\n",
       "      <th>num_queries</th>\n",
       "      <td>8838</td>\n",
       "    </tr>\n",
       "    <tr>\n",
       "      <th>num_distinct_queries</th>\n",
       "      <td>3736</td>\n",
       "    </tr>\n",
       "  </tbody>\n",
       "</table>\n",
       "</div>"
      ],
      "text/plain": [
       "                      value\n",
       "num_queries            8838\n",
       "num_distinct_queries   3736"
      ]
     },
     "execution_count": 5,
     "metadata": {},
     "output_type": "execute_result"
    }
   ],
   "source": [
    "qlevel_stats = pd.DataFrame(\n",
    "    [qlog.shape[0], len(qlog['query'].unique())],\n",
    "    columns=['value'],\n",
    "    index=['num_queries', 'num_distinct_queries'])\n",
    "qlevel_stats"
   ]
  },
  {
   "cell_type": "markdown",
   "metadata": {},
   "source": [
    "## Distribution of number of queries per user"
   ]
  },
  {
   "cell_type": "code",
   "execution_count": 6,
   "metadata": {
    "slideshow": {
     "slide_type": "slide"
    }
   },
   "outputs": [
    {
     "data": {
      "image/png": "[encoded data removed]",
      "text/plain": [
       "<Figure size 1080x216 with 1 Axes>"
      ]
     },
     "metadata": {},
     "output_type": "display_data"
    }
   ],
   "source": [
    "queries_per_user = qlog[['user_id', 'query']] \\\n",
    "    .groupby(['user_id']) \\\n",
    "    .count()\n",
    "\n",
    "d_min = queries_per_user['query'].min()\n",
    "d_max = queries_per_user['query'].max()\n",
    "bin_width = 25\n",
    "\n",
    "queries_per_user \\\n",
    "    .plot(kind='hist', bins=range(0, d_max+bin_width, bin_width), rwidth=.95, legend=False)\n",
    "plt.xlabel('Number of Interactions')\n",
    "plt.ylabel('Number of Users')\n",
    "plt.show()"
   ]
  },
  {
   "cell_type": "markdown",
   "metadata": {},
   "source": [
    "## Distribution of queries over time"
   ]
  },
  {
   "cell_type": "code",
   "execution_count": 7,
   "metadata": {},
   "outputs": [
    {
     "data": {
      "image/png": "[encoded data removed]",
      "text/plain": [
       "<Figure size 1080x216 with 1 Axes>"
      ]
     },
     "metadata": {},
     "output_type": "display_data"
    }
   ],
   "source": [
    "qlog['date'] = qlog['timestamp'].map(lambda t: t.date())\n",
    "\n",
    "qlog \\\n",
    "    .groupby(['date']) \\\n",
    "    .size() \\\n",
    "    .plot()\n",
    "plt.xlabel('Date')\n",
    "plt.ylabel('Number of Interactions')\n",
    "plt.show()"
   ]
  },
  {
   "cell_type": "markdown",
   "metadata": {},
   "source": [
    "### Per 24h cycles"
   ]
  },
  {
   "cell_type": "code",
   "execution_count": 44,
   "metadata": {},
   "outputs": [
    {
     "data": {
      "image/png": "[encoded data removed]",
      "text/plain": [
       "<Figure size 1080x216 with 1 Axes>"
      ]
     },
     "metadata": {},
     "output_type": "display_data"
    }
   ],
   "source": [
    "qlog['hour'] = qlog['timestamp'].map(lambda t: t.hour)\n",
    "qlog['hour'] \\\n",
    "    .plot(kind='hist', bins=23, rwidth=.95)\n",
    "plt.xticks(range(0, 24, 2), labels=['{0}h'.format(h) for h in range(0, 24, 2)])\n",
    "plt.xlabel('Hours of Day')\n",
    "plt.ylabel('Number of Interactions')\n",
    "plt.show()"
   ]
  },
  {
   "cell_type": "markdown",
   "metadata": {},
   "source": [
    "### Per weekday cycles"
   ]
  },
  {
   "cell_type": "code",
   "execution_count": 80,
   "metadata": {},
   "outputs": [
    {
     "data": {
      "image/png": "[encoded data removed]",
      "text/plain": [
       "<Figure size 1080x216 with 1 Axes>"
      ]
     },
     "metadata": {},
     "output_type": "display_data"
    }
   ],
   "source": [
    "weekdays=['Mon', 'Tue', 'Wed', 'Thu', 'Fri', 'Sat', 'Sun']\n",
    "qlog['weekday'] = qlog['timestamp'].map(lambda t: t.weekday())\n",
    "\n",
    "qlog \\\n",
    "    .groupby(['weekday']) \\\n",
    "    .size() \\\n",
    "    .plot(kind='bar')\n",
    "\n",
    "plt.xticks(range(len(weekdays)), labels=weekdays, rotation=0)\n",
    "plt.xlabel('Weekday')\n",
    "plt.ylabel('Number of Interactions')\n",
    "plt.show()"
   ]
  },
  {
   "cell_type": "markdown",
   "metadata": {},
   "source": [
    "### Per monthly cycles"
   ]
  },
  {
   "cell_type": "code",
   "execution_count": 10,
   "metadata": {},
   "outputs": [
    {
     "data": {
      "image/png": "[encoded data removed]",
      "text/plain": [
       "<Figure size 1080x216 with 1 Axes>"
      ]
     },
     "metadata": {},
     "output_type": "display_data"
    }
   ],
   "source": [
    "months = ['Jan', 'Feb', 'Mar', 'Apr', 'May', 'Jun', 'Jul', 'Aug', 'Sep', 'Oct', 'Nov', 'Dec']\n",
    "qlog['month'] = qlog['timestamp'].map(lambda t: t.month)\n",
    "\n",
    "queries_per_month = qlog \\\n",
    "    .groupby(['month']) \\\n",
    "    .size() \\\n",
    "\n",
    "queries_per_month \\\n",
    "    .plot(kind='bar')\n",
    "\n",
    "plt.xticks(\n",
    "    range(queries_per_month.shape[0]),\n",
    "    labels=months[(min(queries_per_month.index)-1):max(queries_per_month.index)],\n",
    "    rotation=0)\n",
    "plt.xlabel('Month')\n",
    "plt.ylabel('Number of Interactions')\n",
    "plt.show()"
   ]
  },
  {
   "cell_type": "markdown",
   "metadata": {},
   "source": [
    "# Topic-level analysis"
   ]
  },
  {
   "cell_type": "code",
   "execution_count": 11,
   "metadata": {},
   "outputs": [],
   "source": [
    "#qlog['topic'] = 'topics'\n",
    "#bbc datasets"
   ]
  },
  {
   "cell_type": "markdown",
   "metadata": {},
   "source": [
    "# Session-level analysis\n",
    "\n",
    "- Number of queries / interactions per session\n",
    "- Number of distinct queries per session\n",
    "- Session duration distribution\n",
    "- Distribution of number of clicks per session\n",
    "- Average clicked rank per session duration\n",
    "\n",
    "\n",
    "- Average session duration:\n",
    "  - Per day\n",
    "  - For 24h cycles\n",
    "  - For weekday cycles\n",
    "  - For monthly cycles"
   ]
  },
  {
   "cell_type": "markdown",
   "metadata": {},
   "source": [
    "**Note:** Don't run the following code block if there is already a \"session_id\" column."
   ]
  },
  {
   "cell_type": "code",
   "execution_count": 12,
   "metadata": {
    "scrolled": false
   },
   "outputs": [
    {
     "data": {
      "text/html": [
       "<div>\n",
       "<style scoped>\n",
       "    .dataframe tbody tr th:only-of-type {\n",
       "        vertical-align: middle;\n",
       "    }\n",
       "\n",
       "    .dataframe tbody tr th {\n",
       "        vertical-align: top;\n",
       "    }\n",
       "\n",
       "    .dataframe thead th {\n",
       "        text-align: right;\n",
       "    }\n",
       "</style>\n",
       "<table border=\"1\" class=\"dataframe\">\n",
       "  <thead>\n",
       "    <tr style=\"text-align: right;\">\n",
       "      <th></th>\n",
       "      <th>user_id</th>\n",
       "      <th>query</th>\n",
       "      <th>timestamp</th>\n",
       "      <th>click_rank</th>\n",
       "      <th>click_url</th>\n",
       "      <th>date</th>\n",
       "      <th>weekday</th>\n",
       "      <th>month</th>\n",
       "      <th>session_id</th>\n",
       "    </tr>\n",
       "  </thead>\n",
       "  <tbody>\n",
       "    <tr>\n",
       "      <th>0</th>\n",
       "      <td>38534</td>\n",
       "      <td>maryland state police</td>\n",
       "      <td>2006-03-01 23:48:15</td>\n",
       "      <td>1</td>\n",
       "      <td>http://www.mdsp.org</td>\n",
       "      <td>2006-03-01</td>\n",
       "      <td>2</td>\n",
       "      <td>3</td>\n",
       "      <td>2</td>\n",
       "    </tr>\n",
       "    <tr>\n",
       "      <th>1</th>\n",
       "      <td>38534</td>\n",
       "      <td>harford county sheriff</td>\n",
       "      <td>2006-03-01 23:55:13</td>\n",
       "      <td>1</td>\n",
       "      <td>http://www.harfordsheriff.org</td>\n",
       "      <td>2006-03-01</td>\n",
       "      <td>2</td>\n",
       "      <td>3</td>\n",
       "      <td>2</td>\n",
       "    </tr>\n",
       "    <tr>\n",
       "      <th>2</th>\n",
       "      <td>38534</td>\n",
       "      <td>aberdeen police department in maryland</td>\n",
       "      <td>2006-03-01 23:59:35</td>\n",
       "      <td>2</td>\n",
       "      <td>http://www.aberdeen-md.org</td>\n",
       "      <td>2006-03-01</td>\n",
       "      <td>2</td>\n",
       "      <td>3</td>\n",
       "      <td>2</td>\n",
       "    </tr>\n",
       "    <tr>\n",
       "      <th>3</th>\n",
       "      <td>38534</td>\n",
       "      <td>aberdeen police department in maryland</td>\n",
       "      <td>2006-03-01 23:59:35</td>\n",
       "      <td>1</td>\n",
       "      <td>http://www.aberdeen-md.org</td>\n",
       "      <td>2006-03-01</td>\n",
       "      <td>2</td>\n",
       "      <td>3</td>\n",
       "      <td>2</td>\n",
       "    </tr>\n",
       "    <tr>\n",
       "      <th>4</th>\n",
       "      <td>38534</td>\n",
       "      <td>goody</td>\n",
       "      <td>2006-03-20 16:19:46</td>\n",
       "      <td>NaN</td>\n",
       "      <td>NaN</td>\n",
       "      <td>2006-03-20</td>\n",
       "      <td>0</td>\n",
       "      <td>3</td>\n",
       "      <td>3</td>\n",
       "    </tr>\n",
       "    <tr>\n",
       "      <th>5</th>\n",
       "      <td>38534</td>\n",
       "      <td>goody</td>\n",
       "      <td>2006-03-20 16:19:47</td>\n",
       "      <td>NaN</td>\n",
       "      <td>NaN</td>\n",
       "      <td>2006-03-20</td>\n",
       "      <td>0</td>\n",
       "      <td>3</td>\n",
       "      <td>3</td>\n",
       "    </tr>\n",
       "    <tr>\n",
       "      <th>...</th>\n",
       "      <td>...</td>\n",
       "      <td>...</td>\n",
       "      <td>...</td>\n",
       "      <td>...</td>\n",
       "      <td>...</td>\n",
       "      <td>...</td>\n",
       "      <td>...</td>\n",
       "      <td>...</td>\n",
       "      <td>...</td>\n",
       "    </tr>\n",
       "    <tr>\n",
       "      <th>8832</th>\n",
       "      <td>24797984</td>\n",
       "      <td>fw signs from god</td>\n",
       "      <td>2006-05-29 15:42:52</td>\n",
       "      <td>NaN</td>\n",
       "      <td>NaN</td>\n",
       "      <td>2006-05-29</td>\n",
       "      <td>0</td>\n",
       "      <td>5</td>\n",
       "      <td>2547</td>\n",
       "    </tr>\n",
       "    <tr>\n",
       "      <th>8833</th>\n",
       "      <td>24797984</td>\n",
       "      <td>fw signs from god</td>\n",
       "      <td>2006-05-29 15:43:41</td>\n",
       "      <td>NaN</td>\n",
       "      <td>NaN</td>\n",
       "      <td>2006-05-29</td>\n",
       "      <td>0</td>\n",
       "      <td>5</td>\n",
       "      <td>2547</td>\n",
       "    </tr>\n",
       "    <tr>\n",
       "      <th>8834</th>\n",
       "      <td>24797984</td>\n",
       "      <td>fw signs from god</td>\n",
       "      <td>2006-05-29 15:43:49</td>\n",
       "      <td>NaN</td>\n",
       "      <td>NaN</td>\n",
       "      <td>2006-05-29</td>\n",
       "      <td>0</td>\n",
       "      <td>5</td>\n",
       "      <td>2547</td>\n",
       "    </tr>\n",
       "    <tr>\n",
       "      <th>8835</th>\n",
       "      <td>24797984</td>\n",
       "      <td>fw signs from god</td>\n",
       "      <td>2006-05-29 15:44:27</td>\n",
       "      <td>NaN</td>\n",
       "      <td>NaN</td>\n",
       "      <td>2006-05-29</td>\n",
       "      <td>0</td>\n",
       "      <td>5</td>\n",
       "      <td>2547</td>\n",
       "    </tr>\n",
       "    <tr>\n",
       "      <th>8836</th>\n",
       "      <td>24797984</td>\n",
       "      <td>fw signs from god</td>\n",
       "      <td>2006-05-29 15:44:31</td>\n",
       "      <td>NaN</td>\n",
       "      <td>NaN</td>\n",
       "      <td>2006-05-29</td>\n",
       "      <td>0</td>\n",
       "      <td>5</td>\n",
       "      <td>2547</td>\n",
       "    </tr>\n",
       "    <tr>\n",
       "      <th>8837</th>\n",
       "      <td>24797984</td>\n",
       "      <td>fw signs from god</td>\n",
       "      <td>2006-05-29 15:44:38</td>\n",
       "      <td>NaN</td>\n",
       "      <td>NaN</td>\n",
       "      <td>2006-05-29</td>\n",
       "      <td>0</td>\n",
       "      <td>5</td>\n",
       "      <td>2547</td>\n",
       "    </tr>\n",
       "  </tbody>\n",
       "</table>\n",
       "<p>8838 rows × 9 columns</p>\n",
       "</div>"
      ],
      "text/plain": [
       "       user_id                                   query           timestamp  \\\n",
       "0        38534                   maryland state police 2006-03-01 23:48:15   \n",
       "1        38534                  harford county sheriff 2006-03-01 23:55:13   \n",
       "2        38534  aberdeen police department in maryland 2006-03-01 23:59:35   \n",
       "3        38534  aberdeen police department in maryland 2006-03-01 23:59:35   \n",
       "4        38534                                   goody 2006-03-20 16:19:46   \n",
       "5        38534                                   goody 2006-03-20 16:19:47   \n",
       "...        ...                                     ...                 ...   \n",
       "8832  24797984                       fw signs from god 2006-05-29 15:42:52   \n",
       "8833  24797984                       fw signs from god 2006-05-29 15:43:41   \n",
       "8834  24797984                       fw signs from god 2006-05-29 15:43:49   \n",
       "8835  24797984                       fw signs from god 2006-05-29 15:44:27   \n",
       "8836  24797984                       fw signs from god 2006-05-29 15:44:31   \n",
       "8837  24797984                       fw signs from god 2006-05-29 15:44:38   \n",
       "\n",
       "      click_rank                      click_url        date  weekday  month  \\\n",
       "0              1            http://www.mdsp.org  2006-03-01        2      3   \n",
       "1              1  http://www.harfordsheriff.org  2006-03-01        2      3   \n",
       "2              2     http://www.aberdeen-md.org  2006-03-01        2      3   \n",
       "3              1     http://www.aberdeen-md.org  2006-03-01        2      3   \n",
       "4            NaN                            NaN  2006-03-20        0      3   \n",
       "5            NaN                            NaN  2006-03-20        0      3   \n",
       "...          ...                            ...         ...      ...    ...   \n",
       "8832         NaN                            NaN  2006-05-29        0      5   \n",
       "8833         NaN                            NaN  2006-05-29        0      5   \n",
       "8834         NaN                            NaN  2006-05-29        0      5   \n",
       "8835         NaN                            NaN  2006-05-29        0      5   \n",
       "8836         NaN                            NaN  2006-05-29        0      5   \n",
       "8837         NaN                            NaN  2006-05-29        0      5   \n",
       "\n",
       "      session_id  \n",
       "0              2  \n",
       "1              2  \n",
       "2              2  \n",
       "3              2  \n",
       "4              3  \n",
       "5              3  \n",
       "...          ...  \n",
       "8832        2547  \n",
       "8833        2547  \n",
       "8834        2547  \n",
       "8835        2547  \n",
       "8836        2547  \n",
       "8837        2547  \n",
       "\n",
       "[8838 rows x 9 columns]"
      ]
     },
     "execution_count": 12,
     "metadata": {},
     "output_type": "execute_result"
    }
   ],
   "source": [
    "from datetime import timedelta\n",
    "\n",
    "def detect_sessions(qlog, mins=30):\n",
    "    qlog.drop('session_id', axis=1, errors='ignore', inplace=True)\n",
    "    new_sessions = pd.Series([], dtype='int64')\n",
    "    for _, user_qlog in qlog.sort_values(by=['user_id', 'timestamp']).groupby('user_id'):\n",
    "        user_new_sessions = user_qlog.timestamp.gt(user_qlog.timestamp.shift() + timedelta(minutes=mins))\n",
    "        user_new_sessions.iloc[0] = True\n",
    "        new_sessions = new_sessions.append(user_new_sessions)\n",
    "    return pd.concat([\n",
    "        qlog.sort_values(by=['user_id', 'timestamp']),\n",
    "        pd.DataFrame({ 'session_id': new_sessions.cumsum() + 1 })\n",
    "    ], axis=1, sort=False)\n",
    "\n",
    "qlog = detect_sessions(qlog); qlog"
   ]
  },
  {
   "cell_type": "markdown",
   "metadata": {},
   "source": [
    "## Number of interactions per session"
   ]
  },
  {
   "cell_type": "code",
   "execution_count": 13,
   "metadata": {},
   "outputs": [
    {
     "data": {
      "image/png": "[encoded data removed]",
      "text/plain": [
       "<Figure size 1080x216 with 1 Axes>"
      ]
     },
     "metadata": {},
     "output_type": "display_data"
    }
   ],
   "source": [
    "queries_per_session = qlog[['session_id', 'query']] \\\n",
    "    .groupby('session_id') \\\n",
    "    .count()\n",
    "\n",
    "d_min = queries_per_session['query'].min()\n",
    "d_max = queries_per_session['query'].max()\n",
    "bin_width = 5\n",
    "\n",
    "queries_per_session \\\n",
    "    .plot(kind='hist', bins=range(0, d_max + bin_width, bin_width), legend=False)\n",
    "plt.xlabel(\"Number of Interactions per Session\")\n",
    "plt.ylabel(\"Frequency\")\n",
    "plt.show()"
   ]
  },
  {
   "cell_type": "markdown",
   "metadata": {},
   "source": [
    "## Number of distinct queries per session"
   ]
  },
  {
   "cell_type": "code",
   "execution_count": 14,
   "metadata": {},
   "outputs": [
    {
     "data": {
      "image/png": "[encoded data removed]",
      "text/plain": [
       "<Figure size 1080x216 with 1 Axes>"
      ]
     },
     "metadata": {},
     "output_type": "display_data"
    }
   ],
   "source": [
    "distinct_queries_per_session = qlog[['session_id', 'query']] \\\n",
    "    .groupby('session_id') \\\n",
    "    .nunique()\n",
    "\n",
    "distinct_queries_per_session['session_id'] = distinct_queries_per_session.index\n",
    "distinct_queries_per_session.drop('session_id', axis=1, inplace=True)\n",
    "distinct_queries_per_session = distinct_queries_per_session.reset_index().drop('session_id', axis=1)\n",
    "\n",
    "d_min = distinct_queries_per_session['query'].min()\n",
    "d_max = distinct_queries_per_session['query'].max()\n",
    "bin_width = 5\n",
    "\n",
    "distinct_queries_per_session \\\n",
    "    .plot(kind='hist', bins=range(0, d_max + bin_width, bin_width), legend=False)\n",
    "plt.xlabel(\"Number of Distinct Queries per Session\")\n",
    "plt.ylabel(\"Frequency\")\n",
    "plt.show()"
   ]
  },
  {
   "cell_type": "markdown",
   "metadata": {},
   "source": [
    "## Session duration distribution"
   ]
  },
  {
   "cell_type": "code",
   "execution_count": 33,
   "metadata": {
    "scrolled": false
   },
   "outputs": [
    {
     "data": {
      "image/png": "[encoded data removed]",
      "text/plain": [
       "<Figure size 1080x216 with 1 Axes>"
      ]
     },
     "metadata": {},
     "output_type": "display_data"
    }
   ],
   "source": [
    "from matplotlib.ticker import FuncFormatter\n",
    "\n",
    "session_durations = qlog[['session_id', 'timestamp']] \\\n",
    "    .groupby('session_id') \\\n",
    "    .apply(lambda d: (d['timestamp'].max() - d['timestamp'].min()).total_seconds() / 3600) \\\n",
    "    .reset_index() \\\n",
    "    .rename({0: 'duration'}, axis=1) \\\n",
    "    .drop('session_id', axis=1)\n",
    "\n",
    "d_min = session_durations['duration'].min()\n",
    "d_max = session_durations['duration'].max()\n",
    "bin_width = 5/60\n",
    "\n",
    "ax = session_durations \\\n",
    "    .plot(kind='hist', bins=np.arange(0, d_max + bin_width, bin_width), legend=False)\n",
    "ax.xaxis.set_major_formatter(FuncFormatter(lambda x, _: timedelta(seconds=x * 3600)))\n",
    "plt.xlabel(\"Duration (H:MM:SS)\")\n",
    "plt.ylabel(\"Number of Sessions\")\n",
    "plt.show()"
   ]
  },
  {
   "cell_type": "markdown",
   "metadata": {},
   "source": [
    "## Distribution of number of clicks per session"
   ]
  },
  {
   "cell_type": "code",
   "execution_count": 19,
   "metadata": {
    "scrolled": false
   },
   "outputs": [
    {
     "data": {
      "image/png": "[encoded data removed]",
      "text/plain": [
       "<Figure size 1080x216 with 1 Axes>"
      ]
     },
     "metadata": {},
     "output_type": "display_data"
    }
   ],
   "source": [
    "session_clicks = qlog[~qlog['click_rank'].isnull()][['session_id', 'click_rank']] \\\n",
    "    .groupby('session_id') \\\n",
    "    .count() \\\n",
    "    .reset_index() \\\n",
    "    .drop('session_id', axis=1) \\\n",
    "    .rename({ 'click_rank': 'click_count' }, axis=1)\n",
    "\n",
    "d_min = session_clicks['click_count'].min()\n",
    "d_max = session_clicks['click_count'].max()\n",
    "bin_width = 1\n",
    "\n",
    "session_clicks \\\n",
    "    .plot(kind='hist', bins=range(0, d_max + bin_width, bin_width), logy=False, legend=False)\n",
    "plt.xlabel(\"Number of Clicks\")\n",
    "plt.ylabel(\"Number of Sessions\")\n",
    "plt.show()"
   ]
  },
  {
   "cell_type": "markdown",
   "metadata": {},
   "source": [
    "## Average session duration"
   ]
  },
  {
   "cell_type": "code",
   "execution_count": 84,
   "metadata": {},
   "outputs": [
    {
     "data": {
      "image/png": "[encoded data removed]",
      "text/plain": [
       "<Figure size 1080x216 with 1 Axes>"
      ]
     },
     "metadata": {},
     "output_type": "display_data"
    }
   ],
   "source": [
    "from matplotlib.ticker import FuncFormatter\n",
    "\n",
    "session_durations_per_day = qlog[['session_id', 'date', 'timestamp']] \\\n",
    "    .groupby(['session_id', 'date']) \\\n",
    "    .apply(lambda d: (d['timestamp'].max() - d['timestamp'].min()).total_seconds() / 3600) \\\n",
    "    .reset_index() \\\n",
    "    .rename({0: 'duration'}, axis=1) \\\n",
    "    .drop('session_id', axis=1) \\\n",
    "    .groupby('date') \\\n",
    "    .mean()\n",
    "\n",
    "d_max = session_durations_per_day['duration'].max()\n",
    "bin_width = 1/60\n",
    "\n",
    "ax = session_durations_per_day \\\n",
    "    .plot(kind='hist', bins=np.arange(0, d_max + bin_width, bin_width), legend=False)\n",
    "ax.xaxis.set_major_formatter(FuncFormatter(lambda hour, _: timedelta(seconds=hour * 3600)))\n",
    "plt.xlabel(\"Avg. Duration (H:MM:SS)\")\n",
    "plt.ylabel(\"Number of Sessions\")\n",
    "plt.show()"
   ]
  },
  {
   "cell_type": "markdown",
   "metadata": {},
   "source": [
    "### Per 24h cycles"
   ]
  },
  {
   "cell_type": "code",
   "execution_count": 83,
   "metadata": {
    "scrolled": false
   },
   "outputs": [
    {
     "data": {
      "image/png": "[encoded data removed]",
      "text/plain": [
       "<Figure size 1080x216 with 1 Axes>"
      ]
     },
     "metadata": {},
     "output_type": "display_data"
    }
   ],
   "source": [
    "from matplotlib.ticker import FuncFormatter\n",
    "\n",
    "session_durations_per_hour_of_day = qlog[['session_id', 'hour', 'timestamp']] \\\n",
    "    .groupby(['session_id', 'hour']) \\\n",
    "    .apply(lambda d: (d['timestamp'].max() - d['timestamp'].min()).total_seconds() / 3600) \\\n",
    "    .reset_index() \\\n",
    "    .rename({0: 'duration'}, axis=1) \\\n",
    "    .drop('session_id', axis=1) \\\n",
    "    .groupby('hour') \\\n",
    "    .mean()\n",
    "\n",
    "ax = session_durations_per_hour_of_day \\\n",
    "    .plot(kind='bar', legend=False)\n",
    "ax.yaxis.set_major_formatter(FuncFormatter(lambda hour, _: timedelta(seconds=int(hour * 3600))))\n",
    "plt.xticks(range(0, 24, 2), labels=['{0}h'.format(h) for h in range(0, 24, 2)], rotation=0)\n",
    "plt.xlabel(\"Hour of Day\")\n",
    "plt.ylabel(\"Avg. Duration (H:MM:SS)\")\n",
    "plt.show()"
   ]
  },
  {
   "cell_type": "markdown",
   "metadata": {},
   "source": [
    "### Per weekday cycles"
   ]
  },
  {
   "cell_type": "code",
   "execution_count": 82,
   "metadata": {},
   "outputs": [
    {
     "data": {
      "image/png": "[encoded data removed]",
      "text/plain": [
       "<Figure size 1080x216 with 1 Axes>"
      ]
     },
     "metadata": {},
     "output_type": "display_data"
    }
   ],
   "source": [
    "from matplotlib.ticker import FuncFormatter\n",
    "\n",
    "session_durations_per_weekday = qlog[['session_id', 'weekday', 'timestamp']] \\\n",
    "    .groupby(['session_id', 'weekday']) \\\n",
    "    .apply(lambda d: (d['timestamp'].max() - d['timestamp'].min()).total_seconds() / 3600) \\\n",
    "    .reset_index() \\\n",
    "    .rename({0: 'duration'}, axis=1) \\\n",
    "    .drop('session_id', axis=1) \\\n",
    "    .groupby('weekday') \\\n",
    "    .mean()\n",
    "\n",
    "ax = session_durations_per_weekday \\\n",
    "    .plot(kind='bar', legend=False)\n",
    "ax.yaxis.set_major_formatter(FuncFormatter(lambda hour, _: timedelta(seconds=int(hour * 3600))))\n",
    "plt.xticks(range(len(weekdays)), labels=weekdays, rotation=0)\n",
    "plt.xlabel(\"Weekday\")\n",
    "plt.ylabel(\"Avg. Duration (H:MM:SS)\")\n",
    "plt.show()"
   ]
  },
  {
   "cell_type": "markdown",
   "metadata": {},
   "source": [
    "### Per monthly cycles"
   ]
  },
  {
   "cell_type": "code",
   "execution_count": 85,
   "metadata": {},
   "outputs": [
    {
     "data": {
      "image/png": "[encoded data removed]",
      "text/plain": [
       "<Figure size 1080x216 with 1 Axes>"
      ]
     },
     "metadata": {},
     "output_type": "display_data"
    }
   ],
   "source": [
    "from matplotlib.ticker import FuncFormatter\n",
    "\n",
    "session_durations_per_month = qlog[['session_id', 'month', 'timestamp']] \\\n",
    "    .groupby(['session_id', 'month']) \\\n",
    "    .apply(lambda d: (d['timestamp'].max() - d['timestamp'].min()).total_seconds() / 3600) \\\n",
    "    .reset_index() \\\n",
    "    .rename({0: 'duration'}, axis=1) \\\n",
    "    .drop('session_id', axis=1) \\\n",
    "    .groupby('month') \\\n",
    "    .mean()\n",
    "\n",
    "ax = session_durations_per_month \\\n",
    "    .plot(kind='bar', legend=False)\n",
    "ax.yaxis.set_major_formatter(FuncFormatter(lambda hour, _: timedelta(seconds=int(hour * 3600))))\n",
    "plt.xticks(\n",
    "    range(queries_per_month.shape[0]),\n",
    "    labels=months[(min(queries_per_month.index)-1):max(queries_per_month.index)],\n",
    "    rotation=0)\n",
    "plt.xlabel('Month')\n",
    "plt.ylabel(\"Avg. Duration (H:MM:SS)\")\n",
    "plt.show()"
   ]
  },
  {
   "cell_type": "markdown",
   "metadata": {},
   "source": [
    "## Average clicked rank per session duration"
   ]
  },
  {
   "cell_type": "code",
   "execution_count": 29,
   "metadata": {
    "scrolled": false
   },
   "outputs": [
    {
     "data": {
      "image/png": "[encoded data removed]",
      "text/plain": [
       "<Figure size 1080x216 with 1 Axes>"
      ]
     },
     "metadata": {},
     "output_type": "display_data"
    }
   ],
   "source": [
    "session_avg_rank = qlog[['session_id', 'click_rank']] \\\n",
    "    .fillna(0) \\\n",
    "    .groupby('session_id') \\\n",
    "    .mean() \\\n",
    "    .reset_index() \\\n",
    "    .drop('session_id', axis=1) \\\n",
    "    .rename({ 'click_rank': 'avg_rank' }, axis=1)\n",
    "\n",
    "d_min = session_avg_rank['avg_rank'].min()\n",
    "d_max = int(np.ceil(session_avg_rank['avg_rank'].max()))\n",
    "bin_width = 1\n",
    "\n",
    "session_avg_rank \\\n",
    "    .plot(kind='hist', bins=range(0, d_max + bin_width, bin_width), logy=False, legend=False)\n",
    "plt.xlabel(\"Average Rank\")\n",
    "plt.ylabel(\"Number of Sessions\")\n",
    "plt.show()"
   ]
  },
  {
   "cell_type": "markdown",
   "metadata": {},
   "source": [
    "# Term-level analysis"
   ]
  },
  {
   "cell_type": "code",
   "execution_count": null,
   "metadata": {},
   "outputs": [],
   "source": [
    "#qlog['length'] = 'query_chars'\n",
    "#qlog['num_words'] = 'query_words'"
   ]
  },
  {
   "cell_type": "markdown",
   "metadata": {},
   "source": [
    "# Entity-level analysis"
   ]
  },
  {
   "cell_type": "markdown",
   "metadata": {},
   "source": [
    "We identified entities taking advantage of the `AhoCorasickEntityExtractor` class available in [Army ANT](https://github.com/feup-infolab/army-ant). We copied [aho_corasick_entity_extractor.py](../../edit/query_log_analysis/aho_corasick_entity_extractor.py) to the notebook workspace and edited it to be usable as a standalone dependency. We then used the English DBpedia `rdfs:label` for entities with the class `dbo:Person`, `dbo:Organisation` and `dbp:Place` as the dictionary."
   ]
  },
  {
   "cell_type": "code",
   "execution_count": 86,
   "metadata": {},
   "outputs": [],
   "source": [
    "from aho_corasick_entity_extractor import AhoCorasickEntityExtractor\n",
    "ac = {\n",
    "    'person': AhoCorasickEntityExtractor(list_path='data/en_dbpedia_person.txt'),\n",
    "    'organization': AhoCorasickEntityExtractor(list_path='data/en_dbpedia_organization.txt'),\n",
    "    'place': AhoCorasickEntityExtractor(list_path='data/en_dbpedia_place.txt')\n",
    "}"
   ]
  },
  {
   "cell_type": "code",
   "execution_count": 87,
   "metadata": {},
   "outputs": [
    {
     "data": {
      "text/html": [
       "<div>\n",
       "<style scoped>\n",
       "    .dataframe tbody tr th:only-of-type {\n",
       "        vertical-align: middle;\n",
       "    }\n",
       "\n",
       "    .dataframe tbody tr th {\n",
       "        vertical-align: top;\n",
       "    }\n",
       "\n",
       "    .dataframe thead th {\n",
       "        text-align: right;\n",
       "    }\n",
       "</style>\n",
       "<table border=\"1\" class=\"dataframe\">\n",
       "  <thead>\n",
       "    <tr style=\"text-align: right;\">\n",
       "      <th></th>\n",
       "      <th>user_id</th>\n",
       "      <th>query</th>\n",
       "      <th>timestamp</th>\n",
       "      <th>click_rank</th>\n",
       "      <th>click_url</th>\n",
       "      <th>date</th>\n",
       "      <th>weekday</th>\n",
       "      <th>month</th>\n",
       "      <th>session_id</th>\n",
       "      <th>hour</th>\n",
       "      <th>person</th>\n",
       "      <th>organization</th>\n",
       "      <th>place</th>\n",
       "    </tr>\n",
       "  </thead>\n",
       "  <tbody>\n",
       "    <tr>\n",
       "      <th>0</th>\n",
       "      <td>38534</td>\n",
       "      <td>maryland state police</td>\n",
       "      <td>2006-03-01 23:48:15</td>\n",
       "      <td>1</td>\n",
       "      <td>http://www.mdsp.org</td>\n",
       "      <td>2006-03-01</td>\n",
       "      <td>2</td>\n",
       "      <td>3</td>\n",
       "      <td>2</td>\n",
       "      <td>23</td>\n",
       "      <td>None</td>\n",
       "      <td>[police]</td>\n",
       "      <td>[maryland]</td>\n",
       "    </tr>\n",
       "    <tr>\n",
       "      <th>1</th>\n",
       "      <td>38534</td>\n",
       "      <td>harford county sheriff</td>\n",
       "      <td>2006-03-01 23:55:13</td>\n",
       "      <td>1</td>\n",
       "      <td>http://www.harfordsheriff.org</td>\n",
       "      <td>2006-03-01</td>\n",
       "      <td>2</td>\n",
       "      <td>3</td>\n",
       "      <td>2</td>\n",
       "      <td>23</td>\n",
       "      <td>None</td>\n",
       "      <td>None</td>\n",
       "      <td>None</td>\n",
       "    </tr>\n",
       "    <tr>\n",
       "      <th>2</th>\n",
       "      <td>38534</td>\n",
       "      <td>aberdeen police department in maryland</td>\n",
       "      <td>2006-03-01 23:59:35</td>\n",
       "      <td>2</td>\n",
       "      <td>http://www.aberdeen-md.org</td>\n",
       "      <td>2006-03-01</td>\n",
       "      <td>2</td>\n",
       "      <td>3</td>\n",
       "      <td>2</td>\n",
       "      <td>23</td>\n",
       "      <td>None</td>\n",
       "      <td>[aberdeen, police]</td>\n",
       "      <td>[aberdeen, maryland]</td>\n",
       "    </tr>\n",
       "    <tr>\n",
       "      <th>3</th>\n",
       "      <td>38534</td>\n",
       "      <td>aberdeen police department in maryland</td>\n",
       "      <td>2006-03-01 23:59:35</td>\n",
       "      <td>1</td>\n",
       "      <td>http://www.aberdeen-md.org</td>\n",
       "      <td>2006-03-01</td>\n",
       "      <td>2</td>\n",
       "      <td>3</td>\n",
       "      <td>2</td>\n",
       "      <td>23</td>\n",
       "      <td>None</td>\n",
       "      <td>[aberdeen, police]</td>\n",
       "      <td>[aberdeen, maryland]</td>\n",
       "    </tr>\n",
       "    <tr>\n",
       "      <th>4</th>\n",
       "      <td>38534</td>\n",
       "      <td>goody</td>\n",
       "      <td>2006-03-20 16:19:46</td>\n",
       "      <td>NaN</td>\n",
       "      <td>NaN</td>\n",
       "      <td>2006-03-20</td>\n",
       "      <td>0</td>\n",
       "      <td>3</td>\n",
       "      <td>3</td>\n",
       "      <td>16</td>\n",
       "      <td>None</td>\n",
       "      <td>None</td>\n",
       "      <td>None</td>\n",
       "    </tr>\n",
       "    <tr>\n",
       "      <th>5</th>\n",
       "      <td>38534</td>\n",
       "      <td>goody</td>\n",
       "      <td>2006-03-20 16:19:47</td>\n",
       "      <td>NaN</td>\n",
       "      <td>NaN</td>\n",
       "      <td>2006-03-20</td>\n",
       "      <td>0</td>\n",
       "      <td>3</td>\n",
       "      <td>3</td>\n",
       "      <td>16</td>\n",
       "      <td>None</td>\n",
       "      <td>None</td>\n",
       "      <td>None</td>\n",
       "    </tr>\n",
       "    <tr>\n",
       "      <th>...</th>\n",
       "      <td>...</td>\n",
       "      <td>...</td>\n",
       "      <td>...</td>\n",
       "      <td>...</td>\n",
       "      <td>...</td>\n",
       "      <td>...</td>\n",
       "      <td>...</td>\n",
       "      <td>...</td>\n",
       "      <td>...</td>\n",
       "      <td>...</td>\n",
       "      <td>...</td>\n",
       "      <td>...</td>\n",
       "      <td>...</td>\n",
       "    </tr>\n",
       "    <tr>\n",
       "      <th>8832</th>\n",
       "      <td>24797984</td>\n",
       "      <td>fw signs from god</td>\n",
       "      <td>2006-05-29 15:42:52</td>\n",
       "      <td>NaN</td>\n",
       "      <td>NaN</td>\n",
       "      <td>2006-05-29</td>\n",
       "      <td>0</td>\n",
       "      <td>5</td>\n",
       "      <td>2547</td>\n",
       "      <td>15</td>\n",
       "      <td>None</td>\n",
       "      <td>None</td>\n",
       "      <td>None</td>\n",
       "    </tr>\n",
       "    <tr>\n",
       "      <th>8833</th>\n",
       "      <td>24797984</td>\n",
       "      <td>fw signs from god</td>\n",
       "      <td>2006-05-29 15:43:41</td>\n",
       "      <td>NaN</td>\n",
       "      <td>NaN</td>\n",
       "      <td>2006-05-29</td>\n",
       "      <td>0</td>\n",
       "      <td>5</td>\n",
       "      <td>2547</td>\n",
       "      <td>15</td>\n",
       "      <td>None</td>\n",
       "      <td>None</td>\n",
       "      <td>None</td>\n",
       "    </tr>\n",
       "    <tr>\n",
       "      <th>8834</th>\n",
       "      <td>24797984</td>\n",
       "      <td>fw signs from god</td>\n",
       "      <td>2006-05-29 15:43:49</td>\n",
       "      <td>NaN</td>\n",
       "      <td>NaN</td>\n",
       "      <td>2006-05-29</td>\n",
       "      <td>0</td>\n",
       "      <td>5</td>\n",
       "      <td>2547</td>\n",
       "      <td>15</td>\n",
       "      <td>None</td>\n",
       "      <td>None</td>\n",
       "      <td>None</td>\n",
       "    </tr>\n",
       "    <tr>\n",
       "      <th>8835</th>\n",
       "      <td>24797984</td>\n",
       "      <td>fw signs from god</td>\n",
       "      <td>2006-05-29 15:44:27</td>\n",
       "      <td>NaN</td>\n",
       "      <td>NaN</td>\n",
       "      <td>2006-05-29</td>\n",
       "      <td>0</td>\n",
       "      <td>5</td>\n",
       "      <td>2547</td>\n",
       "      <td>15</td>\n",
       "      <td>None</td>\n",
       "      <td>None</td>\n",
       "      <td>None</td>\n",
       "    </tr>\n",
       "    <tr>\n",
       "      <th>8836</th>\n",
       "      <td>24797984</td>\n",
       "      <td>fw signs from god</td>\n",
       "      <td>2006-05-29 15:44:31</td>\n",
       "      <td>NaN</td>\n",
       "      <td>NaN</td>\n",
       "      <td>2006-05-29</td>\n",
       "      <td>0</td>\n",
       "      <td>5</td>\n",
       "      <td>2547</td>\n",
       "      <td>15</td>\n",
       "      <td>None</td>\n",
       "      <td>None</td>\n",
       "      <td>None</td>\n",
       "    </tr>\n",
       "    <tr>\n",
       "      <th>8837</th>\n",
       "      <td>24797984</td>\n",
       "      <td>fw signs from god</td>\n",
       "      <td>2006-05-29 15:44:38</td>\n",
       "      <td>NaN</td>\n",
       "      <td>NaN</td>\n",
       "      <td>2006-05-29</td>\n",
       "      <td>0</td>\n",
       "      <td>5</td>\n",
       "      <td>2547</td>\n",
       "      <td>15</td>\n",
       "      <td>None</td>\n",
       "      <td>None</td>\n",
       "      <td>None</td>\n",
       "    </tr>\n",
       "  </tbody>\n",
       "</table>\n",
       "<p>8838 rows × 13 columns</p>\n",
       "</div>"
      ],
      "text/plain": [
       "       user_id                                   query           timestamp  \\\n",
       "0        38534                   maryland state police 2006-03-01 23:48:15   \n",
       "1        38534                  harford county sheriff 2006-03-01 23:55:13   \n",
       "2        38534  aberdeen police department in maryland 2006-03-01 23:59:35   \n",
       "3        38534  aberdeen police department in maryland 2006-03-01 23:59:35   \n",
       "4        38534                                   goody 2006-03-20 16:19:46   \n",
       "5        38534                                   goody 2006-03-20 16:19:47   \n",
       "...        ...                                     ...                 ...   \n",
       "8832  24797984                       fw signs from god 2006-05-29 15:42:52   \n",
       "8833  24797984                       fw signs from god 2006-05-29 15:43:41   \n",
       "8834  24797984                       fw signs from god 2006-05-29 15:43:49   \n",
       "8835  24797984                       fw signs from god 2006-05-29 15:44:27   \n",
       "8836  24797984                       fw signs from god 2006-05-29 15:44:31   \n",
       "8837  24797984                       fw signs from god 2006-05-29 15:44:38   \n",
       "\n",
       "      click_rank                      click_url        date  weekday  month  \\\n",
       "0              1            http://www.mdsp.org  2006-03-01        2      3   \n",
       "1              1  http://www.harfordsheriff.org  2006-03-01        2      3   \n",
       "2              2     http://www.aberdeen-md.org  2006-03-01        2      3   \n",
       "3              1     http://www.aberdeen-md.org  2006-03-01        2      3   \n",
       "4            NaN                            NaN  2006-03-20        0      3   \n",
       "5            NaN                            NaN  2006-03-20        0      3   \n",
       "...          ...                            ...         ...      ...    ...   \n",
       "8832         NaN                            NaN  2006-05-29        0      5   \n",
       "8833         NaN                            NaN  2006-05-29        0      5   \n",
       "8834         NaN                            NaN  2006-05-29        0      5   \n",
       "8835         NaN                            NaN  2006-05-29        0      5   \n",
       "8836         NaN                            NaN  2006-05-29        0      5   \n",
       "8837         NaN                            NaN  2006-05-29        0      5   \n",
       "\n",
       "      session_id  hour person        organization                 place  \n",
       "0              2    23   None            [police]            [maryland]  \n",
       "1              2    23   None                None                  None  \n",
       "2              2    23   None  [aberdeen, police]  [aberdeen, maryland]  \n",
       "3              2    23   None  [aberdeen, police]  [aberdeen, maryland]  \n",
       "4              3    16   None                None                  None  \n",
       "5              3    16   None                None                  None  \n",
       "...          ...   ...    ...                 ...                   ...  \n",
       "8832        2547    15   None                None                  None  \n",
       "8833        2547    15   None                None                  None  \n",
       "8834        2547    15   None                None                  None  \n",
       "8835        2547    15   None                None                  None  \n",
       "8836        2547    15   None                None                  None  \n",
       "8837        2547    15   None                None                  None  \n",
       "\n",
       "[8838 rows x 13 columns]"
      ]
     },
     "execution_count": 87,
     "metadata": {},
     "output_type": "execute_result"
    }
   ],
   "source": [
    "from collections import OrderedDict\n",
    "from functools import reduce\n",
    "\n",
    "for d_class in ac.keys():\n",
    "    qlog[d_class] = None\n",
    "\n",
    "    for i in range(len(qlog)):\n",
    "        query = qlog.loc[i, 'query']\n",
    "        entities = ac[d_class].extract(query)\n",
    "        \n",
    "        for entity in entities:\n",
    "            if qlog.loc[i, d_class] is None:\n",
    "                qlog.at[i, d_class] = [entity]\n",
    "            else:\n",
    "                qlog.at[i, d_class].append(entity)\n",
    "\n",
    "qlog"
   ]
  },
  {
   "cell_type": "code",
   "execution_count": 88,
   "metadata": {},
   "outputs": [],
   "source": [
    "import itertools\n",
    "\n",
    "qlog_entities = pd.DataFrame(columns=['entity', 'class', 'count'])\n",
    "\n",
    "for d_class in ac.keys():\n",
    "    entity_count = pd.DataFrame({\n",
    "            'entity': list(itertools.chain(*filter(lambda d: d is not None, qlog[d_class]))),\n",
    "            'class': d_class\n",
    "        }) \\\n",
    "        .groupby(['entity', 'class']) \\\n",
    "        .size() \\\n",
    "        .reset_index() \\\n",
    "        .rename({0: 'count'}, axis='columns')\n",
    "    \n",
    "    qlog_entities = qlog_entities.append(entity_count)"
   ]
  },
  {
   "cell_type": "code",
   "execution_count": 89,
   "metadata": {
    "scrolled": false
   },
   "outputs": [
    {
     "data": {
      "image/png": "[encoded data removed]",
      "text/plain": [
       "<Figure size 432x720 with 1 Axes>"
      ]
     },
     "metadata": {},
     "output_type": "display_data"
    }
   ],
   "source": [
    "plt.rc('figure', figsize=[6, 10])\n",
    "\n",
    "qlog_entities[['entity', 'count']] \\\n",
    "    .groupby('entity') \\\n",
    "    .sum() \\\n",
    "    .reset_index() \\\n",
    "    .sort_values(by='count', ascending=False) \\\n",
    "    .head(30) \\\n",
    "    .plot(kind='barh', x='entity', y='count', legend=False)\n",
    "\n",
    "plt.xlabel('Frequency')\n",
    "plt.ylabel('Entity')\n",
    "plt.gca().invert_yaxis()\n",
    "plt.show()\n",
    "\n",
    "plt.rc('figure', figsize=DEFAULT_FIGSIZE)"
   ]
  },
  {
   "cell_type": "code",
   "execution_count": 90,
   "metadata": {},
   "outputs": [],
   "source": [
    "def plot_entities_by_class(qlog_entities, d_class):\n",
    "    plt.rc('figure', figsize=[6, 10])\n",
    "\n",
    "    qlog_entities[qlog_entities['class'] == d_class] \\\n",
    "        .sort_values(by='count', ascending=False) \\\n",
    "        .head(30) \\\n",
    "        .plot(kind='barh', x='entity', y='count', legend=False)\n",
    "\n",
    "    plt.xlabel('Frequency')\n",
    "    plt.ylabel(d_class.title())\n",
    "    plt.gca().invert_yaxis()\n",
    "    plt.show()\n",
    "\n",
    "    plt.rc('figure', figsize=DEFAULT_FIGSIZE)"
   ]
  },
  {
   "cell_type": "code",
   "execution_count": 91,
   "metadata": {},
   "outputs": [
    {
     "data": {
      "image/png": "[encoded data removed]",
      "text/plain": [
       "<Figure size 432x720 with 1 Axes>"
      ]
     },
     "metadata": {},
     "output_type": "display_data"
    }
   ],
   "source": [
    "plot_entities_by_class(qlog_entities, 'person')"
   ]
  },
  {
   "cell_type": "code",
   "execution_count": null,
   "metadata": {},
   "outputs": [],
   "source": [
    "plot_entities_by_class(qlog_entities, 'organization')"
   ]
  },
  {
   "cell_type": "code",
   "execution_count": null,
   "metadata": {},
   "outputs": [],
   "source": [
    "plot_entities_by_class(qlog_entities, 'place')"
   ]
  },
  {
   "cell_type": "markdown",
   "metadata": {},
   "source": [
    "## Entity-query-level analysis"
   ]
  },
  {
   "cell_type": "code",
   "execution_count": null,
   "metadata": {},
   "outputs": [],
   "source": []
  },
  {
   "cell_type": "markdown",
   "metadata": {},
   "source": [
    "## Entity-topic-level analysis"
   ]
  },
  {
   "cell_type": "code",
   "execution_count": null,
   "metadata": {},
   "outputs": [],
   "source": []
  },
  {
   "cell_type": "markdown",
   "metadata": {},
   "source": [
    "## Entity-session-level analysis"
   ]
  },
  {
   "cell_type": "markdown",
   "metadata": {},
   "source": [
    "- Grafo de entidades numa sessão\n",
    "  - Distâncias"
   ]
  },
  {
   "cell_type": "code",
   "execution_count": null,
   "metadata": {},
   "outputs": [],
   "source": []
  },
  {
   "cell_type": "markdown",
   "metadata": {},
   "source": [
    "## Entity-term-level analysis"
   ]
  },
  {
   "cell_type": "code",
   "execution_count": null,
   "metadata": {},
   "outputs": [],
   "source": []
  },
  {
   "cell_type": "markdown",
   "metadata": {},
   "source": [
    "## Entity-entity-level analysis"
   ]
  },
  {
   "cell_type": "code",
   "execution_count": null,
   "metadata": {},
   "outputs": [],
   "source": []
  }
 ],
 "metadata": {
  "kernelspec": {
   "display_name": "Python 3",
   "language": "python",
   "name": "python3"
  },
  "language_info": {
   "codemirror_mode": {
    "name": "ipython",
    "version": 3
   },
   "file_extension": ".py",
   "mimetype": "text/x-python",
   "name": "python",
   "nbconvert_exporter": "python",
   "pygments_lexer": "ipython3",
   "version": "3.6.3"
  }
 },
 "nbformat": 4,
 "nbformat_minor": 2
}
