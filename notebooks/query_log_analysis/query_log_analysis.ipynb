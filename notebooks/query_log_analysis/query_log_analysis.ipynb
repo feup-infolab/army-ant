{
 "cells": [
  {
   "cell_type": "markdown",
   "metadata": {
    "slideshow": {
     "slide_type": "slide"
    }
   },
   "source": [
    "# Query Log Analysis\n",
    "\n",
    "The goal of this notebook is to serve as a way to quickly analyze a query log, based on the following aspects:\n",
    "\n",
    "- Query-level\n",
    "- Topic-level\n",
    "- Session-level\n",
    "- Term-level\n",
    "- Entity-level\n",
    "\n",
    "Our main focus is on understanding how people search, in order to improve entity-oriented search, thus we will tackle these aspects always around the entities.\n",
    "\n",
    "**Requirements:**\n",
    "\n",
    "- pandas\n",
    "- numpy\n",
    "- sklearn\n",
    "- igraph\n",
    "- progressbar2\n",
    "\n",
    "**Suggestion:**\n",
    "\n",
    "For better exploration and readability of this notebook install the extensions:\n",
    "  \n",
    "  - collapsible_headings\n",
    "    ```sh\n",
    "    pip install jupyter_contrib_nbextensions\n",
    "    jupyter nbextension enable collapsible_headings/main\n",
    "    ```\n",
    "  - toc\n",
    "    ```sh\n",
    "    jupyter nbextension install --user https://rawgithub.com/minrk/ipython_extensions/master/nbextensions/toc.js\n",
    "    jupyter nbextension enable toc\n",
    "    ```"
   ]
  },
  {
   "cell_type": "markdown",
   "metadata": {
    "slideshow": {
     "slide_type": "skip"
    }
   },
   "source": [
    "## Dependencies"
   ]
  },
  {
   "cell_type": "code",
   "execution_count": 1,
   "metadata": {
    "slideshow": {
     "slide_type": "skip"
    }
   },
   "outputs": [],
   "source": [
    "import os\n",
    "import re\n",
    "import codecs\n",
    "import collections\n",
    "import warnings\n",
    "import progressbar\n",
    "import gzip\n",
    "import datetime\n",
    "import hashlib\n",
    "import itertools\n",
    "\n",
    "import urllib.parse\n",
    "\n",
    "import igraph\n",
    "\n",
    "import numpy as np\n",
    "import pandas as pd\n",
    "\n",
    "import matplotlib\n",
    "import matplotlib.pyplot as plt\n",
    "\n",
    "import sklearn as sk\n",
    "from sklearn import naive_bayes, linear_model\n",
    "\n",
    "from joblib import Memory\n",
    "\n",
    "%load_ext autotime"
   ]
  },
  {
   "cell_type": "markdown",
   "metadata": {
    "slideshow": {
     "slide_type": "skip"
    }
   },
   "source": [
    "## Settings"
   ]
  },
  {
   "cell_type": "code",
   "execution_count": 2,
   "metadata": {
    "slideshow": {
     "slide_type": "skip"
    }
   },
   "outputs": [
    {
     "name": "stdout",
     "output_type": "stream",
     "text": [
      "time: 1.69 ms\n"
     ]
    }
   ],
   "source": [
    "DEFAULT_FIGSIZE = [6, 3] # For saving space in paper\n",
    "#DEFAULT_FIGSIZE = [15, 3]\n",
    "DEFAULT_MAX_ROWS = 8\n",
    "\n",
    "plt.rc('figure', figsize=DEFAULT_FIGSIZE)\n",
    "matplotlib.style.use('ggplot')\n",
    "pd.set_option('display.max_rows', DEFAULT_MAX_ROWS)\n",
    "\n",
    "memory = Memory('output/cache', verbose=0)"
   ]
  },
  {
   "cell_type": "markdown",
   "metadata": {
    "slideshow": {
     "slide_type": "skip"
    }
   },
   "source": [
    "## Utilities"
   ]
  },
  {
   "cell_type": "code",
   "execution_count": 3,
   "metadata": {
    "slideshow": {
     "slide_type": "skip"
    }
   },
   "outputs": [
    {
     "data": {
      "text/plain": [
       "[1, 2, 4, 5, 6, 7]"
      ]
     },
     "execution_count": 3,
     "metadata": {},
     "output_type": "execute_result"
    },
    {
     "name": "stdout",
     "output_type": "stream",
     "text": [
      "time: 68.9 ms\n"
     ]
    }
   ],
   "source": [
    "def flatten(l, remove_none=True):\n",
    "    for el in l:\n",
    "        if isinstance(el, collections.Iterable) and not isinstance(el, (str, bytes)):\n",
    "            yield from flatten(el)\n",
    "        elif not el is None:\n",
    "            yield el\n",
    "\n",
    "list(flatten([1,2,[4,5], [[6,7,None]], None]))"
   ]
  },
  {
   "cell_type": "code",
   "execution_count": 4,
   "metadata": {},
   "outputs": [
    {
     "name": "stdout",
     "output_type": "stream",
     "text": [
      "time: 20.9 ms\n"
     ]
    }
   ],
   "source": [
    "def mk_outdir(output_dir):\n",
    "    path = os.path.join(\"output\", output_dir)\n",
    "    os.makedirs(path, exist_ok=True)\n",
    "    return path"
   ]
  },
  {
   "cell_type": "markdown",
   "metadata": {},
   "source": [
    "# Structure of the data directory"
   ]
  },
  {
   "cell_type": "markdown",
   "metadata": {},
   "source": [
    "Before loading your data, please obtain the datasets from the corresponding sources, as listed above. The `data` directory tree should look something like this:\n",
    "\n",
    "```bash\n",
    "data/\n",
    "├── ant-search-log\n",
    "│   ├── ant-search_interaction_log-20190731T1621.csv.gz\n",
    "│   └── ant-search_query_log-20190731T1621.csv.gz\n",
    "├── AOL-user-ct-collection\n",
    "│   ├── user-ct-test-collection-01.txt.gz\n",
    "│   ├── user-ct-test-collection-02.txt.gz\n",
    "│   ├── user-ct-test-collection-03.txt.gz\n",
    "│   ├── user-ct-test-collection-04.txt.gz\n",
    "│   ├── user-ct-test-collection-05.txt.gz\n",
    "│   ├── user-ct-test-collection-06.txt.gz\n",
    "│   ├── user-ct-test-collection-07.txt.gz\n",
    "│   ├── user-ct-test-collection-08.txt.gz\n",
    "│   ├── user-ct-test-collection-09.txt.gz\n",
    "│   ├── user-ct-test-collection-10.txt.gz\n",
    "│   └── U500k_README.txt\n",
    "├── bbc\n",
    "│   ├── business\n",
    "│   │   ├── 001.txt\n",
    "│   │   ├── 002.txt\n",
    "│   │   ├── 003.txt\n",
    "│   │   └── ...\n",
    "│   ├── entertainment\n",
    "│   │   ├── 001.txt\n",
    "│   │   ├── 002.txt\n",
    "│   │   ├── 003.txt\n",
    "│   │   └── ...\n",
    "│   ├── politics\n",
    "│   │   ├── 001.txt\n",
    "│   │   ├── 002.txt\n",
    "│   │   ├── 003.txt\n",
    "│   │   └── ...\n",
    "│   ├── sport\n",
    "│   │   ├── 001.txt\n",
    "│   │   ├── 002.txt\n",
    "│   │   ├── 003.txt\n",
    "│   │   └── ...\n",
    "│   ├── tech\n",
    "│   │   ├── 001.txt\n",
    "│   │   ├── 002.txt\n",
    "│   │   ├── 003.txt\n",
    "│   │   └── ...\n",
    "│   └── README.TXT\n",
    "├── entity_lists\n",
    "│   ├── en_dbpedia_organization.txt\n",
    "│   ├── en_dbpedia_person.txt\n",
    "│   ├── en_dbpedia_place.txt\n",
    "│   ├── pt_dbpedia_organization.txt\n",
    "│   ├── pt_dbpedia_person.txt\n",
    "│   └── pt_dbpedia_place.txt\n",
    "├── episa -> /media/hdd0/datasets/episa\n",
    "│   ├── Logs_Web1\n",
    "│   │   ├── u_ex190601.log\n",
    "│   │   ├── u_ex190602.log\n",
    "│   │   ├── u_ex190603.log\n",
    "│   │   └── ...\n",
    "│   └── Logs_Web2\n",
    "│       ├── u_ex19063022.log\n",
    "│       ├── u_ex19063023.log\n",
    "│       ├── u_ex19070100.log\n",
    "│       └── ...\n",
    "├── psql_stopwords\n",
    "│   ├── english.stop\n",
    "│   └── portuguese.stop\n",
    "├── simplewiki_link_graph-201812.gml\n",
    "└── webis-smc-12.txt\n",
    "\n",
    "```"
   ]
  },
  {
   "cell_type": "markdown",
   "metadata": {
    "slideshow": {
     "slide_type": "slide"
    }
   },
   "source": [
    "# Datasets\n",
    "\n",
    "While we take advantage of the Wikipedia query log for this analysis, we use an intermediate structure, so that you can convert your own query log into our format and analyze it. We begin by applying the analysis to the webis-smc-12 dataset, only then adapting the notebook for the Wikipedia query log.\n",
    "\n",
    "The loader functions will be responsible for loading query log datasets and converting them into a Pandas DataFrame with the following valid columns (only columns with data are required):\n",
    "\n",
    "- user_id\n",
    "- query\n",
    "- timestamp\n",
    "- click_rank\n",
    "- click_title\n",
    "- click_url\n",
    "- click_timestamp"
   ]
  },
  {
   "cell_type": "markdown",
   "metadata": {
    "slideshow": {
     "slide_type": "slide"
    }
   },
   "source": [
    "## webis-smc-12\n",
    "\n",
    "The Webis Search Mission Corpus 2012 (Webis-SMC-12) contains 8840 entries for 127 users. It is built from a subset of the AOL query log. Each entry includes user ID, query, timestamp, rank and domain URL for clicked results, a mission ID and a comment. Each user is preceded by a line of dashes in the text file. More information is available at: https://webis.de/data/webis-smc-12.html"
   ]
  },
  {
   "cell_type": "code",
   "execution_count": 5,
   "metadata": {
    "slideshow": {
     "slide_type": "fragment"
    }
   },
   "outputs": [
    {
     "name": "stdout",
     "output_type": "stream",
     "text": [
      "time: 11.8 ms\n"
     ]
    }
   ],
   "source": [
    "def load_webis_smc_12(path):\n",
    "    \"\"\"Load webis-smc-12.txt file into the notebook query log analysis format.\"\"\"\n",
    "   \n",
    "    def date_parser(date_str):\n",
    "        if type(date_str) is float and np.isnan(date_str):\n",
    "            return np.nan\n",
    "        else:\n",
    "            return pd.datetime.strptime(date_str, '%Y-%m-%d %H:%M:%S')\n",
    "            \n",
    "    def get_sep_row_idx():\n",
    "        sep_row_idx = []\n",
    "        \n",
    "        with open(path, \"r\") as fp:\n",
    "            line_number = 0\n",
    "            for line in fp:\n",
    "                if line.startswith(\"---\"):\n",
    "                    sep_row_idx.append(line_number)\n",
    "                line_number += 1\n",
    "        \n",
    "        return sep_row_idx\n",
    "    \n",
    "    df = pd.read_csv(\n",
    "        'data/webis-smc-12.txt',\n",
    "        sep='\\t',\n",
    "        lineterminator='\\n',\n",
    "        skiprows=get_sep_row_idx(),\n",
    "        error_bad_lines=False,\n",
    "        warn_bad_lines=False,\n",
    "        parse_dates=['TimeStamp'],\n",
    "        date_parser=date_parser)\n",
    "\n",
    "    df.drop(columns=['MissionID', 'Comment'], inplace=True)\n",
    "    \n",
    "    df.rename(\n",
    "        columns={\n",
    "            'UserID': 'user_id',\n",
    "            'Query': 'query',\n",
    "            'TimeStamp': 'timestamp',\n",
    "            'ClickRank': 'click_rank',\n",
    "            'ClickDomain': 'click_url'\n",
    "        },\n",
    "        inplace=True)\n",
    "    \n",
    "    df.click_rank = df.click_rank.astype(pd.Int64Dtype())\n",
    "    \n",
    "    return df, mk_outdir(\"webis-smc-12\"), \"en\""
   ]
  },
  {
   "cell_type": "markdown",
   "metadata": {},
   "source": [
    "## AOL query log\n",
    "\n",
    "AOL query log contains 36 million entries from over half a million users, covering a period of three months, from March to May 2006. The dataset itself contains 10 text files, each containing a user ID, the query, a timestamp and, if present, the rank and URL of a clicked result. While this has become a controversial dataset, because of privacy issues, it remains one of the largest available datasets for analyzing user behavior."
   ]
  },
  {
   "cell_type": "code",
   "execution_count": 6,
   "metadata": {},
   "outputs": [
    {
     "name": "stdout",
     "output_type": "stream",
     "text": [
      "time: 20 ms\n"
     ]
    }
   ],
   "source": [
    "def load_aol_query_log(path):\n",
    "    data = pd.DataFrame(columns=['user_id', 'query', 'timestamp', 'click_rank', 'click_url'])\n",
    "    \n",
    "    for filename in sorted(os.listdir(path)):\n",
    "        if filename.startswith('user-ct-test-collection-'):\n",
    "            df = pd.read_csv(\n",
    "                    os.path.join(path, filename),\n",
    "                    sep='\\t',\n",
    "                    parse_dates=['QueryTime'],\n",
    "                    low_memory=False,\n",
    "                    compression='gzip'\n",
    "                ).rename(columns={\n",
    "                    'AnonID': 'user_id',\n",
    "                    'Query': 'query',\n",
    "                    'QueryTime': 'timestamp',\n",
    "                    'ItemRank': 'click_rank',\n",
    "                    'ClickURL': 'click_url'\n",
    "                })\n",
    "            data = data.append(df, ignore_index=True)\n",
    "    \n",
    "    data['user_id'] = pd.to_numeric(data['user_id'], errors='coerce')\n",
    "    data['click_rank'] = pd.to_numeric(data['click_rank'], errors='coerce')\n",
    "\n",
    "    return data, mk_outdir(\"aol-query-log\"), \"en\""
   ]
  },
  {
   "cell_type": "markdown",
   "metadata": {},
   "source": [
    "## ANT search log\n",
    "\n",
    "The [ANT](https://ant.fe.up.pt) search log contains 45,059 search queries, mostly in Portuguese, for 9,403 users, as identified by a hash of their client IP, user agent and display resolution. It also separately provides interaction data about result clicks, containing 27480 records for 7642 users, that should match the users in the query log. The ANT search query log provides the query category according to the classification by [Pound et al. (2010)](https://doi.org/10.1145/1772690.1772769), as computed by [ANT's query understanding module](https://doi.org/10.1007/978-3-319-44564-9_17). Please notice that there is an error associated discovering a query's category, as this was not manually annotated."
   ]
  },
  {
   "cell_type": "code",
   "execution_count": 7,
   "metadata": {},
   "outputs": [
    {
     "name": "stdout",
     "output_type": "stream",
     "text": [
      "time: 18.8 ms\n"
     ]
    }
   ],
   "source": [
    "def load_ant_search_log(path):\n",
    "    q_paths = [fn for fn in os.listdir(path) if fn.startswith('ant-search_query_log-')]\n",
    "    i_paths = [fn for fn in os.listdir(path) if fn.startswith('ant-search_interaction_log-')]\n",
    "    \n",
    "    assert len(q_paths) > 0 and len(i_paths) > 0, \\\n",
    "        'Both an \"ant-search_query_log-*.csv.gz\" and an \"ant-search_interaction_log-*.csv.gz\" must exist'\n",
    "    \n",
    "    q_path = os.path.join(path, sorted(q_paths)[-1])\n",
    "    i_path = os.path.join(path, sorted(i_paths)[-1])\n",
    "    \n",
    "    queries = pd.read_csv(q_path, sep='\\t', parse_dates=['timestamp']) \\\n",
    "        [['user_id', 'query', 'timestamp']] \\\n",
    "        .dropna(subset=['user_id', 'query'])\n",
    "    \n",
    "    queries['click_rank'] = np.nan\n",
    "    queries['click_url'] = np.nan\n",
    "    queries['click_timestamp'] = np.nan\n",
    "    queries['type'] = 'query'\n",
    "    \n",
    "    queries = queries[['user_id', 'query', 'timestamp', 'click_rank', 'click_url', 'click_timestamp', 'type']]\n",
    "    \n",
    "    inter = pd.read_csv(i_path, sep='\\t', parse_dates=['timestamp']) \\\n",
    "        [['user_id', 'query', 'timestamp', 'clicked_rank', 'clicked_url']] \\\n",
    "        .dropna(subset=['user_id', 'query']) \\\n",
    "        .rename(columns={\n",
    "            'clicked_rank': 'click_rank',\n",
    "            'clicked_url': 'click_url'\n",
    "        })\n",
    "    \n",
    "    inter['click_timestamp'] = inter['timestamp']\n",
    "    inter['type'] = 'click'\n",
    "    \n",
    "    inter = inter[['user_id', 'query', 'timestamp', 'click_rank', 'click_url', 'click_timestamp', 'type']]\n",
    "    \n",
    "    df = pd.concat([queries, inter]) \\\n",
    "        .sort_values(by='timestamp') \\\n",
    "        .reset_index()\n",
    "            \n",
    "    return df, mk_outdir(\"ant-search-log\"), \"pt\""
   ]
  },
  {
   "cell_type": "markdown",
   "metadata": {},
   "source": [
    "## EPISA DigitArq access log\n",
    "\n",
    "The EPISA DigitArq access log contains 110,447,807 entries. We filtered 111,819 requests to `/results` and 309,517 requests to `/details`, corresponding to result clicks."
   ]
  },
  {
   "cell_type": "markdown",
   "metadata": {},
   "source": [
    "You can generate the required `results.log` and `details.log` from the original access log files by running the following commands, after decompressing both 7-zip files:\n",
    "\n",
    "```\n",
    "(cd Logs_Web1 && awk 'BEGIN { FS=\" \" } $5 ~ /^\\/results.*/ { print $0 }' *) | sudo tee results.log\n",
    "(cd Logs_Web2 && awk 'BEGIN { FS=\" \" } $5 ~ /^\\/results.*/ { print $0 }' *) | sudo tee -a results.log\n",
    "\n",
    "(cd Logs_Web1 && awk 'BEGIN { FS=\" \" } $5 ~ /^\\/details.*/ { print $0 }' *) | sudo tee details.log\n",
    "(cd Logs_Web2 && awk 'BEGIN { FS=\" \" } $5 ~ /^\\/details.*/ { print $0 }' *) | sudo tee -a details.log\n",
    "```"
   ]
  },
  {
   "cell_type": "code",
   "execution_count": 8,
   "metadata": {},
   "outputs": [
    {
     "name": "stdout",
     "output_type": "stream",
     "text": [
      "time: 9.41 ms\n"
     ]
    }
   ],
   "source": [
    "# FIXME This does not yet work, as there is no relation between queries and clicked results.\n",
    "def load_episa_search_log(*paths):\n",
    "    base_uri = 'https://digitarq.arquivos.pt'\n",
    "    bots_re = re.compile(r'.*(nagios|bot).*', re.IGNORECASE)\n",
    "    query_re = re.compile(r\"\"\"^/results?.*t=([^&]+)\"\"\")\n",
    "\n",
    "    def log_entry_generator():\n",
    "        for path in paths:\n",
    "            with codecs.open(path, 'r', 'utf-8') as fp:\n",
    "                for line in fp:\n",
    "                    yield line.strip()\n",
    "\n",
    "    def unicode_unquote(text):\n",
    "        def unicode_unquoter(match):\n",
    "            return chr(int(match.group(1),16))\n",
    "        return re.sub(r'%u([0-9a-fA-F]{4})', unicode_unquoter, text)\n",
    "\n",
    "    def build_url(uri_stem, uri_query):\n",
    "        if uri_query is not None and uri_query != '-':\n",
    "            url = '%s?%s' % (uri_stem, uri_query)\n",
    "        else:\n",
    "            url = uri_stem\n",
    "            \n",
    "        return unicode_unquote(urllib.parse.unquote(url))\n",
    "                    \n",
    "    def uri_to_search_query(uri_stem, uri_query):\n",
    "        url = build_url(uri_stem, uri_query)\n",
    "        query_m = query_re.match(url)\n",
    "        if query_m:\n",
    "            return query_m.group(1)\n",
    "\n",
    "    data = {\n",
    "        'user_id': [],\n",
    "        'query': [],\n",
    "        'timestamp': [],\n",
    "        'click_rank': [],\n",
    "        'click_url': [],\n",
    "        'referer': []\n",
    "    }\n",
    "    \n",
    "    for line in log_entry_generator():\n",
    "        if line.startswith('#'):\n",
    "            continue\n",
    "        \n",
    "        date, time, _, _, uri_stem, uri_query, _, _, client_ip, client_ua, referer, _  = line.split(maxsplit=11)\n",
    "        \n",
    "        if bots_re.match(client_ua):\n",
    "            #warnings.warn('Skipping bot: %s' % client_ua)\n",
    "            continue\n",
    "            \n",
    "        if uri_stem.startswith('/details') and not referer.startswith('https://digitarq.arquivos.pt/results'):\n",
    "            #warnings.warn('Skipping details without referer: %s' % uri_stem)\n",
    "            continue\n",
    "            \n",
    "        user_id = hashlib.md5(('%s %s' % (client_ip, client_ua)).encode()).hexdigest()\n",
    "        \n",
    "        query = uri_to_search_query(uri_stem, uri_query)\n",
    "        \n",
    "        timestamp = pd.to_datetime('%s %s' % (date, time))\n",
    "        \n",
    "        click_rank = None\n",
    "        \n",
    "        if uri_stem.startswith('/details'):\n",
    "            click_url = urllib.parse.urljoin(base_uri, build_url(uri_stem, uri_query))\n",
    "        else:\n",
    "            click_url = None\n",
    "        \n",
    "        referer = None if referer == '-' else referer\n",
    "        \n",
    "        if query is None and click_url is None:\n",
    "            continue\n",
    "        \n",
    "        data['user_id'].append(user_id)\n",
    "        data['query'].append(query)\n",
    "        data['timestamp'].append(timestamp)\n",
    "        data['click_rank'].append(None)\n",
    "        data['click_url'].append(click_url)       \n",
    "        data['referer'].append(referer)\n",
    "        \n",
    "    df = pd.DataFrame(data) \\\n",
    "        .sort_values(by=['user_id', 'timestamp'])\n",
    "    \n",
    "    return df, mk_outdir(\"episa-digitarq-access-log\"), \"pt\""
   ]
  },
  {
   "cell_type": "markdown",
   "metadata": {
    "slideshow": {
     "slide_type": "slide"
    }
   },
   "source": [
    "# Data loading\n",
    "\n",
    "Select one of the available dataset loading functions to begin the analysis:\n",
    "\n",
    "- load_webis_smc_12\n",
    "- load_aol_query_log\n",
    "- load_ant_search_log\n",
    "- load_episa_search_log"
   ]
  },
  {
   "cell_type": "code",
   "execution_count": 9,
   "metadata": {
    "scrolled": false,
    "slideshow": {
     "slide_type": "fragment"
    }
   },
   "outputs": [
    {
     "data": {
      "text/plain": [
       "'output/aol-query-log'"
      ]
     },
     "metadata": {},
     "output_type": "display_data"
    },
    {
     "data": {
      "text/html": [
       "<div>\n",
       "<style scoped>\n",
       "    .dataframe tbody tr th:only-of-type {\n",
       "        vertical-align: middle;\n",
       "    }\n",
       "\n",
       "    .dataframe tbody tr th {\n",
       "        vertical-align: top;\n",
       "    }\n",
       "\n",
       "    .dataframe thead th {\n",
       "        text-align: right;\n",
       "    }\n",
       "</style>\n",
       "<table border=\"1\" class=\"dataframe\">\n",
       "  <thead>\n",
       "    <tr style=\"text-align: right;\">\n",
       "      <th></th>\n",
       "      <th>user_id</th>\n",
       "      <th>query</th>\n",
       "      <th>timestamp</th>\n",
       "      <th>click_rank</th>\n",
       "      <th>click_url</th>\n",
       "    </tr>\n",
       "  </thead>\n",
       "  <tbody>\n",
       "    <tr>\n",
       "      <th>0</th>\n",
       "      <td>142.0</td>\n",
       "      <td>rentdirect.com</td>\n",
       "      <td>2006-03-01 07:17:12</td>\n",
       "      <td>NaN</td>\n",
       "      <td>NaN</td>\n",
       "    </tr>\n",
       "    <tr>\n",
       "      <th>1</th>\n",
       "      <td>142.0</td>\n",
       "      <td>www.prescriptionfortime.com</td>\n",
       "      <td>2006-03-12 12:31:06</td>\n",
       "      <td>NaN</td>\n",
       "      <td>NaN</td>\n",
       "    </tr>\n",
       "    <tr>\n",
       "      <th>2</th>\n",
       "      <td>142.0</td>\n",
       "      <td>staple.com</td>\n",
       "      <td>2006-03-17 21:19:29</td>\n",
       "      <td>NaN</td>\n",
       "      <td>NaN</td>\n",
       "    </tr>\n",
       "    <tr>\n",
       "      <th>3</th>\n",
       "      <td>142.0</td>\n",
       "      <td>staple.com</td>\n",
       "      <td>2006-03-17 21:19:45</td>\n",
       "      <td>NaN</td>\n",
       "      <td>NaN</td>\n",
       "    </tr>\n",
       "    <tr>\n",
       "      <th>...</th>\n",
       "      <td>...</td>\n",
       "      <td>...</td>\n",
       "      <td>...</td>\n",
       "      <td>...</td>\n",
       "      <td>...</td>\n",
       "    </tr>\n",
       "    <tr>\n",
       "      <th>36389563</th>\n",
       "      <td>24968112.0</td>\n",
       "      <td>itunes</td>\n",
       "      <td>2006-05-31 21:18:25</td>\n",
       "      <td>NaN</td>\n",
       "      <td>NaN</td>\n",
       "    </tr>\n",
       "    <tr>\n",
       "      <th>36389564</th>\n",
       "      <td>24968468.0</td>\n",
       "      <td>ww.aim.com</td>\n",
       "      <td>2006-05-31 18:40:14</td>\n",
       "      <td>NaN</td>\n",
       "      <td>NaN</td>\n",
       "    </tr>\n",
       "    <tr>\n",
       "      <th>36389565</th>\n",
       "      <td>24969190.0</td>\n",
       "      <td>-</td>\n",
       "      <td>2006-05-31 21:39:00</td>\n",
       "      <td>NaN</td>\n",
       "      <td>NaN</td>\n",
       "    </tr>\n",
       "    <tr>\n",
       "      <th>36389566</th>\n",
       "      <td>24969339.0</td>\n",
       "      <td>free credit report</td>\n",
       "      <td>2006-05-31 00:42:17</td>\n",
       "      <td>NaN</td>\n",
       "      <td>NaN</td>\n",
       "    </tr>\n",
       "  </tbody>\n",
       "</table>\n",
       "<p>36389567 rows × 5 columns</p>\n",
       "</div>"
      ],
      "text/plain": [
       "             user_id                        query           timestamp  \\\n",
       "0              142.0               rentdirect.com 2006-03-01 07:17:12   \n",
       "1              142.0  www.prescriptionfortime.com 2006-03-12 12:31:06   \n",
       "2              142.0                   staple.com 2006-03-17 21:19:29   \n",
       "3              142.0                   staple.com 2006-03-17 21:19:45   \n",
       "...              ...                          ...                 ...   \n",
       "36389563  24968112.0                       itunes 2006-05-31 21:18:25   \n",
       "36389564  24968468.0                   ww.aim.com 2006-05-31 18:40:14   \n",
       "36389565  24969190.0                            - 2006-05-31 21:39:00   \n",
       "36389566  24969339.0           free credit report 2006-05-31 00:42:17   \n",
       "\n",
       "          click_rank click_url  \n",
       "0                NaN       NaN  \n",
       "1                NaN       NaN  \n",
       "2                NaN       NaN  \n",
       "3                NaN       NaN  \n",
       "...              ...       ...  \n",
       "36389563         NaN       NaN  \n",
       "36389564         NaN       NaN  \n",
       "36389565         NaN       NaN  \n",
       "36389566         NaN       NaN  \n",
       "\n",
       "[36389567 rows x 5 columns]"
      ]
     },
     "metadata": {},
     "output_type": "display_data"
    },
    {
     "name": "stdout",
     "output_type": "stream",
     "text": [
      "time: 2min 46s\n"
     ]
    }
   ],
   "source": [
    "#qlog, output_dir, lang = load_webis_smc_12('data/webis-smc-12.txt')\n",
    "qlog, output_dir, lang = load_aol_query_log('data/AOL-user-ct-collection')\n",
    "#qlog, output_dir, lang = load_ant_search_log('data/ant-search-log')\n",
    "#qlog, output_dir, lang = load_episa_search_log('data/episa/results.log', 'data/episa/details.log')\n",
    "\n",
    "display(output_dir)\n",
    "display(qlog)"
   ]
  },
  {
   "cell_type": "markdown",
   "metadata": {
    "slideshow": {
     "slide_type": "slide"
    }
   },
   "source": [
    "# Query-level analysis\n",
    "\n",
    "- Number of queries / interactions\n",
    "- Number of distinct queries\n",
    "- Distribution of number of queries / interactions per user\n",
    "- Distribution of queries / interactions over time\n",
    "  - Per day\n",
    "  - For 24h cycles\n",
    "  - For weekday cycles\n",
    "  - For monthly cycles"
   ]
  },
  {
   "cell_type": "markdown",
   "metadata": {
    "slideshow": {
     "slide_type": "slide"
    }
   },
   "source": [
    "## Total number of queries and distinct queries"
   ]
  },
  {
   "cell_type": "code",
   "execution_count": 10,
   "metadata": {
    "slideshow": {
     "slide_type": "fragment"
    }
   },
   "outputs": [
    {
     "data": {
      "text/html": [
       "<div>\n",
       "<style scoped>\n",
       "    .dataframe tbody tr th:only-of-type {\n",
       "        vertical-align: middle;\n",
       "    }\n",
       "\n",
       "    .dataframe tbody tr th {\n",
       "        vertical-align: top;\n",
       "    }\n",
       "\n",
       "    .dataframe thead th {\n",
       "        text-align: right;\n",
       "    }\n",
       "</style>\n",
       "<table border=\"1\" class=\"dataframe\">\n",
       "  <thead>\n",
       "    <tr style=\"text-align: right;\">\n",
       "      <th></th>\n",
       "      <th>value</th>\n",
       "    </tr>\n",
       "  </thead>\n",
       "  <tbody>\n",
       "    <tr>\n",
       "      <th>num_queries</th>\n",
       "      <td>36389567</td>\n",
       "    </tr>\n",
       "    <tr>\n",
       "      <th>num_distinct_queries</th>\n",
       "      <td>10154740</td>\n",
       "    </tr>\n",
       "    <tr>\n",
       "      <th>num_users</th>\n",
       "      <td>657426</td>\n",
       "    </tr>\n",
       "  </tbody>\n",
       "</table>\n",
       "</div>"
      ],
      "text/plain": [
       "                         value\n",
       "num_queries           36389567\n",
       "num_distinct_queries  10154740\n",
       "num_users               657426"
      ]
     },
     "execution_count": 10,
     "metadata": {},
     "output_type": "execute_result"
    },
    {
     "name": "stdout",
     "output_type": "stream",
     "text": [
      "time: 12.1 s\n"
     ]
    }
   ],
   "source": [
    "qlevel_stats = pd.DataFrame(\n",
    "    [qlog.shape[0], qlog['query'].nunique(), qlog['user_id'].nunique()],\n",
    "    columns=['value'],\n",
    "    index=['num_queries', 'num_distinct_queries', 'num_users'])\n",
    "qlevel_stats"
   ]
  },
  {
   "cell_type": "markdown",
   "metadata": {
    "slideshow": {
     "slide_type": "slide"
    }
   },
   "source": [
    "## Distribution of number of queries per user"
   ]
  },
  {
   "cell_type": "code",
   "execution_count": 11,
   "metadata": {
    "slideshow": {
     "slide_type": "fragment"
    }
   },
   "outputs": [
    {
     "data": {
      "image/png": "[encoded data removed]",
      "text/plain": [
       "<Figure size 432x216 with 1 Axes>"
      ]
     },
     "metadata": {},
     "output_type": "display_data"
    },
    {
     "name": "stdout",
     "output_type": "stream",
     "text": [
      "time: 21.3 s\n"
     ]
    }
   ],
   "source": [
    "queries_per_user = qlog[['user_id', 'query']] \\\n",
    "    .groupby(['user_id']) \\\n",
    "    .count()\n",
    "\n",
    "d_max = queries_per_user['query'].max()\n",
    "bin_width = 50\n",
    "\n",
    "queries_per_user \\\n",
    "    .plot(kind='hist', bins=range(0, d_max+bin_width, bin_width), logy=True, rwidth=.95, legend=False)\n",
    "plt.xlabel('Number of Interactions')\n",
    "plt.ylabel('Number of Users')\n",
    "plt.show()"
   ]
  },
  {
   "cell_type": "markdown",
   "metadata": {
    "slideshow": {
     "slide_type": "slide"
    }
   },
   "source": [
    "## Distribution of queries over time"
   ]
  },
  {
   "cell_type": "code",
   "execution_count": 12,
   "metadata": {
    "slideshow": {
     "slide_type": "fragment"
    }
   },
   "outputs": [
    {
     "data": {
      "image/png": "[encoded data removed]",
      "text/plain": [
       "<Figure size 432x216 with 1 Axes>"
      ]
     },
     "metadata": {},
     "output_type": "display_data"
    },
    {
     "name": "stdout",
     "output_type": "stream",
     "text": [
      "time: 1min 42s\n"
     ]
    }
   ],
   "source": [
    "qlog['date'] = qlog['timestamp'].map(lambda t: t.date())\n",
    "\n",
    "qlog \\\n",
    "    .groupby('date') \\\n",
    "    .size() \\\n",
    "    .rolling(window=7) \\\n",
    "    .mean() \\\n",
    "    .plot(logy=True)\n",
    "plt.xlabel('Date')\n",
    "plt.ylabel('Number of Interactions')\n",
    "plt.xticks(rotation=90)\n",
    "plt.savefig(\n",
    "    fname=os.path.join(output_dir, \"query_level-distribution_of_queries_over_time.pdf\"),\n",
    "    bbox_inches='tight')\n",
    "plt.show()"
   ]
  },
  {
   "cell_type": "markdown",
   "metadata": {
    "slideshow": {
     "slide_type": "slide"
    }
   },
   "source": [
    "### Per 24h cycles"
   ]
  },
  {
   "cell_type": "code",
   "execution_count": 13,
   "metadata": {
    "slideshow": {
     "slide_type": "fragment"
    }
   },
   "outputs": [
    {
     "data": {
      "image/png": "[encoded data removed]",
      "text/plain": [
       "<Figure size 432x216 with 1 Axes>"
      ]
     },
     "metadata": {},
     "output_type": "display_data"
    },
    {
     "name": "stdout",
     "output_type": "stream",
     "text": [
      "time: 1min 36s\n"
     ]
    }
   ],
   "source": [
    "qlog['hour'] = qlog['timestamp'].map(lambda t: t.hour)\n",
    "qlog['hour'] \\\n",
    "    .plot(kind='hist', bins=23, rwidth=.95)\n",
    "plt.xticks(range(0, 24, 2), labels=['{0}h'.format(h) for h in range(0, 24, 2)])\n",
    "plt.xlabel('Hours of Day')\n",
    "plt.ylabel('Number of Interactions')\n",
    "plt.savefig(\n",
    "    fname=os.path.join(output_dir, \"query_level-distribution_of_queries_over_time-24h_cycles.pdf\"),\n",
    "    bbox_inches='tight')\n",
    "plt.show()"
   ]
  },
  {
   "cell_type": "markdown",
   "metadata": {
    "slideshow": {
     "slide_type": "slide"
    }
   },
   "source": [
    "### Per weekday cycles"
   ]
  },
  {
   "cell_type": "code",
   "execution_count": 14,
   "metadata": {
    "slideshow": {
     "slide_type": "fragment"
    }
   },
   "outputs": [
    {
     "data": {
      "image/png": "[encoded data removed]",
      "text/plain": [
       "<Figure size 432x216 with 1 Axes>"
      ]
     },
     "metadata": {},
     "output_type": "display_data"
    },
    {
     "name": "stdout",
     "output_type": "stream",
     "text": [
      "time: 1min 29s\n"
     ]
    }
   ],
   "source": [
    "weekdays=['Mon', 'Tue', 'Wed', 'Thu', 'Fri', 'Sat', 'Sun']\n",
    "qlog['weekday'] = qlog['timestamp'].map(lambda t: t.weekday())\n",
    "\n",
    "qlog \\\n",
    "    .groupby(['weekday']) \\\n",
    "    .size() \\\n",
    "    .plot(kind='bar')\n",
    "\n",
    "plt.xticks(range(len(weekdays)), labels=weekdays, rotation=0)\n",
    "plt.xlabel('Weekday')\n",
    "plt.ylabel('Number of Interactions')\n",
    "plt.show()"
   ]
  },
  {
   "cell_type": "markdown",
   "metadata": {
    "slideshow": {
     "slide_type": "slide"
    }
   },
   "source": [
    "### Per monthly cycles"
   ]
  },
  {
   "cell_type": "code",
   "execution_count": 15,
   "metadata": {
    "slideshow": {
     "slide_type": "fragment"
    }
   },
   "outputs": [
    {
     "data": {
      "image/png": "[encoded data removed]",
      "text/plain": [
       "<Figure size 432x216 with 1 Axes>"
      ]
     },
     "metadata": {},
     "output_type": "display_data"
    },
    {
     "name": "stdout",
     "output_type": "stream",
     "text": [
      "time: 1min 25s\n"
     ]
    }
   ],
   "source": [
    "months = ['Jan', 'Feb', 'Mar', 'Apr', 'May', 'Jun', 'Jul', 'Aug', 'Sep', 'Oct', 'Nov', 'Dec']\n",
    "qlog['month'] = qlog['timestamp'].map(lambda t: t.month)\n",
    "\n",
    "queries_per_month = qlog \\\n",
    "    .groupby(['month']) \\\n",
    "    .size() \\\n",
    "\n",
    "queries_per_month \\\n",
    "    .plot(kind='bar')\n",
    "\n",
    "plt.xticks(\n",
    "    range(queries_per_month.shape[0]),\n",
    "    labels=months[(min(queries_per_month.index)-1):max(queries_per_month.index)],\n",
    "    rotation=0)\n",
    "plt.xlabel('Month')\n",
    "plt.ylabel('Number of Interactions')\n",
    "plt.show()"
   ]
  },
  {
   "cell_type": "markdown",
   "metadata": {
    "slideshow": {
     "slide_type": "slide"
    }
   },
   "source": [
    "# Topic-level analysis\n",
    "\n",
    "We will look at the categories (more general) and topics (more specific) of the query log, analyzing:\n",
    "\n",
    "- Distribution of query categories\n",
    "- Distribution of query topics\n",
    "\n",
    "\n",
    "- Distribution of query categories over time:\n",
    "  - Per 24h cycles\n",
    "  - Per weekday cycles\n",
    "  - Per monthly cycles\n",
    "\n",
    "\n",
    "- Distribution of query topics over time:\n",
    "  - Per 24h cycles\n",
    "  - Per weekday cycles\n",
    "  - Per monthly cycles"
   ]
  },
  {
   "cell_type": "markdown",
   "metadata": {
    "slideshow": {
     "slide_type": "slide"
    }
   },
   "source": [
    "## Category detection\n",
    "\n",
    "We train a classifier based on the [BBC dataset](http://mlg.ucd.ie/datasets/bbc.html), with 2225 documents and 5 categories:\n",
    "\n",
    "- business\n",
    "- entertainment\n",
    "- politics\n",
    "- sport\n",
    "- tech"
   ]
  },
  {
   "cell_type": "code",
   "execution_count": 16,
   "metadata": {
    "scrolled": true,
    "slideshow": {
     "slide_type": "skip"
    }
   },
   "outputs": [
    {
     "name": "stdout",
     "output_type": "stream",
     "text": [
      "time: 8.55 ms\n"
     ]
    }
   ],
   "source": [
    "from sklearn.feature_extraction.text import TfidfVectorizer\n",
    "\n",
    "\n",
    "def get_paths_per_class(bbc_base_dir):\n",
    "    \"\"\"Get dictionary of paths per class for BBC dataset.\"\"\"\n",
    "    \n",
    "    bbc = {}\n",
    "    \n",
    "    for file in os.listdir(bbc_base_dir):\n",
    "        class_path = os.path.join(bbc_base_dir, file)\n",
    "        \n",
    "        if os.path.isdir(class_path):\n",
    "            label = file\n",
    "            bbc[label] = []\n",
    "            \n",
    "            for file in os.listdir(class_path):\n",
    "                doc_path = os.path.join(class_path, file)\n",
    "                if os.path.isfile(doc_path):\n",
    "                    bbc[label].append(doc_path)\n",
    "    \n",
    "    return bbc\n",
    "\n",
    "\n",
    "def build_training_set(paths_per_class):\n",
    "    \"\"\"Load text documents per class and extract features (TF-IDF per term).\"\"\"\n",
    "\n",
    "    vec = TfidfVectorizer(ngram_range=(1, 2))\n",
    "    corpus = []\n",
    "    y = []\n",
    "    \n",
    "    for label in paths_per_class.keys():\n",
    "        for path in paths_per_class[label]:\n",
    "            try:\n",
    "                corpus.append(codecs.open(path, 'r', 'utf-8').read())\n",
    "                y.append(label)\n",
    "            except:\n",
    "                warnings.warn(\"Skipped %s\" % (path))\n",
    "        \n",
    "    X = vec.fit_transform(corpus)\n",
    "    return X, y, vec\n",
    "\n",
    "\n",
    "def train(X, y):\n",
    "    \"\"\"\n",
    "    Train a black box classifier. We chose Naïve Bayes here for returning a probability and having good proven\n",
    "    performance on this dataset, as shown in: https://towardsdatascience.com/text-classification-in-python-dd95d264c802\n",
    "    \"\"\"\n",
    "    nb = naive_bayes.MultinomialNB()\n",
    "    nb.fit(X, y)\n",
    "    return nb\n",
    "    #lg = linear_model.LogisticRegression(class_weight='balanced')\n",
    "    #lg.fit(X, y)\n",
    "    #return lg\n",
    "\n",
    "\n",
    "def predict(models, features_model, docs, threshold=0.5):\n",
    "    \"\"\"\n",
    "    Predict the correct class according to the probability. If no probability is above the threshold, then the class\n",
    "    'unknown' is assigned instead.\n",
    "    \"\"\"\n",
    "    predictions = []\n",
    "    \n",
    "    for label, model in models.items():\n",
    "        predictions.append([label] + [p[0] for p in model.predict_proba(features_model.transform(docs))])\n",
    "    \n",
    "    cl_prob_per_doc = pd.DataFrame(predictions) \\\n",
    "        .rename({ 0: 'class', 1: 0, 2: 1 }, axis=1) \\\n",
    "        .set_index('class')\n",
    "    \n",
    "    cl_prob_per_doc.loc['unknown', :] = cl_prob_per_doc.max().lt(threshold).map(int)\n",
    "    \n",
    "    return cl_prob_per_doc.idxmax().tolist()\n",
    "\n",
    "\n",
    "def select_training_set_for_class(X, y, label):\n",
    "    \"\"\"Deal with class imbalance problem by using stratified bootstrapping.\"\"\"\n",
    "    cl_idx = {}\n",
    "    unique_y = np.unique(y)\n",
    "    \n",
    "    for u_cl in unique_y:\n",
    "        if not u_cl in cl_idx:\n",
    "            cl_idx[u_cl] = []\n",
    "        cl_idx[u_cl].extend(idx for idx, cl in enumerate(y) if cl == u_cl)\n",
    "   \n",
    "    idx = cl_idx[label]\n",
    "    n_samples = int(np.ceil( len(idx) / (len(unique_y) - 1) ))\n",
    "    \n",
    "    for cl in unique_y:\n",
    "        idx.extend(np.random.choice(cl_idx[cl], n_samples, replace=True))\n",
    "    \n",
    "    return idx"
   ]
  },
  {
   "cell_type": "code",
   "execution_count": 17,
   "metadata": {
    "slideshow": {
     "slide_type": "subslide"
    }
   },
   "outputs": [
    {
     "name": "stderr",
     "output_type": "stream",
     "text": [
      "/home/jld/.pyenv/versions/3.6.3/lib/python3.6/site-packages/ipykernel_launcher.py:37: UserWarning: Skipped data/bbc/sport/199.txt\n"
     ]
    },
    {
     "name": "stdout",
     "output_type": "stream",
     "text": [
      "time: 3.04 s\n"
     ]
    }
   ],
   "source": [
    "paths_per_class = get_paths_per_class('data/bbc')\n",
    "X, y, features_model = build_training_set(paths_per_class)\n",
    "\n",
    "models = {}\n",
    "for label in paths_per_class.keys():\n",
    "    train_idx = select_training_set_for_class(X, y, label)\n",
    "    models[label] = train(X[train_idx, :], [y[i] if y[i] == label else 'unknown' for i in train_idx])"
   ]
  },
  {
   "cell_type": "markdown",
   "metadata": {
    "slideshow": {
     "slide_type": "slide"
    }
   },
   "source": [
    "Let's see if it works on the following test queries:"
   ]
  },
  {
   "cell_type": "code",
   "execution_count": 18,
   "metadata": {
    "slideshow": {
     "slide_type": "fragment"
    }
   },
   "outputs": [
    {
     "data": {
      "text/plain": [
       "['politics', 'sport', 'business', 'tech', 'entertainment']"
      ]
     },
     "execution_count": 18,
     "metadata": {},
     "output_type": "execute_result"
    },
    {
     "name": "stdout",
     "output_type": "stream",
     "text": [
      "time: 26.2 ms\n"
     ]
    }
   ],
   "source": [
    "docs = [\"government law\", \"soccer goal\", \"finance department\", \"computer science\", \"grammy award\"]\n",
    "predict(models, features_model, docs)"
   ]
  },
  {
   "cell_type": "code",
   "execution_count": 19,
   "metadata": {
    "scrolled": false
   },
   "outputs": [
    {
     "name": "stderr",
     "output_type": "stream",
     "text": [
      "100% (364 of 364) |######################| Elapsed Time: 1:14:38 Time:  1:14:38\n"
     ]
    },
    {
     "name": "stdout",
     "output_type": "stream",
     "text": [
      "time: 1h 14min 39s\n"
     ]
    }
   ],
   "source": [
    "null_query_idx = set(qlog[qlog['query'].isnull()].index)\n",
    "batch_size = 100000\n",
    "\n",
    "for start in progressbar.progressbar(range(0, len(qlog), batch_size)):\n",
    "    end = np.min([len(qlog), start+batch_size])\n",
    "    batch_idx = list(set(range(start, end)).difference(null_query_idx))\n",
    "    qlog.loc[batch_idx, 'category'] = predict(models, features_model, qlog.loc[batch_idx, 'query'])"
   ]
  },
  {
   "cell_type": "code",
   "execution_count": 20,
   "metadata": {
    "slideshow": {
     "slide_type": "fragment"
    }
   },
   "outputs": [
    {
     "data": {
      "text/html": [
       "<div>\n",
       "<style scoped>\n",
       "    .dataframe tbody tr th:only-of-type {\n",
       "        vertical-align: middle;\n",
       "    }\n",
       "\n",
       "    .dataframe tbody tr th {\n",
       "        vertical-align: top;\n",
       "    }\n",
       "\n",
       "    .dataframe thead th {\n",
       "        text-align: right;\n",
       "    }\n",
       "</style>\n",
       "<table border=\"1\" class=\"dataframe\">\n",
       "  <thead>\n",
       "    <tr style=\"text-align: right;\">\n",
       "      <th></th>\n",
       "      <th>query</th>\n",
       "      <th>category</th>\n",
       "    </tr>\n",
       "  </thead>\n",
       "  <tbody>\n",
       "    <tr>\n",
       "      <th>0</th>\n",
       "      <td>rentdirect.com</td>\n",
       "      <td>tech</td>\n",
       "    </tr>\n",
       "    <tr>\n",
       "      <th>1</th>\n",
       "      <td>www.prescriptionfortime.com</td>\n",
       "      <td>tech</td>\n",
       "    </tr>\n",
       "    <tr>\n",
       "      <th>2</th>\n",
       "      <td>staple.com</td>\n",
       "      <td>tech</td>\n",
       "    </tr>\n",
       "    <tr>\n",
       "      <th>3</th>\n",
       "      <td>staple.com</td>\n",
       "      <td>tech</td>\n",
       "    </tr>\n",
       "    <tr>\n",
       "      <th>...</th>\n",
       "      <td>...</td>\n",
       "      <td>...</td>\n",
       "    </tr>\n",
       "    <tr>\n",
       "      <th>36389563</th>\n",
       "      <td>itunes</td>\n",
       "      <td>tech</td>\n",
       "    </tr>\n",
       "    <tr>\n",
       "      <th>36389564</th>\n",
       "      <td>ww.aim.com</td>\n",
       "      <td>tech</td>\n",
       "    </tr>\n",
       "    <tr>\n",
       "      <th>36389565</th>\n",
       "      <td>-</td>\n",
       "      <td>business</td>\n",
       "    </tr>\n",
       "    <tr>\n",
       "      <th>36389566</th>\n",
       "      <td>free credit report</td>\n",
       "      <td>business</td>\n",
       "    </tr>\n",
       "  </tbody>\n",
       "</table>\n",
       "<p>36389567 rows × 2 columns</p>\n",
       "</div>"
      ],
      "text/plain": [
       "                                query  category\n",
       "0                      rentdirect.com      tech\n",
       "1         www.prescriptionfortime.com      tech\n",
       "2                          staple.com      tech\n",
       "3                          staple.com      tech\n",
       "...                               ...       ...\n",
       "36389563                       itunes      tech\n",
       "36389564                   ww.aim.com      tech\n",
       "36389565                            -  business\n",
       "36389566           free credit report  business\n",
       "\n",
       "[36389567 rows x 2 columns]"
      ]
     },
     "execution_count": 20,
     "metadata": {},
     "output_type": "execute_result"
    },
    {
     "name": "stdout",
     "output_type": "stream",
     "text": [
      "time: 771 ms\n"
     ]
    }
   ],
   "source": [
    "qlog[['query', 'category']]"
   ]
  },
  {
   "cell_type": "markdown",
   "metadata": {
    "slideshow": {
     "slide_type": "slide"
    }
   },
   "source": [
    "Let's also inspect some random rows to see if it makes sense."
   ]
  },
  {
   "cell_type": "code",
   "execution_count": 21,
   "metadata": {
    "slideshow": {
     "slide_type": "fragment"
    }
   },
   "outputs": [
    {
     "data": {
      "text/html": [
       "<div>\n",
       "<style scoped>\n",
       "    .dataframe tbody tr th:only-of-type {\n",
       "        vertical-align: middle;\n",
       "    }\n",
       "\n",
       "    .dataframe tbody tr th {\n",
       "        vertical-align: top;\n",
       "    }\n",
       "\n",
       "    .dataframe thead th {\n",
       "        text-align: right;\n",
       "    }\n",
       "</style>\n",
       "<table border=\"1\" class=\"dataframe\">\n",
       "  <thead>\n",
       "    <tr style=\"text-align: right;\">\n",
       "      <th></th>\n",
       "      <th>query</th>\n",
       "      <th>category</th>\n",
       "    </tr>\n",
       "  </thead>\n",
       "  <tbody>\n",
       "    <tr>\n",
       "      <th>22138594</th>\n",
       "      <td>ecklers classic chevy</td>\n",
       "      <td>entertainment</td>\n",
       "    </tr>\n",
       "    <tr>\n",
       "      <th>6542717</th>\n",
       "      <td>girls wet and wild</td>\n",
       "      <td>entertainment</td>\n",
       "    </tr>\n",
       "    <tr>\n",
       "      <th>18949917</th>\n",
       "      <td>moondoggies.com</td>\n",
       "      <td>tech</td>\n",
       "    </tr>\n",
       "    <tr>\n",
       "      <th>9951986</th>\n",
       "      <td>sequined shrugs</td>\n",
       "      <td>business</td>\n",
       "    </tr>\n",
       "    <tr>\n",
       "      <th>...</th>\n",
       "      <td>...</td>\n",
       "      <td>...</td>\n",
       "    </tr>\n",
       "    <tr>\n",
       "      <th>20316609</th>\n",
       "      <td>olga nelson enterprises</td>\n",
       "      <td>business</td>\n",
       "    </tr>\n",
       "    <tr>\n",
       "      <th>34218963</th>\n",
       "      <td>ending of new xmen movie</td>\n",
       "      <td>entertainment</td>\n",
       "    </tr>\n",
       "    <tr>\n",
       "      <th>12552963</th>\n",
       "      <td>buckeye hall of fame cafe</td>\n",
       "      <td>entertainment</td>\n",
       "    </tr>\n",
       "    <tr>\n",
       "      <th>26690583</th>\n",
       "      <td>ass</td>\n",
       "      <td>entertainment</td>\n",
       "    </tr>\n",
       "  </tbody>\n",
       "</table>\n",
       "<p>10 rows × 2 columns</p>\n",
       "</div>"
      ],
      "text/plain": [
       "                              query       category\n",
       "22138594      ecklers classic chevy  entertainment\n",
       "6542717          girls wet and wild  entertainment\n",
       "18949917            moondoggies.com           tech\n",
       "9951986             sequined shrugs       business\n",
       "...                             ...            ...\n",
       "20316609    olga nelson enterprises       business\n",
       "34218963   ending of new xmen movie  entertainment\n",
       "12552963  buckeye hall of fame cafe  entertainment\n",
       "26690583                        ass  entertainment\n",
       "\n",
       "[10 rows x 2 columns]"
      ]
     },
     "execution_count": 21,
     "metadata": {},
     "output_type": "execute_result"
    },
    {
     "name": "stdout",
     "output_type": "stream",
     "text": [
      "time: 1.1 s\n"
     ]
    }
   ],
   "source": [
    "qlog[['query', 'category']].iloc[np.random.choice(len(qlog), 10)]"
   ]
  },
  {
   "cell_type": "markdown",
   "metadata": {
    "slideshow": {
     "slide_type": "fragment"
    }
   },
   "source": [
    "Some queries were wrongly categorized, since the training set doesn't cover all categories and the classifier we used never returns a probability under 0.5 for all of the labels. This means it's unable to use the `unknown` category."
   ]
  },
  {
   "cell_type": "markdown",
   "metadata": {
    "slideshow": {
     "slide_type": "slide"
    }
   },
   "source": [
    "## Topic detection\n",
    "\n",
    "Another approach is to instead use an unsupervised algorithm. Classical topic models like LDA would be adequate, if it weren't for the short length of the queries. There is, however, the [biterm topic model](https://dl.acm.org/citation.cfm?id=2488514), which is more adequate for shorter text. Another, even better, approach could be the [relational biterm topic model](https://academic.oup.com/comjnl/article-abstract/62/3/359/5005494?redirectedFrom=fulltext), but since we didn't find any implementation and don't want to implement it ourselves, we will experiment with the biterm topic model."
   ]
  },
  {
   "cell_type": "code",
   "execution_count": 22,
   "metadata": {
    "slideshow": {
     "slide_type": "fragment"
    }
   },
   "outputs": [
    {
     "name": "stdout",
     "output_type": "stream",
     "text": [
      "time: 5.98 s\n"
     ]
    }
   ],
   "source": [
    "from sklearn.feature_extraction.text import CountVectorizer\n",
    "from biterm.utility import vec_to_biterms\n",
    "from biterm.cbtm import oBTM\n",
    "\n",
    "stopwords_per_lang = {\n",
    "    'en': 'data/psql_stopwords/english.stop',\n",
    "    'pt': 'data/psql_stopwords/portuguese.stop'\n",
    "}\n",
    "stopwords_per_lang = {\n",
    "    lang: set(open(fn).read().splitlines())\n",
    "    for lang, fn in stopwords_per_lang.items()\n",
    "}\n",
    "\n",
    "vec = CountVectorizer(stop_words=stopwords_per_lang[lang])\n",
    "biterm_training_set = qlog['query'][qlog['query'].notnull()].sample(10_000)\n",
    "X = vec.fit_transform(biterm_training_set).toarray()\n",
    "\n",
    "vocab = np.array(vec.get_feature_names())\n",
    "biterms = vec_to_biterms(X)"
   ]
  },
  {
   "cell_type": "markdown",
   "metadata": {
    "slideshow": {
     "slide_type": "skip"
    }
   },
   "source": [
    "**Note:** The following code will take a while to run. It's a lot slower than training and predicting with Naïve Bayes. We cache the model, so that we can rerun the whole notebook. Delete `output/cache` to retrain with the same data, otherwise it's fine to leave the cache untouched. The same goes for any other function annotated with `memory.cache`."
   ]
  },
  {
   "cell_type": "code",
   "execution_count": 23,
   "metadata": {
    "scrolled": true,
    "slideshow": {
     "slide_type": "fragment"
    }
   },
   "outputs": [
    {
     "name": "stderr",
     "output_type": "stream",
     "text": [
      "100%|██████████| 100/100 [24:31<00:00, 14.71s/it]\n",
      "/home/jld/.pyenv/versions/3.6.3/lib/python3.6/site-packages/ipykernel_launcher.py:6: RuntimeWarning: invalid value encountered in true_divide\n",
      "  \n"
     ]
    },
    {
     "name": "stdout",
     "output_type": "stream",
     "text": [
      "time: 24min 40s\n"
     ]
    }
   ],
   "source": [
    "num_topics = 20\n",
    "\n",
    "@memory.cache\n",
    "def biterm_train(num_topics, vocabulary, biterms, iterations=100):\n",
    "    btm = oBTM(num_topics=num_topics, V=vocab)\n",
    "    topics = btm.fit_transform(biterms, iterations=iterations)\n",
    "    return btm, topics\n",
    "\n",
    "btm, topics = biterm_train(num_topics, vocab, biterms, iterations=100)"
   ]
  },
  {
   "cell_type": "markdown",
   "metadata": {
    "slideshow": {
     "slide_type": "slide"
    }
   },
   "source": [
    "We now take the topic distribution over the vocabulary and keep the top five terms, with highest probability, per topic."
   ]
  },
  {
   "cell_type": "code",
   "execution_count": 24,
   "metadata": {
    "slideshow": {
     "slide_type": "fragment"
    }
   },
   "outputs": [
    {
     "data": {
      "text/html": [
       "<div>\n",
       "<style scoped>\n",
       "    .dataframe tbody tr th:only-of-type {\n",
       "        vertical-align: middle;\n",
       "    }\n",
       "\n",
       "    .dataframe tbody tr th {\n",
       "        vertical-align: top;\n",
       "    }\n",
       "\n",
       "    .dataframe thead th {\n",
       "        text-align: right;\n",
       "    }\n",
       "</style>\n",
       "<table border=\"1\" class=\"dataframe\">\n",
       "  <thead>\n",
       "    <tr style=\"text-align: right;\">\n",
       "      <th></th>\n",
       "      <th>query</th>\n",
       "      <th>topic</th>\n",
       "    </tr>\n",
       "  </thead>\n",
       "  <tbody>\n",
       "    <tr>\n",
       "      <th>0</th>\n",
       "      <td>rentdirect.com</td>\n",
       "      <td>NaN</td>\n",
       "    </tr>\n",
       "    <tr>\n",
       "      <th>1</th>\n",
       "      <td>www.prescriptionfortime.com</td>\n",
       "      <td>NaN</td>\n",
       "    </tr>\n",
       "    <tr>\n",
       "      <th>2</th>\n",
       "      <td>staple.com</td>\n",
       "      <td>NaN</td>\n",
       "    </tr>\n",
       "    <tr>\n",
       "      <th>3</th>\n",
       "      <td>staple.com</td>\n",
       "      <td>NaN</td>\n",
       "    </tr>\n",
       "    <tr>\n",
       "      <th>...</th>\n",
       "      <td>...</td>\n",
       "      <td>...</td>\n",
       "    </tr>\n",
       "    <tr>\n",
       "      <th>36389563</th>\n",
       "      <td>itunes</td>\n",
       "      <td>NaN</td>\n",
       "    </tr>\n",
       "    <tr>\n",
       "      <th>36389564</th>\n",
       "      <td>ww.aim.com</td>\n",
       "      <td>NaN</td>\n",
       "    </tr>\n",
       "    <tr>\n",
       "      <th>36389565</th>\n",
       "      <td>-</td>\n",
       "      <td>NaN</td>\n",
       "    </tr>\n",
       "    <tr>\n",
       "      <th>36389566</th>\n",
       "      <td>free credit report</td>\n",
       "      <td>NaN</td>\n",
       "    </tr>\n",
       "  </tbody>\n",
       "</table>\n",
       "<p>36389567 rows × 2 columns</p>\n",
       "</div>"
      ],
      "text/plain": [
       "                                query topic\n",
       "0                      rentdirect.com   NaN\n",
       "1         www.prescriptionfortime.com   NaN\n",
       "2                          staple.com   NaN\n",
       "3                          staple.com   NaN\n",
       "...                               ...   ...\n",
       "36389563                       itunes   NaN\n",
       "36389564                   ww.aim.com   NaN\n",
       "36389565                            -   NaN\n",
       "36389566           free credit report   NaN\n",
       "\n",
       "[36389567 rows x 2 columns]"
      ]
     },
     "execution_count": 24,
     "metadata": {},
     "output_type": "execute_result"
    },
    {
     "name": "stdout",
     "output_type": "stream",
     "text": [
      "time: 9.71 s\n"
     ]
    }
   ],
   "source": [
    "topic_names = []\n",
    "for i in range(20):\n",
    "    idx = btm.phi_wz[:, i].argsort()[::-1][:5]\n",
    "    topic_names.append(' '.join(vocab[i] for i in idx))\n",
    "\n",
    "if 'topic' in qlog:\n",
    "    del qlog['topic']\n",
    "\n",
    "qlog.loc[biterm_training_set.index, 'topic'] = [\n",
    "    topic_names[topics[i].argmax()]\n",
    "    for i in range(len(qlog.loc[biterm_training_set.index]))]\n",
    "\n",
    "qlog[['query', 'topic']]"
   ]
  },
  {
   "cell_type": "markdown",
   "metadata": {
    "slideshow": {
     "slide_type": "slide"
    }
   },
   "source": [
    "## Distribution of query categories"
   ]
  },
  {
   "cell_type": "code",
   "execution_count": 25,
   "metadata": {
    "slideshow": {
     "slide_type": "fragment"
    }
   },
   "outputs": [
    {
     "data": {
      "image/png": "[encoded data removed]",
      "text/plain": [
       "<Figure size 432x216 with 1 Axes>"
      ]
     },
     "metadata": {},
     "output_type": "display_data"
    },
    {
     "name": "stdout",
     "output_type": "stream",
     "text": [
      "time: 5.74 s\n"
     ]
    }
   ],
   "source": [
    "plt.rc('figure', figsize=[6, 3])\n",
    "\n",
    "qlog[['query', 'category']] \\\n",
    "    .groupby('category') \\\n",
    "    .count() \\\n",
    "    .plot(kind='barh', legend=False)\n",
    "plt.xlabel('Number of Interactions')\n",
    "plt.ylabel('Category')\n",
    "plt.savefig(\n",
    "    fname=os.path.join(output_dir, \"topic_level-distribution_of_query_categories.pdf\"),\n",
    "    bbox_inches='tight')\n",
    "plt.show()\n",
    "\n",
    "plt.rc('figure', figsize=DEFAULT_FIGSIZE)"
   ]
  },
  {
   "cell_type": "markdown",
   "metadata": {
    "slideshow": {
     "slide_type": "slide"
    }
   },
   "source": [
    "## Distribution of query topics"
   ]
  },
  {
   "cell_type": "code",
   "execution_count": 26,
   "metadata": {
    "slideshow": {
     "slide_type": "fragment"
    }
   },
   "outputs": [
    {
     "data": {
      "image/png": "[encoded data removed]",
      "text/plain": [
       "<Figure size 432x720 with 1 Axes>"
      ]
     },
     "metadata": {},
     "output_type": "display_data"
    },
    {
     "name": "stdout",
     "output_type": "stream",
     "text": [
      "time: 5.97 s\n"
     ]
    }
   ],
   "source": [
    "plt.rc('figure', figsize=[6, 10])\n",
    "\n",
    "qlog[['query', 'topic']] \\\n",
    "    .groupby('topic') \\\n",
    "    .count() \\\n",
    "    .plot(kind='barh', legend=False)\n",
    "plt.xlabel('Number of Interactions')\n",
    "plt.ylabel('Topic')\n",
    "plt.savefig(\n",
    "    fname=os.path.join(output_dir, \"topic_level-distribution_of_query_topics.pdf\"),\n",
    "    bbox_inches='tight')\n",
    "plt.show()\n",
    "\n",
    "plt.rc('figure', figsize=DEFAULT_FIGSIZE)"
   ]
  },
  {
   "cell_type": "markdown",
   "metadata": {
    "slideshow": {
     "slide_type": "slide"
    }
   },
   "source": [
    "## Distribution of query categories over time"
   ]
  },
  {
   "cell_type": "code",
   "execution_count": 27,
   "metadata": {
    "slideshow": {
     "slide_type": "fragment"
    }
   },
   "outputs": [
    {
     "data": {
      "image/png": "[encoded data removed]",
      "text/plain": [
       "<Figure size 432x216 with 1 Axes>"
      ]
     },
     "metadata": {},
     "output_type": "display_data"
    },
    {
     "name": "stdout",
     "output_type": "stream",
     "text": [
      "time: 10.3 s\n"
     ]
    }
   ],
   "source": [
    "categories_over_time = qlog[['query', 'category', 'date']] \\\n",
    "    .groupby(['category', 'date']) \\\n",
    "    .count() \\\n",
    "    .unstack() \\\n",
    "    .T \\\n",
    "    .reset_index() \\\n",
    "    .set_index('date') \\\n",
    "    .drop('level_0', axis=1) \\\n",
    "    .fillna(0) \\\n",
    "    .rolling(window=7) \\\n",
    "    .mean()\n",
    "\n",
    "categories_over_time.plot()\n",
    "plt.legend(loc='upper right', ncol=3, fontsize='small', bbox_to_anchor=(1.015, 1.25))\n",
    "plt.xlabel('Date')\n",
    "plt.ylabel('Number of Interactions')\n",
    "plt.xticks(rotation=90)\n",
    "plt.savefig(\n",
    "    fname=os.path.join(output_dir, \"topic_level-distribution_of_query_categories_over_time.pdf\"),\n",
    "    bbox_inches='tight')\n",
    "plt.show()"
   ]
  },
  {
   "cell_type": "markdown",
   "metadata": {
    "slideshow": {
     "slide_type": "slide"
    }
   },
   "source": [
    "### Per 24h cycles"
   ]
  },
  {
   "cell_type": "code",
   "execution_count": 28,
   "metadata": {
    "slideshow": {
     "slide_type": "fragment"
    }
   },
   "outputs": [
    {
     "data": {
      "image/png": "[encoded data removed]",
      "text/plain": [
       "<Figure size 432x216 with 1 Axes>"
      ]
     },
     "metadata": {},
     "output_type": "display_data"
    },
    {
     "name": "stdout",
     "output_type": "stream",
     "text": [
      "time: 7.72 s\n"
     ]
    }
   ],
   "source": [
    "qlog[['query', 'category', 'hour']] \\\n",
    "    .groupby(['category', 'hour']) \\\n",
    "    .count() \\\n",
    "    .unstack() \\\n",
    "    .T \\\n",
    "    .reset_index() \\\n",
    "    .set_index('hour') \\\n",
    "    .drop('level_0', axis=1) \\\n",
    "    .plot(kind='bar', width=.8)\n",
    "\n",
    "plt.legend(loc='upper left', ncol=6)\n",
    "plt.xticks(range(0, 24, 2), labels=['{0}h'.format(h) for h in range(0, 24, 2)], rotation=0)\n",
    "plt.show()"
   ]
  },
  {
   "cell_type": "markdown",
   "metadata": {
    "slideshow": {
     "slide_type": "slide"
    }
   },
   "source": [
    "### Per weekday cycles"
   ]
  },
  {
   "cell_type": "code",
   "execution_count": 29,
   "metadata": {
    "slideshow": {
     "slide_type": "fragment"
    }
   },
   "outputs": [
    {
     "data": {
      "image/png": "[encoded data removed]",
      "text/plain": [
       "<Figure size 432x216 with 1 Axes>"
      ]
     },
     "metadata": {},
     "output_type": "display_data"
    },
    {
     "name": "stdout",
     "output_type": "stream",
     "text": [
      "time: 7.51 s\n"
     ]
    }
   ],
   "source": [
    "qlog[['query', 'category', 'weekday']] \\\n",
    "    .groupby(['category', 'weekday']) \\\n",
    "    .count() \\\n",
    "    .unstack() \\\n",
    "    .T \\\n",
    "    .reset_index() \\\n",
    "    .set_index('weekday') \\\n",
    "    .drop('level_0', axis=1) \\\n",
    "    .plot(kind='bar', width=.8)\n",
    "\n",
    "plt.legend(loc='upper left', ncol=6)\n",
    "plt.xticks(range(len(weekdays)), labels=weekdays, rotation=0)\n",
    "plt.show()"
   ]
  },
  {
   "cell_type": "markdown",
   "metadata": {
    "slideshow": {
     "slide_type": "slide"
    }
   },
   "source": [
    "### Per monthly cycles"
   ]
  },
  {
   "cell_type": "code",
   "execution_count": 30,
   "metadata": {
    "slideshow": {
     "slide_type": "fragment"
    }
   },
   "outputs": [
    {
     "data": {
      "image/png": "[encoded data removed]",
      "text/plain": [
       "<Figure size 432x216 with 1 Axes>"
      ]
     },
     "metadata": {},
     "output_type": "display_data"
    },
    {
     "name": "stdout",
     "output_type": "stream",
     "text": [
      "time: 7.32 s\n"
     ]
    }
   ],
   "source": [
    "qlog[['query', 'category', 'month']] \\\n",
    "    .groupby(['category', 'month']) \\\n",
    "    .count() \\\n",
    "    .unstack() \\\n",
    "    .T \\\n",
    "    .reset_index() \\\n",
    "    .set_index('month') \\\n",
    "    .drop('level_0', axis=1) \\\n",
    "    .plot(kind='bar', width=.8)\n",
    "\n",
    "plt.legend(loc='upper right', ncol=6)\n",
    "plt.xticks(\n",
    "    range(queries_per_month.shape[0]),\n",
    "    labels=months[(min(queries_per_month.index)-1):max(queries_per_month.index)],\n",
    "    rotation=0)\n",
    "plt.show()"
   ]
  },
  {
   "cell_type": "markdown",
   "metadata": {
    "slideshow": {
     "slide_type": "slide"
    }
   },
   "source": [
    "## Distribution of query topics over time for top-4 topics"
   ]
  },
  {
   "cell_type": "code",
   "execution_count": 31,
   "metadata": {
    "slideshow": {
     "slide_type": "fragment"
    }
   },
   "outputs": [
    {
     "name": "stdout",
     "output_type": "stream",
     "text": [
      "time: 5.56 s\n"
     ]
    }
   ],
   "source": [
    "top_topics = qlog[['query', 'topic']] \\\n",
    "    .groupby('topic') \\\n",
    "    .count() \\\n",
    "    .sort_values(by=\"query\", ascending=False) \\\n",
    "    .rename({'query': 'count'}, axis=1) \\\n",
    "    .head(4)"
   ]
  },
  {
   "cell_type": "code",
   "execution_count": 32,
   "metadata": {
    "slideshow": {
     "slide_type": "fragment"
    }
   },
   "outputs": [
    {
     "data": {
      "image/png": "[encoded data removed]",
      "text/plain": [
       "<Figure size 432x216 with 1 Axes>"
      ]
     },
     "metadata": {},
     "output_type": "display_data"
    },
    {
     "name": "stdout",
     "output_type": "stream",
     "text": [
      "time: 4.08 s\n"
     ]
    }
   ],
   "source": [
    "topics_over_time = qlog[['query', 'topic', 'date']] \\\n",
    "    .merge(top_topics, left_on='topic', right_index=True) \\\n",
    "    .groupby(['topic', 'date']) \\\n",
    "    .count() \\\n",
    "    .unstack() \\\n",
    "    .T \\\n",
    "    .reset_index() \\\n",
    "    .set_index('date') \\\n",
    "    .drop('level_0', axis=1) \\\n",
    "    .fillna(0) \\\n",
    "    .rolling(window=7) \\\n",
    "    .mean()\n",
    "\n",
    "topics_over_time.plot()\n",
    "plt.legend(loc='upper right', ncol=2, fontsize='small', bbox_to_anchor=(1.015, 1.25))\n",
    "plt.xlabel('Date')\n",
    "plt.ylabel('Number of Interactions')\n",
    "plt.xticks(rotation=90)\n",
    "plt.savefig(\n",
    "    fname=os.path.join(output_dir, \"topic_level-distribution_of_query_topics_over_time_top_4_topics.pdf\"),\n",
    "    bbox_inches='tight')\n",
    "plt.show()"
   ]
  },
  {
   "cell_type": "markdown",
   "metadata": {
    "slideshow": {
     "slide_type": "slide"
    }
   },
   "source": [
    "### Per 24h cycles"
   ]
  },
  {
   "cell_type": "code",
   "execution_count": 33,
   "metadata": {
    "slideshow": {
     "slide_type": "fragment"
    }
   },
   "outputs": [
    {
     "data": {
      "image/png": "[encoded data removed]",
      "text/plain": [
       "<Figure size 432x216 with 1 Axes>"
      ]
     },
     "metadata": {},
     "output_type": "display_data"
    },
    {
     "name": "stdout",
     "output_type": "stream",
     "text": [
      "time: 2.91 s\n"
     ]
    }
   ],
   "source": [
    "qlog[['topic', 'hour']] \\\n",
    "    .merge(top_topics, left_on='topic', right_index=True) \\\n",
    "    .groupby(['topic', 'hour']) \\\n",
    "    .count() \\\n",
    "    .unstack() \\\n",
    "    .T \\\n",
    "    .reset_index() \\\n",
    "    .set_index('hour') \\\n",
    "    .drop('level_0', axis=1) \\\n",
    "    .plot(kind='bar', width=.8)\n",
    "\n",
    "plt.legend(loc='upper right', ncol=2, fontsize='small', bbox_to_anchor=(1.015, 1.25))\n",
    "plt.xticks(range(0, 24, 2), labels=['{0}h'.format(h) for h in range(0, 24, 2)], rotation=0)\n",
    "plt.show()"
   ]
  },
  {
   "cell_type": "markdown",
   "metadata": {
    "slideshow": {
     "slide_type": "slide"
    }
   },
   "source": [
    "### Per weekday cycles"
   ]
  },
  {
   "cell_type": "code",
   "execution_count": 34,
   "metadata": {
    "slideshow": {
     "slide_type": "fragment"
    }
   },
   "outputs": [
    {
     "data": {
      "image/png": "[encoded data removed]",
      "text/plain": [
       "<Figure size 432x216 with 1 Axes>"
      ]
     },
     "metadata": {},
     "output_type": "display_data"
    },
    {
     "name": "stdout",
     "output_type": "stream",
     "text": [
      "time: 3.52 s\n"
     ]
    }
   ],
   "source": [
    "qlog[['query', 'topic', 'weekday']] \\\n",
    "    .merge(top_topics, left_on='topic', right_index=True) \\\n",
    "    .groupby(['topic', 'weekday']) \\\n",
    "    .count() \\\n",
    "    .unstack() \\\n",
    "    .T \\\n",
    "    .reset_index() \\\n",
    "    .set_index('weekday') \\\n",
    "    .drop('level_0', axis=1) \\\n",
    "    .plot(kind='bar', width=.8)\n",
    "\n",
    "plt.legend(loc='upper right', ncol=2, fontsize='small', bbox_to_anchor=(1.015, 1.25))\n",
    "plt.xticks(range(len(weekdays)), labels=weekdays, rotation=0)\n",
    "plt.show()"
   ]
  },
  {
   "cell_type": "markdown",
   "metadata": {
    "slideshow": {
     "slide_type": "slide"
    }
   },
   "source": [
    "### Per monthly cycles"
   ]
  },
  {
   "cell_type": "code",
   "execution_count": 35,
   "metadata": {
    "slideshow": {
     "slide_type": "fragment"
    }
   },
   "outputs": [
    {
     "data": {
      "image/png": "[encoded data removed]",
      "text/plain": [
       "<Figure size 432x216 with 1 Axes>"
      ]
     },
     "metadata": {},
     "output_type": "display_data"
    },
    {
     "name": "stdout",
     "output_type": "stream",
     "text": [
      "time: 3.76 s\n"
     ]
    }
   ],
   "source": [
    "qlog[['query', 'topic', 'month']] \\\n",
    "    .merge(top_topics, left_on='topic', right_index=True) \\\n",
    "    .groupby(['topic', 'month']) \\\n",
    "    .count() \\\n",
    "    .unstack() \\\n",
    "    .T \\\n",
    "    .reset_index() \\\n",
    "    .set_index('month') \\\n",
    "    .drop('level_0', axis=1) \\\n",
    "    .plot(kind='bar', width=.8)\n",
    "\n",
    "plt.legend(loc='upper right', ncol=2, fontsize='small', bbox_to_anchor=(1.015, 1.25))\n",
    "plt.xticks(\n",
    "    range(queries_per_month.shape[0]),\n",
    "    labels=months[(min(queries_per_month.index)-1):max(queries_per_month.index)],\n",
    "    rotation=0)\n",
    "plt.show()"
   ]
  },
  {
   "cell_type": "markdown",
   "metadata": {
    "slideshow": {
     "slide_type": "slide"
    }
   },
   "source": [
    "# Session-level analysis\n",
    "\n",
    "- Number of queries / interactions per session\n",
    "- Number of distinct queries per session\n",
    "- Session duration distribution\n",
    "- Distribution of number of clicks per session\n",
    "- Average clicked rank per session duration\n",
    "\n",
    "\n",
    "- Average session duration:\n",
    "  - Per day\n",
    "  - For 24h cycles\n",
    "  - For weekday cycles\n",
    "  - For monthly cycles"
   ]
  },
  {
   "cell_type": "markdown",
   "metadata": {
    "slideshow": {
     "slide_type": "slide"
    }
   },
   "source": [
    "## Detecting sessions\n",
    "\n",
    "**Note:** Don't run the following code block if there is already a `session_id` column."
   ]
  },
  {
   "cell_type": "code",
   "execution_count": 58,
   "metadata": {
    "slideshow": {
     "slide_type": "fragment"
    }
   },
   "outputs": [
    {
     "name": "stderr",
     "output_type": "stream",
     "text": [
      "N/A% (0 of 657426) |                     | Elapsed Time: 0:00:00 ETA:  --:--:--/home/jld/.pyenv/versions/3.6.3/lib/python3.6/site-packages/pandas/core/series.py:2459: FutureWarning: In the future, 'NAT > x' and 'x > NAT' will always be False.\n",
      "  result = func(this_vals, other_vals)\n",
      " 29% (194372 of 657426) |####            | Elapsed Time: 3:42:41 ETA:  14:52:04IOPub message rate exceeded.\n",
      "The notebook server will temporarily stop sending output\n",
      "to the client in order to avoid crashing it.\n",
      "To change this limit, set the config variable\n",
      "`--NotebookApp.iopub_msg_rate_limit`.\n",
      "\n",
      "Current values:\n",
      "NotebookApp.iopub_msg_rate_limit=1000.0 (msgs/sec)\n",
      "NotebookApp.rate_limit_window=3.0 (secs)\n",
      "\n",
      " 30% (200990 of 657426) |####            | Elapsed Time: 3:56:04 ETA:  15:23:04IOPub message rate exceeded.\n",
      "The notebook server will temporarily stop sending output\n",
      "to the client in order to avoid crashing it.\n",
      "To change this limit, set the config variable\n",
      "`--NotebookApp.iopub_msg_rate_limit`.\n",
      "\n",
      "Current values:\n",
      "NotebookApp.iopub_msg_rate_limit=1000.0 (msgs/sec)\n",
      "NotebookApp.rate_limit_window=3.0 (secs)\n",
      "\n",
      " 31% (207777 of 657426) |#####           | Elapsed Time: 4:10:16 ETA:  15:08:51IOPub message rate exceeded.\n",
      "The notebook server will temporarily stop sending output\n",
      "to the client in order to avoid crashing it.\n",
      "To change this limit, set the config variable\n",
      "`--NotebookApp.iopub_msg_rate_limit`.\n",
      "\n",
      "Current values:\n",
      "NotebookApp.iopub_msg_rate_limit=1000.0 (msgs/sec)\n",
      "NotebookApp.rate_limit_window=3.0 (secs)\n",
      "\n",
      " 32% (214787 of 657426) |#####           | Elapsed Time: 4:25:09 ETA:  16:36:49IOPub message rate exceeded.\n",
      "The notebook server will temporarily stop sending output\n",
      "to the client in order to avoid crashing it.\n",
      "To change this limit, set the config variable\n",
      "`--NotebookApp.iopub_msg_rate_limit`.\n",
      "\n",
      "Current values:\n",
      "NotebookApp.iopub_msg_rate_limit=1000.0 (msgs/sec)\n",
      "NotebookApp.rate_limit_window=3.0 (secs)\n",
      "\n",
      " 33% (221534 of 657426) |#####           | Elapsed Time: 4:40:40 ETA:  16:43:21IOPub message rate exceeded.\n",
      "The notebook server will temporarily stop sending output\n",
      "to the client in order to avoid crashing it.\n",
      "To change this limit, set the config variable\n",
      "`--NotebookApp.iopub_msg_rate_limit`.\n",
      "\n",
      "Current values:\n",
      "NotebookApp.iopub_msg_rate_limit=1000.0 (msgs/sec)\n",
      "NotebookApp.rate_limit_window=3.0 (secs)\n",
      "\n",
      " 34% (228540 of 657426) |#####           | Elapsed Time: 4:56:06 ETA:  15:29:16IOPub message rate exceeded.\n",
      "The notebook server will temporarily stop sending output\n",
      "to the client in order to avoid crashing it.\n",
      "To change this limit, set the config variable\n",
      "`--NotebookApp.iopub_msg_rate_limit`.\n",
      "\n",
      "Current values:\n",
      "NotebookApp.iopub_msg_rate_limit=1000.0 (msgs/sec)\n",
      "NotebookApp.rate_limit_window=3.0 (secs)\n",
      "\n",
      " 35% (235529 of 657426) |#####           | Elapsed Time: 5:11:34 ETA:  16:40:47IOPub message rate exceeded.\n",
      "The notebook server will temporarily stop sending output\n",
      "to the client in order to avoid crashing it.\n",
      "To change this limit, set the config variable\n",
      "`--NotebookApp.iopub_msg_rate_limit`.\n",
      "\n",
      "Current values:\n",
      "NotebookApp.iopub_msg_rate_limit=1000.0 (msgs/sec)\n",
      "NotebookApp.rate_limit_window=3.0 (secs)\n",
      "\n",
      " 36% (242262 of 657426) |#####           | Elapsed Time: 5:27:07 ETA:  15:36:51IOPub message rate exceeded.\n",
      "The notebook server will temporarily stop sending output\n",
      "to the client in order to avoid crashing it.\n",
      "To change this limit, set the config variable\n",
      "`--NotebookApp.iopub_msg_rate_limit`.\n",
      "\n",
      "Current values:\n",
      "NotebookApp.iopub_msg_rate_limit=1000.0 (msgs/sec)\n",
      "NotebookApp.rate_limit_window=3.0 (secs)\n",
      "\n",
      " 37% (249509 of 657426) |######          | Elapsed Time: 5:43:23 ETA:  14:56:56IOPub message rate exceeded.\n",
      "The notebook server will temporarily stop sending output\n",
      "to the client in order to avoid crashing it.\n",
      "To change this limit, set the config variable\n",
      "`--NotebookApp.iopub_msg_rate_limit`.\n",
      "\n",
      "Current values:\n",
      "NotebookApp.iopub_msg_rate_limit=1000.0 (msgs/sec)\n",
      "NotebookApp.rate_limit_window=3.0 (secs)\n",
      "\n",
      " 39% (256837 of 657426) |######          | Elapsed Time: 6:00:02 ETA:  15:01:49IOPub message rate exceeded.\n",
      "The notebook server will temporarily stop sending output\n",
      "to the client in order to avoid crashing it.\n",
      "To change this limit, set the config variable\n",
      "`--NotebookApp.iopub_msg_rate_limit`.\n",
      "\n",
      "Current values:\n",
      "NotebookApp.iopub_msg_rate_limit=1000.0 (msgs/sec)\n",
      "NotebookApp.rate_limit_window=3.0 (secs)\n",
      "\n",
      " 40% (263754 of 657426) |######          | Elapsed Time: 6:16:35 ETA:  15:11:06IOPub message rate exceeded.\n",
      "The notebook server will temporarily stop sending output\n",
      "to the client in order to avoid crashing it.\n",
      "To change this limit, set the config variable\n",
      "`--NotebookApp.iopub_msg_rate_limit`.\n",
      "\n",
      "Current values:\n",
      "NotebookApp.iopub_msg_rate_limit=1000.0 (msgs/sec)\n",
      "NotebookApp.rate_limit_window=3.0 (secs)\n",
      "\n",
      " 41% (270978 of 657426) |######          | Elapsed Time: 6:33:30 ETA:  14:54:29IOPub message rate exceeded.\n",
      "The notebook server will temporarily stop sending output\n",
      "to the client in order to avoid crashing it.\n",
      "To change this limit, set the config variable\n",
      "`--NotebookApp.iopub_msg_rate_limit`.\n",
      "\n",
      "Current values:\n",
      "NotebookApp.iopub_msg_rate_limit=1000.0 (msgs/sec)\n",
      "NotebookApp.rate_limit_window=3.0 (secs)\n",
      "\n",
      " 52% (347751 of 657426) |########        | Elapsed Time: 9:47:55 ETA:  13:43:50IOPub message rate exceeded.\n",
      "The notebook server will temporarily stop sending output\n",
      "to the client in order to avoid crashing it.\n",
      "To change this limit, set the config variable\n",
      "`--NotebookApp.iopub_msg_rate_limit`.\n",
      "\n",
      "Current values:\n",
      "NotebookApp.iopub_msg_rate_limit=1000.0 (msgs/sec)\n",
      "NotebookApp.rate_limit_window=3.0 (secs)\n",
      "\n",
      " 53% (353010 of 657426) |########       | Elapsed Time: 10:02:09 ETA:  14:12:55IOPub message rate exceeded.\n",
      "The notebook server will temporarily stop sending output\n",
      "to the client in order to avoid crashing it.\n",
      "To change this limit, set the config variable\n",
      "`--NotebookApp.iopub_msg_rate_limit`.\n",
      "\n",
      "Current values:\n",
      "NotebookApp.iopub_msg_rate_limit=1000.0 (msgs/sec)\n",
      "NotebookApp.rate_limit_window=3.0 (secs)\n",
      "\n",
      " 54% (355053 of 657426) |########       | Elapsed Time: 10:08:04 ETA:  13:21:17IOPub message rate exceeded.\n",
      "The notebook server will temporarily stop sending output\n",
      "to the client in order to avoid crashing it.\n",
      "To change this limit, set the config variable\n",
      "`--NotebookApp.iopub_msg_rate_limit`.\n",
      "\n",
      "Current values:\n",
      "NotebookApp.iopub_msg_rate_limit=1000.0 (msgs/sec)\n",
      "NotebookApp.rate_limit_window=3.0 (secs)\n",
      "\n",
      " 54% (360268 of 657426) |########       | Elapsed Time: 10:22:23 ETA:  13:01:05IOPub message rate exceeded.\n",
      "The notebook server will temporarily stop sending output\n",
      "to the client in order to avoid crashing it.\n",
      "To change this limit, set the config variable\n",
      "`--NotebookApp.iopub_msg_rate_limit`.\n",
      "\n",
      "Current values:\n",
      "NotebookApp.iopub_msg_rate_limit=1000.0 (msgs/sec)\n",
      "NotebookApp.rate_limit_window=3.0 (secs)\n",
      "\n",
      " 55% (362353 of 657426) |########       | Elapsed Time: 10:28:30 ETA:  14:09:40IOPub message rate exceeded.\n",
      "The notebook server will temporarily stop sending output\n",
      "to the client in order to avoid crashing it.\n",
      "To change this limit, set the config variable\n",
      "`--NotebookApp.iopub_msg_rate_limit`.\n",
      "\n",
      "Current values:\n",
      "NotebookApp.iopub_msg_rate_limit=1000.0 (msgs/sec)\n",
      "NotebookApp.rate_limit_window=3.0 (secs)\n",
      "\n",
      " 55% (367548 of 657426) |########       | Elapsed Time: 10:42:42 ETA:  12:50:16IOPub message rate exceeded.\n",
      "The notebook server will temporarily stop sending output\n",
      "to the client in order to avoid crashing it.\n",
      "To change this limit, set the config variable\n",
      "`--NotebookApp.iopub_msg_rate_limit`.\n",
      "\n",
      "Current values:\n",
      "NotebookApp.iopub_msg_rate_limit=1000.0 (msgs/sec)\n",
      "NotebookApp.rate_limit_window=3.0 (secs)\n",
      "\n",
      " 56% (369626 of 657426) |########       | Elapsed Time: 10:48:25 ETA:  13:21:15IOPub message rate exceeded.\n",
      "The notebook server will temporarily stop sending output\n",
      "to the client in order to avoid crashing it.\n",
      "To change this limit, set the config variable\n",
      "`--NotebookApp.iopub_msg_rate_limit`.\n",
      "\n",
      "Current values:\n",
      "NotebookApp.iopub_msg_rate_limit=1000.0 (msgs/sec)\n",
      "NotebookApp.rate_limit_window=3.0 (secs)\n",
      "\n",
      " 56% (374283 of 657426) |########       | Elapsed Time: 11:01:31 ETA:  12:40:30IOPub message rate exceeded.\n",
      "The notebook server will temporarily stop sending output\n",
      "to the client in order to avoid crashing it.\n",
      "To change this limit, set the config variable\n",
      "`--NotebookApp.iopub_msg_rate_limit`.\n",
      "\n",
      "Current values:\n",
      "NotebookApp.iopub_msg_rate_limit=1000.0 (msgs/sec)\n",
      "NotebookApp.rate_limit_window=3.0 (secs)\n",
      "\n"
     ]
    },
    {
     "name": "stderr",
     "output_type": "stream",
     "text": [
      " 57% (376138 of 657426) |########       | Elapsed Time: 11:06:55 ETA:  13:48:49IOPub message rate exceeded.\n",
      "The notebook server will temporarily stop sending output\n",
      "to the client in order to avoid crashing it.\n",
      "To change this limit, set the config variable\n",
      "`--NotebookApp.iopub_msg_rate_limit`.\n",
      "\n",
      "Current values:\n",
      "NotebookApp.iopub_msg_rate_limit=1000.0 (msgs/sec)\n",
      "NotebookApp.rate_limit_window=3.0 (secs)\n",
      "\n",
      " 57% (380559 of 657426) |########       | Elapsed Time: 11:19:55 ETA:  12:24:16IOPub message rate exceeded.\n",
      "The notebook server will temporarily stop sending output\n",
      "to the client in order to avoid crashing it.\n",
      "To change this limit, set the config variable\n",
      "`--NotebookApp.iopub_msg_rate_limit`.\n",
      "\n",
      "Current values:\n",
      "NotebookApp.iopub_msg_rate_limit=1000.0 (msgs/sec)\n",
      "NotebookApp.rate_limit_window=3.0 (secs)\n",
      "\n",
      " 58% (382489 of 657426) |########       | Elapsed Time: 11:25:33 ETA:  13:27:19IOPub message rate exceeded.\n",
      "The notebook server will temporarily stop sending output\n",
      "to the client in order to avoid crashing it.\n",
      "To change this limit, set the config variable\n",
      "`--NotebookApp.iopub_msg_rate_limit`.\n",
      "\n",
      "Current values:\n",
      "NotebookApp.iopub_msg_rate_limit=1000.0 (msgs/sec)\n",
      "NotebookApp.rate_limit_window=3.0 (secs)\n",
      "\n",
      " 58% (387450 of 657426) |########       | Elapsed Time: 11:40:26 ETA:  14:08:39IOPub message rate exceeded.\n",
      "The notebook server will temporarily stop sending output\n",
      "to the client in order to avoid crashing it.\n",
      "To change this limit, set the config variable\n",
      "`--NotebookApp.iopub_msg_rate_limit`.\n",
      "\n",
      "Current values:\n",
      "NotebookApp.iopub_msg_rate_limit=1000.0 (msgs/sec)\n",
      "NotebookApp.rate_limit_window=3.0 (secs)\n",
      "\n",
      " 59% (389364 of 657426) |########       | Elapsed Time: 11:46:12 ETA:  13:24:57IOPub message rate exceeded.\n",
      "The notebook server will temporarily stop sending output\n",
      "to the client in order to avoid crashing it.\n",
      "To change this limit, set the config variable\n",
      "`--NotebookApp.iopub_msg_rate_limit`.\n",
      "\n",
      "Current values:\n",
      "NotebookApp.iopub_msg_rate_limit=1000.0 (msgs/sec)\n",
      "NotebookApp.rate_limit_window=3.0 (secs)\n",
      "\n",
      " 59% (394409 of 657426) |########       | Elapsed Time: 12:01:20 ETA:  13:33:30IOPub message rate exceeded.\n",
      "The notebook server will temporarily stop sending output\n",
      "to the client in order to avoid crashing it.\n",
      "To change this limit, set the config variable\n",
      "`--NotebookApp.iopub_msg_rate_limit`.\n",
      "\n",
      "Current values:\n",
      "NotebookApp.iopub_msg_rate_limit=1000.0 (msgs/sec)\n",
      "NotebookApp.rate_limit_window=3.0 (secs)\n",
      "\n",
      " 60% (396308 of 657426) |#########      | Elapsed Time: 12:07:00 ETA:  12:58:58IOPub message rate exceeded.\n",
      "The notebook server will temporarily stop sending output\n",
      "to the client in order to avoid crashing it.\n",
      "To change this limit, set the config variable\n",
      "`--NotebookApp.iopub_msg_rate_limit`.\n",
      "\n",
      "Current values:\n",
      "NotebookApp.iopub_msg_rate_limit=1000.0 (msgs/sec)\n",
      "NotebookApp.rate_limit_window=3.0 (secs)\n",
      "\n",
      " 61% (401321 of 657426) |#########      | Elapsed Time: 12:21:25 ETA:  11:43:46IOPub message rate exceeded.\n",
      "The notebook server will temporarily stop sending output\n",
      "to the client in order to avoid crashing it.\n",
      "To change this limit, set the config variable\n",
      "`--NotebookApp.iopub_msg_rate_limit`.\n",
      "\n",
      "Current values:\n",
      "NotebookApp.iopub_msg_rate_limit=1000.0 (msgs/sec)\n",
      "NotebookApp.rate_limit_window=3.0 (secs)\n",
      "\n",
      " 61% (403252 of 657426) |#########      | Elapsed Time: 12:26:49 ETA:  11:40:18IOPub message rate exceeded.\n",
      "The notebook server will temporarily stop sending output\n",
      "to the client in order to avoid crashing it.\n",
      "To change this limit, set the config variable\n",
      "`--NotebookApp.iopub_msg_rate_limit`.\n",
      "\n",
      "Current values:\n",
      "NotebookApp.iopub_msg_rate_limit=1000.0 (msgs/sec)\n",
      "NotebookApp.rate_limit_window=3.0 (secs)\n",
      "\n",
      " 62% (408282 of 657426) |#########      | Elapsed Time: 12:40:53 ETA:  11:29:54IOPub message rate exceeded.\n",
      "The notebook server will temporarily stop sending output\n",
      "to the client in order to avoid crashing it.\n",
      "To change this limit, set the config variable\n",
      "`--NotebookApp.iopub_msg_rate_limit`.\n",
      "\n",
      "Current values:\n",
      "NotebookApp.iopub_msg_rate_limit=1000.0 (msgs/sec)\n",
      "NotebookApp.rate_limit_window=3.0 (secs)\n",
      "\n",
      " 62% (410180 of 657426) |#########      | Elapsed Time: 12:46:13 ETA:  11:20:24IOPub message rate exceeded.\n",
      "The notebook server will temporarily stop sending output\n",
      "to the client in order to avoid crashing it.\n",
      "To change this limit, set the config variable\n",
      "`--NotebookApp.iopub_msg_rate_limit`.\n",
      "\n",
      "Current values:\n",
      "NotebookApp.iopub_msg_rate_limit=1000.0 (msgs/sec)\n",
      "NotebookApp.rate_limit_window=3.0 (secs)\n",
      "\n",
      " 63% (416214 of 657426) |#########      | Elapsed Time: 13:02:54 ETA:  11:08:57IOPub message rate exceeded.\n",
      "The notebook server will temporarily stop sending output\n",
      "to the client in order to avoid crashing it.\n",
      "To change this limit, set the config variable\n",
      "`--NotebookApp.iopub_msg_rate_limit`.\n",
      "\n",
      "Current values:\n",
      "NotebookApp.iopub_msg_rate_limit=1000.0 (msgs/sec)\n",
      "NotebookApp.rate_limit_window=3.0 (secs)\n",
      "\n",
      " 64% (422525 of 657426) |#########      | Elapsed Time: 13:21:59 ETA:  11:52:29IOPub message rate exceeded.\n",
      "The notebook server will temporarily stop sending output\n",
      "to the client in order to avoid crashing it.\n",
      "To change this limit, set the config variable\n",
      "`--NotebookApp.iopub_msg_rate_limit`.\n",
      "\n",
      "Current values:\n",
      "NotebookApp.iopub_msg_rate_limit=1000.0 (msgs/sec)\n",
      "NotebookApp.rate_limit_window=3.0 (secs)\n",
      "\n",
      " 65% (429440 of 657426) |#########      | Elapsed Time: 13:42:59 ETA:  11:35:11IOPub message rate exceeded.\n",
      "The notebook server will temporarily stop sending output\n",
      "to the client in order to avoid crashing it.\n",
      "To change this limit, set the config variable\n",
      "`--NotebookApp.iopub_msg_rate_limit`.\n",
      "\n",
      "Current values:\n",
      "NotebookApp.iopub_msg_rate_limit=1000.0 (msgs/sec)\n",
      "NotebookApp.rate_limit_window=3.0 (secs)\n",
      "\n",
      " 66% (436285 of 657426) |#########      | Elapsed Time: 14:04:13 ETA:  11:34:23IOPub message rate exceeded.\n",
      "The notebook server will temporarily stop sending output\n",
      "to the client in order to avoid crashing it.\n",
      "To change this limit, set the config variable\n",
      "`--NotebookApp.iopub_msg_rate_limit`.\n",
      "\n",
      "Current values:\n",
      "NotebookApp.iopub_msg_rate_limit=1000.0 (msgs/sec)\n",
      "NotebookApp.rate_limit_window=3.0 (secs)\n",
      "\n",
      " 67% (443600 of 657426) |##########     | Elapsed Time: 14:27:00 ETA:  11:26:31IOPub message rate exceeded.\n",
      "The notebook server will temporarily stop sending output\n",
      "to the client in order to avoid crashing it.\n",
      "To change this limit, set the config variable\n",
      "`--NotebookApp.iopub_msg_rate_limit`.\n",
      "\n",
      "Current values:\n",
      "NotebookApp.iopub_msg_rate_limit=1000.0 (msgs/sec)\n",
      "NotebookApp.rate_limit_window=3.0 (secs)\n",
      "\n",
      " 68% (450886 of 657426) |##########     | Elapsed Time: 14:49:55 ETA:  11:12:31IOPub message rate exceeded.\n",
      "The notebook server will temporarily stop sending output\n",
      "to the client in order to avoid crashing it.\n",
      "To change this limit, set the config variable\n",
      "`--NotebookApp.iopub_msg_rate_limit`.\n",
      "\n",
      "Current values:\n",
      "NotebookApp.iopub_msg_rate_limit=1000.0 (msgs/sec)\n",
      "NotebookApp.rate_limit_window=3.0 (secs)\n",
      "\n",
      " 69% (457976 of 657426) |##########     | Elapsed Time: 15:11:48 ETA:  10:28:16IOPub message rate exceeded.\n",
      "The notebook server will temporarily stop sending output\n",
      "to the client in order to avoid crashing it.\n",
      "To change this limit, set the config variable\n",
      "`--NotebookApp.iopub_msg_rate_limit`.\n",
      "\n",
      "Current values:\n",
      "NotebookApp.iopub_msg_rate_limit=1000.0 (msgs/sec)\n",
      "NotebookApp.rate_limit_window=3.0 (secs)\n",
      "\n",
      " 70% (464421 of 657426) |##########     | Elapsed Time: 15:32:20 ETA:   9:59:25IOPub message rate exceeded.\n",
      "The notebook server will temporarily stop sending output\n",
      "to the client in order to avoid crashing it.\n",
      "To change this limit, set the config variable\n",
      "`--NotebookApp.iopub_msg_rate_limit`.\n",
      "\n",
      "Current values:\n",
      "NotebookApp.iopub_msg_rate_limit=1000.0 (msgs/sec)\n",
      "NotebookApp.rate_limit_window=3.0 (secs)\n",
      "\n",
      " 71% (471406 of 657426) |##########     | Elapsed Time: 15:53:29 ETA:  10:33:12IOPub message rate exceeded.\n",
      "The notebook server will temporarily stop sending output\n",
      "to the client in order to avoid crashing it.\n",
      "To change this limit, set the config variable\n",
      "`--NotebookApp.iopub_msg_rate_limit`.\n",
      "\n",
      "Current values:\n",
      "NotebookApp.iopub_msg_rate_limit=1000.0 (msgs/sec)\n",
      "NotebookApp.rate_limit_window=3.0 (secs)\n",
      "\n",
      " 72% (478419 of 657426) |##########     | Elapsed Time: 16:15:21 ETA:   9:32:55IOPub message rate exceeded.\n",
      "The notebook server will temporarily stop sending output\n",
      "to the client in order to avoid crashing it.\n",
      "To change this limit, set the config variable\n",
      "`--NotebookApp.iopub_msg_rate_limit`.\n",
      "\n",
      "Current values:\n",
      "NotebookApp.iopub_msg_rate_limit=1000.0 (msgs/sec)\n",
      "NotebookApp.rate_limit_window=3.0 (secs)\n",
      "\n"
     ]
    },
    {
     "name": "stderr",
     "output_type": "stream",
     "text": [
      " 73% (485418 of 657426) |###########    | Elapsed Time: 16:36:19 ETA:   8:18:24IOPub message rate exceeded.\n",
      "The notebook server will temporarily stop sending output\n",
      "to the client in order to avoid crashing it.\n",
      "To change this limit, set the config variable\n",
      "`--NotebookApp.iopub_msg_rate_limit`.\n",
      "\n",
      "Current values:\n",
      "NotebookApp.iopub_msg_rate_limit=1000.0 (msgs/sec)\n",
      "NotebookApp.rate_limit_window=3.0 (secs)\n",
      "\n",
      " 74% (492398 of 657426) |###########    | Elapsed Time: 16:57:11 ETA:   9:00:56IOPub message rate exceeded.\n",
      "The notebook server will temporarily stop sending output\n",
      "to the client in order to avoid crashing it.\n",
      "To change this limit, set the config variable\n",
      "`--NotebookApp.iopub_msg_rate_limit`.\n",
      "\n",
      "Current values:\n",
      "NotebookApp.iopub_msg_rate_limit=1000.0 (msgs/sec)\n",
      "NotebookApp.rate_limit_window=3.0 (secs)\n",
      "\n",
      " 75% (499033 of 657426) |###########    | Elapsed Time: 17:17:10 ETA:   7:35:24IOPub message rate exceeded.\n",
      "The notebook server will temporarily stop sending output\n",
      "to the client in order to avoid crashing it.\n",
      "To change this limit, set the config variable\n",
      "`--NotebookApp.iopub_msg_rate_limit`.\n",
      "\n",
      "Current values:\n",
      "NotebookApp.iopub_msg_rate_limit=1000.0 (msgs/sec)\n",
      "NotebookApp.rate_limit_window=3.0 (secs)\n",
      "\n",
      " 76% (505972 of 657426) |###########    | Elapsed Time: 17:37:44 ETA:   7:20:52IOPub message rate exceeded.\n",
      "The notebook server will temporarily stop sending output\n",
      "to the client in order to avoid crashing it.\n",
      "To change this limit, set the config variable\n",
      "`--NotebookApp.iopub_msg_rate_limit`.\n",
      "\n",
      "Current values:\n",
      "NotebookApp.iopub_msg_rate_limit=1000.0 (msgs/sec)\n",
      "NotebookApp.rate_limit_window=3.0 (secs)\n",
      "\n",
      " 78% (513299 of 657426) |###########    | Elapsed Time: 17:59:32 ETA:   6:58:42IOPub message rate exceeded.\n",
      "The notebook server will temporarily stop sending output\n",
      "to the client in order to avoid crashing it.\n",
      "To change this limit, set the config variable\n",
      "`--NotebookApp.iopub_msg_rate_limit`.\n",
      "\n",
      "Current values:\n",
      "NotebookApp.iopub_msg_rate_limit=1000.0 (msgs/sec)\n",
      "NotebookApp.rate_limit_window=3.0 (secs)\n",
      "\n",
      " 79% (520286 of 657426) |###########    | Elapsed Time: 18:20:09 ETA:   6:48:29IOPub message rate exceeded.\n",
      "The notebook server will temporarily stop sending output\n",
      "to the client in order to avoid crashing it.\n",
      "To change this limit, set the config variable\n",
      "`--NotebookApp.iopub_msg_rate_limit`.\n",
      "\n",
      "Current values:\n",
      "NotebookApp.iopub_msg_rate_limit=1000.0 (msgs/sec)\n",
      "NotebookApp.rate_limit_window=3.0 (secs)\n",
      "\n",
      " 80% (526633 of 657426) |############   | Elapsed Time: 18:39:27 ETA:   6:27:12IOPub message rate exceeded.\n",
      "The notebook server will temporarily stop sending output\n",
      "to the client in order to avoid crashing it.\n",
      "To change this limit, set the config variable\n",
      "`--NotebookApp.iopub_msg_rate_limit`.\n",
      "\n",
      "Current values:\n",
      "NotebookApp.iopub_msg_rate_limit=1000.0 (msgs/sec)\n",
      "NotebookApp.rate_limit_window=3.0 (secs)\n",
      "\n",
      " 81% (533238 of 657426) |############   | Elapsed Time: 18:59:24 ETA:   7:00:01IOPub message rate exceeded.\n",
      "The notebook server will temporarily stop sending output\n",
      "to the client in order to avoid crashing it.\n",
      "To change this limit, set the config variable\n",
      "`--NotebookApp.iopub_msg_rate_limit`.\n",
      "\n",
      "Current values:\n",
      "NotebookApp.iopub_msg_rate_limit=1000.0 (msgs/sec)\n",
      "NotebookApp.rate_limit_window=3.0 (secs)\n",
      "\n",
      " 82% (540237 of 657426) |############   | Elapsed Time: 19:21:32 ETA:   6:08:48IOPub message rate exceeded.\n",
      "The notebook server will temporarily stop sending output\n",
      "to the client in order to avoid crashing it.\n",
      "To change this limit, set the config variable\n",
      "`--NotebookApp.iopub_msg_rate_limit`.\n",
      "\n",
      "Current values:\n",
      "NotebookApp.iopub_msg_rate_limit=1000.0 (msgs/sec)\n",
      "NotebookApp.rate_limit_window=3.0 (secs)\n",
      "\n",
      " 83% (547292 of 657426) |############   | Elapsed Time: 19:43:28 ETA:   5:33:34IOPub message rate exceeded.\n",
      "The notebook server will temporarily stop sending output\n",
      "to the client in order to avoid crashing it.\n",
      "To change this limit, set the config variable\n",
      "`--NotebookApp.iopub_msg_rate_limit`.\n",
      "\n",
      "Current values:\n",
      "NotebookApp.iopub_msg_rate_limit=1000.0 (msgs/sec)\n",
      "NotebookApp.rate_limit_window=3.0 (secs)\n",
      "\n",
      " 84% (554215 of 657426) |############   | Elapsed Time: 20:04:45 ETA:   5:30:55IOPub message rate exceeded.\n",
      "The notebook server will temporarily stop sending output\n",
      "to the client in order to avoid crashing it.\n",
      "To change this limit, set the config variable\n",
      "`--NotebookApp.iopub_msg_rate_limit`.\n",
      "\n",
      "Current values:\n",
      "NotebookApp.iopub_msg_rate_limit=1000.0 (msgs/sec)\n",
      "NotebookApp.rate_limit_window=3.0 (secs)\n",
      "\n",
      " 85% (561185 of 657426) |############   | Elapsed Time: 20:27:00 ETA:   5:14:11IOPub message rate exceeded.\n",
      "The notebook server will temporarily stop sending output\n",
      "to the client in order to avoid crashing it.\n",
      "To change this limit, set the config variable\n",
      "`--NotebookApp.iopub_msg_rate_limit`.\n",
      "\n",
      "Current values:\n",
      "NotebookApp.iopub_msg_rate_limit=1000.0 (msgs/sec)\n",
      "NotebookApp.rate_limit_window=3.0 (secs)\n",
      "\n",
      " 86% (568123 of 657426) |############   | Elapsed Time: 20:49:51 ETA:   4:57:25IOPub message rate exceeded.\n",
      "The notebook server will temporarily stop sending output\n",
      "to the client in order to avoid crashing it.\n",
      "To change this limit, set the config variable\n",
      "`--NotebookApp.iopub_msg_rate_limit`.\n",
      "\n",
      "Current values:\n",
      "NotebookApp.iopub_msg_rate_limit=1000.0 (msgs/sec)\n",
      "NotebookApp.rate_limit_window=3.0 (secs)\n",
      "\n",
      " 87% (575072 of 657426) |#############  | Elapsed Time: 21:12:25 ETA:   4:09:36IOPub message rate exceeded.\n",
      "The notebook server will temporarily stop sending output\n",
      "to the client in order to avoid crashing it.\n",
      "To change this limit, set the config variable\n",
      "`--NotebookApp.iopub_msg_rate_limit`.\n",
      "\n",
      "Current values:\n",
      "NotebookApp.iopub_msg_rate_limit=1000.0 (msgs/sec)\n",
      "NotebookApp.rate_limit_window=3.0 (secs)\n",
      "\n",
      " 88% (582024 of 657426) |#############  | Elapsed Time: 21:34:27 ETA:   3:49:40IOPub message rate exceeded.\n",
      "The notebook server will temporarily stop sending output\n",
      "to the client in order to avoid crashing it.\n",
      "To change this limit, set the config variable\n",
      "`--NotebookApp.iopub_msg_rate_limit`.\n",
      "\n",
      "Current values:\n",
      "NotebookApp.iopub_msg_rate_limit=1000.0 (msgs/sec)\n",
      "NotebookApp.rate_limit_window=3.0 (secs)\n",
      "\n",
      " 89% (589008 of 657426) |#############  | Elapsed Time: 21:56:23 ETA:   4:04:26IOPub message rate exceeded.\n",
      "The notebook server will temporarily stop sending output\n",
      "to the client in order to avoid crashing it.\n",
      "To change this limit, set the config variable\n",
      "`--NotebookApp.iopub_msg_rate_limit`.\n",
      "\n",
      "Current values:\n",
      "NotebookApp.iopub_msg_rate_limit=1000.0 (msgs/sec)\n",
      "NotebookApp.rate_limit_window=3.0 (secs)\n",
      "\n",
      " 90% (595381 of 657426) |#############  | Elapsed Time: 22:16:46 ETA:   3:13:05IOPub message rate exceeded.\n",
      "The notebook server will temporarily stop sending output\n",
      "to the client in order to avoid crashing it.\n",
      "To change this limit, set the config variable\n",
      "`--NotebookApp.iopub_msg_rate_limit`.\n",
      "\n",
      "Current values:\n",
      "NotebookApp.iopub_msg_rate_limit=1000.0 (msgs/sec)\n",
      "NotebookApp.rate_limit_window=3.0 (secs)\n",
      "\n",
      " 91% (601982 of 657426) |#############  | Elapsed Time: 22:37:39 ETA:   3:03:43IOPub message rate exceeded.\n",
      "The notebook server will temporarily stop sending output\n",
      "to the client in order to avoid crashing it.\n",
      "To change this limit, set the config variable\n",
      "`--NotebookApp.iopub_msg_rate_limit`.\n",
      "\n",
      "Current values:\n",
      "NotebookApp.iopub_msg_rate_limit=1000.0 (msgs/sec)\n",
      "NotebookApp.rate_limit_window=3.0 (secs)\n",
      "\n",
      " 92% (608900 of 657426) |#############  | Elapsed Time: 22:59:36 ETA:   2:30:17IOPub message rate exceeded.\n",
      "The notebook server will temporarily stop sending output\n",
      "to the client in order to avoid crashing it.\n",
      "To change this limit, set the config variable\n",
      "`--NotebookApp.iopub_msg_rate_limit`.\n",
      "\n",
      "Current values:\n",
      "NotebookApp.iopub_msg_rate_limit=1000.0 (msgs/sec)\n",
      "NotebookApp.rate_limit_window=3.0 (secs)\n",
      "\n",
      " 93% (615858 of 657426) |############## | Elapsed Time: 23:21:45 ETA:   2:09:07IOPub message rate exceeded.\n",
      "The notebook server will temporarily stop sending output\n",
      "to the client in order to avoid crashing it.\n",
      "To change this limit, set the config variable\n",
      "`--NotebookApp.iopub_msg_rate_limit`.\n",
      "\n",
      "Current values:\n",
      "NotebookApp.iopub_msg_rate_limit=1000.0 (msgs/sec)\n",
      "NotebookApp.rate_limit_window=3.0 (secs)\n",
      "\n",
      " 94% (622844 of 657426) |############## | Elapsed Time: 23:43:56 ETA:   2:04:02IOPub message rate exceeded.\n",
      "The notebook server will temporarily stop sending output\n",
      "to the client in order to avoid crashing it.\n",
      "To change this limit, set the config variable\n",
      "`--NotebookApp.iopub_msg_rate_limit`.\n",
      "\n",
      "Current values:\n",
      "NotebookApp.iopub_msg_rate_limit=1000.0 (msgs/sec)\n",
      "NotebookApp.rate_limit_window=3.0 (secs)\n",
      "\n"
     ]
    },
    {
     "name": "stderr",
     "output_type": "stream",
     "text": [
      "100% (657426 of 657426) |###| Elapsed Time: 1 day, 1:35:38 Time: 1 day, 1:35:38\n"
     ]
    },
    {
     "data": {
      "text/html": [
       "<div>\n",
       "<style scoped>\n",
       "    .dataframe tbody tr th:only-of-type {\n",
       "        vertical-align: middle;\n",
       "    }\n",
       "\n",
       "    .dataframe tbody tr th {\n",
       "        vertical-align: top;\n",
       "    }\n",
       "\n",
       "    .dataframe thead th {\n",
       "        text-align: right;\n",
       "    }\n",
       "</style>\n",
       "<table border=\"1\" class=\"dataframe\">\n",
       "  <thead>\n",
       "    <tr style=\"text-align: right;\">\n",
       "      <th></th>\n",
       "      <th>user_id</th>\n",
       "      <th>query</th>\n",
       "      <th>timestamp</th>\n",
       "      <th>session_id</th>\n",
       "    </tr>\n",
       "  </thead>\n",
       "  <tbody>\n",
       "    <tr>\n",
       "      <th>0</th>\n",
       "      <td>142.0</td>\n",
       "      <td>rentdirect.com</td>\n",
       "      <td>2006-03-01 07:17:12</td>\n",
       "      <td>152.0</td>\n",
       "    </tr>\n",
       "    <tr>\n",
       "      <th>1</th>\n",
       "      <td>142.0</td>\n",
       "      <td>www.prescriptionfortime.com</td>\n",
       "      <td>2006-03-12 12:31:06</td>\n",
       "      <td>153.0</td>\n",
       "    </tr>\n",
       "    <tr>\n",
       "      <th>2</th>\n",
       "      <td>142.0</td>\n",
       "      <td>staple.com</td>\n",
       "      <td>2006-03-17 21:19:29</td>\n",
       "      <td>154.0</td>\n",
       "    </tr>\n",
       "    <tr>\n",
       "      <th>3</th>\n",
       "      <td>142.0</td>\n",
       "      <td>staple.com</td>\n",
       "      <td>2006-03-17 21:19:45</td>\n",
       "      <td>154.0</td>\n",
       "    </tr>\n",
       "    <tr>\n",
       "      <th>...</th>\n",
       "      <td>...</td>\n",
       "      <td>...</td>\n",
       "      <td>...</td>\n",
       "      <td>...</td>\n",
       "    </tr>\n",
       "    <tr>\n",
       "      <th>36389563</th>\n",
       "      <td>24968112.0</td>\n",
       "      <td>itunes</td>\n",
       "      <td>2006-05-31 21:18:25</td>\n",
       "      <td>10765959.0</td>\n",
       "    </tr>\n",
       "    <tr>\n",
       "      <th>36389564</th>\n",
       "      <td>24968468.0</td>\n",
       "      <td>ww.aim.com</td>\n",
       "      <td>2006-05-31 18:40:14</td>\n",
       "      <td>10765974.0</td>\n",
       "    </tr>\n",
       "    <tr>\n",
       "      <th>36389565</th>\n",
       "      <td>24969190.0</td>\n",
       "      <td>-</td>\n",
       "      <td>2006-05-31 21:39:00</td>\n",
       "      <td>10765998.0</td>\n",
       "    </tr>\n",
       "    <tr>\n",
       "      <th>36389566</th>\n",
       "      <td>24969339.0</td>\n",
       "      <td>free credit report</td>\n",
       "      <td>2006-05-31 00:42:17</td>\n",
       "      <td>10766002.0</td>\n",
       "    </tr>\n",
       "  </tbody>\n",
       "</table>\n",
       "<p>36389567 rows × 4 columns</p>\n",
       "</div>"
      ],
      "text/plain": [
       "             user_id                        query           timestamp  \\\n",
       "0              142.0               rentdirect.com 2006-03-01 07:17:12   \n",
       "1              142.0  www.prescriptionfortime.com 2006-03-12 12:31:06   \n",
       "2              142.0                   staple.com 2006-03-17 21:19:29   \n",
       "3              142.0                   staple.com 2006-03-17 21:19:45   \n",
       "...              ...                          ...                 ...   \n",
       "36389563  24968112.0                       itunes 2006-05-31 21:18:25   \n",
       "36389564  24968468.0                   ww.aim.com 2006-05-31 18:40:14   \n",
       "36389565  24969190.0                            - 2006-05-31 21:39:00   \n",
       "36389566  24969339.0           free credit report 2006-05-31 00:42:17   \n",
       "\n",
       "          session_id  \n",
       "0              152.0  \n",
       "1              153.0  \n",
       "2              154.0  \n",
       "3              154.0  \n",
       "...              ...  \n",
       "36389563  10765959.0  \n",
       "36389564  10765974.0  \n",
       "36389565  10765998.0  \n",
       "36389566  10766002.0  \n",
       "\n",
       "[36389567 rows x 4 columns]"
      ]
     },
     "execution_count": 58,
     "metadata": {},
     "output_type": "execute_result"
    },
    {
     "name": "stdout",
     "output_type": "stream",
     "text": [
      "time: 1d 1h 38min 10s\n"
     ]
    }
   ],
   "source": [
    "from datetime import timedelta\n",
    "\n",
    "def detect_sessions(qlog, mins=30):\n",
    "    qlog.drop('session_id', axis=1, errors='ignore', inplace=True)\n",
    "    new_sessions = pd.Series([], dtype='int64')\n",
    "    for _, user_qlog in progressbar.progressbar(qlog.sort_values(by=['user_id', 'timestamp']).groupby('user_id')):\n",
    "        user_new_sessions = user_qlog.timestamp.gt(user_qlog.timestamp.shift() + timedelta(minutes=mins))\n",
    "        user_new_sessions.iloc[0] = True\n",
    "        new_sessions = new_sessions.append(user_new_sessions)\n",
    "    return pd.concat([\n",
    "        qlog.sort_values(by=['user_id', 'timestamp']),\n",
    "        pd.DataFrame({ 'session_id': new_sessions.cumsum() })\n",
    "    ], axis=1, sort=False)\n",
    "\n",
    "qlog = detect_sessions(qlog); qlog[['user_id', 'query', 'timestamp', 'session_id']]"
   ]
  },
  {
   "cell_type": "markdown",
   "metadata": {
    "slideshow": {
     "slide_type": "slide"
    }
   },
   "source": [
    "## Number of interactions per session"
   ]
  },
  {
   "cell_type": "code",
   "execution_count": 59,
   "metadata": {
    "slideshow": {
     "slide_type": "fragment"
    }
   },
   "outputs": [
    {
     "data": {
      "image/png": "[encoded data removed]",
      "text/plain": [
       "<Figure size 432x216 with 1 Axes>"
      ]
     },
     "metadata": {},
     "output_type": "display_data"
    },
    {
     "name": "stdout",
     "output_type": "stream",
     "text": [
      "time: 8min 47s\n"
     ]
    }
   ],
   "source": [
    "queries_per_session = qlog[['session_id', 'query']] \\\n",
    "    .groupby('session_id') \\\n",
    "    .count()\n",
    "\n",
    "d_max = queries_per_session['query'].max()\n",
    "bin_width = 1\n",
    "\n",
    "queries_per_session \\\n",
    "    .plot(kind='hist', bins=range(0, d_max + bin_width, bin_width), legend=False)\n",
    "plt.xlabel(\"Number of Interactions per Session\")\n",
    "plt.ylabel(\"Frequency\")\n",
    "plt.show()"
   ]
  },
  {
   "cell_type": "markdown",
   "metadata": {
    "slideshow": {
     "slide_type": "slide"
    }
   },
   "source": [
    "## Number of distinct queries per session"
   ]
  },
  {
   "cell_type": "code",
   "execution_count": 60,
   "metadata": {
    "slideshow": {
     "slide_type": "fragment"
    }
   },
   "outputs": [
    {
     "data": {
      "image/png": "[encoded data removed]",
      "text/plain": [
       "<Figure size 432x216 with 1 Axes>"
      ]
     },
     "metadata": {},
     "output_type": "display_data"
    },
    {
     "name": "stdout",
     "output_type": "stream",
     "text": [
      "time: 4min 26s\n"
     ]
    }
   ],
   "source": [
    "distinct_queries_per_session = qlog[['session_id', 'query']] \\\n",
    "    .groupby('session_id') \\\n",
    "    .nunique()\n",
    "\n",
    "distinct_queries_per_session['session_id'] = distinct_queries_per_session.index\n",
    "distinct_queries_per_session.drop('session_id', axis=1, inplace=True)\n",
    "distinct_queries_per_session = distinct_queries_per_session.reset_index().drop('session_id', axis=1)\n",
    "\n",
    "d_max = distinct_queries_per_session['query'].max()\n",
    "bin_width = 1\n",
    "\n",
    "distinct_queries_per_session \\\n",
    "    .plot(kind='hist', bins=range(0, d_max + bin_width, bin_width), legend=False)\n",
    "plt.xlabel(\"Number of Distinct Queries per Session\")\n",
    "plt.ylabel(\"Frequency\")\n",
    "plt.show()"
   ]
  },
  {
   "cell_type": "markdown",
   "metadata": {
    "slideshow": {
     "slide_type": "slide"
    }
   },
   "source": [
    "## Session duration distribution"
   ]
  },
  {
   "cell_type": "code",
   "execution_count": 61,
   "metadata": {
    "slideshow": {
     "slide_type": "fragment"
    }
   },
   "outputs": [
    {
     "data": {
      "image/png": "[encoded data removed]",
      "text/plain": [
       "<Figure size 432x216 with 1 Axes>"
      ]
     },
     "metadata": {},
     "output_type": "display_data"
    },
    {
     "name": "stdout",
     "output_type": "stream",
     "text": [
      "time: 1h 9min 49s\n"
     ]
    }
   ],
   "source": [
    "from matplotlib.ticker import FuncFormatter\n",
    "\n",
    "session_durations = qlog[['session_id', 'timestamp']] \\\n",
    "    .groupby('session_id') \\\n",
    "    .apply(lambda d: (d['timestamp'].max() - d['timestamp'].min()).total_seconds() / 3600) \\\n",
    "    .reset_index() \\\n",
    "    .rename({0: 'duration'}, axis=1) \\\n",
    "    .drop('session_id', axis=1)\n",
    "\n",
    "d_max = session_durations['duration'].max()\n",
    "bin_width = 5/60\n",
    "\n",
    "ax = session_durations \\\n",
    "    .plot(kind='hist', bins=np.arange(0, d_max + bin_width, bin_width), legend=False)\n",
    "ax.xaxis.set_major_formatter(FuncFormatter(lambda x, _: timedelta(seconds=x * 3600)))\n",
    "plt.xlabel(\"Duration (H:MM:SS)\")\n",
    "plt.ylabel(\"Number of Sessions\")\n",
    "plt.show()"
   ]
  },
  {
   "cell_type": "markdown",
   "metadata": {
    "slideshow": {
     "slide_type": "slide"
    }
   },
   "source": [
    "## Distribution of number of clicks per session"
   ]
  },
  {
   "cell_type": "code",
   "execution_count": 62,
   "metadata": {
    "slideshow": {
     "slide_type": "fragment"
    }
   },
   "outputs": [
    {
     "data": {
      "image/png": "[encoded data removed]",
      "text/plain": [
       "<Figure size 432x216 with 1 Axes>"
      ]
     },
     "metadata": {},
     "output_type": "display_data"
    },
    {
     "name": "stdout",
     "output_type": "stream",
     "text": [
      "time: 4min 43s\n"
     ]
    }
   ],
   "source": [
    "session_clicks = qlog[~qlog['click_rank'].isnull()][['session_id', 'click_rank']] \\\n",
    "    .groupby('session_id') \\\n",
    "    .count() \\\n",
    "    .reset_index() \\\n",
    "    .drop('session_id', axis=1) \\\n",
    "    .rename({ 'click_rank': 'click_count' }, axis=1)\n",
    "\n",
    "d_max = session_clicks['click_count'].max()\n",
    "bin_width = 1\n",
    "\n",
    "session_clicks \\\n",
    "    .plot(kind='hist', bins=range(0, d_max + bin_width, bin_width), logy=False, legend=False)\n",
    "plt.xlabel(\"Number of Clicks\")\n",
    "plt.ylabel(\"Number of Sessions\")\n",
    "plt.show()"
   ]
  },
  {
   "cell_type": "markdown",
   "metadata": {
    "slideshow": {
     "slide_type": "slide"
    }
   },
   "source": [
    "## Average session duration"
   ]
  },
  {
   "cell_type": "code",
   "execution_count": 63,
   "metadata": {
    "slideshow": {
     "slide_type": "fragment"
    }
   },
   "outputs": [
    {
     "data": {
      "image/png": "[encoded data removed]",
      "text/plain": [
       "<Figure size 432x216 with 1 Axes>"
      ]
     },
     "metadata": {},
     "output_type": "display_data"
    },
    {
     "name": "stdout",
     "output_type": "stream",
     "text": [
      "time: 1h 11min 18s\n"
     ]
    }
   ],
   "source": [
    "from matplotlib.ticker import FuncFormatter\n",
    "\n",
    "session_durations_per_day = qlog[['session_id', 'date', 'timestamp']] \\\n",
    "    .groupby(['session_id', 'date']) \\\n",
    "    .apply(lambda d: (d['timestamp'].max() - d['timestamp'].min()).total_seconds() / 3600) \\\n",
    "    .reset_index() \\\n",
    "    .rename({0: 'duration'}, axis=1) \\\n",
    "    .drop('session_id', axis=1) \\\n",
    "    .groupby('date') \\\n",
    "    .mean()\n",
    "\n",
    "d_max = session_durations_per_day['duration'].max()\n",
    "bin_width = 1/60\n",
    "\n",
    "ax = session_durations_per_day \\\n",
    "    .plot(kind='hist', bins=np.arange(0, d_max + bin_width, bin_width), legend=False)\n",
    "ax.xaxis.set_major_formatter(FuncFormatter(lambda hour, _: timedelta(seconds=hour * 3600)))\n",
    "plt.xlabel(\"Avg. Duration (H:MM:SS)\")\n",
    "plt.ylabel(\"Number of Sessions\")\n",
    "plt.savefig(\n",
    "    fname=os.path.join(output_dir, \"session_level-average_session_duration.pdf\"),\n",
    "    bbox_inches='tight')\n",
    "plt.show()"
   ]
  },
  {
   "cell_type": "markdown",
   "metadata": {
    "slideshow": {
     "slide_type": "slide"
    }
   },
   "source": [
    "### Per 24h cycles"
   ]
  },
  {
   "cell_type": "code",
   "execution_count": 64,
   "metadata": {
    "slideshow": {
     "slide_type": "fragment"
    }
   },
   "outputs": [
    {
     "data": {
      "image/png": "[encoded data removed]",
      "text/plain": [
       "<Figure size 432x216 with 1 Axes>"
      ]
     },
     "metadata": {},
     "output_type": "display_data"
    },
    {
     "name": "stdout",
     "output_type": "stream",
     "text": [
      "time: 1h 17min 38s\n"
     ]
    }
   ],
   "source": [
    "from matplotlib.ticker import FuncFormatter\n",
    "\n",
    "session_durations_per_hour_of_day = qlog[['session_id', 'hour', 'timestamp']] \\\n",
    "    .groupby(['session_id', 'hour']) \\\n",
    "    .apply(lambda d: (d['timestamp'].max() - d['timestamp'].min()).total_seconds() / 3600) \\\n",
    "    .reset_index() \\\n",
    "    .rename({0: 'duration'}, axis=1) \\\n",
    "    .drop('session_id', axis=1) \\\n",
    "    .groupby('hour') \\\n",
    "    .mean()\n",
    "\n",
    "ax = session_durations_per_hour_of_day \\\n",
    "    .plot(kind='bar', legend=False)\n",
    "ax.yaxis.set_major_formatter(FuncFormatter(lambda hour, _: timedelta(seconds=int(hour * 3600))))\n",
    "plt.xticks(range(0, 24, 2), labels=['{0}h'.format(h) for h in range(0, 24, 2)], rotation=0)\n",
    "plt.xlabel(\"Hour of Day\")\n",
    "plt.ylabel(\"Avg. Duration (H:MM:SS)\")\n",
    "plt.savefig(\n",
    "    fname=os.path.join(output_dir, \"session_level-average_session_duration-24h_cycles.pdf\"),\n",
    "    bbox_inches='tight')\n",
    "plt.show()"
   ]
  },
  {
   "cell_type": "markdown",
   "metadata": {
    "slideshow": {
     "slide_type": "slide"
    }
   },
   "source": [
    "### Per weekday cycles"
   ]
  },
  {
   "cell_type": "code",
   "execution_count": 65,
   "metadata": {
    "slideshow": {
     "slide_type": "fragment"
    }
   },
   "outputs": [
    {
     "data": {
      "image/png": "[encoded data removed]",
      "text/plain": [
       "<Figure size 432x216 with 1 Axes>"
      ]
     },
     "metadata": {},
     "output_type": "display_data"
    },
    {
     "name": "stdout",
     "output_type": "stream",
     "text": [
      "time: 1h 11min 45s\n"
     ]
    }
   ],
   "source": [
    "from matplotlib.ticker import FuncFormatter\n",
    "\n",
    "session_durations_per_weekday = qlog[['session_id', 'weekday', 'timestamp']] \\\n",
    "    .groupby(['session_id', 'weekday']) \\\n",
    "    .apply(lambda d: (d['timestamp'].max() - d['timestamp'].min()).total_seconds() / 3600) \\\n",
    "    .reset_index() \\\n",
    "    .rename({0: 'duration'}, axis=1) \\\n",
    "    .drop('session_id', axis=1) \\\n",
    "    .groupby('weekday') \\\n",
    "    .mean()\n",
    "\n",
    "ax = session_durations_per_weekday \\\n",
    "    .plot(kind='bar', legend=False)\n",
    "ax.yaxis.set_major_formatter(FuncFormatter(lambda hour, _: timedelta(seconds=int(hour * 3600))))\n",
    "plt.xticks(range(len(weekdays)), labels=weekdays, rotation=0)\n",
    "plt.xlabel(\"Weekday\")\n",
    "plt.ylabel(\"Avg. Duration (H:MM:SS)\")\n",
    "plt.show()"
   ]
  },
  {
   "cell_type": "markdown",
   "metadata": {
    "slideshow": {
     "slide_type": "slide"
    }
   },
   "source": [
    "### Per monthly cycles"
   ]
  },
  {
   "cell_type": "code",
   "execution_count": 66,
   "metadata": {
    "slideshow": {
     "slide_type": "fragment"
    }
   },
   "outputs": [
    {
     "data": {
      "image/png": "[encoded data removed]",
      "text/plain": [
       "<Figure size 432x216 with 1 Axes>"
      ]
     },
     "metadata": {},
     "output_type": "display_data"
    },
    {
     "name": "stdout",
     "output_type": "stream",
     "text": [
      "time: 1h 12min 24s\n"
     ]
    }
   ],
   "source": [
    "from matplotlib.ticker import FuncFormatter\n",
    "\n",
    "session_durations_per_month = qlog[['session_id', 'month', 'timestamp']] \\\n",
    "    .groupby(['session_id', 'month']) \\\n",
    "    .apply(lambda d: (d['timestamp'].max() - d['timestamp'].min()).total_seconds() / 3600) \\\n",
    "    .reset_index() \\\n",
    "    .rename({0: 'duration'}, axis=1) \\\n",
    "    .drop('session_id', axis=1) \\\n",
    "    .groupby('month') \\\n",
    "    .mean()\n",
    "\n",
    "ax = session_durations_per_month \\\n",
    "    .plot(kind='bar', legend=False)\n",
    "ax.yaxis.set_major_formatter(FuncFormatter(lambda hour, _: timedelta(seconds=int(hour * 3600))))\n",
    "plt.xticks(\n",
    "    range(queries_per_month.shape[0]),\n",
    "    labels=months[(min(queries_per_month.index)-1):max(queries_per_month.index)],\n",
    "    rotation=0)\n",
    "plt.xlabel('Month')\n",
    "plt.ylabel(\"Avg. Duration (H:MM:SS)\")\n",
    "plt.show()"
   ]
  },
  {
   "cell_type": "markdown",
   "metadata": {
    "slideshow": {
     "slide_type": "slide"
    }
   },
   "source": [
    "## Average clicked rank per session duration"
   ]
  },
  {
   "cell_type": "code",
   "execution_count": 67,
   "metadata": {
    "slideshow": {
     "slide_type": "fragment"
    }
   },
   "outputs": [
    {
     "data": {
      "image/png": "[encoded data removed]",
      "text/plain": [
       "<Figure size 432x216 with 1 Axes>"
      ]
     },
     "metadata": {},
     "output_type": "display_data"
    },
    {
     "name": "stdout",
     "output_type": "stream",
     "text": [
      "time: 7.22 s\n"
     ]
    }
   ],
   "source": [
    "session_avg_rank = qlog[['session_id', 'click_rank']] \\\n",
    "    .fillna(0) \\\n",
    "    .groupby('session_id') \\\n",
    "    .mean() \\\n",
    "    .reset_index() \\\n",
    "    .drop('session_id', axis=1) \\\n",
    "    .rename({ 'click_rank': 'avg_rank' }, axis=1)\n",
    "\n",
    "d_max = int(np.ceil(session_avg_rank['avg_rank'].max()))\n",
    "bin_width = 10\n",
    "\n",
    "session_avg_rank \\\n",
    "    .plot(kind='hist', bins=range(0, d_max + bin_width, bin_width), logy=False, legend=False)\n",
    "plt.xlabel(\"Average Rank\")\n",
    "plt.ylabel(\"Number of Sessions\")\n",
    "plt.show()"
   ]
  },
  {
   "cell_type": "markdown",
   "metadata": {
    "slideshow": {
     "slide_type": "slide"
    }
   },
   "source": [
    "# Term-level analysis\n",
    "\n",
    "The term-level analysis is concerned with the characteristics of the words that form the queries. Our analysis includes:\n",
    "\n",
    "- Distribution of number of characters per query\n",
    "- Distribution of number of terms per query\n",
    "- Distribution of average number of terms over time\n",
    "- Term popularity over time for top terms"
   ]
  },
  {
   "cell_type": "markdown",
   "metadata": {
    "slideshow": {
     "slide_type": "slide"
    }
   },
   "source": [
    "## Distribution of number of characters per query"
   ]
  },
  {
   "cell_type": "code",
   "execution_count": 75,
   "metadata": {
    "slideshow": {
     "slide_type": "fragment"
    }
   },
   "outputs": [
    {
     "data": {
      "text/html": [
       "<div>\n",
       "<style scoped>\n",
       "    .dataframe tbody tr th:only-of-type {\n",
       "        vertical-align: middle;\n",
       "    }\n",
       "\n",
       "    .dataframe tbody tr th {\n",
       "        vertical-align: top;\n",
       "    }\n",
       "\n",
       "    .dataframe thead th {\n",
       "        text-align: right;\n",
       "    }\n",
       "</style>\n",
       "<table border=\"1\" class=\"dataframe\">\n",
       "  <thead>\n",
       "    <tr style=\"text-align: right;\">\n",
       "      <th></th>\n",
       "      <th>query</th>\n",
       "      <th>length</th>\n",
       "    </tr>\n",
       "  </thead>\n",
       "  <tbody>\n",
       "    <tr>\n",
       "      <th>0</th>\n",
       "      <td>rentdirect.com</td>\n",
       "      <td>14</td>\n",
       "    </tr>\n",
       "    <tr>\n",
       "      <th>1</th>\n",
       "      <td>www.prescriptionfortime.com</td>\n",
       "      <td>27</td>\n",
       "    </tr>\n",
       "    <tr>\n",
       "      <th>2</th>\n",
       "      <td>staple.com</td>\n",
       "      <td>10</td>\n",
       "    </tr>\n",
       "    <tr>\n",
       "      <th>3</th>\n",
       "      <td>staple.com</td>\n",
       "      <td>10</td>\n",
       "    </tr>\n",
       "    <tr>\n",
       "      <th>...</th>\n",
       "      <td>...</td>\n",
       "      <td>...</td>\n",
       "    </tr>\n",
       "    <tr>\n",
       "      <th>36389563</th>\n",
       "      <td>itunes</td>\n",
       "      <td>6</td>\n",
       "    </tr>\n",
       "    <tr>\n",
       "      <th>36389564</th>\n",
       "      <td>ww.aim.com</td>\n",
       "      <td>10</td>\n",
       "    </tr>\n",
       "    <tr>\n",
       "      <th>36389565</th>\n",
       "      <td>-</td>\n",
       "      <td>1</td>\n",
       "    </tr>\n",
       "    <tr>\n",
       "      <th>36389566</th>\n",
       "      <td>free credit report</td>\n",
       "      <td>18</td>\n",
       "    </tr>\n",
       "  </tbody>\n",
       "</table>\n",
       "<p>36389567 rows × 2 columns</p>\n",
       "</div>"
      ],
      "text/plain": [
       "                                query  length\n",
       "0                      rentdirect.com      14\n",
       "1         www.prescriptionfortime.com      27\n",
       "2                          staple.com      10\n",
       "3                          staple.com      10\n",
       "...                               ...     ...\n",
       "36389563                       itunes       6\n",
       "36389564                   ww.aim.com      10\n",
       "36389565                            -       1\n",
       "36389566           free credit report      18\n",
       "\n",
       "[36389567 rows x 2 columns]"
      ]
     },
     "execution_count": 75,
     "metadata": {},
     "output_type": "execute_result"
    },
    {
     "name": "stdout",
     "output_type": "stream",
     "text": [
      "time: 19.9 s\n"
     ]
    }
   ],
   "source": [
    "qlog['length'] = qlog['query'].map(lambda q: len(str(q))); qlog[['query', 'length']]"
   ]
  },
  {
   "cell_type": "code",
   "execution_count": 71,
   "metadata": {
    "slideshow": {
     "slide_type": "slide"
    }
   },
   "outputs": [
    {
     "data": {
      "text/plain": [
       "count    3.638957e+07\n",
       "mean     1.741982e+01\n",
       "std      1.113366e+01\n",
       "min      1.000000e+00\n",
       "25%      1.100000e+01\n",
       "50%      1.600000e+01\n",
       "75%      2.200000e+01\n",
       "max      5.000000e+02\n",
       "Name: length, dtype: float64"
      ]
     },
     "execution_count": 71,
     "metadata": {},
     "output_type": "execute_result"
    },
    {
     "name": "stdout",
     "output_type": "stream",
     "text": [
      "time: 2.83 s\n"
     ]
    }
   ],
   "source": [
    "qlog['length'].describe()"
   ]
  },
  {
   "cell_type": "code",
   "execution_count": 72,
   "metadata": {
    "slideshow": {
     "slide_type": "slide"
    }
   },
   "outputs": [
    {
     "data": {
      "image/png": "[encoded data removed]",
      "text/plain": [
       "<Figure size 432x216 with 1 Axes>"
      ]
     },
     "metadata": {},
     "output_type": "display_data"
    },
    {
     "name": "stdout",
     "output_type": "stream",
     "text": [
      "time: 18 s\n"
     ]
    }
   ],
   "source": [
    "d_max = qlog['length'].max()\n",
    "bin_width = 5\n",
    "\n",
    "qlog.drop_duplicates(subset='query')['length'] \\\n",
    "    .plot(kind='hist', bins=range(0, d_max + bin_width, bin_width))\n",
    "plt.xlabel(\"Number of Characters\")\n",
    "plt.ylabel(\"Number of Queries\")\n",
    "plt.show()"
   ]
  },
  {
   "cell_type": "markdown",
   "metadata": {
    "slideshow": {
     "slide_type": "slide"
    }
   },
   "source": [
    "## Distribution of number of terms per query"
   ]
  },
  {
   "cell_type": "code",
   "execution_count": 1,
   "metadata": {
    "slideshow": {
     "slide_type": "skip"
    }
   },
   "outputs": [
    {
     "ename": "NameError",
     "evalue": "name 'qlog' is not defined",
     "output_type": "error",
     "traceback": [
      "\u001b[0;31m---------------------------------------------------------------------------\u001b[0m",
      "\u001b[0;31mNameError\u001b[0m                                 Traceback (most recent call last)",
      "\u001b[0;32m<ipython-input-1-630f1e7730bd>\u001b[0m in \u001b[0;36m<module>\u001b[0;34m\u001b[0m\n\u001b[0;32m----> 1\u001b[0;31m \u001b[0mqlog\u001b[0m\u001b[0;34m[\u001b[0m\u001b[0;34m'terms'\u001b[0m\u001b[0;34m]\u001b[0m \u001b[0;34m=\u001b[0m \u001b[0mqlog\u001b[0m\u001b[0;34m[\u001b[0m\u001b[0;34m'query'\u001b[0m\u001b[0;34m]\u001b[0m\u001b[0;34m.\u001b[0m\u001b[0mmap\u001b[0m\u001b[0;34m(\u001b[0m\u001b[0;32mlambda\u001b[0m \u001b[0mq\u001b[0m\u001b[0;34m:\u001b[0m \u001b[0mstr\u001b[0m\u001b[0;34m(\u001b[0m\u001b[0mq\u001b[0m\u001b[0;34m)\u001b[0m\u001b[0;34m.\u001b[0m\u001b[0msplit\u001b[0m\u001b[0;34m(\u001b[0m\u001b[0;34m)\u001b[0m\u001b[0;34m)\u001b[0m\u001b[0;34m;\u001b[0m \u001b[0mqlog\u001b[0m\u001b[0;34m[\u001b[0m\u001b[0;34m[\u001b[0m\u001b[0;34m'query'\u001b[0m\u001b[0;34m,\u001b[0m \u001b[0;34m'terms'\u001b[0m\u001b[0;34m]\u001b[0m\u001b[0;34m]\u001b[0m\u001b[0;34m\u001b[0m\u001b[0m\n\u001b[0m",
      "\u001b[0;31mNameError\u001b[0m: name 'qlog' is not defined"
     ]
    }
   ],
   "source": [
    "qlog['terms'] = qlog['query'].map(lambda q: str(q).split()); qlog[['query', 'terms']]"
   ]
  },
  {
   "cell_type": "code",
   "execution_count": null,
   "metadata": {
    "slideshow": {
     "slide_type": "fragment"
    }
   },
   "outputs": [],
   "source": [
    "qlog['num_terms'] = qlog['terms'].map(len); qlog[['query', 'num_terms']]"
   ]
  },
  {
   "cell_type": "code",
   "execution_count": null,
   "metadata": {
    "slideshow": {
     "slide_type": "slide"
    }
   },
   "outputs": [],
   "source": [
    "qlog['num_terms'].describe()"
   ]
  },
  {
   "cell_type": "code",
   "execution_count": null,
   "metadata": {
    "slideshow": {
     "slide_type": "slide"
    }
   },
   "outputs": [],
   "source": [
    "d_max = qlog['num_terms'].max()\n",
    "bin_width = 1\n",
    "\n",
    "qlog.drop_duplicates(subset='query')['num_terms'] \\\n",
    "    .plot(kind='hist', bins=range(0, d_max + bin_width, bin_width))\n",
    "plt.xlabel(\"Number of Terms\")\n",
    "plt.ylabel(\"Number of Queries\")\n",
    "plt.show()"
   ]
  },
  {
   "cell_type": "markdown",
   "metadata": {},
   "source": [
    "## Total number of terms"
   ]
  },
  {
   "cell_type": "code",
   "execution_count": null,
   "metadata": {
    "scrolled": true
   },
   "outputs": [],
   "source": [
    "terms = pd.Series(flatten(qlog['terms'].values.tolist()))\n",
    "pd.DataFrame({ 'num_terms': terms.nunique() }, index=['stat']).T"
   ]
  },
  {
   "cell_type": "markdown",
   "metadata": {
    "slideshow": {
     "slide_type": "slide"
    }
   },
   "source": [
    "## Distribution of average number of terms over time"
   ]
  },
  {
   "cell_type": "code",
   "execution_count": null,
   "metadata": {
    "slideshow": {
     "slide_type": "fragment"
    }
   },
   "outputs": [],
   "source": [
    "expanded_terms = qlog[['date', 'terms']] \\\n",
    "    .set_index('date')['terms'] \\\n",
    "    .apply(pd.Series) \\\n",
    "    .stack()"
   ]
  },
  {
   "cell_type": "code",
   "execution_count": null,
   "metadata": {},
   "outputs": [],
   "source": [
    "term_count.describe().round(2)"
   ]
  },
  {
   "cell_type": "code",
   "execution_count": null,
   "metadata": {
    "slideshow": {
     "slide_type": "fragment"
    }
   },
   "outputs": [],
   "source": [
    "term_count = expanded_terms \\\n",
    "    .groupby('date') \\\n",
    "    .value_counts()\n",
    "\n",
    "d_max = term_count.max()\n",
    "bin_width = 1\n",
    "\n",
    "# Comment rolling and the following mean when there is less data\n",
    "term_count = term_count \\\n",
    "    .groupby(level=0) \\\n",
    "    .mean() \\\n",
    "    .rolling(window=7) \\\n",
    "    .mean()\n",
    "\n",
    "term_count.plot()\n",
    "plt.xlabel('Date')\n",
    "plt.ylabel('Number of Terms')\n",
    "plt.xticks(rotation=90)\n",
    "plt.savefig(\n",
    "    fname=os.path.join(output_dir, \"term_level-distribution_of_average_number_of_terms_over_time.pdf\"),\n",
    "    bbox_inches='tight')\n",
    "plt.show()"
   ]
  },
  {
   "cell_type": "markdown",
   "metadata": {
    "slideshow": {
     "slide_type": "slide"
    }
   },
   "source": [
    "## Term popularity over time for top 10 terms"
   ]
  },
  {
   "cell_type": "code",
   "execution_count": null,
   "metadata": {
    "slideshow": {
     "slide_type": "fragment"
    }
   },
   "outputs": [],
   "source": [
    "vec = TfidfVectorizer()\n",
    "X = vec.fit_transform(qlog['query'])\n",
    "vocab = vec.get_feature_names()\n",
    "top_terms = pd.DataFrame(X.toarray(), columns=vocab) \\\n",
    "    .drop(stopwords_per_lang[lang].intersection(vocab), axis=1) \\\n",
    "    .mean() \\\n",
    "    .sort_values(ascending=False)\n",
    "\n",
    "top_terms[:5]"
   ]
  },
  {
   "cell_type": "code",
   "execution_count": null,
   "metadata": {
    "slideshow": {
     "slide_type": "slide"
    }
   },
   "outputs": [],
   "source": [
    "term_cout_over_time = pd.DataFrame(expanded_terms[expanded_terms.isin(top_terms[:5].index)], columns=['term']) \\\n",
    "    .reset_index() \\\n",
    "    .groupby(['date', 'term']) \\\n",
    "    .count() \\\n",
    "    .rename({'level_1': 'count'}, axis=1) \\\n",
    "    .unstack() \\\n",
    "    .fillna(0) \\\n",
    "    .rolling(window=7) \\\n",
    "    .mean()\n",
    "\n",
    "term_cout_over_time.columns = term_cout_over_time.columns.droplevel()\n",
    "\n",
    "term_cout_over_time.loc[:, top_terms[:5].index] \\\n",
    "    .plot()\n",
    "plt.legend(title='Term')\n",
    "plt.show()"
   ]
  },
  {
   "cell_type": "markdown",
   "metadata": {
    "slideshow": {
     "slide_type": "slide"
    }
   },
   "source": [
    "# Entity-level analysis\n",
    "\n",
    "Our analysis of entities includes:\n",
    "\n",
    "- Entity distributions per class\n",
    "- Entity distributions over time for top entities\n",
    "\n",
    "It also includes higher order analyses, further described in each of the following sections:\n",
    "\n",
    "- Entity-query-level analysis\n",
    "- Entity-topic-level analysis\n",
    "- Entity-session-level analysis\n",
    "- Entity-term-level analysis\n",
    "- Entity-entity level analysis"
   ]
  },
  {
   "cell_type": "markdown",
   "metadata": {
    "slideshow": {
     "slide_type": "slide"
    }
   },
   "source": [
    "## Detecting entities\n",
    "\n",
    "We identified entities taking advantage of the `AhoCorasickEntityExtractor` class available in [Army ANT](https://github.com/feup-infolab/army-ant). We copied [aho_corasick_entity_extractor.py](../../edit/query_log_analysis/aho_corasick_entity_extractor.py) to the notebook workspace and edited it to be usable as a standalone dependency. We then used the English DBpedia `rdfs:label` for entities with the class `dbo:Person`, `dbo:Organisation` and `dbp:Place` as the dictionary."
   ]
  },
  {
   "cell_type": "code",
   "execution_count": null,
   "metadata": {
    "slideshow": {
     "slide_type": "fragment"
    }
   },
   "outputs": [],
   "source": [
    "from aho_corasick_entity_extractor import AhoCorasickEntityExtractor\n",
    "\n",
    "lists_per_lang = {\n",
    "    'en': {\n",
    "        'person': 'data/entity_lists/pt_dbpedia_person.txt',\n",
    "        'organization': 'data/entity_lists/pt_dbpedia_organization.txt',\n",
    "        'place': 'data/entity_lists/pt_dbpedia_place.txt'\n",
    "    },\n",
    "    'pt': {\n",
    "        'person': 'data/entity_lists/en_dbpedia_person.txt',\n",
    "        'organization': 'data/entity_lists/en_dbpedia_organization.txt',\n",
    "        'place': 'data/entity_lists/en_dbpedia_place.txt'\n",
    "    }\n",
    "}\n",
    "\n",
    "ac = {\n",
    "    'person': AhoCorasickEntityExtractor(list_path=lists_per_lang[lang]['person']),\n",
    "    'organization': AhoCorasickEntityExtractor(list_path=lists_per_lang[lang]['organization']),\n",
    "    'place': AhoCorasickEntityExtractor(list_path=lists_per_lang[lang]['place'])\n",
    "}"
   ]
  },
  {
   "cell_type": "code",
   "execution_count": null,
   "metadata": {},
   "outputs": [],
   "source": [
    "qlog.iloc[19]['query']"
   ]
  },
  {
   "cell_type": "code",
   "execution_count": null,
   "metadata": {
    "slideshow": {
     "slide_type": "slide"
    }
   },
   "outputs": [],
   "source": [
    "from collections import OrderedDict\n",
    "from functools import reduce\n",
    "\n",
    "qlog = qlog \\\n",
    "    .drop(columns=['level_0', 'index', 'entities'] + list(ac.keys()), errors='ignore') \\\n",
    "    .reset_index()\n",
    "\n",
    "for d_class in ac.keys():\n",
    "    qlog[d_class] = None\n",
    "\n",
    "    for i in range(len(qlog)):\n",
    "        query = qlog.iloc[i]['query']\n",
    "        entities = ac[d_class].extract(query)\n",
    "        \n",
    "        for entity in entities:\n",
    "            if qlog.loc[i, d_class] is None:\n",
    "                qlog.at[i, d_class] = [entity]\n",
    "            else:\n",
    "                qlog.at[i, d_class].append(entity)\n",
    "\n",
    "qlog"
   ]
  },
  {
   "cell_type": "markdown",
   "metadata": {},
   "source": [
    "## Total number of entities and distinct entities"
   ]
  },
  {
   "cell_type": "code",
   "execution_count": null,
   "metadata": {
    "slideshow": {
     "slide_type": "skip"
    }
   },
   "outputs": [],
   "source": [
    "entities = qlog[['person', 'organization', 'place']].values.tolist()  # select all entity lists\n",
    "entities = [[x if x else [] for x in d] for d in entities]            # replace None by empty list\n",
    "entities = [[x for sl2 in sl for x in sl2 if sl2] for sl in entities] # flatten row lists\n",
    "\n",
    "qlog['entities'] = None\n",
    "for i, e in enumerate(entities):\n",
    "    qlog.at[i, 'entities'] = e if len(e) > 0 else None"
   ]
  },
  {
   "cell_type": "code",
   "execution_count": null,
   "metadata": {},
   "outputs": [],
   "source": [
    "qlog[qlog['entities'].notnull()][['query', 'person', 'organization', 'place', 'entities']]"
   ]
  },
  {
   "cell_type": "code",
   "execution_count": null,
   "metadata": {},
   "outputs": [],
   "source": [
    "entities = pd.Series(flatten(qlog['entities'].values.tolist()))\n",
    "pd.DataFrame({ 'num_entities': len(entities), 'num_distinct_entities': entities.nunique() }, index=['stat']).T"
   ]
  },
  {
   "cell_type": "markdown",
   "metadata": {},
   "source": [
    "## Entity distributions per class"
   ]
  },
  {
   "cell_type": "code",
   "execution_count": null,
   "metadata": {
    "slideshow": {
     "slide_type": "skip"
    }
   },
   "outputs": [],
   "source": [
    "qlog_entities = pd.DataFrame(columns=['entity', 'class', 'count'])\n",
    "\n",
    "for d_class in ac.keys():\n",
    "    entity_count = pd.DataFrame({\n",
    "            'entity': list(itertools.chain(*filter(lambda d: d is not None, qlog[d_class]))),\n",
    "            'class': d_class\n",
    "        }) \\\n",
    "        .groupby(['entity', 'class']) \\\n",
    "        .size() \\\n",
    "        .reset_index() \\\n",
    "        .rename({0: 'count'}, axis='columns')\n",
    "    \n",
    "    qlog_entities = qlog_entities.append(entity_count)"
   ]
  },
  {
   "cell_type": "markdown",
   "metadata": {},
   "source": [
    "### All classes"
   ]
  },
  {
   "cell_type": "code",
   "execution_count": null,
   "metadata": {
    "slideshow": {
     "slide_type": "slide"
    }
   },
   "outputs": [],
   "source": [
    "plt.rc('figure', figsize=[6, 6])\n",
    "\n",
    "qlog_entities[['entity', 'count']] \\\n",
    "    .groupby('entity') \\\n",
    "    .sum() \\\n",
    "    .reset_index() \\\n",
    "    .sort_values(by='count', ascending=False) \\\n",
    "    .head(20) \\\n",
    "    .plot(kind='barh', x='entity', y='count', legend=False)\n",
    "\n",
    "plt.xlabel('Frequency')\n",
    "plt.ylabel('Entity')\n",
    "plt.gca().invert_yaxis()\n",
    "plt.savefig(\n",
    "    fname=os.path.join(output_dir, \"entity_level-entity_distribution_per_class.pdf\"),\n",
    "    bbox_inches='tight')\n",
    "plt.show()\n",
    "\n",
    "plt.rc('figure', figsize=DEFAULT_FIGSIZE)"
   ]
  },
  {
   "cell_type": "markdown",
   "metadata": {},
   "source": [
    "### Person"
   ]
  },
  {
   "cell_type": "code",
   "execution_count": null,
   "metadata": {
    "slideshow": {
     "slide_type": "slide"
    }
   },
   "outputs": [],
   "source": [
    "def plot_entities_by_class(qlog_entities, d_class):\n",
    "    plt.rc('figure', figsize=[6, 10])\n",
    "\n",
    "    qlog_entities[qlog_entities['class'] == d_class] \\\n",
    "        .sort_values(by='count', ascending=False) \\\n",
    "        .head(30) \\\n",
    "        .plot(kind='barh', x='entity', y='count', legend=False)\n",
    "\n",
    "    plt.xlabel('Frequency')\n",
    "    plt.ylabel(d_class.title())\n",
    "    plt.gca().invert_yaxis()\n",
    "    plt.show()\n",
    "\n",
    "    plt.rc('figure', figsize=DEFAULT_FIGSIZE)"
   ]
  },
  {
   "cell_type": "code",
   "execution_count": null,
   "metadata": {
    "slideshow": {
     "slide_type": "slide"
    }
   },
   "outputs": [],
   "source": [
    "plot_entities_by_class(qlog_entities, 'person')"
   ]
  },
  {
   "cell_type": "markdown",
   "metadata": {},
   "source": [
    "### Organization"
   ]
  },
  {
   "cell_type": "code",
   "execution_count": null,
   "metadata": {
    "slideshow": {
     "slide_type": "slide"
    }
   },
   "outputs": [],
   "source": [
    "plot_entities_by_class(qlog_entities, 'organization')"
   ]
  },
  {
   "cell_type": "markdown",
   "metadata": {},
   "source": [
    "### Place"
   ]
  },
  {
   "cell_type": "code",
   "execution_count": null,
   "metadata": {
    "slideshow": {
     "slide_type": "slide"
    }
   },
   "outputs": [],
   "source": [
    "plot_entities_by_class(qlog_entities, 'place')"
   ]
  },
  {
   "cell_type": "markdown",
   "metadata": {},
   "source": [
    "## Entity distributions over time for top-5 entities"
   ]
  },
  {
   "cell_type": "code",
   "execution_count": 2,
   "metadata": {},
   "outputs": [],
   "source": [
    "def split_list_to_rows(row, row_accumulator, target_column):\n",
    "    if row[target_column] == None:\n",
    "        row[target_column] = []\n",
    "    for s in row[target_column]:\n",
    "        new_row = row.to_dict()\n",
    "        new_row[target_column] = s\n",
    "        row_accumulator.append(new_row)"
   ]
  },
  {
   "cell_type": "code",
   "execution_count": 3,
   "metadata": {},
   "outputs": [
    {
     "ename": "NameError",
     "evalue": "name 'qlog' is not defined",
     "output_type": "error",
     "traceback": [
      "\u001b[0;31m---------------------------------------------------------------------------\u001b[0m",
      "\u001b[0;31mNameError\u001b[0m                                 Traceback (most recent call last)",
      "\u001b[0;32m<ipython-input-3-a554c0dd5f91>\u001b[0m in \u001b[0;36m<module>\u001b[0;34m\u001b[0m\n\u001b[1;32m      1\u001b[0m \u001b[0mnew_rows\u001b[0m \u001b[0;34m=\u001b[0m \u001b[0;34m[\u001b[0m\u001b[0;34m]\u001b[0m\u001b[0;34m\u001b[0m\u001b[0m\n\u001b[0;32m----> 2\u001b[0;31m \u001b[0mqlog\u001b[0m\u001b[0;34m[\u001b[0m\u001b[0;34m[\u001b[0m\u001b[0;34m'date'\u001b[0m\u001b[0;34m,\u001b[0m \u001b[0;34m'entities'\u001b[0m\u001b[0;34m]\u001b[0m\u001b[0;34m]\u001b[0m\u001b[0;31m \u001b[0m\u001b[0;31m\\\u001b[0m\u001b[0;34m\u001b[0m\u001b[0m\n\u001b[0m\u001b[1;32m      3\u001b[0m     \u001b[0;34m.\u001b[0m\u001b[0mapply\u001b[0m\u001b[0;34m(\u001b[0m\u001b[0msplit_list_to_rows\u001b[0m\u001b[0;34m,\u001b[0m \u001b[0maxis\u001b[0m\u001b[0;34m=\u001b[0m\u001b[0;36m1\u001b[0m\u001b[0;34m,\u001b[0m \u001b[0margs\u001b[0m \u001b[0;34m=\u001b[0m \u001b[0;34m(\u001b[0m\u001b[0mnew_rows\u001b[0m\u001b[0;34m,\u001b[0m \u001b[0;34m'entities'\u001b[0m\u001b[0;34m)\u001b[0m\u001b[0;34m)\u001b[0m\u001b[0;34m\u001b[0m\u001b[0m\n\u001b[1;32m      4\u001b[0m \u001b[0mentities_per_date\u001b[0m \u001b[0;34m=\u001b[0m \u001b[0mpd\u001b[0m\u001b[0;34m.\u001b[0m\u001b[0mDataFrame\u001b[0m\u001b[0;34m(\u001b[0m\u001b[0mnew_rows\u001b[0m\u001b[0;34m)\u001b[0m\u001b[0;34m\u001b[0m\u001b[0m\n\u001b[1;32m      5\u001b[0m \u001b[0mentities_per_date\u001b[0m\u001b[0;31m \u001b[0m\u001b[0;31m\\\u001b[0m\u001b[0;34m\u001b[0m\u001b[0m\n",
      "\u001b[0;31mNameError\u001b[0m: name 'qlog' is not defined"
     ]
    }
   ],
   "source": [
    "new_rows = []\n",
    "qlog[['date', 'entities']] \\\n",
    "    .apply(split_list_to_rows, axis=1, args = (new_rows, 'entities'))\n",
    "entities_per_date = pd.DataFrame(new_rows)\n",
    "entities_per_date \\\n",
    "    .groupby(['entities', 'date']) \\\n",
    "    .size() \\\n",
    "    .to_frame()"
   ]
  },
  {
   "cell_type": "code",
   "execution_count": null,
   "metadata": {
    "scrolled": false
   },
   "outputs": [],
   "source": [
    "qlog_entities_over_time = pd.DataFrame(columns=['entity', 'class', 'count'])\n",
    "\n",
    "for d_class in ac.keys():\n",
    "    new_rows = []\n",
    "    qlog[['date', d_class]] \\\n",
    "        .apply(split_list_to_rows, axis=1, args = (new_rows, d_class))\n",
    "    entities_per_date = pd.DataFrame(new_rows) \\\n",
    "        .groupby([d_class, 'date']) \\\n",
    "        .size() \\\n",
    "        .to_frame() \\\n",
    "        .reset_index() \\\n",
    "        .rename(columns={d_class: 'entity', 0: 'count'}) \\\n",
    "        .assign(**{'class': d_class}) \\\n",
    "        .set_index(['date'])\n",
    "\n",
    "    qlog_entities_over_time = qlog_entities_over_time.append(entities_per_date[['entity', 'class', 'count']])\n",
    "\n",
    "qlog_entities_over_time"
   ]
  },
  {
   "cell_type": "markdown",
   "metadata": {},
   "source": [
    "### Person"
   ]
  },
  {
   "cell_type": "code",
   "execution_count": null,
   "metadata": {},
   "outputs": [],
   "source": [
    "top_5_person = qlog_entities[qlog_entities['class'] == 'person'] \\\n",
    "    .sort_values(by='count', ascending=False) \\\n",
    "    .head(5) \\\n",
    "    ['entity'].values.tolist()\n",
    "top_5_person"
   ]
  },
  {
   "cell_type": "code",
   "execution_count": null,
   "metadata": {},
   "outputs": [],
   "source": [
    "top_5_person_over_time = qlog_entities_over_time[qlog_entities_over_time['entity'].isin(top_5_person)] \\\n",
    "    [['entity', 'count']] \\\n",
    "    .reset_index() \\\n",
    "    .pivot_table(columns='entity', index='index', values=['count'], aggfunc='max') \\\n",
    "    .fillna(0)\n",
    "\n",
    "top_5_person_over_time.columns = top_5_person_over_time.columns.droplevel()\n",
    "\n",
    "top_5_person_over_time.plot()\n",
    "plt.legend(loc=\"upper left\", ncol=5)\n",
    "plt.xlabel(\"Date\")\n",
    "plt.ylabel(\"Number of Mentions\")\n",
    "plt.show()"
   ]
  },
  {
   "cell_type": "markdown",
   "metadata": {},
   "source": [
    "### Organization"
   ]
  },
  {
   "cell_type": "code",
   "execution_count": null,
   "metadata": {},
   "outputs": [],
   "source": [
    "top_5_organization = qlog_entities[qlog_entities['class'] == 'organization'] \\\n",
    "    .sort_values(by='count', ascending=False) \\\n",
    "    .head(5) \\\n",
    "    ['entity'].values.tolist()\n",
    "top_5_organization"
   ]
  },
  {
   "cell_type": "code",
   "execution_count": null,
   "metadata": {},
   "outputs": [],
   "source": [
    "top_5_organization_over_time = qlog_entities_over_time[qlog_entities_over_time['entity'].isin(top_5_organization)] \\\n",
    "    [['entity', 'count']] \\\n",
    "    .reset_index() \\\n",
    "    .pivot_table(columns='entity', index='index', values=['count'], aggfunc='max') \\\n",
    "    .fillna(0)\n",
    "top_5_organization_over_time"
   ]
  },
  {
   "cell_type": "code",
   "execution_count": null,
   "metadata": {},
   "outputs": [],
   "source": [
    "top_5_organization_over_time = qlog_entities_over_time[qlog_entities_over_time['entity'].isin(top_5_organization)] \\\n",
    "    [['entity', 'count']] \\\n",
    "    .reset_index() \\\n",
    "    .pivot_table(columns='entity', index='index', values=['count'], aggfunc='max') \\\n",
    "    .fillna(0)\n",
    "\n",
    "top_5_organization_over_time.columns = top_5_organization_over_time.columns.droplevel()\n",
    "\n",
    "top_5_organization_over_time.plot()\n",
    "plt.legend(loc=\"upper left\", ncol=5)\n",
    "plt.xlabel(\"Date\")\n",
    "plt.ylabel(\"Number of Mentions\")\n",
    "plt.show()"
   ]
  },
  {
   "cell_type": "markdown",
   "metadata": {},
   "source": [
    "### Place"
   ]
  },
  {
   "cell_type": "code",
   "execution_count": null,
   "metadata": {},
   "outputs": [],
   "source": [
    "top_5_place = qlog_entities[qlog_entities['class'] == 'place'] \\\n",
    "    .sort_values(by='count', ascending=False) \\\n",
    "    .head(5) \\\n",
    "    ['entity'].values.tolist()\n",
    "top_5_place"
   ]
  },
  {
   "cell_type": "code",
   "execution_count": null,
   "metadata": {},
   "outputs": [],
   "source": [
    "top_5_place_over_time = qlog_entities_over_time[qlog_entities_over_time['entity'].isin(top_5_place)] \\\n",
    "    [['entity', 'count']] \\\n",
    "    .reset_index() \\\n",
    "    .pivot_table(columns='entity', index='index', values=['count'], aggfunc='max') \\\n",
    "    .fillna(0)\n",
    "\n",
    "top_5_place_over_time.columns = top_5_place_over_time.columns.droplevel()\n",
    "\n",
    "top_5_place_over_time.plot()\n",
    "plt.legend(loc=\"upper left\", ncol=5)\n",
    "plt.xlabel(\"Date\")\n",
    "plt.ylabel(\"Number of Mentions\")\n",
    "plt.show()"
   ]
  },
  {
   "cell_type": "markdown",
   "metadata": {},
   "source": [
    "In the following sections, we expand the entity-level analysis by combining them with additional levels. In particular, we build local entity graphs from mentioned entities in a query, in queries with the same topic, or in a session to gain further insights into user search behavior."
   ]
  },
  {
   "cell_type": "markdown",
   "metadata": {
    "slideshow": {
     "slide_type": "slide"
    }
   },
   "source": [
    "## Building and characterizing entity graph from Simple Wikipedia"
   ]
  },
  {
   "cell_type": "markdown",
   "metadata": {
    "slideshow": {
     "slide_type": "fragment"
    }
   },
   "source": [
    "We use the [Simple English Wikipedia Link Graph with Clickstream Transitions 2018-12](https://rdm.inesctec.pt/dataset/cs-2018-004) to analyze the data from DBpedia. On one side, this graph only contains a low number of entities from Wikipedia. On the other side, it's easier to load and process in memory, conveniently supporting this analysis, that can later on be scaled up to a larger Wikipedia link graph.\n",
    "\n",
    "**IMPORTANT:** For any query log that is not in English, none of the graph-based approaches using Simple English Wikipedia can be considered. The same goes for the BBC English dataset for categorization; categories cannot be considered."
   ]
  },
  {
   "cell_type": "code",
   "execution_count": null,
   "metadata": {
    "slideshow": {
     "slide_type": "fragment"
    }
   },
   "outputs": [],
   "source": [
    "g = igraph.read('data/simplewiki_link_graph-201812.gml', format='gml')\n",
    "g.vs['label'] = [label.lower() for label in g.vs['label']]"
   ]
  },
  {
   "cell_type": "code",
   "execution_count": null,
   "metadata": {
    "slideshow": {
     "slide_type": "slide"
    }
   },
   "outputs": [],
   "source": [
    "g.vs['in'] = g.indegree()\n",
    "g.vs['in'] = g.vs['in'] / np.sum(g.vs['in']) # indegree centrality (i.e., normalized)\n",
    "g.vs['pr'] = g.pagerank()"
   ]
  },
  {
   "cell_type": "code",
   "execution_count": null,
   "metadata": {
    "slideshow": {
     "slide_type": "subslide"
    }
   },
   "outputs": [],
   "source": [
    "def compute_stats(graph=None, include_distance_based=False):\n",
    "    if graph is None:\n",
    "        graph = g\n",
    "    \n",
    "    components = graph.components()\n",
    "    \n",
    "    stats = {\n",
    "        'vertices': graph.vcount(),\n",
    "        'edges': graph.ecount(),\n",
    "        'avg_clust_coef': graph.transitivity_undirected(),\n",
    "        'density': graph.density(),\n",
    "        'num_cc': len(components),\n",
    "        'avg_cc_size': np.mean(components.sizes()),\n",
    "        'stdev_cc_size': np.std(components.sizes())\n",
    "    }\n",
    "    \n",
    "    if include_distance_based:\n",
    "        stats['diameter'] = graph.diameter()\n",
    "        stats['avg_path_len'] = graph.average_path_length()\n",
    "    \n",
    "    return pd.Series(stats)"
   ]
  },
  {
   "cell_type": "code",
   "execution_count": null,
   "metadata": {},
   "outputs": [],
   "source": [
    "g_stats = compute_stats(); g_stats.round(2)"
   ]
  },
  {
   "cell_type": "markdown",
   "metadata": {
    "slideshow": {
     "slide_type": "skip"
    }
   },
   "source": [
    "## Building and visualizing entity subgraphs induced by a set of entities\n",
    "\n",
    "We extract the induced entity subgraph for a set of entities, including all edges between the respective entity nodes. We also annotate and color source entity nodes, as well as shortest path edges (indiscriminately for any shortest path edges)."
   ]
  },
  {
   "cell_type": "code",
   "execution_count": null,
   "metadata": {
    "slideshow": {
     "slide_type": "skip"
    }
   },
   "outputs": [],
   "source": [
    "def entity_subgraph(entities, sample=None, ignore_warn=False):\n",
    "    if sample is not None:\n",
    "        entities = np.random.choice(list(entities), size=np.min([len(entities), sample]), replace=False)\n",
    "\n",
    "    v_entities = g.vs.select(label_in=entities)\n",
    "    \n",
    "    s_paths = []\n",
    "    for v_entity in v_entities:\n",
    "        s_paths.extend(g.get_shortest_paths(v_entity, to=v_entities))\n",
    "\n",
    "    sg = g.induced_subgraph([v for s_path in s_paths for v in s_path])\n",
    "    \n",
    "    sg.vs['is_source'] = False\n",
    "    sg.vs['color'] = '#85c1e9'\n",
    "    sg.es['arrow_size'] = 0.5\n",
    "\n",
    "    sources = sg.vs.select(label_in=v_entities['label'])\n",
    "    sources['is_source'] = True\n",
    "    sources['color'] = '#f7dc6f'\n",
    "    \n",
    "    sp_edges = []\n",
    "    for s_path in s_paths:\n",
    "        if len(s_path) < 2:\n",
    "            continue\n",
    "\n",
    "        for s_idx, t_idx in zip(range(len(s_path)-1), range(1, len(s_path))):\n",
    "            source = sg.vs.find(label=g.vs[s_path[s_idx]]['label'])\n",
    "            target = sg.vs.find(label=g.vs[s_path[t_idx]]['label'])\n",
    "\n",
    "            try:\n",
    "                sp_edge = sg.es.find(_source=source.index, _target=target.index)\n",
    "                sp_edge['arrow_size'] = 0.75\n",
    "                sp_edge['width'] = 1.5\n",
    "                sp_edge['color'] = '#f7dc6f'\n",
    "                sp_edges.append(sp_edge)\n",
    "            except:\n",
    "                if not ignore_warn:\n",
    "                    warnings.warn(\"Edge linking %s and %s not found\" % (source['label'], target['label']))\n",
    "\n",
    "    return sg"
   ]
  },
  {
   "cell_type": "code",
   "execution_count": null,
   "metadata": {
    "slideshow": {
     "slide_type": "skip"
    }
   },
   "outputs": [],
   "source": [
    "def plot_subgraph(sg, filename=None, large=False):\n",
    "    if large:\n",
    "        bbox = (640, 480)\n",
    "        margin = (50, 100, 50, 100)\n",
    "    else:\n",
    "        bbox = (320, 240)\n",
    "        margin = (25, 50, 25, 50)\n",
    "\n",
    "    return igraph.plot(\n",
    "        sg, target=filename, bbox=bbox, margin=margin,\n",
    "        vertex_size=10, vertex_label_size=10, vertex_label_dist=1.5)"
   ]
  },
  {
   "cell_type": "markdown",
   "metadata": {
    "slideshow": {
     "slide_type": "slide"
    }
   },
   "source": [
    "# Entity-query-level analysis\n",
    "\n",
    "- Distribution of number of entities per query\n",
    "- Distribution of global entity importance (PageRank) per query\n",
    "- Distribution of local entity importance (PageRank) per query\n",
    "- Number of distinct queries per entity"
   ]
  },
  {
   "cell_type": "markdown",
   "metadata": {
    "slideshow": {
     "slide_type": "slide"
    }
   },
   "source": [
    "## Distribution of number of entities per query"
   ]
  },
  {
   "cell_type": "code",
   "execution_count": null,
   "metadata": {
    "slideshow": {
     "slide_type": "fragment"
    }
   },
   "outputs": [],
   "source": [
    "entities_per_query = qlog[['query', 'entities']] \\\n",
    "    .groupby('query') \\\n",
    "    .apply(lambda df: len(set(flatten(df['entities'])))) \\\n",
    "    .sort_values(ascending=False)\n",
    "\n",
    "bin_width = 1\n",
    "\n",
    "entities_per_query \\\n",
    "    .plot(kind='hist', bins=range(0, entities_per_query.max() + bin_width, bin_width), logy=True)\n",
    "plt.xlabel(\"Number of Entities\")\n",
    "plt.ylabel(\"Number of Queries\")\n",
    "plt.xticks(range(4))\n",
    "plt.savefig(\n",
    "    fname=os.path.join(output_dir, \"entity_query_level-distribution_of_number_of_entities_per_query.pdf\"),\n",
    "    bbox_inches='tight')\n",
    "plt.show()"
   ]
  },
  {
   "cell_type": "markdown",
   "metadata": {
    "slideshow": {
     "slide_type": "skip"
    }
   },
   "source": [
    "## Preparing entity subgraphs per query"
   ]
  },
  {
   "cell_type": "code",
   "execution_count": null,
   "metadata": {},
   "outputs": [],
   "source": [
    "qlog[qlog['num_terms'] < qlog['num_terms'].max()]"
   ]
  },
  {
   "cell_type": "code",
   "execution_count": null,
   "metadata": {},
   "outputs": [],
   "source": [
    "qlog[qlog['entities'].notnull()][['query', 'person', 'organization', 'place', 'entities']]"
   ]
  },
  {
   "cell_type": "code",
   "execution_count": null,
   "metadata": {
    "slideshow": {
     "slide_type": "skip"
    }
   },
   "outputs": [],
   "source": [
    "def entities_from_query(query):\n",
    "    return set(flatten(\n",
    "        qlog[qlog['query'] == query] \\\n",
    "            ['entities'].values.tolist()))\n",
    "\n",
    "entities_from_query('aberdeen police department in maryland')\n",
    "#entities_from_query('medicina licenciados concurso')"
   ]
  },
  {
   "cell_type": "code",
   "execution_count": null,
   "metadata": {
    "slideshow": {
     "slide_type": "skip"
    }
   },
   "outputs": [],
   "source": [
    "@memory.cache\n",
    "def get_entity_subgraphs_by_query(queries):\n",
    "    eg = {}\n",
    "    for query in progressbar.progressbar(queries):\n",
    "        entities = entities_from_query(query)\n",
    "        if entities:\n",
    "            eg[query] = entity_subgraph(entities, ignore_warn=True)\n",
    "            eg[query].vs['lpr'] = eg[query].pagerank()    \n",
    "    return eg\n",
    "\n",
    "eg = get_entity_subgraphs_by_query(qlog['query'].unique())"
   ]
  },
  {
   "cell_type": "markdown",
   "metadata": {
    "slideshow": {
     "slide_type": "slide"
    }
   },
   "source": [
    "## Visualizing entity subgraphs for queries"
   ]
  },
  {
   "cell_type": "code",
   "execution_count": null,
   "metadata": {
    "slideshow": {
     "slide_type": "fragment"
    }
   },
   "outputs": [],
   "source": [
    "plot_subgraph(\n",
    "    eg['aberdeen police department in maryland'],\n",
    "    filename=os.path.join(output_dir, \"entity_query_level-aberdeen_police_department_in_maryland-entity_subgraph.pdf\"))\n",
    "#plot_subgraph(eg['medicina licenciados concurso'])"
   ]
  },
  {
   "cell_type": "markdown",
   "metadata": {
    "slideshow": {
     "slide_type": "slide"
    }
   },
   "source": [
    "## Distribution of global entity importance (PageRank) per query"
   ]
  },
  {
   "cell_type": "code",
   "execution_count": null,
   "metadata": {
    "slideshow": {
     "slide_type": "skip"
    }
   },
   "outputs": [],
   "source": [
    "all_queries_pr = pd.concat(\n",
    "    pd.DataFrame({ 'query': query, 'pr': eg[query].vs['pr'], 'lpr': eg[query].vs['lpr'] })\n",
    "    for query in eg.keys())\n",
    "\n",
    "all_queries_pr = all_queries_pr \\\n",
    "    .groupby('query') \\\n",
    "    .mean()\n",
    "\n",
    "all_queries_pr"
   ]
  },
  {
   "cell_type": "code",
   "execution_count": null,
   "metadata": {
    "slideshow": {
     "slide_type": "fragment"
    }
   },
   "outputs": [],
   "source": [
    "d_max = all_queries_pr['pr'].max()\n",
    "bin_width = 0.00005\n",
    "\n",
    "all_queries_pr['pr'] \\\n",
    "    .plot(kind='hist', bins=np.arange(0, d_max + bin_width, bin_width))\n",
    "plt.xlabel('Global PageRank')\n",
    "plt.ylabel('Number of Queries')\n",
    "plt.savefig(\n",
    "    fname=os.path.join(output_dir, \"entity_query_level-distribution_of_global_entity_importance_per_query.pdf\"),\n",
    "    bbox_inches='tight')\n",
    "plt.show()"
   ]
  },
  {
   "cell_type": "markdown",
   "metadata": {
    "slideshow": {
     "slide_type": "slide"
    }
   },
   "source": [
    "## Distribution of local entity importance (PageRank) per query"
   ]
  },
  {
   "cell_type": "code",
   "execution_count": null,
   "metadata": {
    "slideshow": {
     "slide_type": "fragment"
    }
   },
   "outputs": [],
   "source": [
    "d_max = all_queries_pr['lpr'].max()\n",
    "bin_width = 0.05\n",
    "\n",
    "all_queries_pr['lpr'] \\\n",
    "    .plot(kind='hist', bins=np.arange(0, d_max + bin_width, bin_width))\n",
    "plt.xlabel('Local PageRank')\n",
    "plt.ylabel('Number of Queries')\n",
    "plt.savefig(\n",
    "    fname=os.path.join(output_dir, \"entity_query_level-distribution_of_local_entity_importance_per_query.pdf\"),\n",
    "    bbox_inches='tight')\n",
    "plt.show()"
   ]
  },
  {
   "cell_type": "markdown",
   "metadata": {
    "slideshow": {
     "slide_type": "slide"
    }
   },
   "source": [
    "## Number of distinct queries per entity (top 20)"
   ]
  },
  {
   "cell_type": "code",
   "execution_count": null,
   "metadata": {
    "slideshow": {
     "slide_type": "skip"
    }
   },
   "outputs": [],
   "source": [
    "queries_per_entity = qlog[['query', 'entities']] \\\n",
    "    .groupby('query') \\\n",
    "    .first() \\\n",
    "    .reset_index()\n",
    "\n",
    "null_idx = queries_per_entity.index[queries_per_entity['entities'].isnull()]\n",
    "\n",
    "for idx in null_idx:\n",
    "    queries_per_entity['entities'].at[idx] = []\n",
    "\n",
    "queries_per_entity = pd.DataFrame([\n",
    "    (row.query, entity) for row in queries_per_entity.itertuples() for entity in row.entities],\n",
    "    columns=['query', 'entity'])\n",
    "\n",
    "queries_per_entity = queries_per_entity[['entity', 'query']] \\\n",
    "    .groupby('entity') \\\n",
    "    .count() \\\n",
    "    .sort_values(ascending=False, by='query') \\\n",
    "    .head(20)\n",
    "\n",
    "queries_per_entity"
   ]
  },
  {
   "cell_type": "code",
   "execution_count": null,
   "metadata": {
    "slideshow": {
     "slide_type": "fragment"
    }
   },
   "outputs": [],
   "source": [
    "plt.rc('figure', figsize=[6, 6])\n",
    "\n",
    "queries_per_entity['query'] \\\n",
    "    .plot(kind='barh')\n",
    "plt.xlabel('Number of Queries')\n",
    "plt.ylabel('Top 25 Entities')\n",
    "plt.gca().invert_yaxis()\n",
    "plt.savefig(\n",
    "    fname=os.path.join(output_dir, \"entity_query_level-number_of_distinct_queries_per_entity_top_20.pdf\"),\n",
    "    bbox_inches='tight')\n",
    "plt.show()\n",
    "\n",
    "plt.rc('figure', figsize=DEFAULT_FIGSIZE)"
   ]
  },
  {
   "cell_type": "markdown",
   "metadata": {
    "slideshow": {
     "slide_type": "slide"
    }
   },
   "source": [
    "# Entity-topic-level analysis\n",
    "\n",
    "- Distribution of number of entities per category\n",
    "- Distribution of entity importance (PageRank) per category\n",
    "- Distribution of categories per entity\n",
    "\n",
    "\n",
    "- Distribution of number entities per topic\n",
    "- Distribution of number of distinct entities per topic\n",
    "- Distribution of entity importance (PageRank) per topic\n",
    "- Distribution of topics per entity"
   ]
  },
  {
   "cell_type": "markdown",
   "metadata": {
    "slideshow": {
     "slide_type": "slide"
    }
   },
   "source": [
    "## Categories"
   ]
  },
  {
   "cell_type": "markdown",
   "metadata": {
    "slideshow": {
     "slide_type": "fragment"
    }
   },
   "source": [
    "### Distribution of number of entities per category"
   ]
  },
  {
   "cell_type": "code",
   "execution_count": null,
   "metadata": {
    "slideshow": {
     "slide_type": "fragment"
    }
   },
   "outputs": [],
   "source": [
    "entities_per_category = qlog[['category', 'entities']] \\\n",
    "    .groupby('category') \\\n",
    "    .apply(lambda df: len(set(flatten(df['entities'])))) \\\n",
    "    .sort_values(ascending=False)\n",
    "\n",
    "bin_width = 10\n",
    "\n",
    "entities_per_category \\\n",
    "    .plot(kind='hist', bins=range(0, entities_per_category.max() + bin_width, bin_width))\n",
    "plt.xlabel(\"Number of Entities\")\n",
    "plt.ylabel(\"Number of Categories\")\n",
    "plt.show()"
   ]
  },
  {
   "cell_type": "markdown",
   "metadata": {
    "slideshow": {
     "slide_type": "skip"
    }
   },
   "source": [
    "### Preparing entity subgraphs per category"
   ]
  },
  {
   "cell_type": "code",
   "execution_count": null,
   "metadata": {
    "scrolled": true,
    "slideshow": {
     "slide_type": "skip"
    }
   },
   "outputs": [],
   "source": [
    "def entities_from_category(category):\n",
    "    return set(flatten(\n",
    "        qlog[qlog['category'] == category] \\\n",
    "            ['entities'].values.tolist()))\n",
    "\n",
    "entities_from_category('business')"
   ]
  },
  {
   "cell_type": "code",
   "execution_count": null,
   "metadata": {
    "slideshow": {
     "slide_type": "skip"
    }
   },
   "outputs": [],
   "source": [
    "@memory.cache\n",
    "def get_entity_subgraphs_by_category(categories, sample=None):\n",
    "    eg = {}\n",
    "    for category in progressbar.progressbar(categories):\n",
    "        entities = entities_from_category(category)\n",
    "        if entities:\n",
    "            eg[category] = entity_subgraph(entities, sample=sample, ignore_warn=True)\n",
    "            eg[category].vs['lpr'] = eg[category].pagerank()    \n",
    "    return eg\n",
    "\n",
    "eg = get_entity_subgraphs_by_category(qlog['category'].unique(), sample=100)"
   ]
  },
  {
   "cell_type": "markdown",
   "metadata": {
    "slideshow": {
     "slide_type": "slide"
    }
   },
   "source": [
    "### Distribution of global entity importance (PageRank) per category"
   ]
  },
  {
   "cell_type": "code",
   "execution_count": null,
   "metadata": {
    "slideshow": {
     "slide_type": "skip"
    }
   },
   "outputs": [],
   "source": [
    "all_categories_pr = pd.concat(\n",
    "    pd.DataFrame({ 'category': category, 'pr': eg[category].vs['pr'], 'lpr': eg[category].vs['lpr'] })\n",
    "    for category in eg.keys())\n",
    "\n",
    "all_categories_pr"
   ]
  },
  {
   "cell_type": "code",
   "execution_count": null,
   "metadata": {
    "slideshow": {
     "slide_type": "fragment"
    }
   },
   "outputs": [],
   "source": [
    "all_categories_pr[['category', 'pr']] \\\n",
    "    .boxplot(by='category', showfliers=False)\n",
    "plt.title(\"\")\n",
    "plt.suptitle(\"\")\n",
    "plt.xlabel(\"Category\")\n",
    "plt.ylabel(\"Global PageRank\")\n",
    "plt.savefig(\n",
    "    fname=os.path.join(output_dir, \"entity_topic_level-distribution_of_global_entity_importance_per_category.pdf\"),\n",
    "    bbox_inches='tight')\n",
    "plt.show()"
   ]
  },
  {
   "cell_type": "markdown",
   "metadata": {
    "slideshow": {
     "slide_type": "slide"
    }
   },
   "source": [
    "### Distribution of local entity importance (PageRank) per category"
   ]
  },
  {
   "cell_type": "code",
   "execution_count": null,
   "metadata": {
    "slideshow": {
     "slide_type": "fragment"
    }
   },
   "outputs": [],
   "source": [
    "all_categories_pr[['category', 'lpr']] \\\n",
    "    .boxplot(by='category', showfliers=False)\n",
    "plt.title(\"\")\n",
    "plt.suptitle(\"\")\n",
    "plt.xlabel(\"Category\")\n",
    "plt.ylabel(\"Local PageRank\")\n",
    "plt.savefig(\n",
    "    fname=os.path.join(output_dir, \"entity_topic_level-distribution_of_local_entity_importance_per_category.pdf\"),\n",
    "    bbox_inches='tight')\n",
    "plt.show()"
   ]
  },
  {
   "cell_type": "markdown",
   "metadata": {
    "slideshow": {
     "slide_type": "slide"
    }
   },
   "source": [
    "### Distribution of number of categories per entity (top 20)"
   ]
  },
  {
   "cell_type": "code",
   "execution_count": null,
   "metadata": {
    "slideshow": {
     "slide_type": "skip"
    }
   },
   "outputs": [],
   "source": [
    "categories_per_entity = qlog[['category', 'entities']]\n",
    "\n",
    "null_idx = categories_per_entity.index[categories_per_entity['entities'].isnull()]\n",
    "\n",
    "for idx in null_idx:\n",
    "    categories_per_entity['entities'].at[idx] = []\n",
    "\n",
    "categories_per_entity = pd.DataFrame([\n",
    "    (row.category, entity) for row in categories_per_entity.itertuples() for entity in row.entities],\n",
    "    columns=['category', 'entity'])\n",
    "\n",
    "categories_per_entity = categories_per_entity[['entity', 'category']] \\\n",
    "    .groupby('entity') \\\n",
    "    .nunique()[['category']] \\\n",
    "    .sort_values(ascending=False, by=\"category\") \\\n",
    "    .head(20)\n",
    "\n",
    "categories_per_entity"
   ]
  },
  {
   "cell_type": "code",
   "execution_count": null,
   "metadata": {
    "slideshow": {
     "slide_type": "fragment"
    }
   },
   "outputs": [],
   "source": [
    "plt.rc('figure', figsize=[6, 6])\n",
    "\n",
    "categories_per_entity['category'] \\\n",
    "    .plot(kind='barh')\n",
    "plt.xlabel('Number of Categories')\n",
    "plt.ylabel('Top 25 Entities')\n",
    "plt.gca().invert_yaxis()\n",
    "plt.savefig(\n",
    "    fname=os.path.join(output_dir, \"entity_topic_level-distribution_of_number_of_categories_per_entity.pdf\"),\n",
    "    bbox_inches='tight')\n",
    "plt.show()\n",
    "\n",
    "plt.rc('figure', figsize=DEFAULT_FIGSIZE)"
   ]
  },
  {
   "cell_type": "markdown",
   "metadata": {
    "slideshow": {
     "slide_type": "slide"
    }
   },
   "source": [
    "## Topics"
   ]
  },
  {
   "cell_type": "markdown",
   "metadata": {
    "slideshow": {
     "slide_type": "fragment"
    }
   },
   "source": [
    "### Distribution of number of entities per topic"
   ]
  },
  {
   "cell_type": "code",
   "execution_count": 4,
   "metadata": {
    "slideshow": {
     "slide_type": "fragment"
    }
   },
   "outputs": [
    {
     "ename": "NameError",
     "evalue": "name 'qlog' is not defined",
     "output_type": "error",
     "traceback": [
      "\u001b[0;31m---------------------------------------------------------------------------\u001b[0m",
      "\u001b[0;31mNameError\u001b[0m                                 Traceback (most recent call last)",
      "\u001b[0;32m<ipython-input-4-4a7eee0526bb>\u001b[0m in \u001b[0;36m<module>\u001b[0;34m\u001b[0m\n\u001b[0;32m----> 1\u001b[0;31m \u001b[0mentities_per_topic\u001b[0m \u001b[0;34m=\u001b[0m \u001b[0mqlog\u001b[0m\u001b[0;34m[\u001b[0m\u001b[0;34m[\u001b[0m\u001b[0;34m'topic'\u001b[0m\u001b[0;34m,\u001b[0m \u001b[0;34m'entities'\u001b[0m\u001b[0;34m]\u001b[0m\u001b[0;34m]\u001b[0m\u001b[0;31m \u001b[0m\u001b[0;31m\\\u001b[0m\u001b[0;34m\u001b[0m\u001b[0m\n\u001b[0m\u001b[1;32m      2\u001b[0m     \u001b[0;34m.\u001b[0m\u001b[0mgroupby\u001b[0m\u001b[0;34m(\u001b[0m\u001b[0;34m'topic'\u001b[0m\u001b[0;34m)\u001b[0m\u001b[0;31m \u001b[0m\u001b[0;31m\\\u001b[0m\u001b[0;34m\u001b[0m\u001b[0m\n\u001b[1;32m      3\u001b[0m     \u001b[0;34m.\u001b[0m\u001b[0mapply\u001b[0m\u001b[0;34m(\u001b[0m\u001b[0;32mlambda\u001b[0m \u001b[0mdf\u001b[0m\u001b[0;34m:\u001b[0m \u001b[0mlen\u001b[0m\u001b[0;34m(\u001b[0m\u001b[0mlist\u001b[0m\u001b[0;34m(\u001b[0m\u001b[0mflatten\u001b[0m\u001b[0;34m(\u001b[0m\u001b[0mdf\u001b[0m\u001b[0;34m[\u001b[0m\u001b[0;34m'entities'\u001b[0m\u001b[0;34m]\u001b[0m\u001b[0;34m)\u001b[0m\u001b[0;34m)\u001b[0m\u001b[0;34m)\u001b[0m\u001b[0;34m)\u001b[0m\u001b[0;31m \u001b[0m\u001b[0;31m\\\u001b[0m\u001b[0;34m\u001b[0m\u001b[0m\n\u001b[1;32m      4\u001b[0m     \u001b[0;34m.\u001b[0m\u001b[0msort_values\u001b[0m\u001b[0;34m(\u001b[0m\u001b[0mascending\u001b[0m\u001b[0;34m=\u001b[0m\u001b[0;32mFalse\u001b[0m\u001b[0;34m)\u001b[0m\u001b[0;34m\u001b[0m\u001b[0m\n\u001b[1;32m      5\u001b[0m \u001b[0;34m\u001b[0m\u001b[0m\n",
      "\u001b[0;31mNameError\u001b[0m: name 'qlog' is not defined"
     ]
    }
   ],
   "source": [
    "entities_per_topic = qlog[['topic', 'entities']] \\\n",
    "    .groupby('topic') \\\n",
    "    .apply(lambda df: len(list(flatten(df['entities'])))) \\\n",
    "    .sort_values(ascending=False)\n",
    "\n",
    "bin_width = 50\n",
    "\n",
    "entities_per_topic \\\n",
    "    .plot(kind='hist', bins=range(0, entities_per_topic.max() + bin_width, bin_width))\n",
    "plt.xlabel(\"Number of Entities\")\n",
    "plt.ylabel(\"Number of Topics\")\n",
    "plt.savefig(\n",
    "    fname=os.path.join(output_dir, \"entity_topic_level-distribution_of_number_of_entities_per_topic.pdf\"),\n",
    "    bbox_inches='tight')\n",
    "plt.show()"
   ]
  },
  {
   "cell_type": "markdown",
   "metadata": {
    "slideshow": {
     "slide_type": "slide"
    }
   },
   "source": [
    "### Distribution of number of distinct entities per topic"
   ]
  },
  {
   "cell_type": "code",
   "execution_count": null,
   "metadata": {
    "slideshow": {
     "slide_type": "fragment"
    }
   },
   "outputs": [],
   "source": [
    "entities_per_topic = qlog[['topic', 'entities']] \\\n",
    "    .groupby('topic') \\\n",
    "    .apply(lambda df: len(set(flatten(df['entities'])))) \\\n",
    "    .sort_values(ascending=False)\n",
    "\n",
    "bin_width = 10\n",
    "\n",
    "entities_per_topic \\\n",
    "    .plot(kind='hist', bins=range(0, entities_per_topic.max() + bin_width, bin_width))\n",
    "plt.xlabel(\"Number of Entities\")\n",
    "plt.ylabel(\"Number of Topics\")\n",
    "plt.show()"
   ]
  },
  {
   "cell_type": "markdown",
   "metadata": {
    "slideshow": {
     "slide_type": "skip"
    }
   },
   "source": [
    "### Preparing entity subgraphs per topic"
   ]
  },
  {
   "cell_type": "code",
   "execution_count": null,
   "metadata": {},
   "outputs": [],
   "source": [
    "topic_count = qlog[['topic', 'query']] \\\n",
    "    .groupby('topic') \\\n",
    "    .count() \\\n",
    "    .rename(columns={'query': 'count'}) \\\n",
    "    .sort_values(by='count')"
   ]
  },
  {
   "cell_type": "code",
   "execution_count": null,
   "metadata": {
    "slideshow": {
     "slide_type": "skip"
    }
   },
   "outputs": [],
   "source": [
    "def entities_from_topic(topic):\n",
    "    return set(flatten(\n",
    "        qlog[qlog['topic'] == topic] \\\n",
    "            ['entities'].values.tolist()))\n",
    "\n",
    "n = 10\n",
    "top_n_topic = topic_count.iloc[-n].name\n",
    "display(top_n_topic)\n",
    "entities_from_topic(top_n_topic)"
   ]
  },
  {
   "cell_type": "code",
   "execution_count": null,
   "metadata": {
    "slideshow": {
     "slide_type": "skip"
    }
   },
   "outputs": [],
   "source": [
    "@memory.cache\n",
    "def get_entity_subgraphs_by_topic(topics):\n",
    "    eg = {}\n",
    "    for topic in progressbar.progressbar(topics):\n",
    "        entities = entities_from_topic(topic)\n",
    "        if entities:\n",
    "            eg[topic] = entity_subgraph(entities, ignore_warn=True)\n",
    "            eg[topic].vs['lpr'] = eg[topic].pagerank()    \n",
    "    return eg\n",
    "\n",
    "eg = get_entity_subgraphs_by_topic(qlog['topic'].unique())"
   ]
  },
  {
   "cell_type": "markdown",
   "metadata": {
    "slideshow": {
     "slide_type": "slide"
    }
   },
   "source": [
    "### Visualizing entity subgraphs for topics"
   ]
  },
  {
   "cell_type": "code",
   "execution_count": null,
   "metadata": {
    "slideshow": {
     "slide_type": "fragment"
    }
   },
   "outputs": [],
   "source": [
    "bottom_topic = topic_count.iloc[0].name\n",
    "display(bottom_topic)\n",
    "plot_subgraph(eg[bottom_topic], large=True)"
   ]
  },
  {
   "cell_type": "markdown",
   "metadata": {
    "slideshow": {
     "slide_type": "slide"
    }
   },
   "source": [
    "### Distribution of global entity importance (PageRank) per topic"
   ]
  },
  {
   "cell_type": "code",
   "execution_count": null,
   "metadata": {
    "slideshow": {
     "slide_type": "skip"
    }
   },
   "outputs": [],
   "source": [
    "all_topics_pr = pd.concat(\n",
    "    pd.DataFrame({ 'topic': topic, 'pr': eg[topic].vs['pr'], 'lpr': eg[topic].vs['lpr'] })\n",
    "    for topic in eg.keys())\n",
    "\n",
    "all_topics_pr"
   ]
  },
  {
   "cell_type": "code",
   "execution_count": null,
   "metadata": {
    "slideshow": {
     "slide_type": "fragment"
    }
   },
   "outputs": [],
   "source": [
    "plt.rc('figure', figsize=[6, 10])\n",
    "\n",
    "all_topics_pr[['topic', 'pr']] \\\n",
    "    .boxplot(by='topic', showfliers=False, vert=False)\n",
    "plt.title(\"\")\n",
    "plt.suptitle(\"\")\n",
    "plt.xlabel(\"Global PageRank\")\n",
    "plt.ylabel(\"Topic\")\n",
    "plt.savefig(\n",
    "    fname=os.path.join(output_dir, \"entity_topic_level-distribution_of_global_entity_importance_per_topic.pdf\"),\n",
    "    bbox_inches='tight')\n",
    "plt.show()\n",
    "\n",
    "plt.rc('figure', figsize=DEFAULT_FIGSIZE)"
   ]
  },
  {
   "cell_type": "markdown",
   "metadata": {
    "slideshow": {
     "slide_type": "slide"
    }
   },
   "source": [
    "### Distribution of local entity importance (PageRank) per topic"
   ]
  },
  {
   "cell_type": "code",
   "execution_count": null,
   "metadata": {
    "slideshow": {
     "slide_type": "fragment"
    }
   },
   "outputs": [],
   "source": [
    "plt.rc('figure', figsize=[6, 10])\n",
    "\n",
    "all_topics_pr[['topic', 'lpr']] \\\n",
    "    .boxplot(by='topic', showfliers=False, vert=False)\n",
    "plt.title(\"\")\n",
    "plt.suptitle(\"\")\n",
    "plt.xlabel(\"Local PageRank\")\n",
    "plt.ylabel(\"Topic\")\n",
    "plt.savefig(\n",
    "    fname=os.path.join(output_dir, \"entity_topic_level-distribution_of_local_entity_importance_per_topic.pdf\"),\n",
    "    bbox_inches='tight')\n",
    "plt.show()\n",
    "\n",
    "plt.rc('figure', figsize=DEFAULT_FIGSIZE)"
   ]
  },
  {
   "cell_type": "markdown",
   "metadata": {
    "slideshow": {
     "slide_type": "slide"
    }
   },
   "source": [
    "### Distribution of number topics per entity (top 20)"
   ]
  },
  {
   "cell_type": "code",
   "execution_count": null,
   "metadata": {
    "slideshow": {
     "slide_type": "skip"
    }
   },
   "outputs": [],
   "source": [
    "topics_per_entity = qlog[['topic', 'entities']]\n",
    "\n",
    "null_idx = topics_per_entity.index[topics_per_entity['entities'].isnull()]\n",
    "\n",
    "for idx in null_idx:\n",
    "    topics_per_entity['entities'].at[idx] = []\n",
    "\n",
    "topics_per_entity = pd.DataFrame([\n",
    "    (row.topic, entity) for row in topics_per_entity.itertuples() for entity in row.entities],\n",
    "    columns=['topic', 'entity'])\n",
    "\n",
    "topics_per_entity = topics_per_entity[['entity', 'topic']] \\\n",
    "    .groupby('entity') \\\n",
    "    .nunique()[['topic']] \\\n",
    "    .sort_values(ascending=False, by=\"topic\") \\\n",
    "    .head(20)\n",
    "\n",
    "topics_per_entity"
   ]
  },
  {
   "cell_type": "code",
   "execution_count": null,
   "metadata": {
    "slideshow": {
     "slide_type": "fragment"
    }
   },
   "outputs": [],
   "source": [
    "plt.rc('figure', figsize=[6, 6])\n",
    "\n",
    "topics_per_entity['topic'] \\\n",
    "    .plot(kind='barh')\n",
    "plt.xlabel('Number of Topics')\n",
    "plt.ylabel('Top 25 Entities')\n",
    "plt.gca().invert_yaxis()\n",
    "plt.show()\n",
    "\n",
    "plt.rc('figure', figsize=DEFAULT_FIGSIZE)"
   ]
  },
  {
   "cell_type": "markdown",
   "metadata": {
    "slideshow": {
     "slide_type": "slide"
    }
   },
   "source": [
    "# Entity-session-level analysis\n",
    "\n",
    "- Distribution of number entities per session\n",
    "- Distribution of number of distinct entities per session\n",
    "\n",
    "\n",
    "- Entity graphs for the top sessions with more entities:\n",
    "  - Average distance between query entities\n",
    "  - Global entity importance (PageRank)\n",
    "  - Local entity importance (PageRank)\n",
    "  - Global vs local PageRank\n",
    "\n",
    "\n",
    "- Distribution of global entity importance (PageRank) per session\n",
    "- Distribution of local entity importance (PageRank) per session\n",
    "\n",
    "\n",
    "- Distribution of average number of entities per session over time\n",
    "- Distribution of average entity importance (PageRank) per session over time"
   ]
  },
  {
   "cell_type": "markdown",
   "metadata": {
    "slideshow": {
     "slide_type": "slide"
    }
   },
   "source": [
    "## Distribution of number entities per session"
   ]
  },
  {
   "cell_type": "code",
   "execution_count": null,
   "metadata": {
    "slideshow": {
     "slide_type": "fragment"
    }
   },
   "outputs": [],
   "source": [
    "entities_per_session = qlog[['session_id', 'entities']] \\\n",
    "    .groupby('session_id') \\\n",
    "    .apply(lambda df: len(list(flatten(df['entities'])))) \\\n",
    "    .sort_values(ascending=False)\n",
    "\n",
    "bin_width = 1\n",
    "\n",
    "entities_per_session \\\n",
    "    .plot(kind='hist', bins=range(0, entities_per_session.max() + bin_width, bin_width))\n",
    "plt.xlabel(\"Number of Entities\")\n",
    "plt.ylabel(\"Number of Sessions\")\n",
    "plt.savefig(\n",
    "    fname=os.path.join(output_dir, \"entity_session_level-distribution_of_number_of_entities_per_session.pdf\"),\n",
    "    bbox_inches='tight')\n",
    "plt.show()"
   ]
  },
  {
   "cell_type": "markdown",
   "metadata": {
    "slideshow": {
     "slide_type": "slide"
    }
   },
   "source": [
    "## Distribution of number distinct entities per session"
   ]
  },
  {
   "cell_type": "code",
   "execution_count": null,
   "metadata": {
    "slideshow": {
     "slide_type": "fragment"
    }
   },
   "outputs": [],
   "source": [
    "distinct_entities_per_session = qlog[['session_id', 'entities']] \\\n",
    "    .groupby('session_id') \\\n",
    "    .apply(lambda df: len(set(flatten(df['entities'])))) \\\n",
    "    .sort_values(ascending=False)\n",
    "\n",
    "bin_width = 1\n",
    "\n",
    "distinct_entities_per_session \\\n",
    "    .plot(kind='hist', bins=range(0, distinct_entities_per_session.max() + bin_width, bin_width))\n",
    "plt.xlabel(\"Number of Distinct Entities\")\n",
    "plt.ylabel(\"Number of Sessions\")\n",
    "plt.show()"
   ]
  },
  {
   "cell_type": "markdown",
   "metadata": {
    "slideshow": {
     "slide_type": "skip"
    }
   },
   "source": [
    "## Identifying the entities for the top sessions with distinct entities"
   ]
  },
  {
   "cell_type": "code",
   "execution_count": null,
   "metadata": {
    "slideshow": {
     "slide_type": "skip"
    }
   },
   "outputs": [],
   "source": [
    "top_sessions = distinct_entities_per_session \\\n",
    "    .head()\n",
    "top_sessions"
   ]
  },
  {
   "cell_type": "markdown",
   "metadata": {
    "slideshow": {
     "slide_type": "slide"
    }
   },
   "source": [
    "## Preparing entity subgraphs per session"
   ]
  },
  {
   "cell_type": "code",
   "execution_count": null,
   "metadata": {},
   "outputs": [],
   "source": [
    "qlog[qlog['entities'].notnull()][['query', 'entities', 'session_id']]"
   ]
  },
  {
   "cell_type": "code",
   "execution_count": null,
   "metadata": {
    "slideshow": {
     "slide_type": "fragment"
    }
   },
   "outputs": [],
   "source": [
    "def entities_from_session(session_id):\n",
    "    return set(flatten(\n",
    "        qlog[qlog['session_id'] == session_id] \\\n",
    "            ['entities'].values.tolist()))\n",
    "\n",
    "entities_from_session(3)"
   ]
  },
  {
   "cell_type": "code",
   "execution_count": null,
   "metadata": {},
   "outputs": [],
   "source": [
    "@memory.cache\n",
    "def get_entity_subgraphs_by_session_id(session_ids):\n",
    "    eg = {}\n",
    "    for session_id in progressbar.progressbar(session_ids):\n",
    "        entities = entities_from_session(session_id)\n",
    "        if entities:\n",
    "            eg[session_id] = entity_subgraph(entities, ignore_warn=True)\n",
    "            eg[session_id].vs['lpr'] = eg[session_id].pagerank()    \n",
    "    return eg\n",
    "\n",
    "eg = get_entity_subgraphs_by_session_id(qlog['session_id'].unique())"
   ]
  },
  {
   "cell_type": "markdown",
   "metadata": {
    "slideshow": {
     "slide_type": "slide"
    }
   },
   "source": [
    "## Visualizing entity subgraphs for sessions\n",
    "\n",
    "Below we visualize the entity graphs for two top-5 sessions (2091 and 4) and a smaller session (2080)."
   ]
  },
  {
   "cell_type": "code",
   "execution_count": null,
   "metadata": {
    "slideshow": {
     "slide_type": "fragment"
    }
   },
   "outputs": [],
   "source": [
    "plot_subgraph(eg[2091], large=True)"
   ]
  },
  {
   "cell_type": "code",
   "execution_count": null,
   "metadata": {
    "slideshow": {
     "slide_type": "slide"
    }
   },
   "outputs": [],
   "source": [
    "plot_subgraph(eg[4], large=True)"
   ]
  },
  {
   "cell_type": "code",
   "execution_count": null,
   "metadata": {
    "slideshow": {
     "slide_type": "slide"
    }
   },
   "outputs": [],
   "source": [
    "plot_subgraph(eg[2080])"
   ]
  },
  {
   "cell_type": "markdown",
   "metadata": {
    "slideshow": {
     "slide_type": "slide"
    }
   },
   "source": [
    "## Average distance between query entities"
   ]
  },
  {
   "cell_type": "code",
   "execution_count": null,
   "metadata": {
    "slideshow": {
     "slide_type": "fragment"
    }
   },
   "outputs": [],
   "source": [
    "s_avg_dists = []\n",
    "for session_id, sg in eg.items():\n",
    "    s_dists = sg.shortest_paths(source=sg.vs.select(is_source=True), target=sg.vs.select(is_source=True))\n",
    "    s_dists = list(filter(lambda x: x > 0, flatten(s_dists)))\n",
    "    \n",
    "    if len(s_dists) < 1 or np.inf in s_dists:\n",
    "        continue\n",
    "    \n",
    "    s_avg_dist = np.mean(s_dists)\n",
    "    s_avg_dists.append(s_avg_dist)\n",
    "\n",
    "s_avg_dists = pd.DataFrame(s_avg_dists, columns=['avg_dist'])\n",
    "\n",
    "s_avg_dists \\\n",
    "    .boxplot()\n",
    "\n",
    "plt.xticks([])\n",
    "plt.xlabel(\"Sessions\")\n",
    "plt.ylabel(\"Average Distance\")\n",
    "plt.savefig(\n",
    "    fname=os.path.join(output_dir, \"entity_session_level-average_distance_between_query_entities.pdf\"),\n",
    "    bbox_inches='tight')\n",
    "plt.show()"
   ]
  },
  {
   "cell_type": "code",
   "execution_count": null,
   "metadata": {},
   "outputs": [],
   "source": [
    "s_avg_dists.describe()"
   ]
  },
  {
   "cell_type": "markdown",
   "metadata": {
    "slideshow": {
     "slide_type": "slide"
    }
   },
   "source": [
    "## Global entity importance (PageRank)"
   ]
  },
  {
   "cell_type": "code",
   "execution_count": null,
   "metadata": {
    "slideshow": {
     "slide_type": "skip"
    }
   },
   "outputs": [],
   "source": [
    "session_ids = []\n",
    "pr = []\n",
    "lpr = []\n",
    "\n",
    "for session_id in top_sessions.index:\n",
    "    if session_id in eg:\n",
    "        for v in eg[session_id].vs:\n",
    "            session_ids.append(session_id)\n",
    "            pr.append(v['pr'])\n",
    "            lpr.append(v['lpr'])\n",
    "\n",
    "session_pr = pd.DataFrame({ 'session_id': session_ids, 'page_rank': pr, 'local_page_rank': lpr }) \\\n",
    "    .set_index('session_id')\n",
    "\n",
    "session_pr.index = pd.Categorical(session_pr.index, categories=top_sessions.index)\n",
    "session_pr.index.name = 'session_id'"
   ]
  },
  {
   "cell_type": "code",
   "execution_count": null,
   "metadata": {
    "slideshow": {
     "slide_type": "fragment"
    }
   },
   "outputs": [],
   "source": [
    "session_pr[['page_rank']] \\\n",
    "    .boxplot(by='session_id')\n",
    "\n",
    "plt.xlabel(\"Session\")\n",
    "plt.ylabel(\"Global PageRank\")\n",
    "plt.title(None)\n",
    "plt.suptitle(None)\n",
    "plt.show()"
   ]
  },
  {
   "cell_type": "markdown",
   "metadata": {
    "slideshow": {
     "slide_type": "slide"
    }
   },
   "source": [
    "## Local entity importance (PageRank)"
   ]
  },
  {
   "cell_type": "code",
   "execution_count": null,
   "metadata": {
    "slideshow": {
     "slide_type": "fragment"
    }
   },
   "outputs": [],
   "source": [
    "session_pr[['local_page_rank']] \\\n",
    "    .boxplot(by='session_id')\n",
    "\n",
    "plt.xlabel(\"Session\")\n",
    "plt.ylabel(\"Local PageRank\")\n",
    "plt.title(None)\n",
    "plt.suptitle(None)\n",
    "plt.show()"
   ]
  },
  {
   "cell_type": "markdown",
   "metadata": {
    "slideshow": {
     "slide_type": "slide"
    }
   },
   "source": [
    "## Global vs local PageRank"
   ]
  },
  {
   "cell_type": "code",
   "execution_count": null,
   "metadata": {
    "slideshow": {
     "slide_type": "fragment"
    }
   },
   "outputs": [],
   "source": [
    "session_pr['norm_page_rank'] = session_pr['page_rank'] / session_pr['page_rank'].sum()\n",
    "session_pr['norm_local_page_rank'] = session_pr['local_page_rank'] / session_pr['local_page_rank'].sum()\n",
    "session_pr['norm_page_rank_diff'] = session_pr['norm_local_page_rank'] - session_pr['norm_page_rank']\n",
    "\n",
    "plt.rc('figure', figsize=[DEFAULT_FIGSIZE[0], 6])\n",
    "\n",
    "session_pr[['norm_page_rank_diff']] \\\n",
    "    .boxplot(by='session_id') \\\n",
    "    .axhline(y=0, alpha=0.3, linestyle='--')\n",
    "\n",
    "plt.xlabel(\"Session\")\n",
    "plt.ylabel(\"Local PageRank\")\n",
    "plt.title(None)\n",
    "plt.suptitle(None)\n",
    "plt.show()\n",
    "\n",
    "plt.rc('figure', figsize=DEFAULT_FIGSIZE)"
   ]
  },
  {
   "cell_type": "markdown",
   "metadata": {
    "slideshow": {
     "slide_type": "slide"
    }
   },
   "source": [
    "**Q:** Why does session 1224 show a higher absolute difference than the remaining sessions?"
   ]
  },
  {
   "cell_type": "markdown",
   "metadata": {
    "slideshow": {
     "slide_type": "slide"
    }
   },
   "source": [
    "**H1:** Is it because of the number of queries?"
   ]
  },
  {
   "cell_type": "code",
   "execution_count": null,
   "metadata": {
    "slideshow": {
     "slide_type": "fragment"
    }
   },
   "outputs": [],
   "source": [
    "session_queries = qlog[qlog['entities'].map(lambda e: len(e) if e else 0) > 0][['session_id', 'query']] \\\n",
    "    .set_index('session_id') \\\n",
    "    .loc[top_sessions.index]\n",
    "\n",
    "session_queries.index = pd.Categorical(session_queries.index, categories=top_sessions.index)\n",
    "session_queries.index.name = 'session_id'\n",
    "\n",
    "session_queries \\\n",
    "    .groupby(['session_id']) \\\n",
    "    .nunique() \\\n",
    "    .reset_index()"
   ]
  },
  {
   "cell_type": "markdown",
   "metadata": {
    "slideshow": {
     "slide_type": "fragment"
    }
   },
   "source": [
    "No. The behavior is simular for sessions 2091 and 1224 for the number of queries, but the highest change in PageRank was for session 1224."
   ]
  },
  {
   "cell_type": "markdown",
   "metadata": {
    "slideshow": {
     "slide_type": "slide"
    }
   },
   "source": [
    "**H2:** Is it because of the number of entities?"
   ]
  },
  {
   "cell_type": "code",
   "execution_count": null,
   "metadata": {
    "slideshow": {
     "slide_type": "fragment"
    }
   },
   "outputs": [],
   "source": [
    "top_sessions \\\n",
    "    .reset_index() \\\n",
    "    .rename({ 0: 'entity' }, axis=1)"
   ]
  },
  {
   "cell_type": "markdown",
   "metadata": {
    "slideshow": {
     "slide_type": "fragment"
    }
   },
   "source": [
    "No. The behavior was similar for sessions 2091 and 1224 in number of entities, but the highest change in PageRank was for session 1224."
   ]
  },
  {
   "cell_type": "markdown",
   "metadata": {
    "slideshow": {
     "slide_type": "slide"
    }
   },
   "source": [
    "**H3:** Is is because of the semantics of the queries?"
   ]
  },
  {
   "cell_type": "code",
   "execution_count": null,
   "metadata": {
    "slideshow": {
     "slide_type": "fragment"
    }
   },
   "outputs": [],
   "source": [
    "with pd.option_context('display.max_rows', None, 'display.max_columns', None):\n",
    "    query_count_per_session = session_queries \\\n",
    "        .groupby(['session_id', 'query']) \\\n",
    "        .size() \\\n",
    "        .reset_index() \\\n",
    "        .rename({ 0: 'count'}, axis=1) \\\n",
    "        .sort_values(by=['session_id', 'count'], ascending=[True, False])\n",
    "    \n",
    "    query_count_per_session['query_length'] = query_count_per_session['query'].map(len)\n",
    "    \n",
    "    display(query_count_per_session)"
   ]
  },
  {
   "cell_type": "markdown",
   "metadata": {
    "slideshow": {
     "slide_type": "slide"
    }
   },
   "source": [
    "Although the sample is too small, there seems to be a relation between query length and the change in PageRank. We investigate further, using the entity subgraphs for all sessions instead of the top sessions (i.e., with a higher number of distinct entities)."
   ]
  },
  {
   "cell_type": "code",
   "execution_count": null,
   "metadata": {
    "slideshow": {
     "slide_type": "fragment"
    }
   },
   "outputs": [],
   "source": [
    "all_session_pr = pd.concat(\n",
    "    pd.DataFrame({ 'session_id': session_id, 'pr': eg[session_id].vs['pr'], 'lpr': eg[session_id].vs['lpr'] })\n",
    "    for session_id in eg.keys())\n",
    "\n",
    "all_session_pr = all_session_pr \\\n",
    "    .set_index('session_id')\n",
    "\n",
    "all_session_pr['pr'] = all_session_pr['pr'] / all_session_pr['pr'].sum()\n",
    "all_session_pr['lpr'] = all_session_pr['lpr'] / all_session_pr['lpr'].sum()\n",
    "\n",
    "all_session_pr = all_session_pr \\\n",
    "    .groupby('session_id') \\\n",
    "    .mean()\n",
    "\n",
    "all_session_pr['pr_diff'] = all_session_pr['lpr'] - all_session_pr['pr']\n",
    "\n",
    "all_session_pr = all_session_pr.merge(\n",
    "    qlog[qlog['entities'].map(lambda e: len(e) if e else 0) > 0][['session_id', 'length']] \\\n",
    "        .groupby('session_id') \\\n",
    "        .mean(), on='session_id')\n",
    "\n",
    "all_session_pr['pr_diff'].corr(all_session_pr['length'], method='spearman')"
   ]
  },
  {
   "cell_type": "markdown",
   "metadata": {
    "slideshow": {
     "slide_type": "fragment"
    }
   },
   "source": [
    "Based on the mean PageRanks and query lengths per session, there is no correlation with the change in PageRanks. Since the difference is so small, this is probably a random difference that we can disregard."
   ]
  },
  {
   "cell_type": "markdown",
   "metadata": {
    "slideshow": {
     "slide_type": "slide"
    }
   },
   "source": [
    "## Distribution of global entity importance (PageRank) per session"
   ]
  },
  {
   "cell_type": "code",
   "execution_count": null,
   "metadata": {
    "slideshow": {
     "slide_type": "fragment"
    }
   },
   "outputs": [],
   "source": [
    "d_max = all_session_pr['pr'].max()\n",
    "bin_width= 0.0001\n",
    "\n",
    "all_session_pr['pr'] \\\n",
    "    .plot(kind='hist', bins=np.arange(0, d_max + bin_width, bin_width))\n",
    "plt.xlabel('Global PageRank')\n",
    "plt.ylabel('Number of Sessions')\n",
    "plt.savefig(\n",
    "    fname=os.path.join(output_dir, \"entity_session_level-distribution_of_global_entity_importance_per_session.pdf\"),\n",
    "    bbox_inches='tight')\n",
    "plt.show()"
   ]
  },
  {
   "cell_type": "markdown",
   "metadata": {
    "slideshow": {
     "slide_type": "slide"
    }
   },
   "source": [
    "## Distribution of local entity importance (PageRank) per session"
   ]
  },
  {
   "cell_type": "code",
   "execution_count": null,
   "metadata": {
    "slideshow": {
     "slide_type": "fragment"
    }
   },
   "outputs": [],
   "source": [
    "d_max = all_session_pr['lpr'].max()\n",
    "bin_width= 0.0001\n",
    "\n",
    "all_session_pr['lpr'] \\\n",
    "    .plot(kind='hist', bins=np.arange(0, d_max + bin_width, bin_width))\n",
    "plt.xlabel('Local PageRank')\n",
    "plt.ylabel('Number of Sessions')\n",
    "plt.savefig(\n",
    "    fname=os.path.join(output_dir, \"entity_session_level-distribution_of_local_entity_importance_per_session.pdf\"),\n",
    "    bbox_inches='tight')\n",
    "plt.show()"
   ]
  },
  {
   "cell_type": "markdown",
   "metadata": {
    "slideshow": {
     "slide_type": "slide"
    }
   },
   "source": [
    "## Distribution of average number of entities per session over time"
   ]
  },
  {
   "cell_type": "code",
   "execution_count": null,
   "metadata": {
    "slideshow": {
     "slide_type": "skip"
    }
   },
   "outputs": [],
   "source": [
    "entities_per_session_over_time = pd.DataFrame(qlog[['query', 'session_id', 'entities', 'timestamp']])\n",
    "\n",
    "entities_per_session_over_time['entities'] = \\\n",
    "    entities_per_session_over_time['entities'].map(lambda e: len(e) if e else 0)\n",
    "\n",
    "entities_per_session_over_time['delta_time'] = entities_per_session_over_time[['session_id', 'timestamp']] \\\n",
    "    .groupby('session_id') \\\n",
    "    .transform(lambda x: x - x.min())\n",
    "\n",
    "entities_per_session_over_time = entities_per_session_over_time \\\n",
    "    .groupby(['session_id', 'delta_time']) \\\n",
    "    .sum() \\\n",
    "    .reset_index() \\\n",
    "    [['delta_time', 'entities']] \\\n",
    "    .groupby('delta_time') \\\n",
    "    .mean()\n",
    "\n",
    "entities_per_session_over_time.index = pd.to_timedelta(\n",
    "    entities_per_session_over_time.index.map(lambda t: int(t.total_seconds())),\n",
    "    unit='s')\n",
    "\n",
    "entities_per_session_over_time"
   ]
  },
  {
   "cell_type": "code",
   "execution_count": null,
   "metadata": {
    "scrolled": false,
    "slideshow": {
     "slide_type": "fragment"
    }
   },
   "outputs": [],
   "source": [
    "ax = entities_per_session_over_time \\\n",
    "    .rolling(window=60) \\\n",
    "    .mean() \\\n",
    "    .plot(legend=False)\n",
    "plt.xlabel('Session Time (H:MM:SS)')\n",
    "plt.ylabel('Avg. Num. Entities')\n",
    "plt.xticks(rotation=90)\n",
    "ax.xaxis.set_major_formatter(FuncFormatter(lambda x, _: timedelta(seconds=x)))\n",
    "plt.savefig(\n",
    "    fname=os.path.join(output_dir,\n",
    "                       \"entity_session_level-distribution_of_average_number_of_entities_per_session_over_time.pdf\"),\n",
    "    bbox_inches='tight')\n",
    "plt.show()"
   ]
  },
  {
   "cell_type": "markdown",
   "metadata": {
    "slideshow": {
     "slide_type": "slide"
    }
   },
   "source": [
    "## Distribution of average entity importance (PageRank) per session over time"
   ]
  },
  {
   "cell_type": "code",
   "execution_count": 5,
   "metadata": {
    "slideshow": {
     "slide_type": "skip"
    }
   },
   "outputs": [
    {
     "ename": "NameError",
     "evalue": "name 'memory' is not defined",
     "output_type": "error",
     "traceback": [
      "\u001b[0;31m---------------------------------------------------------------------------\u001b[0m",
      "\u001b[0;31mNameError\u001b[0m                                 Traceback (most recent call last)",
      "\u001b[0;32m<ipython-input-5-51e989b44ac2>\u001b[0m in \u001b[0;36m<module>\u001b[0;34m\u001b[0m\n\u001b[0;32m----> 1\u001b[0;31m \u001b[0;34m@\u001b[0m\u001b[0mmemory\u001b[0m\u001b[0;34m.\u001b[0m\u001b[0mcache\u001b[0m\u001b[0;34m\u001b[0m\u001b[0m\n\u001b[0m\u001b[1;32m      2\u001b[0m \u001b[0;32mdef\u001b[0m \u001b[0mcompute_entity_importance_per_session_over_time\u001b[0m\u001b[0;34m(\u001b[0m\u001b[0;34m)\u001b[0m\u001b[0;34m:\u001b[0m\u001b[0;34m\u001b[0m\u001b[0m\n\u001b[1;32m      3\u001b[0m     \u001b[0mentity_importance_per_session_over_time\u001b[0m \u001b[0;34m=\u001b[0m \u001b[0mpd\u001b[0m\u001b[0;34m.\u001b[0m\u001b[0mDataFrame\u001b[0m\u001b[0;34m(\u001b[0m\u001b[0mqlog\u001b[0m\u001b[0;34m[\u001b[0m\u001b[0;34m[\u001b[0m\u001b[0;34m'query'\u001b[0m\u001b[0;34m,\u001b[0m \u001b[0;34m'session_id'\u001b[0m\u001b[0;34m,\u001b[0m \u001b[0;34m'entities'\u001b[0m\u001b[0;34m,\u001b[0m \u001b[0;34m'timestamp'\u001b[0m\u001b[0;34m]\u001b[0m\u001b[0;34m]\u001b[0m\u001b[0;34m)\u001b[0m\u001b[0;34m\u001b[0m\u001b[0m\n\u001b[1;32m      4\u001b[0m \u001b[0;34m\u001b[0m\u001b[0m\n\u001b[1;32m      5\u001b[0m     \u001b[0;32mdef\u001b[0m \u001b[0mentities_to_pagerank\u001b[0m\u001b[0;34m(\u001b[0m\u001b[0mentities\u001b[0m\u001b[0;34m)\u001b[0m\u001b[0;34m:\u001b[0m\u001b[0;34m\u001b[0m\u001b[0m\n",
      "\u001b[0;31mNameError\u001b[0m: name 'memory' is not defined"
     ]
    }
   ],
   "source": [
    "@memory.cache\n",
    "def compute_entity_importance_per_session_over_time():\n",
    "    entity_importance_per_session_over_time = pd.DataFrame(qlog[['query', 'session_id', 'entities', 'timestamp']])\n",
    "\n",
    "    def entities_to_pagerank(entities):\n",
    "        pr_v = []\n",
    "        for entity in entities:\n",
    "            try:\n",
    "                pr_v.append(g.vs.find(label=entity)['pr'])\n",
    "            except ValueError:\n",
    "                pr_v.append(0)\n",
    "        return pr_v\n",
    "\n",
    "    entity_importance_per_session_over_time['avg_pr'] = \\\n",
    "        entity_importance_per_session_over_time['entities'] \\\n",
    "            .map(lambda e: np.mean(entities_to_pagerank(e)) if e else 0)\n",
    "\n",
    "    entity_importance_per_session_over_time['delta_time'] = \\\n",
    "        entity_importance_per_session_over_time[['session_id', 'timestamp']] \\\n",
    "            .groupby('session_id') \\\n",
    "            .transform(lambda x: x - x.min())\n",
    "\n",
    "    entity_importance_per_session_over_time = entity_importance_per_session_over_time \\\n",
    "        .groupby(['session_id', 'delta_time']) \\\n",
    "        .sum() \\\n",
    "        .reset_index()[['delta_time', 'avg_pr']] \\\n",
    "        .groupby('delta_time') \\\n",
    "        .mean()\n",
    "\n",
    "    entity_importance_per_session_over_time.index = pd.to_timedelta(\n",
    "        entity_importance_per_session_over_time.index.map(lambda t: int(t.total_seconds())),\n",
    "        unit='s')\n",
    "\n",
    "    return entity_importance_per_session_over_time\n",
    "\n",
    "entity_importance_per_session_over_time = compute_entity_importance_per_session_over_time()\n",
    "entity_importance_per_session_over_time"
   ]
  },
  {
   "cell_type": "code",
   "execution_count": null,
   "metadata": {
    "scrolled": true,
    "slideshow": {
     "slide_type": "fragment"
    }
   },
   "outputs": [],
   "source": [
    "ax = entity_importance_per_session_over_time \\\n",
    "    .rolling(window=60) \\\n",
    "    .mean() \\\n",
    "    .plot(kind='line', legend=False)\n",
    "ax.xaxis.set_major_formatter(FuncFormatter(lambda x, _: timedelta(seconds=x)))\n",
    "plt.xlabel('Session Time (H:MM:SS)')\n",
    "plt.ylabel('Avg. PageRank')\n",
    "plt.xticks(rotation=90)\n",
    "plt.savefig(\n",
    "    fname=os.path.join(output_dir,\n",
    "                       \"entity_session_level-distribution_of_average_entity_importance_per_session_over_time.pdf\"),\n",
    "    bbox_inches='tight')\n",
    "plt.show()"
   ]
  },
  {
   "cell_type": "markdown",
   "metadata": {
    "slideshow": {
     "slide_type": "slide"
    }
   },
   "source": [
    "# Entity-term-level analysis\n",
    "\n",
    "- Distribution of number entities per query length (in number of terms)\n",
    "- Distribution of number of terms per entity"
   ]
  },
  {
   "cell_type": "markdown",
   "metadata": {
    "slideshow": {
     "slide_type": "slide"
    }
   },
   "source": [
    "## Distribution of number of entities per query length (in number of terms)"
   ]
  },
  {
   "cell_type": "code",
   "execution_count": null,
   "metadata": {
    "slideshow": {
     "slide_type": "fragment"
    }
   },
   "outputs": [],
   "source": [
    "entities_per_query_num_terms = qlog[['num_terms', 'entities']] \\\n",
    "    .groupby('num_terms') \\\n",
    "    .apply(lambda df: len(set(flatten(df['entities'])))) \\\n",
    "    .sort_values(ascending=False)\n",
    "\n",
    "bin_width = 10\n",
    "\n",
    "entities_per_query_num_terms \\\n",
    "    .plot(kind='hist', bins=range(0, entities_per_query_num_terms.max() + bin_width, bin_width))\n",
    "plt.xlabel(\"Number of Entities\")\n",
    "plt.ylabel(\"Number of Terms in Query\")\n",
    "plt.show()"
   ]
  },
  {
   "cell_type": "markdown",
   "metadata": {
    "slideshow": {
     "slide_type": "slide"
    }
   },
   "source": [
    "## Distribution of number of terms per entity"
   ]
  },
  {
   "cell_type": "code",
   "execution_count": null,
   "metadata": {
    "slideshow": {
     "slide_type": "skip"
    }
   },
   "outputs": [],
   "source": [
    "unique_entities = np.unique([\n",
    "    entity for entities in qlog['entities'] if entities\n",
    "    for entity in entities])\n",
    "\n",
    "terms_per_entity = pd.DataFrame({'entity': unique_entities})\n",
    "terms_per_entity['entity_num_terms'] = terms_per_entity['entity'] \\\n",
    "    .map(lambda entity: len(entity.split(' ')))\n",
    "\n",
    "terms_per_entity = terms_per_entity \\\n",
    "    .sort_values(by='entity_num_terms', ascending=False)\n",
    "\n",
    "terms_per_entity"
   ]
  },
  {
   "cell_type": "code",
   "execution_count": null,
   "metadata": {
    "slideshow": {
     "slide_type": "fragment"
    }
   },
   "outputs": [],
   "source": [
    "d_max = terms_per_entity['entity_num_terms'].max()\n",
    "bin_width = 1\n",
    "\n",
    "terms_per_entity['entity_num_terms'] \\\n",
    "    .plot(kind='hist', bins=range(0, d_max + bin_width, bin_width))\n",
    "plt.xlabel('Number of Terms')\n",
    "plt.ylabel('Number of Entities')\n",
    "plt.savefig(\n",
    "    fname=os.path.join(output_dir, \"entity_term_level-distribution_of_number_of_terms_per_entity.pdf\"),\n",
    "    bbox_inches='tight')\n",
    "plt.show()"
   ]
  },
  {
   "cell_type": "markdown",
   "metadata": {
    "slideshow": {
     "slide_type": "slide"
    }
   },
   "source": [
    "# Entity-entity-level analysis\n",
    "\n",
    "- Entity co-occurrence graph\n",
    "- Entity co-occurrence graph vs Simple Wikipedia link graph\n",
    "  - Indegree correlation\n",
    "  - PageRank correlation\n",
    "  - Closeness centrality correlation\n",
    "  - Betweenness centrality correlation"
   ]
  },
  {
   "cell_type": "markdown",
   "metadata": {
    "slideshow": {
     "slide_type": "slide"
    }
   },
   "source": [
    "## Entity co-occurrence graph"
   ]
  },
  {
   "cell_type": "markdown",
   "metadata": {
    "slideshow": {
     "slide_type": "skip"
    }
   },
   "source": [
    "### Building and characterizing the entity co-occurrence graph"
   ]
  },
  {
   "cell_type": "code",
   "execution_count": null,
   "metadata": {
    "slideshow": {
     "slide_type": "skip"
    }
   },
   "outputs": [],
   "source": [
    "def build_entity_cooccurrence_graph():\n",
    "    g = igraph.Graph()\n",
    "    \n",
    "    graph = {}\n",
    "    \n",
    "    for t in qlog.itertuples():\n",
    "        if t.entities is None:\n",
    "            continue\n",
    "        \n",
    "        for source in t.entities:\n",
    "            if not source in graph:\n",
    "                graph[source] = {}\n",
    "            \n",
    "            for target in t.entities:\n",
    "                if source != target:\n",
    "                    if not target in graph[source]:\n",
    "                        graph[source][target] = 1\n",
    "                    else:\n",
    "                        graph[source][target] += 1\n",
    "\n",
    "    g.add_vertices(iter(graph.keys()))\n",
    "    edges = [(source, target) for source in graph.keys() for target in graph[source].keys()]\n",
    "    edges = [edge for edge in edges if edge[0] > edge[1]]\n",
    "    g.add_edges(edges)\n",
    "    \n",
    "    return g\n",
    "\n",
    "cg = build_entity_cooccurrence_graph()"
   ]
  },
  {
   "cell_type": "code",
   "execution_count": null,
   "metadata": {
    "slideshow": {
     "slide_type": "fragment"
    }
   },
   "outputs": [],
   "source": [
    "cg_stats = compute_stats(cg); cg_stats.round(4)"
   ]
  },
  {
   "cell_type": "code",
   "execution_count": null,
   "metadata": {
    "slideshow": {
     "slide_type": "fragment"
    }
   },
   "outputs": [],
   "source": [
    "cg.vs['in'] = cg.indegree()\n",
    "cg.vs['pr'] = cg.pagerank()\n",
    "cg.vs['cc'] = cg.closeness()\n",
    "cg.vs['bc'] = cg.betweenness()\n",
    "cg.vs['label'] = cg.vs['name']"
   ]
  },
  {
   "cell_type": "markdown",
   "metadata": {
    "slideshow": {
     "slide_type": "slide"
    }
   },
   "source": [
    "### Visualizing the entity co-occurrence graph\n",
    "\n",
    "Below we plot the components with more than three nodes."
   ]
  },
  {
   "cell_type": "code",
   "execution_count": null,
   "metadata": {
    "slideshow": {
     "slide_type": "fragment"
    }
   },
   "outputs": [],
   "source": [
    "cg_components = [cg_component for cg_component in cg.components() if len(cg_component) > 3]\n",
    "cg_sg = cg.subgraph(flatten(cg_components))\n",
    "igraph.plot(\n",
    "    cg_sg, target=os.path.join(output_dir, \"entity_entity_level-entity_co_occurrence_graph-component_gt_3.pdf\"),\n",
    "    vertex_size=3, vertex_label_size=8, vertex_label_dist = 2, margin = 60)"
   ]
  },
  {
   "cell_type": "markdown",
   "metadata": {
    "slideshow": {
     "slide_type": "slide"
    }
   },
   "source": [
    "## Entity co-occurrence graph vs Simple Wikipedia link graph\n",
    "\n",
    "First, we prepare the Simple Wikipedia subgraph containing only the entity nodes in the co-occurrence graph."
   ]
  },
  {
   "cell_type": "code",
   "execution_count": null,
   "metadata": {
    "slideshow": {
     "slide_type": "fragment"
    }
   },
   "outputs": [],
   "source": [
    "sg = g.subgraph(g.vs.select(label_in=cg.vs['label']))"
   ]
  },
  {
   "cell_type": "code",
   "execution_count": null,
   "metadata": {
    "slideshow": {
     "slide_type": "fragment"
    }
   },
   "outputs": [],
   "source": [
    "sg.vs['in'] = sg.indegree()\n",
    "sg.vs['pr'] = sg.pagerank()\n",
    "sg.vs['cc'] = sg.closeness()\n",
    "sg.vs['bc'] = sg.betweenness()"
   ]
  },
  {
   "cell_type": "code",
   "execution_count": null,
   "metadata": {
    "slideshow": {
     "slide_type": "fragment"
    }
   },
   "outputs": [],
   "source": [
    "sg_stats = compute_stats(sg); sg_stats.round(4)"
   ]
  },
  {
   "cell_type": "markdown",
   "metadata": {
    "slideshow": {
     "slide_type": "slide"
    }
   },
   "source": [
    "### Indegree correlation"
   ]
  },
  {
   "cell_type": "code",
   "execution_count": null,
   "metadata": {
    "slideshow": {
     "slide_type": "fragment"
    }
   },
   "outputs": [],
   "source": [
    "sg_in = pd.DataFrame({ 'entity': sg.vs['label'], 'in_sg': sg.vs['in'] })\n",
    "cg_in = pd.DataFrame({ 'entity': cg.vs['label'], 'in_cg': cg.vs['in'] })\n",
    "df_in = sg_in.merge(cg_in)\n",
    "df_in['in_sg'].corr(df_in['in_cg'])"
   ]
  },
  {
   "cell_type": "markdown",
   "metadata": {
    "slideshow": {
     "slide_type": "slide"
    }
   },
   "source": [
    "### PageRank correlation"
   ]
  },
  {
   "cell_type": "code",
   "execution_count": null,
   "metadata": {
    "slideshow": {
     "slide_type": "fragment"
    }
   },
   "outputs": [],
   "source": [
    "sg_pr = pd.DataFrame({ 'entity': sg.vs['label'], 'pr_sg': sg.vs['pr'] })\n",
    "cg_pr = pd.DataFrame({ 'entity': cg.vs['label'], 'pr_cg': cg.vs['pr'] })\n",
    "df_pr = sg_pr.merge(cg_pr)\n",
    "df_pr['pr_sg'].corr(df_pr['pr_cg'])"
   ]
  },
  {
   "cell_type": "markdown",
   "metadata": {
    "slideshow": {
     "slide_type": "slide"
    }
   },
   "source": [
    "### Closeness centrality correlation"
   ]
  },
  {
   "cell_type": "code",
   "execution_count": null,
   "metadata": {
    "slideshow": {
     "slide_type": "fragment"
    }
   },
   "outputs": [],
   "source": [
    "sg_cc = pd.DataFrame({ 'entity': sg.vs['label'], 'cc_sg': sg.vs['cc'] })\n",
    "cg_cc = pd.DataFrame({ 'entity': cg.vs['label'], 'cc_cg': cg.vs['cc'] })\n",
    "df_cc = sg_cc.merge(cg_cc)\n",
    "df_cc['cc_sg'].corr(df_cc['cc_cg'])"
   ]
  },
  {
   "cell_type": "markdown",
   "metadata": {
    "slideshow": {
     "slide_type": "slide"
    }
   },
   "source": [
    "### Betweenness centrality correlation x"
   ]
  },
  {
   "cell_type": "code",
   "execution_count": null,
   "metadata": {
    "slideshow": {
     "slide_type": "fragment"
    }
   },
   "outputs": [],
   "source": [
    "sg_bc = pd.DataFrame({ 'entity': sg.vs['label'], 'bc_sg': sg.vs['bc'] })\n",
    "cg_bc = pd.DataFrame({ 'entity': cg.vs['label'], 'bc_cg': cg.vs['bc'] })\n",
    "df_bc = sg_bc.merge(cg_bc)\n",
    "df_bc['bc_sg'].corr(df_bc['bc_cg'])"
   ]
  }
 ],
 "metadata": {
  "kernelspec": {
   "display_name": "Python 3",
   "language": "python",
   "name": "python3"
  },
  "language_info": {
   "codemirror_mode": {
    "name": "ipython",
    "version": 3
   },
   "file_extension": ".py",
   "mimetype": "text/x-python",
   "name": "python",
   "nbconvert_exporter": "python",
   "pygments_lexer": "ipython3",
   "version": "3.6.3"
  },
  "toc": {
   "base_numbering": 1,
   "nav_menu": {},
   "number_sections": true,
   "sideBar": true,
   "skip_h1_title": false,
   "title_cell": "Table of Contents",
   "title_sidebar": "Contents",
   "toc_cell": true,
   "toc_position": {},
   "toc_section_display": true,
   "toc_window_display": false
  }
 },
 "nbformat": 4,
 "nbformat_minor": 4
}
