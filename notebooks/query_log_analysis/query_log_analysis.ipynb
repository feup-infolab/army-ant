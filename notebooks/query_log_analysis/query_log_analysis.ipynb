{
 "cells": [
  {
   "cell_type": "markdown",
   "metadata": {
    "slideshow": {
     "slide_type": "slide"
    }
   },
   "source": [
    "# Query Log Analysis\n",
    "\n",
    "The goal of this notebook is to serve as a way to quickly analyze a query log, based on the following aspects:\n",
    "\n",
    "- Query-level\n",
    "- Topic-level\n",
    "- Session-level\n",
    "- Term-level\n",
    "- Entity-level\n",
    "\n",
    "Our main focus is on understanding how people search, in order to improve entity-oriented search, thus we will tackle these aspects always around the entities.\n",
    "\n",
    "**Requirements:**\n",
    "\n",
    "- pandas\n",
    "- numpy\n",
    "- sklearn\n",
    "- igraph\n",
    "- progressbar2\n",
    "\n",
    "**Suggestion:**\n",
    "\n",
    "For better exploration and readability of this notebook install the extensions:\n",
    "  \n",
    "  - collapsible_headings\n",
    "    ```sh\n",
    "    pip install jupyter_contrib_nbextensions\n",
    "    jupyter nbextension enable collapsible_headings/main\n",
    "    ```\n",
    "  - toc\n",
    "    ```sh\n",
    "    jupyter nbextension install --user https://rawgithub.com/minrk/ipython_extensions/master/nbextensions/toc.js\n",
    "    jupyter nbextension enable toc\n",
    "    ```"
   ]
  },
  {
   "cell_type": "markdown",
   "metadata": {
    "slideshow": {
     "slide_type": "skip"
    }
   },
   "source": [
    "## Dependencies"
   ]
  },
  {
   "cell_type": "code",
   "execution_count": 86,
   "metadata": {
    "slideshow": {
     "slide_type": "skip"
    }
   },
   "outputs": [],
   "source": [
    "import os\n",
    "import codecs\n",
    "import collections\n",
    "import warnings\n",
    "import progressbar\n",
    "import gzip\n",
    "\n",
    "import igraph\n",
    "\n",
    "import numpy as np\n",
    "import pandas as pd\n",
    "\n",
    "import matplotlib\n",
    "import matplotlib.pyplot as plt\n",
    "\n",
    "import sklearn as sk\n",
    "from sklearn import naive_bayes\n",
    "\n",
    "from joblib import Memory"
   ]
  },
  {
   "cell_type": "markdown",
   "metadata": {
    "slideshow": {
     "slide_type": "skip"
    }
   },
   "source": [
    "## Settings"
   ]
  },
  {
   "cell_type": "code",
   "execution_count": 87,
   "metadata": {
    "slideshow": {
     "slide_type": "skip"
    }
   },
   "outputs": [],
   "source": [
    "DEFAULT_FIGSIZE = [15, 3]\n",
    "DEFAULT_MAX_ROWS = 8\n",
    "\n",
    "plt.rc('figure', figsize=DEFAULT_FIGSIZE)\n",
    "matplotlib.style.use('ggplot')\n",
    "pd.set_option('display.max_rows', DEFAULT_MAX_ROWS)\n",
    "\n",
    "memory = Memory('output/cache', verbose=0)\n",
    "\n",
    "# Query log analysis notebook settings\n",
    "lang = 'pt'"
   ]
  },
  {
   "cell_type": "markdown",
   "metadata": {
    "slideshow": {
     "slide_type": "skip"
    }
   },
   "source": [
    "## Utilities"
   ]
  },
  {
   "cell_type": "code",
   "execution_count": 88,
   "metadata": {
    "slideshow": {
     "slide_type": "skip"
    }
   },
   "outputs": [
    {
     "data": {
      "text/plain": [
       "[1, 2, 4, 5, 6, 7]"
      ]
     },
     "execution_count": 88,
     "metadata": {},
     "output_type": "execute_result"
    }
   ],
   "source": [
    "def flatten(l, remove_none=True):\n",
    "    for el in l:\n",
    "        if isinstance(el, collections.Iterable) and not isinstance(el, (str, bytes)):\n",
    "            yield from flatten(el)\n",
    "        elif not el is None:\n",
    "            yield el\n",
    "\n",
    "list(flatten([1,2,[4,5], [[6,7,None]], None]))"
   ]
  },
  {
   "cell_type": "code",
   "execution_count": 89,
   "metadata": {},
   "outputs": [],
   "source": [
    "def mk_outdir(output_dir):\n",
    "    path = os.path.join(\"output\", output_dir)\n",
    "    os.makedirs(path, exist_ok=True)\n",
    "    return path"
   ]
  },
  {
   "cell_type": "markdown",
   "metadata": {
    "slideshow": {
     "slide_type": "slide"
    }
   },
   "source": [
    "# Datasets\n",
    "\n",
    "While we take advantage of the Wikipedia query log for this analysis, we use an intermediate structure, so that you can convert your own query log into our format and analyze it. We begin by applying the analysis to the webis-smc-12 dataset, only then adapting the notebook for the Wikipedia query log.\n",
    "\n",
    "The loader functions will be responsible for loading query log datasets and converting them into a Pandas DataFrame with the following valid columns (only columns with data are required):\n",
    "\n",
    "- user_id\n",
    "- query\n",
    "- timestamp\n",
    "- click_rank\n",
    "- click_title\n",
    "- click_url\n",
    "- click_timestamp"
   ]
  },
  {
   "cell_type": "markdown",
   "metadata": {
    "slideshow": {
     "slide_type": "slide"
    }
   },
   "source": [
    "## webis-smc-12\n",
    "\n",
    "The Webis Search Mission Corpus 2012 (Webis-SMC-12) contains 8840 entries for 127 users. It is built from a subset of the AOL query log. Each entry includes user ID, query, timestamp, rank and domain URL for clicked results, a mission ID and a comment. Each user is preceded by a line of dashes in the text file. More information is available at: https://webis.de/data/webis-smc-12.html"
   ]
  },
  {
   "cell_type": "code",
   "execution_count": 90,
   "metadata": {
    "slideshow": {
     "slide_type": "fragment"
    }
   },
   "outputs": [],
   "source": [
    "def load_webis_smc_12(path):\n",
    "    \"\"\"Load webis-smc-12.txt file into the notebook query log analysis format.\"\"\"\n",
    "   \n",
    "    def date_parser(date_str):\n",
    "        if type(date_str) is float and np.isnan(date_str):\n",
    "            return np.nan\n",
    "        else:\n",
    "            return pd.datetime.strptime(date_str, '%Y-%m-%d %H:%M:%S')\n",
    "            \n",
    "    def get_sep_row_idx():\n",
    "        sep_row_idx = []\n",
    "        \n",
    "        with open(path, \"r\") as fp:\n",
    "            line_number = 0\n",
    "            for line in fp:\n",
    "                if line.startswith(\"---\"):\n",
    "                    sep_row_idx.append(line_number)\n",
    "                line_number += 1\n",
    "        \n",
    "        return sep_row_idx\n",
    "    \n",
    "    df = pd.read_csv(\n",
    "        'data/webis-smc-12.txt',\n",
    "        sep='\\t',\n",
    "        lineterminator='\\n',\n",
    "        skiprows=get_sep_row_idx(),\n",
    "        error_bad_lines=False,\n",
    "        warn_bad_lines=False,\n",
    "        parse_dates=['TimeStamp'],\n",
    "        date_parser=date_parser)\n",
    "\n",
    "    df.drop(columns=['MissionID', 'Comment'], inplace=True)\n",
    "    \n",
    "    df.rename(\n",
    "        columns={\n",
    "            'UserID': 'user_id',\n",
    "            'Query': 'query',\n",
    "            'TimeStamp': 'timestamp',\n",
    "            'ClickRank': 'click_rank',\n",
    "            'ClickDomain': 'click_url'\n",
    "        },\n",
    "        inplace=True)\n",
    "    \n",
    "    df.click_rank = df.click_rank.astype(pd.Int64Dtype())\n",
    "    \n",
    "    return df"
   ]
  },
  {
   "cell_type": "markdown",
   "metadata": {},
   "source": [
    "## AOL query log\n",
    "\n",
    "AOL query log contains 36 million entries from over half a million users, covering a period of three months, from March to May 2006. The dataset itself contains 10 text files, each containing a user ID, the query, a timestamp and, if present, the rank and URL of a clicked result. While this has become a controversial dataset, because of privacy issues, it remains one of the largest available datasets for analyzing user behavior."
   ]
  },
  {
   "cell_type": "code",
   "execution_count": 91,
   "metadata": {},
   "outputs": [],
   "source": [
    "def load_aol_query_log(path):\n",
    "    data = pd.DataFrame(columns=['user_id', 'query', 'timestamp', 'click_rank', 'click_url'])\n",
    "    \n",
    "    for filename in sorted(os.listdir(path)):\n",
    "        if filename.startswith('user-ct-test-collection-'):\n",
    "            df = pd.read_csv(\n",
    "                    os.path.join(path, filename),\n",
    "                    sep='\\t',\n",
    "                    parse_dates=['QueryTime'],\n",
    "                    low_memory=False,\n",
    "                    compression='gzip'\n",
    "                ).rename(columns={\n",
    "                    'AnonID': 'user_id',\n",
    "                    'Query': 'query',\n",
    "                    'QueryTime': 'timestamp',\n",
    "                    'ItemRank': 'click_rank',\n",
    "                    'ClickURL': 'click_url'\n",
    "                })\n",
    "            data = data.append(df)\n",
    "    \n",
    "    data['user_id'] = pd.to_numeric(data['user_id'], errors='coerce')\n",
    "    data['click_rank'] = pd.to_numeric(data['click_rank'], errors='coerce')\n",
    "\n",
    "    return data"
   ]
  },
  {
   "cell_type": "markdown",
   "metadata": {},
   "source": [
    "## ANT search log\n",
    "\n",
    "The [ANT](https://ant.fe.up.pt) search log contains 45059 search queries, mostly in Portuguese, for 9403 users, as identified by a hash of their client IP, user agent and display resolution. It also separately provides interaction data about result clicks, containing 27480 records for 7642 users, that should match the users in the query log. The ANT search query log provides the query category according to the classification by [Pound et al. (2010)](https://doi.org/10.1145/1772690.1772769), as computed by [ANT's query understanding module](https://doi.org/10.1007/978-3-319-44564-9_17). Please notice that there is an error associated discovering a query's category, as this was not manually annotated."
   ]
  },
  {
   "cell_type": "code",
   "execution_count": 92,
   "metadata": {},
   "outputs": [],
   "source": [
    "def load_ant_search_log(path):\n",
    "    q_paths = [fn for fn in os.listdir(path) if fn.startswith('ant-search_query_log-')]\n",
    "    i_paths = [fn for fn in os.listdir(path) if fn.startswith('ant-search_interaction_log-')]\n",
    "    \n",
    "    assert len(q_paths) > 0 and len(i_paths) > 0, \\\n",
    "        'Both an \"ant-search_query_log-*.csv.gz\" and an \"ant-search_interaction_log-*.csv.gz\" must exist'\n",
    "    \n",
    "    q_path = os.path.join(path, sorted(q_paths)[-1])\n",
    "    i_path = os.path.join(path, sorted(i_paths)[-1])\n",
    "    \n",
    "    queries = pd.read_csv(q_path, sep='\\t', parse_dates=['timestamp']) \\\n",
    "        [['user_id', 'query', 'timestamp']] \\\n",
    "        .dropna(subset=['user_id', 'query'])\n",
    "    \n",
    "    queries['click_rank'] = np.nan\n",
    "    queries['click_url'] = np.nan\n",
    "    queries['click_timestamp'] = np.nan\n",
    "    queries['type'] = 'query'\n",
    "    \n",
    "    queries = queries[['user_id', 'query', 'timestamp', 'click_rank', 'click_url', 'click_timestamp', 'type']]\n",
    "    \n",
    "    inter = pd.read_csv(i_path, sep='\\t', parse_dates=['timestamp']) \\\n",
    "        [['user_id', 'query', 'timestamp', 'clicked_rank', 'clicked_url']] \\\n",
    "        .dropna(subset=['user_id', 'query']) \\\n",
    "        .rename(columns={\n",
    "            'clicked_rank': 'click_rank',\n",
    "            'clicked_url': 'click_url'\n",
    "        })\n",
    "    \n",
    "    inter['click_timestamp'] = inter['timestamp']\n",
    "    inter['type'] = 'click'\n",
    "    \n",
    "    inter = inter[['user_id', 'query', 'timestamp', 'click_rank', 'click_url', 'click_timestamp', 'type']]\n",
    "    \n",
    "    df = pd.concat([queries, inter]) \\\n",
    "        .sort_values(by='timestamp')\n",
    "            \n",
    "    return df"
   ]
  },
  {
   "cell_type": "markdown",
   "metadata": {
    "slideshow": {
     "slide_type": "slide"
    }
   },
   "source": [
    "# Data loading\n",
    "\n",
    "Select one of the available dataset loading functions to begin the analysis:\n",
    "\n",
    "- load_webis_smc_12\n",
    "- load_aol_query_log\n",
    "- load_ant_search_log"
   ]
  },
  {
   "cell_type": "code",
   "execution_count": 93,
   "metadata": {
    "scrolled": false,
    "slideshow": {
     "slide_type": "fragment"
    }
   },
   "outputs": [
    {
     "name": "stdout",
     "output_type": "stream",
     "text": [
      "CPU times: user 447 ms, sys: 0 ns, total: 447 ms\n",
      "Wall time: 445 ms\n"
     ]
    },
    {
     "data": {
      "text/plain": [
       "'output/aol-query-log'"
      ]
     },
     "metadata": {},
     "output_type": "display_data"
    },
    {
     "data": {
      "text/html": [
       "<div>\n",
       "<style scoped>\n",
       "    .dataframe tbody tr th:only-of-type {\n",
       "        vertical-align: middle;\n",
       "    }\n",
       "\n",
       "    .dataframe tbody tr th {\n",
       "        vertical-align: top;\n",
       "    }\n",
       "\n",
       "    .dataframe thead th {\n",
       "        text-align: right;\n",
       "    }\n",
       "</style>\n",
       "<table border=\"1\" class=\"dataframe\">\n",
       "  <thead>\n",
       "    <tr style=\"text-align: right;\">\n",
       "      <th></th>\n",
       "      <th>user_id</th>\n",
       "      <th>query</th>\n",
       "      <th>timestamp</th>\n",
       "      <th>click_rank</th>\n",
       "      <th>click_url</th>\n",
       "      <th>click_timestamp</th>\n",
       "      <th>type</th>\n",
       "    </tr>\n",
       "  </thead>\n",
       "  <tbody>\n",
       "    <tr>\n",
       "      <th>0</th>\n",
       "      <td>475b4acbeea5b8590c1818af7bd4ce61</td>\n",
       "      <td>josé devezas</td>\n",
       "      <td>2015-12-01 15:55:11.872807</td>\n",
       "      <td>3.0</td>\n",
       "      <td>NaN</td>\n",
       "      <td>2015-12-01 15:55:11.872807</td>\n",
       "      <td>click</td>\n",
       "    </tr>\n",
       "    <tr>\n",
       "      <th>1</th>\n",
       "      <td>475b4acbeea5b8590c1818af7bd4ce61</td>\n",
       "      <td>noémia moreira</td>\n",
       "      <td>2015-12-01 15:59:48.279617</td>\n",
       "      <td>1.0</td>\n",
       "      <td>NaN</td>\n",
       "      <td>2015-12-01 15:59:48.279617</td>\n",
       "      <td>click</td>\n",
       "    </tr>\n",
       "    <tr>\n",
       "      <th>2</th>\n",
       "      <td>475b4acbeea5b8590c1818af7bd4ce61</td>\n",
       "      <td>noémia moreira</td>\n",
       "      <td>2015-12-01 15:59:52.694495</td>\n",
       "      <td>1.0</td>\n",
       "      <td>http://sigarra.up.pt/feup/pt/vld_entidades_ger...</td>\n",
       "      <td>2015-12-01 15:59:52.694495</td>\n",
       "      <td>click</td>\n",
       "    </tr>\n",
       "    <tr>\n",
       "      <th>3</th>\n",
       "      <td>475b4acbeea5b8590c1818af7bd4ce61</td>\n",
       "      <td>josé devezas ricardo amorim i123 funcionário</td>\n",
       "      <td>2015-12-01 16:01:39.609899</td>\n",
       "      <td>1.0</td>\n",
       "      <td>NaN</td>\n",
       "      <td>2015-12-01 16:01:39.609899</td>\n",
       "      <td>click</td>\n",
       "    </tr>\n",
       "    <tr>\n",
       "      <th>...</th>\n",
       "      <td>...</td>\n",
       "      <td>...</td>\n",
       "      <td>...</td>\n",
       "      <td>...</td>\n",
       "      <td>...</td>\n",
       "      <td>...</td>\n",
       "      <td>...</td>\n",
       "    </tr>\n",
       "    <tr>\n",
       "      <th>45064</th>\n",
       "      <td>b1a54f7f12ea62fe3e0564c35b67aab4</td>\n",
       "      <td>pré graduação</td>\n",
       "      <td>2019-07-31 16:04:22.206000</td>\n",
       "      <td>NaN</td>\n",
       "      <td>NaN</td>\n",
       "      <td>NaT</td>\n",
       "      <td>query</td>\n",
       "    </tr>\n",
       "    <tr>\n",
       "      <th>45065</th>\n",
       "      <td>4ac8b6d9bd0a88346c0beb040e66a38a</td>\n",
       "      <td>\"Pedro Amorim Brandão da Silva\"</td>\n",
       "      <td>2019-07-31 16:12:00.835000</td>\n",
       "      <td>NaN</td>\n",
       "      <td>NaN</td>\n",
       "      <td>NaT</td>\n",
       "      <td>query</td>\n",
       "    </tr>\n",
       "    <tr>\n",
       "      <th>45066</th>\n",
       "      <td>0f64acb721d055e2ad87e4d24c183a83</td>\n",
       "      <td>\"José Ferreira Alves\"</td>\n",
       "      <td>2019-07-31 16:12:54.958000</td>\n",
       "      <td>NaN</td>\n",
       "      <td>NaN</td>\n",
       "      <td>NaT</td>\n",
       "      <td>query</td>\n",
       "    </tr>\n",
       "    <tr>\n",
       "      <th>45067</th>\n",
       "      <td>1a20834ce8f2b27145babeba6f450ead</td>\n",
       "      <td>tesouraria</td>\n",
       "      <td>2019-07-31 16:16:39.872000</td>\n",
       "      <td>NaN</td>\n",
       "      <td>NaN</td>\n",
       "      <td>NaT</td>\n",
       "      <td>query</td>\n",
       "    </tr>\n",
       "  </tbody>\n",
       "</table>\n",
       "<p>70193 rows × 7 columns</p>\n",
       "</div>"
      ],
      "text/plain": [
       "                                user_id  \\\n",
       "0      475b4acbeea5b8590c1818af7bd4ce61   \n",
       "1      475b4acbeea5b8590c1818af7bd4ce61   \n",
       "2      475b4acbeea5b8590c1818af7bd4ce61   \n",
       "3      475b4acbeea5b8590c1818af7bd4ce61   \n",
       "...                                 ...   \n",
       "45064  b1a54f7f12ea62fe3e0564c35b67aab4   \n",
       "45065  4ac8b6d9bd0a88346c0beb040e66a38a   \n",
       "45066  0f64acb721d055e2ad87e4d24c183a83   \n",
       "45067  1a20834ce8f2b27145babeba6f450ead   \n",
       "\n",
       "                                              query  \\\n",
       "0                                      josé devezas   \n",
       "1                                    noémia moreira   \n",
       "2                                    noémia moreira   \n",
       "3      josé devezas ricardo amorim i123 funcionário   \n",
       "...                                             ...   \n",
       "45064                                 pré graduação   \n",
       "45065               \"Pedro Amorim Brandão da Silva\"   \n",
       "45066                         \"José Ferreira Alves\"   \n",
       "45067                                    tesouraria   \n",
       "\n",
       "                       timestamp  click_rank  \\\n",
       "0     2015-12-01 15:55:11.872807         3.0   \n",
       "1     2015-12-01 15:59:48.279617         1.0   \n",
       "2     2015-12-01 15:59:52.694495         1.0   \n",
       "3     2015-12-01 16:01:39.609899         1.0   \n",
       "...                          ...         ...   \n",
       "45064 2019-07-31 16:04:22.206000         NaN   \n",
       "45065 2019-07-31 16:12:00.835000         NaN   \n",
       "45066 2019-07-31 16:12:54.958000         NaN   \n",
       "45067 2019-07-31 16:16:39.872000         NaN   \n",
       "\n",
       "                                               click_url  \\\n",
       "0                                                    NaN   \n",
       "1                                                    NaN   \n",
       "2      http://sigarra.up.pt/feup/pt/vld_entidades_ger...   \n",
       "3                                                    NaN   \n",
       "...                                                  ...   \n",
       "45064                                                NaN   \n",
       "45065                                                NaN   \n",
       "45066                                                NaN   \n",
       "45067                                                NaN   \n",
       "\n",
       "                 click_timestamp   type  \n",
       "0     2015-12-01 15:55:11.872807  click  \n",
       "1     2015-12-01 15:59:48.279617  click  \n",
       "2     2015-12-01 15:59:52.694495  click  \n",
       "3     2015-12-01 16:01:39.609899  click  \n",
       "...                          ...    ...  \n",
       "45064                        NaT  query  \n",
       "45065                        NaT  query  \n",
       "45066                        NaT  query  \n",
       "45067                        NaT  query  \n",
       "\n",
       "[70193 rows x 7 columns]"
      ]
     },
     "execution_count": 93,
     "metadata": {},
     "output_type": "execute_result"
    }
   ],
   "source": [
    "#%time qlog, output_dir = load_webis_smc_12('data/webis-smc-12.txt')\n",
    "#%time qlog = load_aol_query_log('data/AOL-user-ct-collection')\n",
    "%time qlog = load_ant_search_log('data/ant-search-log')\n",
    "\n",
    "output_dir = mk_outdir(\"aol-query-log\")\n",
    "display(output_dir); qlog"
   ]
  },
  {
   "cell_type": "markdown",
   "metadata": {
    "slideshow": {
     "slide_type": "slide"
    }
   },
   "source": [
    "# Query-level analysis\n",
    "\n",
    "- Number of queries / interactions\n",
    "- Number of distinct queries\n",
    "- Distribution of number of queries / interactions per user\n",
    "- Distribution of queries / interactions over time\n",
    "  - Per day\n",
    "  - For 24h cycles\n",
    "  - For weekday cycles\n",
    "  - For monthly cycles"
   ]
  },
  {
   "cell_type": "markdown",
   "metadata": {
    "slideshow": {
     "slide_type": "slide"
    }
   },
   "source": [
    "## Total number of queries and distinct queries"
   ]
  },
  {
   "cell_type": "code",
   "execution_count": 94,
   "metadata": {
    "slideshow": {
     "slide_type": "fragment"
    }
   },
   "outputs": [
    {
     "data": {
      "text/html": [
       "<div>\n",
       "<style scoped>\n",
       "    .dataframe tbody tr th:only-of-type {\n",
       "        vertical-align: middle;\n",
       "    }\n",
       "\n",
       "    .dataframe tbody tr th {\n",
       "        vertical-align: top;\n",
       "    }\n",
       "\n",
       "    .dataframe thead th {\n",
       "        text-align: right;\n",
       "    }\n",
       "</style>\n",
       "<table border=\"1\" class=\"dataframe\">\n",
       "  <thead>\n",
       "    <tr style=\"text-align: right;\">\n",
       "      <th></th>\n",
       "      <th>value</th>\n",
       "    </tr>\n",
       "  </thead>\n",
       "  <tbody>\n",
       "    <tr>\n",
       "      <th>num_queries</th>\n",
       "      <td>70193</td>\n",
       "    </tr>\n",
       "    <tr>\n",
       "      <th>num_distinct_queries</th>\n",
       "      <td>17003</td>\n",
       "    </tr>\n",
       "  </tbody>\n",
       "</table>\n",
       "</div>"
      ],
      "text/plain": [
       "                      value\n",
       "num_queries           70193\n",
       "num_distinct_queries  17003"
      ]
     },
     "execution_count": 94,
     "metadata": {},
     "output_type": "execute_result"
    }
   ],
   "source": [
    "qlevel_stats = pd.DataFrame(\n",
    "    [qlog.shape[0], len(qlog['query'].unique())],\n",
    "    columns=['value'],\n",
    "    index=['num_queries', 'num_distinct_queries'])\n",
    "qlevel_stats"
   ]
  },
  {
   "cell_type": "markdown",
   "metadata": {
    "slideshow": {
     "slide_type": "slide"
    }
   },
   "source": [
    "## Distribution of number of queries per user"
   ]
  },
  {
   "cell_type": "code",
   "execution_count": 95,
   "metadata": {
    "slideshow": {
     "slide_type": "fragment"
    }
   },
   "outputs": [
    {
     "data": {
      "image/png": "[encoded data removed]",
      "text/plain": [
       "<Figure size 1080x216 with 1 Axes>"
      ]
     },
     "metadata": {},
     "output_type": "display_data"
    }
   ],
   "source": [
    "queries_per_user = qlog[['user_id', 'query']] \\\n",
    "    .groupby(['user_id']) \\\n",
    "    .count()\n",
    "\n",
    "d_max = queries_per_user['query'].max()\n",
    "bin_width = 25\n",
    "\n",
    "queries_per_user \\\n",
    "    .plot(kind='hist', bins=range(0, d_max+bin_width, bin_width), rwidth=.95, legend=False)\n",
    "plt.xlabel('Number of Interactions')\n",
    "plt.ylabel('Number of Users')\n",
    "plt.show()"
   ]
  },
  {
   "cell_type": "markdown",
   "metadata": {
    "slideshow": {
     "slide_type": "slide"
    }
   },
   "source": [
    "## Distribution of queries over time"
   ]
  },
  {
   "cell_type": "code",
   "execution_count": 96,
   "metadata": {
    "slideshow": {
     "slide_type": "fragment"
    }
   },
   "outputs": [
    {
     "data": {
      "image/png": "[encoded data removed]",
      "text/plain": [
       "<Figure size 1080x216 with 1 Axes>"
      ]
     },
     "metadata": {},
     "output_type": "display_data"
    }
   ],
   "source": [
    "qlog['date'] = qlog['timestamp'].map(lambda t: t.date())\n",
    "\n",
    "qlog \\\n",
    "    .groupby('date') \\\n",
    "    .size() \\\n",
    "    .plot()\n",
    "plt.xlabel('Date')\n",
    "plt.ylabel('Number of Interactions')\n",
    "plt.show()"
   ]
  },
  {
   "cell_type": "markdown",
   "metadata": {
    "slideshow": {
     "slide_type": "slide"
    }
   },
   "source": [
    "### Per 24h cycles"
   ]
  },
  {
   "cell_type": "code",
   "execution_count": 97,
   "metadata": {
    "slideshow": {
     "slide_type": "fragment"
    }
   },
   "outputs": [
    {
     "data": {
      "image/png": "[encoded data removed]",
      "text/plain": [
       "<Figure size 1080x216 with 1 Axes>"
      ]
     },
     "metadata": {},
     "output_type": "display_data"
    }
   ],
   "source": [
    "qlog['hour'] = qlog['timestamp'].map(lambda t: t.hour)\n",
    "qlog['hour'] \\\n",
    "    .plot(kind='hist', bins=23, rwidth=.95)\n",
    "plt.xticks(range(0, 24, 2), labels=['{0}h'.format(h) for h in range(0, 24, 2)])\n",
    "plt.xlabel('Hours of Day')\n",
    "plt.ylabel('Number of Interactions')\n",
    "plt.show()"
   ]
  },
  {
   "cell_type": "markdown",
   "metadata": {
    "slideshow": {
     "slide_type": "slide"
    }
   },
   "source": [
    "### Per weekday cycles"
   ]
  },
  {
   "cell_type": "code",
   "execution_count": 98,
   "metadata": {
    "slideshow": {
     "slide_type": "fragment"
    }
   },
   "outputs": [
    {
     "data": {
      "image/png": "[encoded data removed]",
      "text/plain": [
       "<Figure size 1080x216 with 1 Axes>"
      ]
     },
     "metadata": {},
     "output_type": "display_data"
    }
   ],
   "source": [
    "weekdays=['Mon', 'Tue', 'Wed', 'Thu', 'Fri', 'Sat', 'Sun']\n",
    "qlog['weekday'] = qlog['timestamp'].map(lambda t: t.weekday())\n",
    "\n",
    "qlog \\\n",
    "    .groupby(['weekday']) \\\n",
    "    .size() \\\n",
    "    .plot(kind='bar')\n",
    "\n",
    "plt.xticks(range(len(weekdays)), labels=weekdays, rotation=0)\n",
    "plt.xlabel('Weekday')\n",
    "plt.ylabel('Number of Interactions')\n",
    "plt.show()"
   ]
  },
  {
   "cell_type": "markdown",
   "metadata": {
    "slideshow": {
     "slide_type": "slide"
    }
   },
   "source": [
    "### Per monthly cycles"
   ]
  },
  {
   "cell_type": "code",
   "execution_count": 99,
   "metadata": {
    "slideshow": {
     "slide_type": "fragment"
    }
   },
   "outputs": [
    {
     "data": {
      "image/png": "[encoded data removed]",
      "text/plain": [
       "<Figure size 1080x216 with 1 Axes>"
      ]
     },
     "metadata": {},
     "output_type": "display_data"
    }
   ],
   "source": [
    "months = ['Jan', 'Feb', 'Mar', 'Apr', 'May', 'Jun', 'Jul', 'Aug', 'Sep', 'Oct', 'Nov', 'Dec']\n",
    "qlog['month'] = qlog['timestamp'].map(lambda t: t.month)\n",
    "\n",
    "queries_per_month = qlog \\\n",
    "    .groupby(['month']) \\\n",
    "    .size() \\\n",
    "\n",
    "queries_per_month \\\n",
    "    .plot(kind='bar')\n",
    "\n",
    "plt.xticks(\n",
    "    range(queries_per_month.shape[0]),\n",
    "    labels=months[(min(queries_per_month.index)-1):max(queries_per_month.index)],\n",
    "    rotation=0)\n",
    "plt.xlabel('Month')\n",
    "plt.ylabel('Number of Interactions')\n",
    "plt.show()"
   ]
  },
  {
   "cell_type": "markdown",
   "metadata": {
    "slideshow": {
     "slide_type": "slide"
    }
   },
   "source": [
    "# Topic-level analysis\n",
    "\n",
    "We will look at the categories (more general) and topics (more specific) of the query log, analyzing:\n",
    "\n",
    "- Distribution of query categories\n",
    "- Distribution of query topics\n",
    "\n",
    "\n",
    "- Distribution of query categories over time:\n",
    "  - Per 24h cycles\n",
    "  - Per weekday cycles\n",
    "  - Per monthly cycles\n",
    "\n",
    "\n",
    "- Distribution of query topics over time:\n",
    "  - Per 24h cycles\n",
    "  - Per weekday cycles\n",
    "  - Per monthly cycles"
   ]
  },
  {
   "cell_type": "markdown",
   "metadata": {
    "slideshow": {
     "slide_type": "slide"
    }
   },
   "source": [
    "## Category detection\n",
    "\n",
    "We train a classifier based on the [BBC dataset](http://mlg.ucd.ie/datasets/bbc.html), with 2225 documents and 5 categories:\n",
    "\n",
    "- business\n",
    "- entertainment\n",
    "- politics\n",
    "- sport\n",
    "- tech"
   ]
  },
  {
   "cell_type": "code",
   "execution_count": 100,
   "metadata": {
    "scrolled": true,
    "slideshow": {
     "slide_type": "skip"
    }
   },
   "outputs": [],
   "source": [
    "from sklearn.feature_extraction.text import TfidfVectorizer\n",
    "\n",
    "\n",
    "def get_paths_per_class(bbc_base_dir):\n",
    "    \"\"\"Get dictionary of paths per class for BBC dataset.\"\"\"\n",
    "    \n",
    "    bbc = {}\n",
    "    \n",
    "    for file in os.listdir(bbc_base_dir):\n",
    "        class_path = os.path.join(bbc_base_dir, file)\n",
    "        \n",
    "        if os.path.isdir(class_path):\n",
    "            label = file\n",
    "            bbc[label] = []\n",
    "            \n",
    "            for file in os.listdir(class_path):\n",
    "                doc_path = os.path.join(class_path, file)\n",
    "                if os.path.isfile(doc_path):\n",
    "                    bbc[label].append(doc_path)\n",
    "    \n",
    "    return bbc\n",
    "\n",
    "\n",
    "def build_training_set(paths_per_class):\n",
    "    \"\"\"Load text documents per class and extract features (TF-IDF per term).\"\"\"\n",
    "\n",
    "    vec = TfidfVectorizer(ngram_range=(1, 2))\n",
    "    corpus = []\n",
    "    y = []\n",
    "    \n",
    "    for label in paths_per_class.keys():\n",
    "        for path in paths_per_class[label]:\n",
    "            try:\n",
    "                corpus.append(codecs.open(path, 'r', 'utf-8').read())\n",
    "                y.append(label)\n",
    "            except:\n",
    "                warnings.warn(\"Skipped %s\" % (path))\n",
    "        \n",
    "    X = vec.fit_transform(corpus)\n",
    "    return X, y, vec\n",
    "\n",
    "\n",
    "def train(X, y):\n",
    "    \"\"\"\n",
    "    Train a black box classifier. We chose Naïve Bayes here for returning a probability and having good proven\n",
    "    performance on this dataset, as shown in: https://towardsdatascience.com/text-classification-in-python-dd95d264c802\n",
    "    \"\"\"\n",
    "    nb = naive_bayes.MultinomialNB()\n",
    "    nb.fit(X, y)\n",
    "    return nb\n",
    "\n",
    "\n",
    "def predict(models, docs, threshold=0.5):\n",
    "    \"\"\"\n",
    "    Predict the correct class according to the probability. If no probability is above the threshold, then the class\n",
    "    'unknown' is assigned instead.\n",
    "    \"\"\"\n",
    "    predictions = []\n",
    "    \n",
    "    for label, model in models.items():\n",
    "        predictions.append([label] + [p[0] for p in model.predict_proba(features_model.transform(docs))])\n",
    "    \n",
    "    cl_prob_per_doc = pd.DataFrame(predictions) \\\n",
    "        .rename({ 0: 'class', 1: 0, 2: 1 }, axis=1) \\\n",
    "        .set_index('class')\n",
    "    \n",
    "    cl_prob_per_doc.loc['unknown', :] = cl_prob_per_doc.max().lt(threshold).map(int)\n",
    "    \n",
    "    return cl_prob_per_doc.idxmax().tolist()\n",
    "\n",
    "\n",
    "def select_training_set_for_class(X, y, label):\n",
    "    \"\"\"Deal with class imbalance problem by using stratified bootstrapping.\"\"\"\n",
    "    cl_idx = {}\n",
    "    unique_y = np.unique(y)\n",
    "    \n",
    "    for u_cl in unique_y:\n",
    "        if not u_cl in cl_idx:\n",
    "            cl_idx[u_cl] = []\n",
    "        cl_idx[u_cl].extend(idx for idx, cl in enumerate(y) if cl == u_cl)\n",
    "   \n",
    "    idx = cl_idx[label]\n",
    "    n_samples = int(np.ceil( len(idx) / (len(unique_y) - 1) ))\n",
    "    \n",
    "    for cl in unique_y:\n",
    "        idx.extend(np.random.choice(cl_idx[cl], n_samples, replace=True))\n",
    "    \n",
    "    return idx"
   ]
  },
  {
   "cell_type": "code",
   "execution_count": 101,
   "metadata": {
    "slideshow": {
     "slide_type": "subslide"
    }
   },
   "outputs": [
    {
     "name": "stderr",
     "output_type": "stream",
     "text": [
      "/home/jldevezas/.pyenv/versions/3.6.3/lib/python3.6/site-packages/ipykernel_launcher.py:37: UserWarning: Skipped data/bbc/sport/199.txt\n"
     ]
    }
   ],
   "source": [
    "paths_per_class = get_paths_per_class('data/bbc')\n",
    "X, y, features_model = build_training_set(paths_per_class)\n",
    "\n",
    "models = {}\n",
    "for label in paths_per_class.keys():\n",
    "    train_idx = select_training_set_for_class(X, y, label)\n",
    "    models[label] = train(X[train_idx, :], [y[i] if y[i] == label else 'unknown' for i in train_idx])"
   ]
  },
  {
   "cell_type": "markdown",
   "metadata": {
    "slideshow": {
     "slide_type": "slide"
    }
   },
   "source": [
    "Let's see if it works on the following test queries:"
   ]
  },
  {
   "cell_type": "code",
   "execution_count": 102,
   "metadata": {
    "slideshow": {
     "slide_type": "fragment"
    }
   },
   "outputs": [
    {
     "data": {
      "text/plain": [
       "['politics', 'sport', 'business', 'tech', 'entertainment']"
      ]
     },
     "execution_count": 102,
     "metadata": {},
     "output_type": "execute_result"
    }
   ],
   "source": [
    "docs = [\"government law\", \"soccer goal\", \"finance department\", \"computer science\", \"grammy award\"]\n",
    "predict(models, docs)"
   ]
  },
  {
   "cell_type": "code",
   "execution_count": 103,
   "metadata": {
    "slideshow": {
     "slide_type": "fragment"
    }
   },
   "outputs": [
    {
     "ename": "ValueError",
     "evalue": "np.nan is an invalid document, expected byte or unicode string.",
     "output_type": "error",
     "traceback": [
      "\u001b[0;31m---------------------------------------------------------------------------\u001b[0m",
      "\u001b[0;31mValueError\u001b[0m                                Traceback (most recent call last)",
      "\u001b[0;32m<ipython-input-103-0c032326ec26>\u001b[0m in \u001b[0;36m<module>\u001b[0;34m()\u001b[0m\n\u001b[0;32m----> 1\u001b[0;31m \u001b[0mqlog\u001b[0m\u001b[0;34m[\u001b[0m\u001b[0;34m'category'\u001b[0m\u001b[0;34m]\u001b[0m \u001b[0;34m=\u001b[0m \u001b[0mpredict\u001b[0m\u001b[0;34m(\u001b[0m\u001b[0mmodels\u001b[0m\u001b[0;34m,\u001b[0m \u001b[0mqlog\u001b[0m\u001b[0;34m[\u001b[0m\u001b[0;34m'query'\u001b[0m\u001b[0;34m]\u001b[0m\u001b[0;34m)\u001b[0m\u001b[0;34m;\u001b[0m \u001b[0mqlog\u001b[0m\u001b[0;34m[\u001b[0m\u001b[0;34m[\u001b[0m\u001b[0;34m'query'\u001b[0m\u001b[0;34m,\u001b[0m \u001b[0;34m'category'\u001b[0m\u001b[0;34m]\u001b[0m\u001b[0;34m]\u001b[0m\u001b[0;34m\u001b[0m\u001b[0m\n\u001b[0m",
      "\u001b[0;32m<ipython-input-100-2aced8369206>\u001b[0m in \u001b[0;36mpredict\u001b[0;34m(models, docs, threshold)\u001b[0m\n\u001b[1;32m     59\u001b[0m \u001b[0;34m\u001b[0m\u001b[0m\n\u001b[1;32m     60\u001b[0m     \u001b[0;32mfor\u001b[0m \u001b[0mlabel\u001b[0m\u001b[0;34m,\u001b[0m \u001b[0mmodel\u001b[0m \u001b[0;32min\u001b[0m \u001b[0mmodels\u001b[0m\u001b[0;34m.\u001b[0m\u001b[0mitems\u001b[0m\u001b[0;34m(\u001b[0m\u001b[0;34m)\u001b[0m\u001b[0;34m:\u001b[0m\u001b[0;34m\u001b[0m\u001b[0m\n\u001b[0;32m---> 61\u001b[0;31m         \u001b[0mpredictions\u001b[0m\u001b[0;34m.\u001b[0m\u001b[0mappend\u001b[0m\u001b[0;34m(\u001b[0m\u001b[0;34m[\u001b[0m\u001b[0mlabel\u001b[0m\u001b[0;34m]\u001b[0m \u001b[0;34m+\u001b[0m \u001b[0;34m[\u001b[0m\u001b[0mp\u001b[0m\u001b[0;34m[\u001b[0m\u001b[0;36m0\u001b[0m\u001b[0;34m]\u001b[0m \u001b[0;32mfor\u001b[0m \u001b[0mp\u001b[0m \u001b[0;32min\u001b[0m \u001b[0mmodel\u001b[0m\u001b[0;34m.\u001b[0m\u001b[0mpredict_proba\u001b[0m\u001b[0;34m(\u001b[0m\u001b[0mfeatures_model\u001b[0m\u001b[0;34m.\u001b[0m\u001b[0mtransform\u001b[0m\u001b[0;34m(\u001b[0m\u001b[0mdocs\u001b[0m\u001b[0;34m)\u001b[0m\u001b[0;34m)\u001b[0m\u001b[0;34m]\u001b[0m\u001b[0;34m)\u001b[0m\u001b[0;34m\u001b[0m\u001b[0m\n\u001b[0m\u001b[1;32m     62\u001b[0m \u001b[0;34m\u001b[0m\u001b[0m\n\u001b[1;32m     63\u001b[0m     \u001b[0mcl_prob_per_doc\u001b[0m \u001b[0;34m=\u001b[0m \u001b[0mpd\u001b[0m\u001b[0;34m.\u001b[0m\u001b[0mDataFrame\u001b[0m\u001b[0;34m(\u001b[0m\u001b[0mpredictions\u001b[0m\u001b[0;34m)\u001b[0m         \u001b[0;34m.\u001b[0m\u001b[0mrename\u001b[0m\u001b[0;34m(\u001b[0m\u001b[0;34m{\u001b[0m \u001b[0;36m0\u001b[0m\u001b[0;34m:\u001b[0m \u001b[0;34m'class'\u001b[0m\u001b[0;34m,\u001b[0m \u001b[0;36m1\u001b[0m\u001b[0;34m:\u001b[0m \u001b[0;36m0\u001b[0m\u001b[0;34m,\u001b[0m \u001b[0;36m2\u001b[0m\u001b[0;34m:\u001b[0m \u001b[0;36m1\u001b[0m \u001b[0;34m}\u001b[0m\u001b[0;34m,\u001b[0m \u001b[0maxis\u001b[0m\u001b[0;34m=\u001b[0m\u001b[0;36m1\u001b[0m\u001b[0;34m)\u001b[0m         \u001b[0;34m.\u001b[0m\u001b[0mset_index\u001b[0m\u001b[0;34m(\u001b[0m\u001b[0;34m'class'\u001b[0m\u001b[0;34m)\u001b[0m\u001b[0;34m\u001b[0m\u001b[0m\n",
      "\u001b[0;32m~/.pyenv/versions/3.6.3/lib/python3.6/site-packages/sklearn/feature_extraction/text.py\u001b[0m in \u001b[0;36mtransform\u001b[0;34m(self, raw_documents, copy)\u001b[0m\n\u001b[1;32m   1631\u001b[0m         \u001b[0mcheck_is_fitted\u001b[0m\u001b[0;34m(\u001b[0m\u001b[0mself\u001b[0m\u001b[0;34m,\u001b[0m \u001b[0;34m'_tfidf'\u001b[0m\u001b[0;34m,\u001b[0m \u001b[0;34m'The tfidf vector is not fitted'\u001b[0m\u001b[0;34m)\u001b[0m\u001b[0;34m\u001b[0m\u001b[0m\n\u001b[1;32m   1632\u001b[0m \u001b[0;34m\u001b[0m\u001b[0m\n\u001b[0;32m-> 1633\u001b[0;31m         \u001b[0mX\u001b[0m \u001b[0;34m=\u001b[0m \u001b[0msuper\u001b[0m\u001b[0;34m(\u001b[0m\u001b[0mTfidfVectorizer\u001b[0m\u001b[0;34m,\u001b[0m \u001b[0mself\u001b[0m\u001b[0;34m)\u001b[0m\u001b[0;34m.\u001b[0m\u001b[0mtransform\u001b[0m\u001b[0;34m(\u001b[0m\u001b[0mraw_documents\u001b[0m\u001b[0;34m)\u001b[0m\u001b[0;34m\u001b[0m\u001b[0m\n\u001b[0m\u001b[1;32m   1634\u001b[0m         \u001b[0;32mreturn\u001b[0m \u001b[0mself\u001b[0m\u001b[0;34m.\u001b[0m\u001b[0m_tfidf\u001b[0m\u001b[0;34m.\u001b[0m\u001b[0mtransform\u001b[0m\u001b[0;34m(\u001b[0m\u001b[0mX\u001b[0m\u001b[0;34m,\u001b[0m \u001b[0mcopy\u001b[0m\u001b[0;34m=\u001b[0m\u001b[0;32mFalse\u001b[0m\u001b[0;34m)\u001b[0m\u001b[0;34m\u001b[0m\u001b[0m\n",
      "\u001b[0;32m~/.pyenv/versions/3.6.3/lib/python3.6/site-packages/sklearn/feature_extraction/text.py\u001b[0m in \u001b[0;36mtransform\u001b[0;34m(self, raw_documents)\u001b[0m\n\u001b[1;32m   1084\u001b[0m \u001b[0;34m\u001b[0m\u001b[0m\n\u001b[1;32m   1085\u001b[0m         \u001b[0;31m# use the same matrix-building strategy as fit_transform\u001b[0m\u001b[0;34m\u001b[0m\u001b[0;34m\u001b[0m\u001b[0m\n\u001b[0;32m-> 1086\u001b[0;31m         \u001b[0m_\u001b[0m\u001b[0;34m,\u001b[0m \u001b[0mX\u001b[0m \u001b[0;34m=\u001b[0m \u001b[0mself\u001b[0m\u001b[0;34m.\u001b[0m\u001b[0m_count_vocab\u001b[0m\u001b[0;34m(\u001b[0m\u001b[0mraw_documents\u001b[0m\u001b[0;34m,\u001b[0m \u001b[0mfixed_vocab\u001b[0m\u001b[0;34m=\u001b[0m\u001b[0;32mTrue\u001b[0m\u001b[0;34m)\u001b[0m\u001b[0;34m\u001b[0m\u001b[0m\n\u001b[0m\u001b[1;32m   1087\u001b[0m         \u001b[0;32mif\u001b[0m \u001b[0mself\u001b[0m\u001b[0;34m.\u001b[0m\u001b[0mbinary\u001b[0m\u001b[0;34m:\u001b[0m\u001b[0;34m\u001b[0m\u001b[0m\n\u001b[1;32m   1088\u001b[0m             \u001b[0mX\u001b[0m\u001b[0;34m.\u001b[0m\u001b[0mdata\u001b[0m\u001b[0;34m.\u001b[0m\u001b[0mfill\u001b[0m\u001b[0;34m(\u001b[0m\u001b[0;36m1\u001b[0m\u001b[0;34m)\u001b[0m\u001b[0;34m\u001b[0m\u001b[0m\n",
      "\u001b[0;32m~/.pyenv/versions/3.6.3/lib/python3.6/site-packages/sklearn/feature_extraction/text.py\u001b[0m in \u001b[0;36m_count_vocab\u001b[0;34m(self, raw_documents, fixed_vocab)\u001b[0m\n\u001b[1;32m    940\u001b[0m         \u001b[0;32mfor\u001b[0m \u001b[0mdoc\u001b[0m \u001b[0;32min\u001b[0m \u001b[0mraw_documents\u001b[0m\u001b[0;34m:\u001b[0m\u001b[0;34m\u001b[0m\u001b[0m\n\u001b[1;32m    941\u001b[0m             \u001b[0mfeature_counter\u001b[0m \u001b[0;34m=\u001b[0m \u001b[0;34m{\u001b[0m\u001b[0;34m}\u001b[0m\u001b[0;34m\u001b[0m\u001b[0m\n\u001b[0;32m--> 942\u001b[0;31m             \u001b[0;32mfor\u001b[0m \u001b[0mfeature\u001b[0m \u001b[0;32min\u001b[0m \u001b[0manalyze\u001b[0m\u001b[0;34m(\u001b[0m\u001b[0mdoc\u001b[0m\u001b[0;34m)\u001b[0m\u001b[0;34m:\u001b[0m\u001b[0;34m\u001b[0m\u001b[0m\n\u001b[0m\u001b[1;32m    943\u001b[0m                 \u001b[0;32mtry\u001b[0m\u001b[0;34m:\u001b[0m\u001b[0;34m\u001b[0m\u001b[0m\n\u001b[1;32m    944\u001b[0m                     \u001b[0mfeature_idx\u001b[0m \u001b[0;34m=\u001b[0m \u001b[0mvocabulary\u001b[0m\u001b[0;34m[\u001b[0m\u001b[0mfeature\u001b[0m\u001b[0;34m]\u001b[0m\u001b[0;34m\u001b[0m\u001b[0m\n",
      "\u001b[0;32m~/.pyenv/versions/3.6.3/lib/python3.6/site-packages/sklearn/feature_extraction/text.py\u001b[0m in \u001b[0;36m<lambda>\u001b[0;34m(doc)\u001b[0m\n\u001b[1;32m    326\u001b[0m                                                tokenize)\n\u001b[1;32m    327\u001b[0m             return lambda doc: self._word_ngrams(\n\u001b[0;32m--> 328\u001b[0;31m                 tokenize(preprocess(self.decode(doc))), stop_words)\n\u001b[0m\u001b[1;32m    329\u001b[0m \u001b[0;34m\u001b[0m\u001b[0m\n\u001b[1;32m    330\u001b[0m         \u001b[0;32melse\u001b[0m\u001b[0;34m:\u001b[0m\u001b[0;34m\u001b[0m\u001b[0m\n",
      "\u001b[0;32m~/.pyenv/versions/3.6.3/lib/python3.6/site-packages/sklearn/feature_extraction/text.py\u001b[0m in \u001b[0;36mdecode\u001b[0;34m(self, doc)\u001b[0m\n\u001b[1;32m    141\u001b[0m \u001b[0;34m\u001b[0m\u001b[0m\n\u001b[1;32m    142\u001b[0m         \u001b[0;32mif\u001b[0m \u001b[0mdoc\u001b[0m \u001b[0;32mis\u001b[0m \u001b[0mnp\u001b[0m\u001b[0;34m.\u001b[0m\u001b[0mnan\u001b[0m\u001b[0;34m:\u001b[0m\u001b[0;34m\u001b[0m\u001b[0m\n\u001b[0;32m--> 143\u001b[0;31m             raise ValueError(\"np.nan is an invalid document, expected byte or \"\n\u001b[0m\u001b[1;32m    144\u001b[0m                              \"unicode string.\")\n\u001b[1;32m    145\u001b[0m \u001b[0;34m\u001b[0m\u001b[0m\n",
      "\u001b[0;31mValueError\u001b[0m: np.nan is an invalid document, expected byte or unicode string."
     ]
    }
   ],
   "source": [
    "qlog['category'] = predict(models, qlog['query']); qlog[['query', 'category']]"
   ]
  },
  {
   "cell_type": "markdown",
   "metadata": {
    "slideshow": {
     "slide_type": "slide"
    }
   },
   "source": [
    "Let's also inspect some random rows to see if it makes sense."
   ]
  },
  {
   "cell_type": "code",
   "execution_count": null,
   "metadata": {
    "slideshow": {
     "slide_type": "fragment"
    }
   },
   "outputs": [],
   "source": [
    "qlog[['query', 'category']].iloc[np.random.choice(len(qlog), 10)]"
   ]
  },
  {
   "cell_type": "markdown",
   "metadata": {
    "slideshow": {
     "slide_type": "fragment"
    }
   },
   "source": [
    "Some queries were wrongly categorized, since the training set doesn't cover all categories and the classifier we used never returns a probability under 0.5 for all of the labels. This means it's unable to use the `unknown` category."
   ]
  },
  {
   "cell_type": "markdown",
   "metadata": {
    "slideshow": {
     "slide_type": "slide"
    }
   },
   "source": [
    "## Topic detection\n",
    "\n",
    "Another approach is to instead use an unsupervised algorithm. Classical topic models like LDA would be adequate, if it weren't for the short length of the queries. There is, however, the [biterm topic model](https://dl.acm.org/citation.cfm?id=2488514), which is more adequate for shorter text. Another, even better, approach could be the [relational biterm topic model](https://academic.oup.com/comjnl/article-abstract/62/3/359/5005494?redirectedFrom=fulltext), but since we didn't find any implementation and don't want to implement it ourselves, we will experiment with the biterm topic model."
   ]
  },
  {
   "cell_type": "code",
   "execution_count": null,
   "metadata": {
    "slideshow": {
     "slide_type": "fragment"
    }
   },
   "outputs": [],
   "source": [
    "from sklearn.feature_extraction.text import CountVectorizer\n",
    "from biterm.utility import vec_to_biterms\n",
    "from biterm.cbtm import oBTM\n",
    "\n",
    "vec = CountVectorizer(stop_words='english')\n",
    "X = vec.fit_transform(qlog['query']).toarray()\n",
    "\n",
    "vocab = np.array(vec.get_feature_names())\n",
    "biterms = vec_to_biterms(X)"
   ]
  },
  {
   "cell_type": "markdown",
   "metadata": {
    "slideshow": {
     "slide_type": "skip"
    }
   },
   "source": [
    "**Note:** The following code will take a while to run. It's a lot slower than training and predicting with Naïve Bayes. We cache the model, so that we can rerun the whole notebook. Delete `output/cache` to retrain with the same data, otherwise it's fine to leave the cache untouched. The same goes for any other function annotated with `memory.cache`."
   ]
  },
  {
   "cell_type": "code",
   "execution_count": null,
   "metadata": {
    "slideshow": {
     "slide_type": "fragment"
    }
   },
   "outputs": [],
   "source": [
    "num_topics = 20\n",
    "\n",
    "@memory.cache\n",
    "def biterm_train(num_topics, vocabulary, biterms, iterations=100):\n",
    "    btm = oBTM(num_topics=num_topics, V=vocab)\n",
    "    topics = btm.fit_transform(biterms, iterations=iterations)\n",
    "    return btm, topics\n",
    "\n",
    "btm, topics = biterm_train(num_topics, vocab, biterms, iterations=100)"
   ]
  },
  {
   "cell_type": "markdown",
   "metadata": {
    "slideshow": {
     "slide_type": "slide"
    }
   },
   "source": [
    "We now take the topic distribution over the vocabulary and keep the top five terms, with highest probability, per topic."
   ]
  },
  {
   "cell_type": "code",
   "execution_count": null,
   "metadata": {
    "slideshow": {
     "slide_type": "fragment"
    }
   },
   "outputs": [],
   "source": [
    "topic_names = []\n",
    "for i in range(20):\n",
    "    idx = btm.phi_wz[:, i].argsort()[::-1][:5]\n",
    "    topic_names.append(' '.join(vocab[i] for i in idx))\n",
    "\n",
    "qlog['topic'] = [topic_names[topics[i].argmax()] for i in range(len(qlog))]; qlog[['query', 'topic']]"
   ]
  },
  {
   "cell_type": "markdown",
   "metadata": {
    "slideshow": {
     "slide_type": "slide"
    }
   },
   "source": [
    "## Distribution of query categories"
   ]
  },
  {
   "cell_type": "code",
   "execution_count": null,
   "metadata": {
    "slideshow": {
     "slide_type": "fragment"
    }
   },
   "outputs": [],
   "source": [
    "plt.rc('figure', figsize=[6, 3])\n",
    "\n",
    "qlog[['query', 'category']] \\\n",
    "    .groupby('category') \\\n",
    "    .count() \\\n",
    "    .plot(kind='barh', legend=False)\n",
    "plt.xlabel('Number of Interactions')\n",
    "plt.ylabel('Category')\n",
    "plt.show()\n",
    "\n",
    "plt.rc('figure', figsize=DEFAULT_FIGSIZE)"
   ]
  },
  {
   "cell_type": "markdown",
   "metadata": {
    "slideshow": {
     "slide_type": "slide"
    }
   },
   "source": [
    "## Distribution of query topics"
   ]
  },
  {
   "cell_type": "code",
   "execution_count": null,
   "metadata": {
    "slideshow": {
     "slide_type": "fragment"
    }
   },
   "outputs": [],
   "source": [
    "plt.rc('figure', figsize=[6, 10])\n",
    "\n",
    "qlog[['query', 'topic']] \\\n",
    "    .groupby('topic') \\\n",
    "    .count() \\\n",
    "    .plot(kind='barh', legend=False)\n",
    "plt.xlabel('Number of Interactions')\n",
    "plt.ylabel('Topic')\n",
    "plt.show()\n",
    "\n",
    "plt.rc('figure', figsize=DEFAULT_FIGSIZE)"
   ]
  },
  {
   "cell_type": "markdown",
   "metadata": {
    "slideshow": {
     "slide_type": "slide"
    }
   },
   "source": [
    "## Distribution of query categories over time"
   ]
  },
  {
   "cell_type": "code",
   "execution_count": null,
   "metadata": {
    "slideshow": {
     "slide_type": "fragment"
    }
   },
   "outputs": [],
   "source": [
    "categories_over_time = qlog[['query', 'category', 'date']] \\\n",
    "    .groupby(['category', 'date']) \\\n",
    "    .count() \\\n",
    "    .unstack() \\\n",
    "    .T \\\n",
    "    .reset_index() \\\n",
    "    .set_index('date') \\\n",
    "    .drop('level_0', axis=1) \\\n",
    "    .fillna(0)\n",
    "\n",
    "categories_over_time.plot()\n",
    "plt.legend(loc='upper right', ncol=5)\n",
    "plt.xlabel('Date')\n",
    "plt.ylabel('Number of Interactions')\n",
    "plt.show()"
   ]
  },
  {
   "cell_type": "markdown",
   "metadata": {
    "slideshow": {
     "slide_type": "slide"
    }
   },
   "source": [
    "### Per 24h cycles"
   ]
  },
  {
   "cell_type": "code",
   "execution_count": null,
   "metadata": {
    "slideshow": {
     "slide_type": "fragment"
    }
   },
   "outputs": [],
   "source": [
    "qlog[['query', 'category', 'hour']] \\\n",
    "    .groupby(['category', 'hour']) \\\n",
    "    .count() \\\n",
    "    .unstack() \\\n",
    "    .T \\\n",
    "    .reset_index() \\\n",
    "    .set_index('hour') \\\n",
    "    .drop('level_0', axis=1) \\\n",
    "    .plot(kind='bar', width=.8)\n",
    "\n",
    "plt.legend(loc='upper left', ncol=6)\n",
    "plt.xticks(range(0, 24, 2), labels=['{0}h'.format(h) for h in range(0, 24, 2)], rotation=0)\n",
    "plt.show()"
   ]
  },
  {
   "cell_type": "markdown",
   "metadata": {
    "slideshow": {
     "slide_type": "slide"
    }
   },
   "source": [
    "### Per weekday cycles"
   ]
  },
  {
   "cell_type": "code",
   "execution_count": null,
   "metadata": {
    "slideshow": {
     "slide_type": "fragment"
    }
   },
   "outputs": [],
   "source": [
    "qlog[['query', 'category', 'weekday']] \\\n",
    "    .groupby(['category', 'weekday']) \\\n",
    "    .count() \\\n",
    "    .unstack() \\\n",
    "    .T \\\n",
    "    .reset_index() \\\n",
    "    .set_index('weekday') \\\n",
    "    .drop('level_0', axis=1) \\\n",
    "    .plot(kind='bar', width=.8)\n",
    "\n",
    "plt.legend(loc='upper left', ncol=6)\n",
    "plt.xticks(range(len(weekdays)), labels=weekdays, rotation=0)\n",
    "plt.show()"
   ]
  },
  {
   "cell_type": "markdown",
   "metadata": {
    "slideshow": {
     "slide_type": "slide"
    }
   },
   "source": [
    "### Per monthly cycles"
   ]
  },
  {
   "cell_type": "code",
   "execution_count": null,
   "metadata": {
    "slideshow": {
     "slide_type": "fragment"
    }
   },
   "outputs": [],
   "source": [
    "qlog[['query', 'category', 'month']] \\\n",
    "    .groupby(['category', 'month']) \\\n",
    "    .count() \\\n",
    "    .unstack() \\\n",
    "    .T \\\n",
    "    .reset_index() \\\n",
    "    .set_index('month') \\\n",
    "    .drop('level_0', axis=1) \\\n",
    "    .plot(kind='bar', width=.8)\n",
    "\n",
    "plt.legend(loc='upper right', ncol=6)\n",
    "plt.xticks(\n",
    "    range(queries_per_month.shape[0]),\n",
    "    labels=months[(min(queries_per_month.index)-1):max(queries_per_month.index)],\n",
    "    rotation=0)\n",
    "plt.show()"
   ]
  },
  {
   "cell_type": "markdown",
   "metadata": {
    "slideshow": {
     "slide_type": "slide"
    }
   },
   "source": [
    "## Distribution of query topics over time for top-4 topics"
   ]
  },
  {
   "cell_type": "code",
   "execution_count": null,
   "metadata": {
    "slideshow": {
     "slide_type": "fragment"
    }
   },
   "outputs": [],
   "source": [
    "top_topics = qlog[['query', 'topic']] \\\n",
    "    .groupby('topic') \\\n",
    "    .count() \\\n",
    "    .sort_values(by=\"query\", ascending=False) \\\n",
    "    .rename({'query': 'count'}, axis=1) \\\n",
    "    .head(4)"
   ]
  },
  {
   "cell_type": "code",
   "execution_count": null,
   "metadata": {
    "slideshow": {
     "slide_type": "fragment"
    }
   },
   "outputs": [],
   "source": [
    "topics_over_time = qlog[['query', 'topic', 'date']] \\\n",
    "    .merge(top_topics, on='topic') \\\n",
    "    .groupby(['topic', 'date']) \\\n",
    "    .count() \\\n",
    "    .unstack() \\\n",
    "    .T \\\n",
    "    .reset_index() \\\n",
    "    .set_index('date') \\\n",
    "    .drop('level_0', axis=1) \\\n",
    "    .fillna(0)\n",
    "\n",
    "topics_over_time.plot()\n",
    "plt.legend(loc='upper right', ncol=2)\n",
    "plt.xlabel('Date')\n",
    "plt.ylabel('Number of Interactions')\n",
    "plt.show()"
   ]
  },
  {
   "cell_type": "markdown",
   "metadata": {
    "slideshow": {
     "slide_type": "slide"
    }
   },
   "source": [
    "### Per 24h cycles"
   ]
  },
  {
   "cell_type": "code",
   "execution_count": null,
   "metadata": {
    "slideshow": {
     "slide_type": "fragment"
    }
   },
   "outputs": [],
   "source": [
    "qlog[['topic', 'hour']] \\\n",
    "    .merge(top_topics, on='topic') \\\n",
    "    .groupby(['topic', 'hour']) \\\n",
    "    .count() \\\n",
    "    .unstack() \\\n",
    "    .T \\\n",
    "    .reset_index() \\\n",
    "    .set_index('hour') \\\n",
    "    .drop('level_0', axis=1) \\\n",
    "    .plot(kind='bar', width=.8)\n",
    "\n",
    "plt.legend(loc='upper left', ncol=2)\n",
    "plt.xticks(range(0, 24, 2), labels=['{0}h'.format(h) for h in range(0, 24, 2)], rotation=0)\n",
    "plt.show()"
   ]
  },
  {
   "cell_type": "markdown",
   "metadata": {
    "slideshow": {
     "slide_type": "slide"
    }
   },
   "source": [
    "### Per weekday cycles"
   ]
  },
  {
   "cell_type": "code",
   "execution_count": null,
   "metadata": {
    "slideshow": {
     "slide_type": "fragment"
    }
   },
   "outputs": [],
   "source": [
    "qlog[['query', 'topic', 'weekday']] \\\n",
    "    .merge(top_topics, on='topic') \\\n",
    "    .groupby(['topic', 'weekday']) \\\n",
    "    .count() \\\n",
    "    .unstack() \\\n",
    "    .T \\\n",
    "    .reset_index() \\\n",
    "    .set_index('weekday') \\\n",
    "    .drop('level_0', axis=1) \\\n",
    "    .plot(kind='bar', width=.8)\n",
    "\n",
    "plt.legend(loc='upper left', ncol=4)\n",
    "plt.xticks(range(len(weekdays)), labels=weekdays, rotation=0)\n",
    "plt.show()"
   ]
  },
  {
   "cell_type": "markdown",
   "metadata": {
    "slideshow": {
     "slide_type": "slide"
    }
   },
   "source": [
    "### Per monthly cycles"
   ]
  },
  {
   "cell_type": "code",
   "execution_count": null,
   "metadata": {
    "slideshow": {
     "slide_type": "fragment"
    }
   },
   "outputs": [],
   "source": [
    "qlog[['query', 'topic', 'month']] \\\n",
    "    .merge(top_topics, on='topic') \\\n",
    "    .groupby(['topic', 'month']) \\\n",
    "    .count() \\\n",
    "    .unstack() \\\n",
    "    .T \\\n",
    "    .reset_index() \\\n",
    "    .set_index('month') \\\n",
    "    .drop('level_0', axis=1) \\\n",
    "    .plot(kind='bar', width=.8)\n",
    "\n",
    "plt.legend(loc='upper right', ncol=4)\n",
    "plt.xticks(\n",
    "    range(queries_per_month.shape[0]),\n",
    "    labels=months[(min(queries_per_month.index)-1):max(queries_per_month.index)],\n",
    "    rotation=0)\n",
    "plt.show()"
   ]
  },
  {
   "cell_type": "markdown",
   "metadata": {
    "slideshow": {
     "slide_type": "slide"
    }
   },
   "source": [
    "# Session-level analysis\n",
    "\n",
    "- Number of queries / interactions per session\n",
    "- Number of distinct queries per session\n",
    "- Session duration distribution\n",
    "- Distribution of number of clicks per session\n",
    "- Average clicked rank per session duration\n",
    "\n",
    "\n",
    "- Average session duration:\n",
    "  - Per day\n",
    "  - For 24h cycles\n",
    "  - For weekday cycles\n",
    "  - For monthly cycles"
   ]
  },
  {
   "cell_type": "markdown",
   "metadata": {
    "slideshow": {
     "slide_type": "slide"
    }
   },
   "source": [
    "## Detecting sessions\n",
    "\n",
    "**Note:** Don't run the following code block if there is already a `session_id` column."
   ]
  },
  {
   "cell_type": "code",
   "execution_count": null,
   "metadata": {
    "slideshow": {
     "slide_type": "fragment"
    }
   },
   "outputs": [],
   "source": [
    "from datetime import timedelta\n",
    "\n",
    "def detect_sessions(qlog, mins=30):\n",
    "    qlog.drop('session_id', axis=1, errors='ignore', inplace=True)\n",
    "    new_sessions = pd.Series([], dtype='int64')\n",
    "    for _, user_qlog in qlog.sort_values(by=['user_id', 'timestamp']).groupby('user_id'):\n",
    "        user_new_sessions = user_qlog.timestamp.gt(user_qlog.timestamp.shift() + timedelta(minutes=mins))\n",
    "        user_new_sessions.iloc[0] = True\n",
    "        new_sessions = new_sessions.append(user_new_sessions)\n",
    "    return pd.concat([\n",
    "        qlog.sort_values(by=['user_id', 'timestamp']),\n",
    "        pd.DataFrame({ 'session_id': new_sessions.cumsum() })\n",
    "    ], axis=1, sort=False)\n",
    "\n",
    "qlog = detect_sessions(qlog); qlog[['user_id', 'query', 'timestamp', 'session_id']]"
   ]
  },
  {
   "cell_type": "markdown",
   "metadata": {
    "slideshow": {
     "slide_type": "slide"
    }
   },
   "source": [
    "## Number of interactions per session"
   ]
  },
  {
   "cell_type": "code",
   "execution_count": null,
   "metadata": {
    "slideshow": {
     "slide_type": "fragment"
    }
   },
   "outputs": [],
   "source": [
    "queries_per_session = qlog[['session_id', 'query']] \\\n",
    "    .groupby('session_id') \\\n",
    "    .count()\n",
    "\n",
    "d_max = queries_per_session['query'].max()\n",
    "bin_width = 1\n",
    "\n",
    "queries_per_session \\\n",
    "    .plot(kind='hist', bins=range(0, d_max + bin_width, bin_width), legend=False)\n",
    "plt.xlabel(\"Number of Interactions per Session\")\n",
    "plt.ylabel(\"Frequency\")\n",
    "plt.show()"
   ]
  },
  {
   "cell_type": "markdown",
   "metadata": {
    "slideshow": {
     "slide_type": "slide"
    }
   },
   "source": [
    "## Number of distinct queries per session"
   ]
  },
  {
   "cell_type": "code",
   "execution_count": null,
   "metadata": {
    "slideshow": {
     "slide_type": "fragment"
    }
   },
   "outputs": [],
   "source": [
    "distinct_queries_per_session = qlog[['session_id', 'query']] \\\n",
    "    .groupby('session_id') \\\n",
    "    .nunique()\n",
    "\n",
    "distinct_queries_per_session['session_id'] = distinct_queries_per_session.index\n",
    "distinct_queries_per_session.drop('session_id', axis=1, inplace=True)\n",
    "distinct_queries_per_session = distinct_queries_per_session.reset_index().drop('session_id', axis=1)\n",
    "\n",
    "d_max = distinct_queries_per_session['query'].max()\n",
    "bin_width = 5\n",
    "\n",
    "distinct_queries_per_session \\\n",
    "    .plot(kind='hist', bins=range(0, d_max + bin_width, bin_width), legend=False)\n",
    "plt.xlabel(\"Number of Distinct Queries per Session\")\n",
    "plt.ylabel(\"Frequency\")\n",
    "plt.show()"
   ]
  },
  {
   "cell_type": "markdown",
   "metadata": {
    "slideshow": {
     "slide_type": "slide"
    }
   },
   "source": [
    "## Session duration distribution"
   ]
  },
  {
   "cell_type": "code",
   "execution_count": null,
   "metadata": {
    "slideshow": {
     "slide_type": "fragment"
    }
   },
   "outputs": [],
   "source": [
    "from matplotlib.ticker import FuncFormatter\n",
    "\n",
    "session_durations = qlog[['session_id', 'timestamp']] \\\n",
    "    .groupby('session_id') \\\n",
    "    .apply(lambda d: (d['timestamp'].max() - d['timestamp'].min()).total_seconds() / 3600) \\\n",
    "    .reset_index() \\\n",
    "    .rename({0: 'duration'}, axis=1) \\\n",
    "    .drop('session_id', axis=1)\n",
    "\n",
    "d_max = session_durations['duration'].max()\n",
    "bin_width = 5/60\n",
    "\n",
    "ax = session_durations \\\n",
    "    .plot(kind='hist', bins=np.arange(0, d_max + bin_width, bin_width), legend=False)\n",
    "ax.xaxis.set_major_formatter(FuncFormatter(lambda x, _: timedelta(seconds=x * 3600)))\n",
    "plt.xlabel(\"Duration (H:MM:SS)\")\n",
    "plt.ylabel(\"Number of Sessions\")\n",
    "plt.show()"
   ]
  },
  {
   "cell_type": "markdown",
   "metadata": {
    "slideshow": {
     "slide_type": "slide"
    }
   },
   "source": [
    "## Distribution of number of clicks per session"
   ]
  },
  {
   "cell_type": "code",
   "execution_count": null,
   "metadata": {
    "slideshow": {
     "slide_type": "fragment"
    }
   },
   "outputs": [],
   "source": [
    "session_clicks = qlog[~qlog['click_rank'].isnull()][['session_id', 'click_rank']] \\\n",
    "    .groupby('session_id') \\\n",
    "    .count() \\\n",
    "    .reset_index() \\\n",
    "    .drop('session_id', axis=1) \\\n",
    "    .rename({ 'click_rank': 'click_count' }, axis=1)\n",
    "\n",
    "d_max = session_clicks['click_count'].max()\n",
    "bin_width = 1\n",
    "\n",
    "session_clicks \\\n",
    "    .plot(kind='hist', bins=range(0, d_max + bin_width, bin_width), logy=False, legend=False)\n",
    "plt.xlabel(\"Number of Clicks\")\n",
    "plt.ylabel(\"Number of Sessions\")\n",
    "plt.show()"
   ]
  },
  {
   "cell_type": "markdown",
   "metadata": {
    "slideshow": {
     "slide_type": "slide"
    }
   },
   "source": [
    "## Average session duration"
   ]
  },
  {
   "cell_type": "code",
   "execution_count": null,
   "metadata": {
    "slideshow": {
     "slide_type": "fragment"
    }
   },
   "outputs": [],
   "source": [
    "from matplotlib.ticker import FuncFormatter\n",
    "\n",
    "session_durations_per_day = qlog[['session_id', 'date', 'timestamp']] \\\n",
    "    .groupby(['session_id', 'date']) \\\n",
    "    .apply(lambda d: (d['timestamp'].max() - d['timestamp'].min()).total_seconds() / 3600) \\\n",
    "    .reset_index() \\\n",
    "    .rename({0: 'duration'}, axis=1) \\\n",
    "    .drop('session_id', axis=1) \\\n",
    "    .groupby('date') \\\n",
    "    .mean()\n",
    "\n",
    "d_max = session_durations_per_day['duration'].max()\n",
    "bin_width = 1/60\n",
    "\n",
    "ax = session_durations_per_day \\\n",
    "    .plot(kind='hist', bins=np.arange(0, d_max + bin_width, bin_width), legend=False)\n",
    "ax.xaxis.set_major_formatter(FuncFormatter(lambda hour, _: timedelta(seconds=hour * 3600)))\n",
    "plt.xlabel(\"Avg. Duration (H:MM:SS)\")\n",
    "plt.ylabel(\"Number of Sessions\")\n",
    "plt.show()"
   ]
  },
  {
   "cell_type": "markdown",
   "metadata": {
    "slideshow": {
     "slide_type": "slide"
    }
   },
   "source": [
    "### Per 24h cycles"
   ]
  },
  {
   "cell_type": "code",
   "execution_count": null,
   "metadata": {
    "slideshow": {
     "slide_type": "fragment"
    }
   },
   "outputs": [],
   "source": [
    "from matplotlib.ticker import FuncFormatter\n",
    "\n",
    "session_durations_per_hour_of_day = qlog[['session_id', 'hour', 'timestamp']] \\\n",
    "    .groupby(['session_id', 'hour']) \\\n",
    "    .apply(lambda d: (d['timestamp'].max() - d['timestamp'].min()).total_seconds() / 3600) \\\n",
    "    .reset_index() \\\n",
    "    .rename({0: 'duration'}, axis=1) \\\n",
    "    .drop('session_id', axis=1) \\\n",
    "    .groupby('hour') \\\n",
    "    .mean()\n",
    "\n",
    "ax = session_durations_per_hour_of_day \\\n",
    "    .plot(kind='bar', legend=False)\n",
    "ax.yaxis.set_major_formatter(FuncFormatter(lambda hour, _: timedelta(seconds=int(hour * 3600))))\n",
    "plt.xticks(range(0, 24, 2), labels=['{0}h'.format(h) for h in range(0, 24, 2)], rotation=0)\n",
    "plt.xlabel(\"Hour of Day\")\n",
    "plt.ylabel(\"Avg. Duration (H:MM:SS)\")\n",
    "plt.show()"
   ]
  },
  {
   "cell_type": "markdown",
   "metadata": {
    "slideshow": {
     "slide_type": "slide"
    }
   },
   "source": [
    "### Per weekday cycles"
   ]
  },
  {
   "cell_type": "code",
   "execution_count": null,
   "metadata": {
    "slideshow": {
     "slide_type": "fragment"
    }
   },
   "outputs": [],
   "source": [
    "from matplotlib.ticker import FuncFormatter\n",
    "\n",
    "session_durations_per_weekday = qlog[['session_id', 'weekday', 'timestamp']] \\\n",
    "    .groupby(['session_id', 'weekday']) \\\n",
    "    .apply(lambda d: (d['timestamp'].max() - d['timestamp'].min()).total_seconds() / 3600) \\\n",
    "    .reset_index() \\\n",
    "    .rename({0: 'duration'}, axis=1) \\\n",
    "    .drop('session_id', axis=1) \\\n",
    "    .groupby('weekday') \\\n",
    "    .mean()\n",
    "\n",
    "ax = session_durations_per_weekday \\\n",
    "    .plot(kind='bar', legend=False)\n",
    "ax.yaxis.set_major_formatter(FuncFormatter(lambda hour, _: timedelta(seconds=int(hour * 3600))))\n",
    "plt.xticks(range(len(weekdays)), labels=weekdays, rotation=0)\n",
    "plt.xlabel(\"Weekday\")\n",
    "plt.ylabel(\"Avg. Duration (H:MM:SS)\")\n",
    "plt.show()"
   ]
  },
  {
   "cell_type": "markdown",
   "metadata": {
    "slideshow": {
     "slide_type": "slide"
    }
   },
   "source": [
    "### Per monthly cycles"
   ]
  },
  {
   "cell_type": "code",
   "execution_count": null,
   "metadata": {
    "slideshow": {
     "slide_type": "fragment"
    }
   },
   "outputs": [],
   "source": [
    "from matplotlib.ticker import FuncFormatter\n",
    "\n",
    "session_durations_per_month = qlog[['session_id', 'month', 'timestamp']] \\\n",
    "    .groupby(['session_id', 'month']) \\\n",
    "    .apply(lambda d: (d['timestamp'].max() - d['timestamp'].min()).total_seconds() / 3600) \\\n",
    "    .reset_index() \\\n",
    "    .rename({0: 'duration'}, axis=1) \\\n",
    "    .drop('session_id', axis=1) \\\n",
    "    .groupby('month') \\\n",
    "    .mean()\n",
    "\n",
    "ax = session_durations_per_month \\\n",
    "    .plot(kind='bar', legend=False)\n",
    "ax.yaxis.set_major_formatter(FuncFormatter(lambda hour, _: timedelta(seconds=int(hour * 3600))))\n",
    "plt.xticks(\n",
    "    range(queries_per_month.shape[0]),\n",
    "    labels=months[(min(queries_per_month.index)-1):max(queries_per_month.index)],\n",
    "    rotation=0)\n",
    "plt.xlabel('Month')\n",
    "plt.ylabel(\"Avg. Duration (H:MM:SS)\")\n",
    "plt.show()"
   ]
  },
  {
   "cell_type": "markdown",
   "metadata": {
    "slideshow": {
     "slide_type": "slide"
    }
   },
   "source": [
    "## Average clicked rank per session duration"
   ]
  },
  {
   "cell_type": "code",
   "execution_count": null,
   "metadata": {
    "slideshow": {
     "slide_type": "fragment"
    }
   },
   "outputs": [],
   "source": [
    "session_avg_rank = qlog[['session_id', 'click_rank']] \\\n",
    "    .fillna(0) \\\n",
    "    .groupby('session_id') \\\n",
    "    .mean() \\\n",
    "    .reset_index() \\\n",
    "    .drop('session_id', axis=1) \\\n",
    "    .rename({ 'click_rank': 'avg_rank' }, axis=1)\n",
    "\n",
    "d_max = int(np.ceil(session_avg_rank['avg_rank'].max()))\n",
    "bin_width = 1\n",
    "\n",
    "session_avg_rank \\\n",
    "    .plot(kind='hist', bins=range(0, d_max + bin_width, bin_width), logy=False, legend=False)\n",
    "plt.xlabel(\"Average Rank\")\n",
    "plt.ylabel(\"Number of Sessions\")\n",
    "plt.show()"
   ]
  },
  {
   "cell_type": "markdown",
   "metadata": {
    "slideshow": {
     "slide_type": "slide"
    }
   },
   "source": [
    "# Term-level analysis\n",
    "\n",
    "The term-level analysis is concerned with the characteristics of the words that form the queries. Our analysis includes:\n",
    "\n",
    "- Query length\n",
    "  - Number of characters\n",
    "  - Number of terms\n",
    "- Term distribution\n",
    "- Term popularity over time for top terms"
   ]
  },
  {
   "cell_type": "markdown",
   "metadata": {
    "slideshow": {
     "slide_type": "slide"
    }
   },
   "source": [
    "## Query length"
   ]
  },
  {
   "cell_type": "markdown",
   "metadata": {
    "slideshow": {
     "slide_type": "fragment"
    }
   },
   "source": [
    "### Number of characters"
   ]
  },
  {
   "cell_type": "code",
   "execution_count": null,
   "metadata": {
    "slideshow": {
     "slide_type": "fragment"
    }
   },
   "outputs": [],
   "source": [
    "qlog['length'] = qlog['query'].map(len); qlog[['query', 'length']]"
   ]
  },
  {
   "cell_type": "code",
   "execution_count": null,
   "metadata": {
    "slideshow": {
     "slide_type": "slide"
    }
   },
   "outputs": [],
   "source": [
    "qlog['length'].describe()"
   ]
  },
  {
   "cell_type": "code",
   "execution_count": null,
   "metadata": {
    "slideshow": {
     "slide_type": "slide"
    }
   },
   "outputs": [],
   "source": [
    "d_max = qlog['length'].max()\n",
    "bin_width = 5\n",
    "\n",
    "qlog['length'] \\\n",
    "    .plot(kind='hist', bins=range(0, d_max + bin_width, bin_width))\n",
    "plt.xlabel(\"Number of Characters\")\n",
    "plt.ylabel(\"Number of Queries\")\n",
    "plt.show()"
   ]
  },
  {
   "cell_type": "markdown",
   "metadata": {
    "slideshow": {
     "slide_type": "slide"
    }
   },
   "source": [
    "### Number of terms"
   ]
  },
  {
   "cell_type": "code",
   "execution_count": null,
   "metadata": {
    "slideshow": {
     "slide_type": "skip"
    }
   },
   "outputs": [],
   "source": [
    "qlog['terms'] = qlog['query'].map(lambda q: q.split()); qlog[['query', 'terms']]"
   ]
  },
  {
   "cell_type": "code",
   "execution_count": null,
   "metadata": {
    "slideshow": {
     "slide_type": "fragment"
    }
   },
   "outputs": [],
   "source": [
    "qlog['num_terms'] = qlog['terms'].map(len); qlog[['query', 'num_terms']]"
   ]
  },
  {
   "cell_type": "code",
   "execution_count": null,
   "metadata": {
    "slideshow": {
     "slide_type": "slide"
    }
   },
   "outputs": [],
   "source": [
    "qlog['num_terms'].describe()"
   ]
  },
  {
   "cell_type": "code",
   "execution_count": null,
   "metadata": {
    "slideshow": {
     "slide_type": "slide"
    }
   },
   "outputs": [],
   "source": [
    "d_max = qlog['num_terms'].max()\n",
    "bin_width = 1\n",
    "\n",
    "qlog['num_terms'] \\\n",
    "    .plot(kind='hist', bins=range(0, d_max + bin_width, bin_width))\n",
    "plt.xlabel(\"Number of Terms\")\n",
    "plt.ylabel(\"Number of Queries\")\n",
    "plt.show()"
   ]
  },
  {
   "cell_type": "markdown",
   "metadata": {
    "slideshow": {
     "slide_type": "slide"
    }
   },
   "source": [
    "## Term distribution"
   ]
  },
  {
   "cell_type": "code",
   "execution_count": null,
   "metadata": {
    "slideshow": {
     "slide_type": "fragment"
    }
   },
   "outputs": [],
   "source": [
    "expanded_terms = qlog[['date', 'terms']] \\\n",
    "    .set_index('date')['terms'] \\\n",
    "    .apply(pd.Series) \\\n",
    "    .stack()"
   ]
  },
  {
   "cell_type": "code",
   "execution_count": null,
   "metadata": {
    "slideshow": {
     "slide_type": "fragment"
    }
   },
   "outputs": [],
   "source": [
    "term_count = expanded_terms \\\n",
    "    .groupby('date') \\\n",
    "    .value_counts()\n",
    "\n",
    "d_max = term_count.max()\n",
    "bin_width = 1\n",
    "\n",
    "term_count \\\n",
    "    .plot(kind='hist', bins=range(0, d_max + bin_width, bin_width))\n",
    "plt.xlabel('Number of Terms')\n",
    "plt.ylabel('Number of Interactions')\n",
    "plt.show()"
   ]
  },
  {
   "cell_type": "markdown",
   "metadata": {
    "slideshow": {
     "slide_type": "slide"
    }
   },
   "source": [
    "## Term popularity over time for top 10 terms"
   ]
  },
  {
   "cell_type": "code",
   "execution_count": null,
   "metadata": {
    "slideshow": {
     "slide_type": "fragment"
    }
   },
   "outputs": [],
   "source": [
    "from sklearn.feature_extraction import stop_words\n",
    "\n",
    "vec = TfidfVectorizer()\n",
    "X = vec.fit_transform(qlog['query'])\n",
    "vocab = vec.get_feature_names()\n",
    "top_terms = pd.DataFrame(X.toarray(), columns=vocab) \\\n",
    "    .drop(stop_words.ENGLISH_STOP_WORDS.intersection(vocab), axis=1) \\\n",
    "    .mean() \\\n",
    "    .sort_values(ascending=False)\n",
    "\n",
    "top_terms[:5]"
   ]
  },
  {
   "cell_type": "code",
   "execution_count": null,
   "metadata": {
    "slideshow": {
     "slide_type": "slide"
    }
   },
   "outputs": [],
   "source": [
    "term_cout_over_time = pd.DataFrame(expanded_terms[expanded_terms.isin(top_terms[:5].index)], columns=['term']) \\\n",
    "    .reset_index() \\\n",
    "    .groupby(['date', 'term']) \\\n",
    "    .count() \\\n",
    "    .rename({'level_1': 'count'}, axis=1) \\\n",
    "    .unstack() \\\n",
    "    .fillna(0)\n",
    "\n",
    "term_cout_over_time.columns = term_cout_over_time.columns.droplevel()\n",
    "\n",
    "term_cout_over_time.loc[:, top_terms[:5].index] \\\n",
    "    .plot()\n",
    "plt.legend(title='Term')\n",
    "plt.show()"
   ]
  },
  {
   "cell_type": "markdown",
   "metadata": {
    "slideshow": {
     "slide_type": "slide"
    }
   },
   "source": [
    "# Entity-level analysis\n",
    "\n",
    "Our analysis of entities includes:\n",
    "\n",
    "- Entity distribution per class\n",
    "- Entity distribution over time for top entities\n",
    "\n",
    "It also includes higher order analyses, further described in each of the following sections:\n",
    "\n",
    "- Entity-query-level analysis\n",
    "- Entity-topic-level analysis\n",
    "- Entity-session-level analysis\n",
    "- Entity-term-level analysis\n",
    "- Entity-entity level analysis"
   ]
  },
  {
   "cell_type": "markdown",
   "metadata": {
    "slideshow": {
     "slide_type": "slide"
    }
   },
   "source": [
    "## Detecting entities\n",
    "\n",
    "We identified entities taking advantage of the `AhoCorasickEntityExtractor` class available in [Army ANT](https://github.com/feup-infolab/army-ant). We copied [aho_corasick_entity_extractor.py](../../edit/query_log_analysis/aho_corasick_entity_extractor.py) to the notebook workspace and edited it to be usable as a standalone dependency. We then used the English DBpedia `rdfs:label` for entities with the class `dbo:Person`, `dbo:Organisation` and `dbp:Place` as the dictionary."
   ]
  },
  {
   "cell_type": "code",
   "execution_count": null,
   "metadata": {
    "slideshow": {
     "slide_type": "fragment"
    }
   },
   "outputs": [],
   "source": [
    "from aho_corasick_entity_extractor import AhoCorasickEntityExtractor\n",
    "\n",
    "lists_per_lang = {\n",
    "    'en': {\n",
    "        'person': 'data/pt_dbpedia_person.txt',\n",
    "        'organization': 'data/pt_dbpedia_organization.txt',\n",
    "        'place': 'data/pt_dbpedia_place.txt'\n",
    "    },\n",
    "    'pt': {\n",
    "        'person': 'data/en_dbpedia_person.txt',\n",
    "        'organization': 'data/en_dbpedia_organization.txt',\n",
    "        'place': 'data/en_dbpedia_place.txt'\n",
    "    }\n",
    "}\n",
    "\n",
    "ac = {\n",
    "    'person': AhoCorasickEntityExtractor(list_path=lists_per_lang[lang]['person']),\n",
    "    'organization': AhoCorasickEntityExtractor(list_path=lists_per_lang[lang]['organization']),\n",
    "    'place': AhoCorasickEntityExtractor(list_path=lists_per_lang[lang]['place'])\n",
    "}"
   ]
  },
  {
   "cell_type": "code",
   "execution_count": null,
   "metadata": {
    "slideshow": {
     "slide_type": "slide"
    }
   },
   "outputs": [],
   "source": [
    "from collections import OrderedDict\n",
    "from functools import reduce\n",
    "\n",
    "for d_class in ac.keys():\n",
    "    qlog[d_class] = None\n",
    "\n",
    "    for i in range(len(qlog)):\n",
    "        query = qlog.loc[i, 'query']\n",
    "        entities = ac[d_class].extract(query)\n",
    "        \n",
    "        for entity in entities:\n",
    "            if qlog.loc[i, d_class] is None:\n",
    "                qlog.at[i, d_class] = [entity]\n",
    "            else:\n",
    "                qlog.at[i, d_class].append(entity)\n",
    "\n",
    "qlog"
   ]
  },
  {
   "cell_type": "code",
   "execution_count": null,
   "metadata": {
    "slideshow": {
     "slide_type": "skip"
    }
   },
   "outputs": [],
   "source": [
    "import itertools\n",
    "\n",
    "qlog_entities = pd.DataFrame(columns=['entity', 'class', 'count'])\n",
    "\n",
    "for d_class in ac.keys():\n",
    "    entity_count = pd.DataFrame({\n",
    "            'entity': list(itertools.chain(*filter(lambda d: d is not None, qlog[d_class]))),\n",
    "            'class': d_class\n",
    "        }) \\\n",
    "        .groupby(['entity', 'class']) \\\n",
    "        .size() \\\n",
    "        .reset_index() \\\n",
    "        .rename({0: 'count'}, axis='columns')\n",
    "    \n",
    "    qlog_entities = qlog_entities.append(entity_count)"
   ]
  },
  {
   "cell_type": "code",
   "execution_count": null,
   "metadata": {
    "slideshow": {
     "slide_type": "slide"
    }
   },
   "outputs": [],
   "source": [
    "plt.rc('figure', figsize=[6, 10])\n",
    "\n",
    "qlog_entities[['entity', 'count']] \\\n",
    "    .groupby('entity') \\\n",
    "    .sum() \\\n",
    "    .reset_index() \\\n",
    "    .sort_values(by='count', ascending=False) \\\n",
    "    .head(30) \\\n",
    "    .plot(kind='barh', x='entity', y='count', legend=False)\n",
    "\n",
    "plt.xlabel('Frequency')\n",
    "plt.ylabel('Entity')\n",
    "plt.gca().invert_yaxis()\n",
    "plt.show()\n",
    "\n",
    "plt.rc('figure', figsize=DEFAULT_FIGSIZE)"
   ]
  },
  {
   "cell_type": "code",
   "execution_count": null,
   "metadata": {
    "slideshow": {
     "slide_type": "slide"
    }
   },
   "outputs": [],
   "source": [
    "def plot_entities_by_class(qlog_entities, d_class):\n",
    "    plt.rc('figure', figsize=[6, 10])\n",
    "\n",
    "    qlog_entities[qlog_entities['class'] == d_class] \\\n",
    "        .sort_values(by='count', ascending=False) \\\n",
    "        .head(30) \\\n",
    "        .plot(kind='barh', x='entity', y='count', legend=False)\n",
    "\n",
    "    plt.xlabel('Frequency')\n",
    "    plt.ylabel(d_class.title())\n",
    "    plt.gca().invert_yaxis()\n",
    "    plt.show()\n",
    "\n",
    "    plt.rc('figure', figsize=DEFAULT_FIGSIZE)"
   ]
  },
  {
   "cell_type": "code",
   "execution_count": null,
   "metadata": {
    "slideshow": {
     "slide_type": "slide"
    }
   },
   "outputs": [],
   "source": [
    "plot_entities_by_class(qlog_entities, 'person')"
   ]
  },
  {
   "cell_type": "code",
   "execution_count": null,
   "metadata": {
    "slideshow": {
     "slide_type": "slide"
    }
   },
   "outputs": [],
   "source": [
    "plot_entities_by_class(qlog_entities, 'organization')"
   ]
  },
  {
   "cell_type": "code",
   "execution_count": null,
   "metadata": {
    "slideshow": {
     "slide_type": "slide"
    }
   },
   "outputs": [],
   "source": [
    "plot_entities_by_class(qlog_entities, 'place')"
   ]
  },
  {
   "cell_type": "markdown",
   "metadata": {},
   "source": [
    "In the following sections, we expand the entity-level analysis by combining them with additional levels. In particular, we build local entity graphs from mentioned entities in a query, in queries with the same topic, or in a session to gain further insights into user search behavior."
   ]
  },
  {
   "cell_type": "markdown",
   "metadata": {
    "slideshow": {
     "slide_type": "slide"
    }
   },
   "source": [
    "## Building and characterizing entity graph from Simple Wikipedia"
   ]
  },
  {
   "cell_type": "markdown",
   "metadata": {
    "slideshow": {
     "slide_type": "fragment"
    }
   },
   "source": [
    "We use the [Simple English Wikipedia Link Graph with Clickstream Transitions 2018-12](https://rdm.inesctec.pt/dataset/cs-2018-004) to analyze the data from DBpedia. On one side, this graph only contains a low number of entities from Wikipedia. On the other side, it's easier to load and process in memory, conveniently supporting this analysis, that can later on be scaled up to a larger Wikipedia link graph."
   ]
  },
  {
   "cell_type": "code",
   "execution_count": null,
   "metadata": {
    "slideshow": {
     "slide_type": "fragment"
    }
   },
   "outputs": [],
   "source": [
    "g = igraph.read('data/simplewiki_link_graph-201812.gml', format='gml')\n",
    "g.vs['label'] = [label.lower() for label in g.vs['label']]"
   ]
  },
  {
   "cell_type": "code",
   "execution_count": null,
   "metadata": {
    "slideshow": {
     "slide_type": "slide"
    }
   },
   "outputs": [],
   "source": [
    "g.vs['in'] = g.indegree()\n",
    "g.vs['in'] = g.vs['in'] / np.sum(g.vs['in']) # indegree centrality (i.e., normalized)\n",
    "g.vs['pr'] = g.pagerank()"
   ]
  },
  {
   "cell_type": "code",
   "execution_count": null,
   "metadata": {
    "slideshow": {
     "slide_type": "subslide"
    }
   },
   "outputs": [],
   "source": [
    "@memory.cache\n",
    "def compute_stats(graph=None, include_distance_based=False):\n",
    "    if graph is None:\n",
    "        graph = g\n",
    "    \n",
    "    components = graph.components()\n",
    "    \n",
    "    stats = {\n",
    "        'vertices': graph.vcount(),\n",
    "        'edges': graph.ecount(),\n",
    "        'avg_clust_coef': graph.transitivity_undirected(),\n",
    "        'density': graph.density(),\n",
    "        'num_cc': len(components),\n",
    "        'avg_cc_size': np.mean(components.sizes()),\n",
    "        'stdev_cc_size': np.std(components.sizes())\n",
    "    }\n",
    "    \n",
    "    if include_distance_based:\n",
    "        stats['diameter'] = graph.diameter()\n",
    "        stats['avg_path_len'] = graph.average_path_length()\n",
    "    \n",
    "    return pd.Series(stats)\n",
    "\n",
    "g_stats = compute_stats(); g_stats.round(2)"
   ]
  },
  {
   "cell_type": "markdown",
   "metadata": {
    "slideshow": {
     "slide_type": "skip"
    }
   },
   "source": [
    "## Building and visualizing entity subgraphs induced by a set of entities\n",
    "\n",
    "We extract the induced entity subgraph for a set of entities, including all edges between the respective entity nodes. We also annotate and color source entity nodes, as well as shortest path edges (indiscriminately for any shortest path edges)."
   ]
  },
  {
   "cell_type": "code",
   "execution_count": null,
   "metadata": {
    "slideshow": {
     "slide_type": "skip"
    }
   },
   "outputs": [],
   "source": [
    "def entity_subgraph(entities, sample=None, ignore_warn=False):\n",
    "    if sample is not None:\n",
    "        entities = np.random.choice(list(entities), size=np.min([len(entities), sample]), replace=False)\n",
    "\n",
    "    v_entities = g.vs.select(label_in=entities)\n",
    "    \n",
    "    s_paths = []\n",
    "    for v_entity in v_entities:\n",
    "        s_paths.extend(g.get_shortest_paths(v_entity, to=v_entities))\n",
    "\n",
    "    sg = g.induced_subgraph([v for s_path in s_paths for v in s_path])\n",
    "    \n",
    "    sg.vs['is_source'] = False\n",
    "    sg.vs['color'] = '#85c1e9'\n",
    "    sg.es['arrow_size'] = 0.5\n",
    "\n",
    "    sources = sg.vs.select(label_in=v_entities['label'])\n",
    "    sources['is_source'] = True\n",
    "    sources['color'] = '#f7dc6f'\n",
    "    \n",
    "    sp_edges = []\n",
    "    for s_path in s_paths:\n",
    "        if len(s_path) < 2:\n",
    "            continue\n",
    "\n",
    "        for s_idx, t_idx in zip(range(len(s_path)-1), range(1, len(s_path))):\n",
    "            source = sg.vs.find(label=g.vs[s_path[s_idx]]['label'])\n",
    "            target = sg.vs.find(label=g.vs[s_path[t_idx]]['label'])\n",
    "\n",
    "            try:\n",
    "                sp_edge = sg.es.find(_source=source.index, _target=target.index)\n",
    "                sp_edge['arrow_size'] = 0.75\n",
    "                sp_edge['width'] = 1.5\n",
    "                sp_edge['color'] = '#f7dc6f'\n",
    "                sp_edges.append(sp_edge)\n",
    "            except:\n",
    "                if not ignore_warn:\n",
    "                    warnings.warn(\"Edge linking %s and %s not found\" % (source['label'], target['label']))\n",
    "\n",
    "    return sg"
   ]
  },
  {
   "cell_type": "code",
   "execution_count": null,
   "metadata": {
    "slideshow": {
     "slide_type": "skip"
    }
   },
   "outputs": [],
   "source": [
    "def plot_subgraph(sg, large=False):\n",
    "    if large:\n",
    "        bbox = (640, 480)\n",
    "        margin = (50, 100, 50, 100)\n",
    "    else:\n",
    "        bbox = (320, 240)\n",
    "        margin = (25, 50, 25, 50)\n",
    "\n",
    "    return igraph.plot(sg, bbox=bbox, margin=margin, vertex_size=10, vertex_label_size=10, vertex_label_dist=1.5)"
   ]
  },
  {
   "cell_type": "markdown",
   "metadata": {
    "slideshow": {
     "slide_type": "slide"
    }
   },
   "source": [
    "## Entity-query-level analysis\n",
    "\n",
    "- Distribution of entities per query\n",
    "- Distribution of global entity importance (PageRank) per query\n",
    "- Distribution of local entity importance (PageRank) per query\n",
    "- Distribution of queries per entity"
   ]
  },
  {
   "cell_type": "markdown",
   "metadata": {
    "slideshow": {
     "slide_type": "slide"
    }
   },
   "source": [
    "### Distribution of entities per query"
   ]
  },
  {
   "cell_type": "code",
   "execution_count": null,
   "metadata": {
    "slideshow": {
     "slide_type": "skip"
    }
   },
   "outputs": [],
   "source": [
    "entities = qlog[['person', 'organization', 'place']].values.tolist()  # select all entity lists\n",
    "entities = [[x if x else [] for x in d] for d in entities]            # replace None by empty list\n",
    "entities = [[x for sl2 in sl for x in sl2 if sl2] for sl in entities] # flatten row lists\n",
    "\n",
    "qlog['entities'] = None\n",
    "for i, e in enumerate(entities):\n",
    "    qlog.at[i, 'entities'] = e if len(e) > 0 else None"
   ]
  },
  {
   "cell_type": "code",
   "execution_count": null,
   "metadata": {
    "slideshow": {
     "slide_type": "fragment"
    }
   },
   "outputs": [],
   "source": [
    "entities_per_query = qlog[['query', 'entities']] \\\n",
    "    .groupby('query') \\\n",
    "    .apply(lambda df: len(set(flatten(df['entities'])))) \\\n",
    "    .sort_values(ascending=False)\n",
    "\n",
    "bin_width = 1\n",
    "\n",
    "entities_per_query \\\n",
    "    .plot(kind='hist', bins=range(0, entities_per_query.max() + bin_width, bin_width))\n",
    "plt.xlabel(\"Number of Entities\")\n",
    "plt.ylabel(\"Number of Queries\")\n",
    "plt.show()"
   ]
  },
  {
   "cell_type": "markdown",
   "metadata": {
    "slideshow": {
     "slide_type": "skip"
    }
   },
   "source": [
    "### Preparing entity subgraphs per query"
   ]
  },
  {
   "cell_type": "code",
   "execution_count": null,
   "metadata": {
    "slideshow": {
     "slide_type": "skip"
    }
   },
   "outputs": [],
   "source": [
    "def entities_from_query(query):\n",
    "    return set(flatten(\n",
    "        qlog[qlog['query'] == query] \\\n",
    "            ['entities'].values.tolist()))\n",
    "\n",
    "entities_from_query('aberdeen police department in maryland')"
   ]
  },
  {
   "cell_type": "code",
   "execution_count": null,
   "metadata": {
    "slideshow": {
     "slide_type": "skip"
    }
   },
   "outputs": [],
   "source": [
    "@memory.cache\n",
    "def get_entity_subgraphs_by_query(queries):\n",
    "    eg = {}\n",
    "    for query in progressbar.progressbar(queries):\n",
    "        entities = entities_from_query(query)\n",
    "        if entities:\n",
    "            eg[query] = entity_subgraph(entities, ignore_warn=True)\n",
    "            eg[query].vs['lpr'] = eg[query].pagerank()    \n",
    "    return eg\n",
    "\n",
    "eg = get_entity_subgraphs_by_query(qlog['query'].unique())"
   ]
  },
  {
   "cell_type": "markdown",
   "metadata": {
    "slideshow": {
     "slide_type": "slide"
    }
   },
   "source": [
    "### Visualizing entity subgraphs for queries"
   ]
  },
  {
   "cell_type": "code",
   "execution_count": null,
   "metadata": {
    "slideshow": {
     "slide_type": "fragment"
    }
   },
   "outputs": [],
   "source": [
    "plot_subgraph(eg['aberdeen police department in maryland'])"
   ]
  },
  {
   "cell_type": "markdown",
   "metadata": {
    "slideshow": {
     "slide_type": "slide"
    }
   },
   "source": [
    "### Distribution of global entity importance (PageRank) per query"
   ]
  },
  {
   "cell_type": "code",
   "execution_count": null,
   "metadata": {
    "slideshow": {
     "slide_type": "skip"
    }
   },
   "outputs": [],
   "source": [
    "all_queries_pr = pd.concat(\n",
    "    pd.DataFrame({ 'query': query, 'pr': eg[query].vs['pr'], 'lpr': eg[query].vs['lpr'] })\n",
    "    for query in eg.keys())\n",
    "\n",
    "all_queries_pr = all_queries_pr \\\n",
    "    .groupby('query') \\\n",
    "    .mean()\n",
    "\n",
    "all_queries_pr"
   ]
  },
  {
   "cell_type": "code",
   "execution_count": null,
   "metadata": {
    "slideshow": {
     "slide_type": "fragment"
    }
   },
   "outputs": [],
   "source": [
    "d_max = all_queries_pr['pr'].max()\n",
    "bin_width = 0.00005\n",
    "\n",
    "all_queries_pr['pr'] \\\n",
    "    .plot(kind='hist', bins=np.arange(0, d_max + bin_width, bin_width))\n",
    "plt.xlabel('Global PageRank')\n",
    "plt.ylabel('Number of Queries')\n",
    "plt.show()"
   ]
  },
  {
   "cell_type": "markdown",
   "metadata": {
    "slideshow": {
     "slide_type": "slide"
    }
   },
   "source": [
    "### Distribution of local entity importance (PageRank) per query"
   ]
  },
  {
   "cell_type": "code",
   "execution_count": null,
   "metadata": {
    "slideshow": {
     "slide_type": "fragment"
    }
   },
   "outputs": [],
   "source": [
    "d_max = all_queries_pr['lpr'].max()\n",
    "bin_width = 0.1\n",
    "\n",
    "all_queries_pr['lpr'] \\\n",
    "    .plot(kind='hist', bins=np.arange(0, d_max + bin_width, bin_width))\n",
    "plt.xlabel('Local PageRank')\n",
    "plt.ylabel('Number of Queries')\n",
    "plt.show()"
   ]
  },
  {
   "cell_type": "markdown",
   "metadata": {
    "slideshow": {
     "slide_type": "slide"
    }
   },
   "source": [
    "### Distribution of queries per entity (top 25)"
   ]
  },
  {
   "cell_type": "code",
   "execution_count": null,
   "metadata": {
    "slideshow": {
     "slide_type": "skip"
    }
   },
   "outputs": [],
   "source": [
    "queries_per_entity = qlog[['query', 'entities']] \\\n",
    "    .groupby('query') \\\n",
    "    .first() \\\n",
    "    .reset_index()\n",
    "\n",
    "null_idx = queries_per_entity.index[queries_per_entity['entities'].isnull()]\n",
    "\n",
    "for idx in null_idx:\n",
    "    queries_per_entity['entities'].at[idx] = []\n",
    "\n",
    "queries_per_entity = pd.DataFrame([\n",
    "    (row.query, entity) for row in queries_per_entity.itertuples() for entity in row.entities],\n",
    "    columns=['query', 'entity'])\n",
    "\n",
    "queries_per_entity = queries_per_entity[['entity', 'query']] \\\n",
    "    .groupby('entity') \\\n",
    "    .count() \\\n",
    "    .sort_values(ascending=False, by='query') \\\n",
    "    .head(25)\n",
    "\n",
    "queries_per_entity"
   ]
  },
  {
   "cell_type": "code",
   "execution_count": null,
   "metadata": {
    "slideshow": {
     "slide_type": "fragment"
    }
   },
   "outputs": [],
   "source": [
    "plt.rc('figure', figsize=[6, 10])\n",
    "\n",
    "queries_per_entity['query'] \\\n",
    "    .plot(kind='barh')\n",
    "plt.xlabel('Number of Queries')\n",
    "plt.ylabel('Top 25 Entities')\n",
    "plt.gca().invert_yaxis()\n",
    "plt.show()\n",
    "\n",
    "plt.rc('figure', figsize=DEFAULT_FIGSIZE)"
   ]
  },
  {
   "cell_type": "markdown",
   "metadata": {
    "slideshow": {
     "slide_type": "slide"
    }
   },
   "source": [
    "## Entity-topic-level analysis\n",
    "\n",
    "- Distribution of entities per category\n",
    "- Distribution of entity importance (PageRank) per category\n",
    "- Distribution of categories per entity\n",
    "\n",
    "\n",
    "- Distribution of entities per topic\n",
    "- Distribution of distinct entities per topic\n",
    "- Distribution of entity importance (PageRank) per topic\n",
    "- Distribution of topics per entity"
   ]
  },
  {
   "cell_type": "markdown",
   "metadata": {
    "slideshow": {
     "slide_type": "slide"
    }
   },
   "source": [
    "### Categories"
   ]
  },
  {
   "cell_type": "markdown",
   "metadata": {
    "slideshow": {
     "slide_type": "fragment"
    }
   },
   "source": [
    "#### Distribution of entities per category"
   ]
  },
  {
   "cell_type": "code",
   "execution_count": null,
   "metadata": {
    "slideshow": {
     "slide_type": "fragment"
    }
   },
   "outputs": [],
   "source": [
    "entities_per_category = qlog[['category', 'entities']] \\\n",
    "    .groupby('category') \\\n",
    "    .apply(lambda df: len(set(flatten(df['entities'])))) \\\n",
    "    .sort_values(ascending=False)\n",
    "\n",
    "bin_width = 10\n",
    "\n",
    "entities_per_category \\\n",
    "    .plot(kind='hist', bins=range(0, entities_per_category.max() + bin_width, bin_width))\n",
    "plt.xlabel(\"Number of Entities\")\n",
    "plt.ylabel(\"Number of Categories\")\n",
    "plt.show()"
   ]
  },
  {
   "cell_type": "markdown",
   "metadata": {
    "slideshow": {
     "slide_type": "skip"
    }
   },
   "source": [
    "#### Preparing entity subgraphs per category"
   ]
  },
  {
   "cell_type": "code",
   "execution_count": null,
   "metadata": {
    "scrolled": true,
    "slideshow": {
     "slide_type": "skip"
    }
   },
   "outputs": [],
   "source": [
    "def entities_from_category(category):\n",
    "    return set(flatten(\n",
    "        qlog[qlog['category'] == category] \\\n",
    "            ['entities'].values.tolist()))\n",
    "\n",
    "entities_from_category('business')"
   ]
  },
  {
   "cell_type": "code",
   "execution_count": null,
   "metadata": {
    "slideshow": {
     "slide_type": "skip"
    }
   },
   "outputs": [],
   "source": [
    "@memory.cache\n",
    "def get_entity_subgraphs_by_category(categories, sample=None):\n",
    "    eg = {}\n",
    "    for category in progressbar.progressbar(categories):\n",
    "        entities = entities_from_category(category)\n",
    "        if entities:\n",
    "            eg[category] = entity_subgraph(entities, sample=sample, ignore_warn=True)\n",
    "            eg[category].vs['lpr'] = eg[category].pagerank()    \n",
    "    return eg\n",
    "\n",
    "eg = get_entity_subgraphs_by_category(qlog['category'].unique(), sample=100)"
   ]
  },
  {
   "cell_type": "markdown",
   "metadata": {
    "slideshow": {
     "slide_type": "slide"
    }
   },
   "source": [
    "#### Distribution of global entity importance (PageRank) per category"
   ]
  },
  {
   "cell_type": "code",
   "execution_count": null,
   "metadata": {
    "slideshow": {
     "slide_type": "skip"
    }
   },
   "outputs": [],
   "source": [
    "all_categories_pr = pd.concat(\n",
    "    pd.DataFrame({ 'category': category, 'pr': eg[category].vs['pr'], 'lpr': eg[category].vs['lpr'] })\n",
    "    for category in eg.keys())\n",
    "\n",
    "all_categories_pr"
   ]
  },
  {
   "cell_type": "code",
   "execution_count": null,
   "metadata": {
    "slideshow": {
     "slide_type": "fragment"
    }
   },
   "outputs": [],
   "source": [
    "all_categories_pr[['category', 'pr']] \\\n",
    "    .boxplot(by='category', showfliers=False)\n",
    "plt.title(\"\")\n",
    "plt.suptitle(\"\")\n",
    "plt.xlabel(\"Category\")\n",
    "plt.ylabel(\"Global PageRank\")\n",
    "plt.show()"
   ]
  },
  {
   "cell_type": "markdown",
   "metadata": {
    "slideshow": {
     "slide_type": "slide"
    }
   },
   "source": [
    "#### Distribution of local entity importance (PageRank) per category"
   ]
  },
  {
   "cell_type": "code",
   "execution_count": null,
   "metadata": {
    "slideshow": {
     "slide_type": "fragment"
    }
   },
   "outputs": [],
   "source": [
    "all_categories_pr[['category', 'lpr']] \\\n",
    "    .boxplot(by='category', showfliers=False)\n",
    "plt.title(\"\")\n",
    "plt.suptitle(\"\")\n",
    "plt.xlabel(\"Category\")\n",
    "plt.ylabel(\"Local PageRank\")\n",
    "plt.show()"
   ]
  },
  {
   "cell_type": "markdown",
   "metadata": {
    "slideshow": {
     "slide_type": "slide"
    }
   },
   "source": [
    "#### Distribution of categories per entity (top 25)"
   ]
  },
  {
   "cell_type": "code",
   "execution_count": null,
   "metadata": {
    "slideshow": {
     "slide_type": "skip"
    }
   },
   "outputs": [],
   "source": [
    "categories_per_entity = qlog[['category', 'entities']]\n",
    "\n",
    "null_idx = categories_per_entity.index[categories_per_entity['entities'].isnull()]\n",
    "\n",
    "for idx in null_idx:\n",
    "    categories_per_entity['entities'].at[idx] = []\n",
    "\n",
    "categories_per_entity = pd.DataFrame([\n",
    "    (row.category, entity) for row in categories_per_entity.itertuples() for entity in row.entities],\n",
    "    columns=['category', 'entity'])\n",
    "\n",
    "categories_per_entity = categories_per_entity[['entity', 'category']] \\\n",
    "    .groupby('entity') \\\n",
    "    .nunique()[['category']] \\\n",
    "    .sort_values(ascending=False, by=\"category\") \\\n",
    "    .head(25)\n",
    "\n",
    "categories_per_entity"
   ]
  },
  {
   "cell_type": "code",
   "execution_count": null,
   "metadata": {
    "slideshow": {
     "slide_type": "fragment"
    }
   },
   "outputs": [],
   "source": [
    "plt.rc('figure', figsize=[6, 10])\n",
    "\n",
    "categories_per_entity['category'] \\\n",
    "    .plot(kind='barh')\n",
    "plt.xlabel('Number of Categories')\n",
    "plt.ylabel('Top 25 Entities')\n",
    "plt.gca().invert_yaxis()\n",
    "plt.show()\n",
    "\n",
    "plt.rc('figure', figsize=DEFAULT_FIGSIZE)"
   ]
  },
  {
   "cell_type": "markdown",
   "metadata": {
    "slideshow": {
     "slide_type": "slide"
    }
   },
   "source": [
    "### Topics"
   ]
  },
  {
   "cell_type": "markdown",
   "metadata": {
    "slideshow": {
     "slide_type": "fragment"
    }
   },
   "source": [
    "#### Distribution of entities per topic"
   ]
  },
  {
   "cell_type": "code",
   "execution_count": null,
   "metadata": {
    "slideshow": {
     "slide_type": "fragment"
    }
   },
   "outputs": [],
   "source": [
    "entities_per_topic = qlog[['topic', 'entities']] \\\n",
    "    .groupby('topic') \\\n",
    "    .apply(lambda df: len(list(flatten(df['entities'])))) \\\n",
    "    .sort_values(ascending=False)\n",
    "\n",
    "bin_width = 50\n",
    "\n",
    "entities_per_topic \\\n",
    "    .plot(kind='hist', bins=range(0, entities_per_topic.max() + bin_width, bin_width))\n",
    "plt.xlabel(\"Number of Entities\")\n",
    "plt.ylabel(\"Number of Topics\")\n",
    "plt.show()"
   ]
  },
  {
   "cell_type": "markdown",
   "metadata": {
    "slideshow": {
     "slide_type": "slide"
    }
   },
   "source": [
    "#### Distribution of distinct entities per topic"
   ]
  },
  {
   "cell_type": "code",
   "execution_count": null,
   "metadata": {
    "slideshow": {
     "slide_type": "fragment"
    }
   },
   "outputs": [],
   "source": [
    "entities_per_topic = qlog[['topic', 'entities']] \\\n",
    "    .groupby('topic') \\\n",
    "    .apply(lambda df: len(set(flatten(df['entities'])))) \\\n",
    "    .sort_values(ascending=False)\n",
    "\n",
    "bin_width = 10\n",
    "\n",
    "entities_per_topic \\\n",
    "    .plot(kind='hist', bins=range(0, entities_per_topic.max() + bin_width, bin_width))\n",
    "plt.xlabel(\"Number of Entities\")\n",
    "plt.ylabel(\"Number of Topics\")\n",
    "plt.show()"
   ]
  },
  {
   "cell_type": "markdown",
   "metadata": {
    "slideshow": {
     "slide_type": "skip"
    }
   },
   "source": [
    "#### Preparing entity subgraphs per topic"
   ]
  },
  {
   "cell_type": "code",
   "execution_count": null,
   "metadata": {
    "slideshow": {
     "slide_type": "skip"
    }
   },
   "outputs": [],
   "source": [
    "def entities_from_topic(topic):\n",
    "    return set(flatten(\n",
    "        qlog[qlog['topic'] == topic] \\\n",
    "            ['entities'].values.tolist()))\n",
    "\n",
    "entities_from_topic('st louis dustin passions page')"
   ]
  },
  {
   "cell_type": "code",
   "execution_count": null,
   "metadata": {
    "slideshow": {
     "slide_type": "skip"
    }
   },
   "outputs": [],
   "source": [
    "@memory.cache\n",
    "def get_entity_subgraphs_by_topic(topics):\n",
    "    eg = {}\n",
    "    for topic in progressbar.progressbar(topics):\n",
    "        entities = entities_from_topic(topic)\n",
    "        if entities:\n",
    "            eg[topic] = entity_subgraph(entities, ignore_warn=True)\n",
    "            eg[topic].vs['lpr'] = eg[topic].pagerank()    \n",
    "    return eg\n",
    "\n",
    "eg = get_entity_subgraphs_by_topic(qlog['topic'].unique())"
   ]
  },
  {
   "cell_type": "markdown",
   "metadata": {
    "slideshow": {
     "slide_type": "slide"
    }
   },
   "source": [
    "#### Visualizing entity subgraphs for topics"
   ]
  },
  {
   "cell_type": "code",
   "execution_count": null,
   "metadata": {
    "slideshow": {
     "slide_type": "fragment"
    }
   },
   "outputs": [],
   "source": [
    "plot_subgraph(eg['carolina south bee geography search'], large=True)"
   ]
  },
  {
   "cell_type": "markdown",
   "metadata": {
    "slideshow": {
     "slide_type": "slide"
    }
   },
   "source": [
    "#### Distribution of global entity importance (PageRank) per topic"
   ]
  },
  {
   "cell_type": "code",
   "execution_count": null,
   "metadata": {
    "slideshow": {
     "slide_type": "skip"
    }
   },
   "outputs": [],
   "source": [
    "all_topics_pr = pd.concat(\n",
    "    pd.DataFrame({ 'topic': topic, 'pr': eg[topic].vs['pr'], 'lpr': eg[topic].vs['lpr'] })\n",
    "    for topic in eg.keys())\n",
    "\n",
    "all_topics_pr"
   ]
  },
  {
   "cell_type": "code",
   "execution_count": null,
   "metadata": {
    "slideshow": {
     "slide_type": "fragment"
    }
   },
   "outputs": [],
   "source": [
    "plt.rc('figure', figsize=[8, 10])\n",
    "\n",
    "all_topics_pr[['topic', 'pr']] \\\n",
    "    .boxplot(by='topic', showfliers=False, vert=False)\n",
    "plt.title(\"\")\n",
    "plt.suptitle(\"\")\n",
    "plt.xlabel(\"Global PageRank\")\n",
    "plt.ylabel(\"Topic\")\n",
    "plt.show()\n",
    "\n",
    "plt.rc('figure', figsize=DEFAULT_FIGSIZE)"
   ]
  },
  {
   "cell_type": "markdown",
   "metadata": {
    "slideshow": {
     "slide_type": "slide"
    }
   },
   "source": [
    "#### Distribution of local entity importance (PageRank) per topic"
   ]
  },
  {
   "cell_type": "code",
   "execution_count": null,
   "metadata": {
    "slideshow": {
     "slide_type": "fragment"
    }
   },
   "outputs": [],
   "source": [
    "plt.rc('figure', figsize=[8, 10])\n",
    "\n",
    "all_topics_pr[['topic', 'lpr']] \\\n",
    "    .boxplot(by='topic', showfliers=False, vert=False)\n",
    "plt.title(\"\")\n",
    "plt.suptitle(\"\")\n",
    "plt.xlabel(\"Local PageRank\")\n",
    "plt.ylabel(\"Topic\")\n",
    "plt.show()\n",
    "\n",
    "plt.rc('figure', figsize=DEFAULT_FIGSIZE)"
   ]
  },
  {
   "cell_type": "markdown",
   "metadata": {
    "slideshow": {
     "slide_type": "slide"
    }
   },
   "source": [
    "#### Distribution of topics per entity (top 25)"
   ]
  },
  {
   "cell_type": "code",
   "execution_count": null,
   "metadata": {
    "slideshow": {
     "slide_type": "skip"
    }
   },
   "outputs": [],
   "source": [
    "topics_per_entity = qlog[['topic', 'entities']]\n",
    "\n",
    "null_idx = topics_per_entity.index[topics_per_entity['entities'].isnull()]\n",
    "\n",
    "for idx in null_idx:\n",
    "    topics_per_entity['entities'].at[idx] = []\n",
    "\n",
    "topics_per_entity = pd.DataFrame([\n",
    "    (row.topic, entity) for row in topics_per_entity.itertuples() for entity in row.entities],\n",
    "    columns=['topic', 'entity'])\n",
    "\n",
    "topics_per_entity = topics_per_entity[['entity', 'topic']] \\\n",
    "    .groupby('entity') \\\n",
    "    .nunique()[['topic']] \\\n",
    "    .sort_values(ascending=False, by=\"topic\") \\\n",
    "    .head(25)\n",
    "\n",
    "topics_per_entity"
   ]
  },
  {
   "cell_type": "code",
   "execution_count": null,
   "metadata": {
    "slideshow": {
     "slide_type": "fragment"
    }
   },
   "outputs": [],
   "source": [
    "plt.rc('figure', figsize=[6, 10])\n",
    "\n",
    "topics_per_entity['topic'] \\\n",
    "    .plot(kind='barh')\n",
    "plt.xlabel('Number of Topics')\n",
    "plt.ylabel('Top 25 Entities')\n",
    "plt.gca().invert_yaxis()\n",
    "plt.show()\n",
    "\n",
    "plt.rc('figure', figsize=DEFAULT_FIGSIZE)"
   ]
  },
  {
   "cell_type": "markdown",
   "metadata": {
    "slideshow": {
     "slide_type": "slide"
    }
   },
   "source": [
    "## Entity-session-level analysis\n",
    "\n",
    "- Distribution of entities per session\n",
    "- Distribution of distinct entities per session\n",
    "- Entity graphs for the top sessions with more entities:\n",
    "  - Average distance between query entities\n",
    "  - Global entity importance (PageRank)\n",
    "  - Local entity importance (PageRank)\n",
    "  - Global vs local PageRank\n",
    "- Distribution of global entity importance (PageRank) per session\n",
    "- Distribution of local entity importance (PageRank) per session"
   ]
  },
  {
   "cell_type": "markdown",
   "metadata": {
    "slideshow": {
     "slide_type": "slide"
    }
   },
   "source": [
    "### Distribution of entities per session"
   ]
  },
  {
   "cell_type": "code",
   "execution_count": null,
   "metadata": {
    "slideshow": {
     "slide_type": "fragment"
    }
   },
   "outputs": [],
   "source": [
    "entities_per_session = qlog[['session_id', 'entities']] \\\n",
    "    .groupby('session_id') \\\n",
    "    .apply(lambda df: len(list(flatten(df['entities'])))) \\\n",
    "    .sort_values(ascending=False)\n",
    "\n",
    "bin_width = 1\n",
    "\n",
    "entities_per_session \\\n",
    "    .plot(kind='hist', bins=range(0, entities_per_session.max() + bin_width, bin_width))\n",
    "plt.xlabel(\"Number of Entities\")\n",
    "plt.ylabel(\"Number of Sessions\")\n",
    "plt.show()"
   ]
  },
  {
   "cell_type": "markdown",
   "metadata": {
    "slideshow": {
     "slide_type": "slide"
    }
   },
   "source": [
    "### Distribution of distinct entities per session"
   ]
  },
  {
   "cell_type": "code",
   "execution_count": null,
   "metadata": {
    "slideshow": {
     "slide_type": "fragment"
    }
   },
   "outputs": [],
   "source": [
    "distinct_entities_per_session = qlog[['session_id', 'entities']] \\\n",
    "    .groupby('session_id') \\\n",
    "    .apply(lambda df: len(set(flatten(df['entities'])))) \\\n",
    "    .sort_values(ascending=False)\n",
    "\n",
    "bin_width = 1\n",
    "\n",
    "distinct_entities_per_session \\\n",
    "    .plot(kind='hist', bins=range(0, distinct_entities_per_session.max() + bin_width, bin_width))\n",
    "plt.xlabel(\"Number of Distinct Entities\")\n",
    "plt.ylabel(\"Number of Sessions\")\n",
    "plt.show()"
   ]
  },
  {
   "cell_type": "markdown",
   "metadata": {
    "slideshow": {
     "slide_type": "skip"
    }
   },
   "source": [
    "### Identifying the entities for the top sessions with distinct entities"
   ]
  },
  {
   "cell_type": "code",
   "execution_count": null,
   "metadata": {
    "slideshow": {
     "slide_type": "skip"
    }
   },
   "outputs": [],
   "source": [
    "top_sessions = distinct_entities_per_session \\\n",
    "    .head()\n",
    "top_sessions"
   ]
  },
  {
   "cell_type": "markdown",
   "metadata": {
    "slideshow": {
     "slide_type": "slide"
    }
   },
   "source": [
    "### Preparing entity subgraphs per session"
   ]
  },
  {
   "cell_type": "code",
   "execution_count": null,
   "metadata": {
    "slideshow": {
     "slide_type": "fragment"
    }
   },
   "outputs": [],
   "source": [
    "def entities_from_session(session_id):\n",
    "    return set(flatten(\n",
    "        qlog[qlog['session_id'] == session_id] \\\n",
    "            ['entities'].values.tolist()))\n",
    "\n",
    "entities_from_session(2091)"
   ]
  },
  {
   "cell_type": "code",
   "execution_count": null,
   "metadata": {},
   "outputs": [],
   "source": [
    "@memory.cache\n",
    "def get_entity_subgraphs_by_session_id(session_ids):\n",
    "    eg = {}\n",
    "    for session_id in progressbar.progressbar(session_ids):\n",
    "        entities = entities_from_session(session_id)\n",
    "        if entities:\n",
    "            eg[session_id] = entity_subgraph(entities, ignore_warn=True)\n",
    "            eg[session_id].vs['lpr'] = eg[session_id].pagerank()    \n",
    "    return eg\n",
    "\n",
    "eg = get_entity_subgraphs_by_session_id(qlog['session_id'].unique())"
   ]
  },
  {
   "cell_type": "markdown",
   "metadata": {
    "slideshow": {
     "slide_type": "slide"
    }
   },
   "source": [
    "### Visualizing entity subgraphs for sessions\n",
    "\n",
    "Below we visualize the entity graphs for two top-5 sessions (2091 and 4) and a smaller session (2080)."
   ]
  },
  {
   "cell_type": "code",
   "execution_count": null,
   "metadata": {
    "slideshow": {
     "slide_type": "fragment"
    }
   },
   "outputs": [],
   "source": [
    "plot_subgraph(eg[2091], large=True)"
   ]
  },
  {
   "cell_type": "code",
   "execution_count": null,
   "metadata": {
    "slideshow": {
     "slide_type": "slide"
    }
   },
   "outputs": [],
   "source": [
    "plot_subgraph(eg[4], large=True)"
   ]
  },
  {
   "cell_type": "code",
   "execution_count": null,
   "metadata": {
    "slideshow": {
     "slide_type": "slide"
    }
   },
   "outputs": [],
   "source": [
    "plot_subgraph(eg[2080])"
   ]
  },
  {
   "cell_type": "markdown",
   "metadata": {
    "slideshow": {
     "slide_type": "slide"
    }
   },
   "source": [
    "### Distance between query entities"
   ]
  },
  {
   "cell_type": "code",
   "execution_count": null,
   "metadata": {
    "slideshow": {
     "slide_type": "fragment"
    }
   },
   "outputs": [],
   "source": [
    "s_avg_dists = []\n",
    "for session_id, sg in eg.items():\n",
    "    s_dists = sg.shortest_paths(source=sg.vs.select(is_source=True), target=sg.vs.select(is_source=True))\n",
    "    s_dists = list(filter(lambda x: x > 0, flatten(s_dists)))\n",
    "    \n",
    "    if len(s_dists) < 1 or np.inf in s_dists:\n",
    "        continue\n",
    "    \n",
    "    s_avg_dist = np.mean(s_dists)\n",
    "    s_avg_dists.append(s_avg_dist)\n",
    "\n",
    "s_avg_dists = pd.DataFrame(s_avg_dists, columns=['avg_dist'])\n",
    "\n",
    "plt.rc('figure', figsize=[6, 4])\n",
    "\n",
    "s_avg_dists \\\n",
    "    .boxplot()\n",
    "\n",
    "plt.xticks([])\n",
    "plt.xlabel(\"Sessions\")\n",
    "plt.ylabel(\"Distance\")\n",
    "\n",
    "plt.rc('figure', figsize=DEFAULT_FIGSIZE)"
   ]
  },
  {
   "cell_type": "markdown",
   "metadata": {
    "slideshow": {
     "slide_type": "slide"
    }
   },
   "source": [
    "### Global entity importance (PageRank)"
   ]
  },
  {
   "cell_type": "code",
   "execution_count": null,
   "metadata": {
    "slideshow": {
     "slide_type": "skip"
    }
   },
   "outputs": [],
   "source": [
    "session_ids = []\n",
    "pr = []\n",
    "lpr = []\n",
    "\n",
    "for session_id in top_sessions.index:\n",
    "    if session_id in eg:\n",
    "        for v in eg[session_id].vs:\n",
    "            session_ids.append(session_id)\n",
    "            pr.append(v['pr'])\n",
    "            lpr.append(v['lpr'])\n",
    "\n",
    "session_pr = pd.DataFrame({ 'session_id': session_ids, 'page_rank': pr, 'local_page_rank': lpr }) \\\n",
    "    .set_index('session_id')\n",
    "\n",
    "session_pr.index = pd.Categorical(session_pr.index, categories=top_sessions.index)\n",
    "session_pr.index.name = 'session_id'"
   ]
  },
  {
   "cell_type": "code",
   "execution_count": null,
   "metadata": {
    "slideshow": {
     "slide_type": "fragment"
    }
   },
   "outputs": [],
   "source": [
    "session_pr[['page_rank']] \\\n",
    "    .boxplot(by='session_id')\n",
    "\n",
    "plt.xlabel(\"Session\")\n",
    "plt.ylabel(\"Global PageRank\")\n",
    "plt.title(None)\n",
    "plt.suptitle(None)\n",
    "plt.show()"
   ]
  },
  {
   "cell_type": "markdown",
   "metadata": {
    "slideshow": {
     "slide_type": "slide"
    }
   },
   "source": [
    "### Local entity importance (PageRank)"
   ]
  },
  {
   "cell_type": "code",
   "execution_count": null,
   "metadata": {
    "slideshow": {
     "slide_type": "fragment"
    }
   },
   "outputs": [],
   "source": [
    "session_pr[['local_page_rank']] \\\n",
    "    .boxplot(by='session_id')\n",
    "\n",
    "plt.xlabel(\"Session\")\n",
    "plt.ylabel(\"Local PageRank\")\n",
    "plt.title(None)\n",
    "plt.suptitle(None)\n",
    "plt.show()"
   ]
  },
  {
   "cell_type": "markdown",
   "metadata": {
    "slideshow": {
     "slide_type": "slide"
    }
   },
   "source": [
    "### Global vs local PageRank"
   ]
  },
  {
   "cell_type": "code",
   "execution_count": null,
   "metadata": {
    "slideshow": {
     "slide_type": "fragment"
    }
   },
   "outputs": [],
   "source": [
    "session_pr['norm_page_rank'] = session_pr['page_rank'] / session_pr['page_rank'].sum()\n",
    "session_pr['norm_local_page_rank'] = session_pr['local_page_rank'] / session_pr['local_page_rank'].sum()\n",
    "session_pr['norm_page_rank_diff'] = session_pr['norm_local_page_rank'] - session_pr['norm_page_rank']\n",
    "\n",
    "plt.rc('figure', figsize=[DEFAULT_FIGSIZE[0], 6])\n",
    "\n",
    "session_pr[['norm_page_rank_diff']] \\\n",
    "    .boxplot(by='session_id') \\\n",
    "    .axhline(y=0, alpha=0.3, linestyle='--')\n",
    "\n",
    "plt.xlabel(\"Session\")\n",
    "plt.ylabel(\"Local PageRank\")\n",
    "plt.title(None)\n",
    "plt.suptitle(None)\n",
    "plt.show()\n",
    "\n",
    "plt.rc('figure', figsize=DEFAULT_FIGSIZE)"
   ]
  },
  {
   "cell_type": "markdown",
   "metadata": {
    "slideshow": {
     "slide_type": "slide"
    }
   },
   "source": [
    "**Q:** Why does session 1224 show a higher absolute difference than the remaining sessions?"
   ]
  },
  {
   "cell_type": "markdown",
   "metadata": {
    "slideshow": {
     "slide_type": "slide"
    }
   },
   "source": [
    "**H1:** Is it because of the number of queries?"
   ]
  },
  {
   "cell_type": "code",
   "execution_count": null,
   "metadata": {
    "slideshow": {
     "slide_type": "fragment"
    }
   },
   "outputs": [],
   "source": [
    "session_queries = qlog[qlog['entities'].map(lambda e: len(e) if e else 0) > 0][['session_id', 'query']] \\\n",
    "    .set_index('session_id') \\\n",
    "    .loc[top_sessions.index]\n",
    "\n",
    "session_queries.index = pd.Categorical(session_queries.index, categories=top_sessions.index)\n",
    "session_queries.index.name = 'session_id'\n",
    "\n",
    "session_queries \\\n",
    "    .groupby(['session_id']) \\\n",
    "    .nunique() \\\n",
    "    .reset_index()"
   ]
  },
  {
   "cell_type": "markdown",
   "metadata": {
    "slideshow": {
     "slide_type": "fragment"
    }
   },
   "source": [
    "No. The behavior is simular for sessions 2091 and 1224 for the number of queries, but the highest change in PageRank was for session 1224."
   ]
  },
  {
   "cell_type": "markdown",
   "metadata": {
    "slideshow": {
     "slide_type": "slide"
    }
   },
   "source": [
    "**H2:** Is it because of the number of entities?"
   ]
  },
  {
   "cell_type": "code",
   "execution_count": null,
   "metadata": {
    "slideshow": {
     "slide_type": "fragment"
    }
   },
   "outputs": [],
   "source": [
    "top_sessions \\\n",
    "    .reset_index() \\\n",
    "    .rename({ 0: 'entity' }, axis=1)"
   ]
  },
  {
   "cell_type": "markdown",
   "metadata": {
    "slideshow": {
     "slide_type": "fragment"
    }
   },
   "source": [
    "No. The behavior was similar for sessions 2091 and 1224 in number of entities, but the highest change in PageRank was for session 1224."
   ]
  },
  {
   "cell_type": "markdown",
   "metadata": {
    "slideshow": {
     "slide_type": "slide"
    }
   },
   "source": [
    "**H3:** Is is because of the semantics of the queries?"
   ]
  },
  {
   "cell_type": "code",
   "execution_count": null,
   "metadata": {
    "slideshow": {
     "slide_type": "fragment"
    }
   },
   "outputs": [],
   "source": [
    "with pd.option_context('display.max_rows', None, 'display.max_columns', None):\n",
    "    query_count_per_session = session_queries \\\n",
    "        .groupby(['session_id', 'query']) \\\n",
    "        .size() \\\n",
    "        .reset_index() \\\n",
    "        .rename({ 0: 'count'}, axis=1) \\\n",
    "        .sort_values(by=['session_id', 'count'], ascending=[True, False])\n",
    "    \n",
    "    query_count_per_session['query_length'] = query_count_per_session['query'].map(len)\n",
    "    \n",
    "    display(query_count_per_session)"
   ]
  },
  {
   "cell_type": "markdown",
   "metadata": {
    "slideshow": {
     "slide_type": "slide"
    }
   },
   "source": [
    "Although the sample is too small, there seems to be a relation between query length and the change in PageRank. We investigate further, using the entity subgraphs for all sessions instead of the top sessions (i.e., with a higher number of distinct entities)."
   ]
  },
  {
   "cell_type": "code",
   "execution_count": null,
   "metadata": {
    "slideshow": {
     "slide_type": "fragment"
    }
   },
   "outputs": [],
   "source": [
    "all_session_pr = pd.concat(\n",
    "    pd.DataFrame({ 'session_id': session_id, 'pr': eg[session_id].vs['pr'], 'lpr': eg[session_id].vs['lpr'] })\n",
    "    for session_id in eg.keys())\n",
    "\n",
    "all_session_pr = all_session_pr \\\n",
    "    .set_index('session_id')\n",
    "\n",
    "all_session_pr['pr'] = all_session_pr['pr'] / all_session_pr['pr'].sum()\n",
    "all_session_pr['lpr'] = all_session_pr['lpr'] / all_session_pr['lpr'].sum()\n",
    "\n",
    "all_session_pr = all_session_pr \\\n",
    "    .groupby('session_id') \\\n",
    "    .mean()\n",
    "\n",
    "all_session_pr['pr_diff'] = all_session_pr['lpr'] - all_session_pr['pr']\n",
    "\n",
    "all_session_pr = all_session_pr.merge(\n",
    "    qlog[qlog['entities'].map(lambda e: len(e) if e else 0) > 0][['session_id', 'length']] \\\n",
    "        .groupby('session_id') \\\n",
    "        .mean(), on='session_id')\n",
    "\n",
    "all_session_pr['pr_diff'].corr(all_session_pr['length'], method='spearman')"
   ]
  },
  {
   "cell_type": "markdown",
   "metadata": {
    "slideshow": {
     "slide_type": "fragment"
    }
   },
   "source": [
    "Based on the mean PageRanks and query lengths per session, there is no correlation with the change in PageRanks. Since the difference is so small, this is probably a random difference that we can disregard."
   ]
  },
  {
   "cell_type": "markdown",
   "metadata": {
    "slideshow": {
     "slide_type": "slide"
    }
   },
   "source": [
    "### Distribution of global entity importance (PageRank) per session"
   ]
  },
  {
   "cell_type": "code",
   "execution_count": null,
   "metadata": {
    "slideshow": {
     "slide_type": "fragment"
    }
   },
   "outputs": [],
   "source": [
    "d_max = all_session_pr['pr'].max()\n",
    "bin_width= 0.0001\n",
    "\n",
    "all_session_pr['pr'] \\\n",
    "    .plot(kind='hist', bins=np.arange(0, d_max + bin_width, bin_width))\n",
    "plt.xlabel('Global PageRank')\n",
    "plt.ylabel('Number of Sessions')\n",
    "plt.show()"
   ]
  },
  {
   "cell_type": "markdown",
   "metadata": {
    "slideshow": {
     "slide_type": "slide"
    }
   },
   "source": [
    "### Distribution of local entity importance (PageRank) per session"
   ]
  },
  {
   "cell_type": "code",
   "execution_count": null,
   "metadata": {
    "slideshow": {
     "slide_type": "fragment"
    }
   },
   "outputs": [],
   "source": [
    "d_max = all_session_pr['lpr'].max()\n",
    "bin_width= 0.0001\n",
    "\n",
    "all_session_pr['lpr'] \\\n",
    "    .plot(kind='hist', bins=np.arange(0, d_max + bin_width, bin_width))\n",
    "plt.xlabel('Local PageRank')\n",
    "plt.ylabel('Number of Sessions')\n",
    "plt.show()"
   ]
  },
  {
   "cell_type": "markdown",
   "metadata": {
    "slideshow": {
     "slide_type": "slide"
    }
   },
   "source": [
    "## Entity-term-level analysis\n",
    "\n",
    "- Distribution of entities per query length (in number of terms)\n",
    "- Distribution of terms per entity"
   ]
  },
  {
   "cell_type": "markdown",
   "metadata": {
    "slideshow": {
     "slide_type": "slide"
    }
   },
   "source": [
    "### Distribution of entities per query length (in number of terms)"
   ]
  },
  {
   "cell_type": "code",
   "execution_count": null,
   "metadata": {
    "slideshow": {
     "slide_type": "fragment"
    }
   },
   "outputs": [],
   "source": [
    "entities_per_query_num_terms = qlog[['num_terms', 'entities']] \\\n",
    "    .groupby('num_terms') \\\n",
    "    .apply(lambda df: len(set(flatten(df['entities'])))) \\\n",
    "    .sort_values(ascending=False)\n",
    "\n",
    "bin_width = 10\n",
    "\n",
    "entities_per_query_num_terms \\\n",
    "    .plot(kind='hist', bins=range(0, entities_per_query_num_terms.max() + bin_width, bin_width))\n",
    "plt.xlabel(\"Number of Entities\")\n",
    "plt.ylabel(\"Number of Terms in Query\")\n",
    "plt.show()"
   ]
  },
  {
   "cell_type": "markdown",
   "metadata": {
    "slideshow": {
     "slide_type": "slide"
    }
   },
   "source": [
    "### Distribution of terms per entity (top 25)"
   ]
  },
  {
   "cell_type": "code",
   "execution_count": null,
   "metadata": {
    "slideshow": {
     "slide_type": "skip"
    }
   },
   "outputs": [],
   "source": [
    "unique_entities = np.unique([\n",
    "    entity for entities in qlog['entities'] if entities\n",
    "    for entity in entities])\n",
    "\n",
    "terms_per_entity = pd.DataFrame({'entity': unique_entities})\n",
    "terms_per_entity['entity_num_terms'] = terms_per_entity['entity'].map(lambda entity: len(entity.split(' ')))\n",
    "\n",
    "terms_per_entity = terms_per_entity \\\n",
    "    .sort_values(by='entity_num_terms', ascending=False)\n",
    "\n",
    "terms_per_entity"
   ]
  },
  {
   "cell_type": "code",
   "execution_count": null,
   "metadata": {
    "slideshow": {
     "slide_type": "fragment"
    }
   },
   "outputs": [],
   "source": [
    "d_max = terms_per_entity['entity_num_terms'].max()\n",
    "bin_width = 1\n",
    "\n",
    "terms_per_entity['entity_num_terms'] \\\n",
    "    .plot(kind='hist', bins=range(0, d_max + bin_width, bin_width))\n",
    "plt.xlabel('Number of Terms')\n",
    "plt.ylabel('Number of Entities')\n",
    "plt.show()"
   ]
  },
  {
   "cell_type": "markdown",
   "metadata": {
    "slideshow": {
     "slide_type": "slide"
    }
   },
   "source": [
    "## Entity-entity-level analysis\n",
    "\n",
    "- Entity co-occurrence graph\n",
    "  - Entity co-occurrence graph vs Simple Wikipedia link graph\n",
    "    - Indegree correlation\n",
    "    - PageRank correlation\n",
    "    - Closeness centrality correlation\n",
    "    - Betweenness centrality correlation"
   ]
  },
  {
   "cell_type": "markdown",
   "metadata": {
    "slideshow": {
     "slide_type": "slide"
    }
   },
   "source": [
    "### Entity co-occurrence graph"
   ]
  },
  {
   "cell_type": "markdown",
   "metadata": {
    "slideshow": {
     "slide_type": "skip"
    }
   },
   "source": [
    "#### Building and characterizing the entity co-occurrence graph"
   ]
  },
  {
   "cell_type": "code",
   "execution_count": null,
   "metadata": {
    "slideshow": {
     "slide_type": "skip"
    }
   },
   "outputs": [],
   "source": [
    "@memory.cache\n",
    "def build_entity_cooccurrence_graph():\n",
    "    g = igraph.Graph()\n",
    "    \n",
    "    graph = {}\n",
    "    \n",
    "    for t in qlog.itertuples():\n",
    "        if t.entities is None:\n",
    "            continue\n",
    "        \n",
    "        for source in t.entities:\n",
    "            if not source in graph:\n",
    "                graph[source] = {}\n",
    "            \n",
    "            for target in t.entities:\n",
    "                if source != target:\n",
    "                    if not target in graph[source]:\n",
    "                        graph[source][target] = 1\n",
    "                    else:\n",
    "                        graph[source][target] += 1\n",
    "\n",
    "    g.add_vertices(iter(graph.keys()))\n",
    "    edges = [(source, target) for source in graph.keys() for target in graph[source].keys()]\n",
    "    edges = [edge for edge in edges if edge[0] > edge[1]]\n",
    "    g.add_edges(edges)\n",
    "    \n",
    "    return g\n",
    "\n",
    "cg = build_entity_cooccurrence_graph()"
   ]
  },
  {
   "cell_type": "code",
   "execution_count": null,
   "metadata": {
    "slideshow": {
     "slide_type": "fragment"
    }
   },
   "outputs": [],
   "source": [
    "cg_stats = compute_stats(cg); cg_stats"
   ]
  },
  {
   "cell_type": "code",
   "execution_count": null,
   "metadata": {
    "slideshow": {
     "slide_type": "fragment"
    }
   },
   "outputs": [],
   "source": [
    "cg.vs['in'] = cg.indegree()\n",
    "cg.vs['pr'] = cg.pagerank()\n",
    "cg.vs['cc'] = cg.closeness()\n",
    "cg.vs['bc'] = cg.betweenness()\n",
    "cg.vs['label'] = cg.vs['name']"
   ]
  },
  {
   "cell_type": "markdown",
   "metadata": {
    "slideshow": {
     "slide_type": "slide"
    }
   },
   "source": [
    "#### Visualizing the entity co-occurrence graph\n",
    "\n",
    "Below we plot the components with more than three nodes."
   ]
  },
  {
   "cell_type": "code",
   "execution_count": null,
   "metadata": {
    "slideshow": {
     "slide_type": "fragment"
    }
   },
   "outputs": [],
   "source": [
    "cg_components = [cg_component for cg_component in cg.components() if len(cg_component) > 3]\n",
    "igraph.plot(cg.subgraph(flatten(cg_components)), vertex_size=3, vertex_label_size=8)"
   ]
  },
  {
   "cell_type": "markdown",
   "metadata": {
    "slideshow": {
     "slide_type": "slide"
    }
   },
   "source": [
    "### Entity co-occurrence graph vs Simple Wikipedia link graph\n",
    "\n",
    "First, we prepare the Simple Wikipedia subgraph containing only the entity nodes in the co-occurrence graph."
   ]
  },
  {
   "cell_type": "code",
   "execution_count": null,
   "metadata": {
    "slideshow": {
     "slide_type": "fragment"
    }
   },
   "outputs": [],
   "source": [
    "sg = g.subgraph(g.vs.select(label_in=cg.vs['label']))"
   ]
  },
  {
   "cell_type": "code",
   "execution_count": null,
   "metadata": {
    "slideshow": {
     "slide_type": "fragment"
    }
   },
   "outputs": [],
   "source": [
    "sg.vs['in'] = sg.indegree()\n",
    "sg.vs['pr'] = sg.pagerank()\n",
    "sg.vs['cc'] = sg.closeness()\n",
    "sg.vs['bc'] = sg.betweenness()"
   ]
  },
  {
   "cell_type": "code",
   "execution_count": null,
   "metadata": {
    "slideshow": {
     "slide_type": "fragment"
    }
   },
   "outputs": [],
   "source": [
    "sg_stats = compute_stats(sg); sg_stats"
   ]
  },
  {
   "cell_type": "markdown",
   "metadata": {
    "slideshow": {
     "slide_type": "slide"
    }
   },
   "source": [
    "#### Indegree correlation"
   ]
  },
  {
   "cell_type": "code",
   "execution_count": null,
   "metadata": {
    "slideshow": {
     "slide_type": "fragment"
    }
   },
   "outputs": [],
   "source": [
    "sg_in = pd.DataFrame({ 'entity': sg.vs['label'], 'in_sg': sg.vs['in'] })\n",
    "cg_in = pd.DataFrame({ 'entity': cg.vs['label'], 'in_cg': cg.vs['in'] })\n",
    "df_in = sg_in.merge(cg_in)\n",
    "df_in['in_sg'].corr(df_in['in_cg'])"
   ]
  },
  {
   "cell_type": "markdown",
   "metadata": {
    "slideshow": {
     "slide_type": "slide"
    }
   },
   "source": [
    "#### PageRank correlation"
   ]
  },
  {
   "cell_type": "code",
   "execution_count": null,
   "metadata": {
    "slideshow": {
     "slide_type": "fragment"
    }
   },
   "outputs": [],
   "source": [
    "sg_pr = pd.DataFrame({ 'entity': sg.vs['label'], 'pr_sg': sg.vs['pr'] })\n",
    "cg_pr = pd.DataFrame({ 'entity': cg.vs['label'], 'pr_cg': cg.vs['pr'] })\n",
    "df_pr = sg_pr.merge(cg_pr)\n",
    "df_pr['pr_sg'].corr(df_pr['pr_cg'])"
   ]
  },
  {
   "cell_type": "markdown",
   "metadata": {
    "slideshow": {
     "slide_type": "slide"
    }
   },
   "source": [
    "#### Closeness centrality correlation"
   ]
  },
  {
   "cell_type": "code",
   "execution_count": null,
   "metadata": {
    "slideshow": {
     "slide_type": "fragment"
    }
   },
   "outputs": [],
   "source": [
    "sg_cc = pd.DataFrame({ 'entity': sg.vs['label'], 'cc_sg': sg.vs['cc'] })\n",
    "cg_cc = pd.DataFrame({ 'entity': cg.vs['label'], 'cc_cg': cg.vs['cc'] })\n",
    "df_cc = sg_cc.merge(cg_cc)\n",
    "df_cc['cc_sg'].corr(df_cc['cc_cg'])"
   ]
  },
  {
   "cell_type": "markdown",
   "metadata": {
    "slideshow": {
     "slide_type": "slide"
    }
   },
   "source": [
    "#### Betweenness centrality correlation"
   ]
  },
  {
   "cell_type": "code",
   "execution_count": null,
   "metadata": {
    "slideshow": {
     "slide_type": "fragment"
    }
   },
   "outputs": [],
   "source": [
    "sg_bc = pd.DataFrame({ 'entity': sg.vs['label'], 'bc_sg': sg.vs['bc'] })\n",
    "cg_bc = pd.DataFrame({ 'entity': cg.vs['label'], 'bc_cg': cg.vs['bc'] })\n",
    "df_bc = sg_bc.merge(cg_bc)\n",
    "df_bc['bc_sg'].corr(df_bc['bc_cg'])"
   ]
  },
  {
   "cell_type": "markdown",
   "metadata": {
    "slideshow": {
     "slide_type": "slide"
    }
   },
   "source": [
    "## Entity-session-query-level analysis\n",
    "\n",
    "- Distribution of average number of entities per session over time\n",
    "- Distribution of average entity importance (PageRank) per session over time"
   ]
  },
  {
   "cell_type": "markdown",
   "metadata": {
    "slideshow": {
     "slide_type": "slide"
    }
   },
   "source": [
    "### Distribution of average number of entities per session over time"
   ]
  },
  {
   "cell_type": "code",
   "execution_count": null,
   "metadata": {
    "slideshow": {
     "slide_type": "skip"
    }
   },
   "outputs": [],
   "source": [
    "entities_per_session_over_time = pd.DataFrame(qlog[['query', 'session_id', 'entities', 'timestamp']])\n",
    "\n",
    "entities_per_session_over_time['entities'] = \\\n",
    "    entities_per_session_over_time['entities'].map(lambda e: len(e) if e else 0)\n",
    "\n",
    "entities_per_session_over_time['delta_time'] = entities_per_session_over_time[['session_id', 'timestamp']] \\\n",
    "    .groupby('session_id') \\\n",
    "    .transform(lambda x: x - x.min())\n",
    "\n",
    "entities_per_session_over_time = entities_per_session_over_time \\\n",
    "    .groupby(['session_id', 'delta_time']) \\\n",
    "    .sum() \\\n",
    "    .reset_index()[['delta_time', 'entities']] \\\n",
    "    .groupby('delta_time') \\\n",
    "    .mean() \\\n",
    "    .rolling(window=30) \\\n",
    "    .mean()\n",
    "\n",
    "entities_per_session_over_time.index = pd.to_datetime(\n",
    "    entities_per_session_over_time.index.map(lambda t: int(t.total_seconds())),\n",
    "    unit='s')\n",
    "\n",
    "entities_per_session_over_time"
   ]
  },
  {
   "cell_type": "code",
   "execution_count": null,
   "metadata": {
    "scrolled": true,
    "slideshow": {
     "slide_type": "fragment"
    }
   },
   "outputs": [],
   "source": [
    "entities_per_session_over_time \\\n",
    "    .plot(kind='line', legend=False)\n",
    "plt.xlabel('Session Time')\n",
    "plt.ylabel('Avg. Num. Entities')\n",
    "plt.show()"
   ]
  },
  {
   "cell_type": "markdown",
   "metadata": {
    "slideshow": {
     "slide_type": "slide"
    }
   },
   "source": [
    "### Distribution of average entity importance (PageRank) per session over time"
   ]
  },
  {
   "cell_type": "code",
   "execution_count": null,
   "metadata": {
    "slideshow": {
     "slide_type": "skip"
    }
   },
   "outputs": [],
   "source": [
    "@memory.cache\n",
    "def compute_entity_importance_per_session_over_time():\n",
    "    entity_importance_per_session_over_time = pd.DataFrame(qlog[['query', 'session_id', 'entities', 'timestamp']])\n",
    "\n",
    "    def entities_to_pagerank(entities):\n",
    "        pr_v = []\n",
    "        for entity in entities:\n",
    "            try:\n",
    "                pr_v.append(g.vs.find(label=entity)['pr'])\n",
    "            except ValueError:\n",
    "                pr_v.append(0)\n",
    "        return pr_v\n",
    "\n",
    "    entity_importance_per_session_over_time['avg_pr'] = \\\n",
    "        entity_importance_per_session_over_time['entities'] \\\n",
    "            .map(lambda e: np.mean(entities_to_pagerank(e)) if e else 0)\n",
    "\n",
    "    entity_importance_per_session_over_time['delta_time'] = \\\n",
    "        entity_importance_per_session_over_time[['session_id', 'timestamp']] \\\n",
    "            .groupby('session_id') \\\n",
    "            .transform(lambda x: x - x.min())\n",
    "\n",
    "    entity_importance_per_session_over_time = entity_importance_per_session_over_time \\\n",
    "        .groupby(['session_id', 'delta_time']) \\\n",
    "        .sum() \\\n",
    "        .reset_index()[['delta_time', 'avg_pr']] \\\n",
    "        .groupby('delta_time') \\\n",
    "        .mean() \\\n",
    "        .rolling(window=30) \\\n",
    "        .mean()\n",
    "\n",
    "    entity_importance_per_session_over_time.index = pd.to_datetime(\n",
    "        entity_importance_per_session_over_time.index.map(lambda t: int(t.total_seconds())),\n",
    "        unit='s')\n",
    "\n",
    "    return entity_importance_per_session_over_time\n",
    "\n",
    "entity_importance_per_session_over_time = compute_entity_importance_per_session_over_time()\n",
    "entity_importance_per_session_over_time"
   ]
  },
  {
   "cell_type": "code",
   "execution_count": null,
   "metadata": {
    "slideshow": {
     "slide_type": "fragment"
    }
   },
   "outputs": [],
   "source": [
    "entity_importance_per_session_over_time \\\n",
    "    .plot(kind='line', legend=False)\n",
    "plt.xlabel('Session Time')\n",
    "plt.ylabel('Avg. PageRank')\n",
    "plt.show()"
   ]
  }
 ],
 "metadata": {
  "kernelspec": {
   "display_name": "Python 3",
   "language": "python",
   "name": "python3"
  },
  "language_info": {
   "codemirror_mode": {
    "name": "ipython",
    "version": 3
   },
   "file_extension": ".py",
   "mimetype": "text/x-python",
   "name": "python",
   "nbconvert_exporter": "python",
   "pygments_lexer": "ipython3",
   "version": "3.6.3"
  },
  "toc": {
   "base_numbering": 1,
   "nav_menu": {},
   "number_sections": true,
   "sideBar": true,
   "skip_h1_title": false,
   "title_cell": "Table of Contents",
   "title_sidebar": "Contents",
   "toc_cell": true,
   "toc_position": {},
   "toc_section_display": true,
   "toc_window_display": false
  }
 },
 "nbformat": 4,
 "nbformat_minor": 4
}
